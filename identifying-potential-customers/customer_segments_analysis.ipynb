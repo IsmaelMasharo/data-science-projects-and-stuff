{
 "cells": [
  {
   "cell_type": "markdown",
   "metadata": {},
   "source": [
    "# Project: Identify Customer Segments\n",
    "\n",
    "In this project I've applied unsupervised learning techniques to identify segments of the population that form the core customer base for a mail-order sales company in Germany. These segments can then be used to direct marketing campaigns towards audiences that will have the highest expected rate of returns. The data is private and has been provided by Bertelsmann Arvato Analytics, and represents a real-life data science task.\n",
    "\n",
    "In each step of the project, there'll be detail about the subtask that I've performed as part of documentation. "
   ]
  },
  {
   "cell_type": "markdown",
   "metadata": {},
   "source": [
    "#### Importing libraries"
   ]
  },
  {
   "cell_type": "code",
   "execution_count": 1,
   "metadata": {},
   "outputs": [],
   "source": [
    "import numpy as np\n",
    "import pandas as pd\n",
    "import matplotlib.pyplot as plt\n",
    "import seaborn as sns\n",
    "\n",
    "from sklearn.preprocessing import StandardScaler\n",
    "from sklearn.decomposition import PCA\n",
    "from sklearn.cluster import KMeans\n",
    "\n",
    "from collections import OrderedDict\n",
    "\n",
    "import ast\n",
    "\n",
    "# magic word for producing visualizations in notebook\n",
    "%matplotlib inline"
   ]
  },
  {
   "cell_type": "markdown",
   "metadata": {},
   "source": [
    "### Step 0: Load the Data\n",
    "\n",
    "There are four files associated with this project (not including this one):\n",
    "\n",
    "- `Udacity_AZDIAS_Subset.csv`: Demographics data for the general population of Germany; 891211 persons (rows) x 85 features (columns).\n",
    "- `Udacity_CUSTOMERS_Subset.csv`: Demographics data for customers of a mail-order company; 191652 persons (rows) x 85 features (columns).\n",
    "- `Data_Dictionary.md`: Detailed information file about the features in the provided datasets.\n",
    "- `AZDIAS_Feature_Summary.csv`: Summary of feature attributes for demographics data; 85 features (rows) x 4 columns\n",
    "\n",
    "Each row of the demographics files represents a single person, but also includes information outside of individuals, including information about their household, building, and neighborhood. This information we'll be used to cluster the general population into groups with similar demographic properties. Then, we will see how the people in the customers dataset fit into those created clusters. The hope here is that certain clusters are over-represented in the customers data, as compared to the general population; those over-represented clusters will be assumed to be part of the core userbase. This information can then be used for further applications, such as targeting for a marketing campaign.\n",
    "\n",
    "To start off with, load in the demographics data for the general population into a pandas DataFrame, and do the same for the feature attributes summary. Note for all of the `.csv` data files in this project: they're semicolon (`;`) delimited.\n",
    "\n",
    "Once the dataset is loaded, it's recommended that we take a little bit of time just browsing the general structure of the dataset and feature summary file. We'll be getting deep into the innards of the cleaning in the first major step of the project, so gaining some general familiarity can help us get our bearings."
   ]
  },
  {
   "cell_type": "code",
   "execution_count": 2,
   "metadata": {},
   "outputs": [],
   "source": [
    "# Load in the general demographics data.\n",
    "df_azdias = pd.read_csv('Udacity_AZDIAS_Subset.csv', sep = ';')\n",
    "\n",
    "# Load in the feature summary file.\n",
    "df_feat_info = pd.read_csv('AZDIAS_Feature_Summary.csv', sep = ';')"
   ]
  },
  {
   "cell_type": "code",
   "execution_count": 3,
   "metadata": {},
   "outputs": [
    {
     "data": {
      "text/html": [
       "<div>\n",
       "<style scoped>\n",
       "    .dataframe tbody tr th:only-of-type {\n",
       "        vertical-align: middle;\n",
       "    }\n",
       "\n",
       "    .dataframe tbody tr th {\n",
       "        vertical-align: top;\n",
       "    }\n",
       "\n",
       "    .dataframe thead th {\n",
       "        text-align: right;\n",
       "    }\n",
       "</style>\n",
       "<table border=\"1\" class=\"dataframe\">\n",
       "  <thead>\n",
       "    <tr style=\"text-align: right;\">\n",
       "      <th></th>\n",
       "      <th>AGER_TYP</th>\n",
       "      <th>ALTERSKATEGORIE_GROB</th>\n",
       "      <th>ANREDE_KZ</th>\n",
       "      <th>CJT_GESAMTTYP</th>\n",
       "      <th>FINANZ_MINIMALIST</th>\n",
       "      <th>FINANZ_SPARER</th>\n",
       "      <th>FINANZ_VORSORGER</th>\n",
       "      <th>FINANZ_ANLEGER</th>\n",
       "      <th>FINANZ_UNAUFFAELLIGER</th>\n",
       "      <th>FINANZ_HAUSBAUER</th>\n",
       "      <th>...</th>\n",
       "      <th>PLZ8_ANTG1</th>\n",
       "      <th>PLZ8_ANTG2</th>\n",
       "      <th>PLZ8_ANTG3</th>\n",
       "      <th>PLZ8_ANTG4</th>\n",
       "      <th>PLZ8_BAUMAX</th>\n",
       "      <th>PLZ8_HHZ</th>\n",
       "      <th>PLZ8_GBZ</th>\n",
       "      <th>ARBEIT</th>\n",
       "      <th>ORTSGR_KLS9</th>\n",
       "      <th>RELAT_AB</th>\n",
       "    </tr>\n",
       "  </thead>\n",
       "  <tbody>\n",
       "    <tr>\n",
       "      <th>count</th>\n",
       "      <td>891221.000000</td>\n",
       "      <td>891221.000000</td>\n",
       "      <td>891221.000000</td>\n",
       "      <td>886367.000000</td>\n",
       "      <td>891221.000000</td>\n",
       "      <td>891221.000000</td>\n",
       "      <td>891221.000000</td>\n",
       "      <td>891221.000000</td>\n",
       "      <td>891221.000000</td>\n",
       "      <td>891221.000000</td>\n",
       "      <td>...</td>\n",
       "      <td>774706.000000</td>\n",
       "      <td>774706.000000</td>\n",
       "      <td>774706.000000</td>\n",
       "      <td>774706.000000</td>\n",
       "      <td>774706.000000</td>\n",
       "      <td>774706.000000</td>\n",
       "      <td>774706.000000</td>\n",
       "      <td>794005.000000</td>\n",
       "      <td>794005.000000</td>\n",
       "      <td>794005.00000</td>\n",
       "    </tr>\n",
       "    <tr>\n",
       "      <th>mean</th>\n",
       "      <td>-0.358435</td>\n",
       "      <td>2.777398</td>\n",
       "      <td>1.522098</td>\n",
       "      <td>3.632838</td>\n",
       "      <td>3.074528</td>\n",
       "      <td>2.821039</td>\n",
       "      <td>3.401106</td>\n",
       "      <td>3.033328</td>\n",
       "      <td>2.874167</td>\n",
       "      <td>3.075121</td>\n",
       "      <td>...</td>\n",
       "      <td>2.253330</td>\n",
       "      <td>2.801858</td>\n",
       "      <td>1.595426</td>\n",
       "      <td>0.699166</td>\n",
       "      <td>1.943913</td>\n",
       "      <td>3.612821</td>\n",
       "      <td>3.381087</td>\n",
       "      <td>3.167854</td>\n",
       "      <td>5.293002</td>\n",
       "      <td>3.07222</td>\n",
       "    </tr>\n",
       "    <tr>\n",
       "      <th>std</th>\n",
       "      <td>1.198724</td>\n",
       "      <td>1.068775</td>\n",
       "      <td>0.499512</td>\n",
       "      <td>1.595021</td>\n",
       "      <td>1.321055</td>\n",
       "      <td>1.464749</td>\n",
       "      <td>1.322134</td>\n",
       "      <td>1.529603</td>\n",
       "      <td>1.486731</td>\n",
       "      <td>1.353248</td>\n",
       "      <td>...</td>\n",
       "      <td>0.972008</td>\n",
       "      <td>0.920309</td>\n",
       "      <td>0.986736</td>\n",
       "      <td>0.727137</td>\n",
       "      <td>1.459654</td>\n",
       "      <td>0.973967</td>\n",
       "      <td>1.111598</td>\n",
       "      <td>1.002376</td>\n",
       "      <td>2.303739</td>\n",
       "      <td>1.36298</td>\n",
       "    </tr>\n",
       "    <tr>\n",
       "      <th>min</th>\n",
       "      <td>-1.000000</td>\n",
       "      <td>1.000000</td>\n",
       "      <td>1.000000</td>\n",
       "      <td>1.000000</td>\n",
       "      <td>1.000000</td>\n",
       "      <td>1.000000</td>\n",
       "      <td>1.000000</td>\n",
       "      <td>1.000000</td>\n",
       "      <td>1.000000</td>\n",
       "      <td>1.000000</td>\n",
       "      <td>...</td>\n",
       "      <td>0.000000</td>\n",
       "      <td>0.000000</td>\n",
       "      <td>0.000000</td>\n",
       "      <td>0.000000</td>\n",
       "      <td>1.000000</td>\n",
       "      <td>1.000000</td>\n",
       "      <td>1.000000</td>\n",
       "      <td>1.000000</td>\n",
       "      <td>0.000000</td>\n",
       "      <td>1.00000</td>\n",
       "    </tr>\n",
       "    <tr>\n",
       "      <th>25%</th>\n",
       "      <td>-1.000000</td>\n",
       "      <td>2.000000</td>\n",
       "      <td>1.000000</td>\n",
       "      <td>2.000000</td>\n",
       "      <td>2.000000</td>\n",
       "      <td>1.000000</td>\n",
       "      <td>3.000000</td>\n",
       "      <td>2.000000</td>\n",
       "      <td>2.000000</td>\n",
       "      <td>2.000000</td>\n",
       "      <td>...</td>\n",
       "      <td>1.000000</td>\n",
       "      <td>2.000000</td>\n",
       "      <td>1.000000</td>\n",
       "      <td>0.000000</td>\n",
       "      <td>1.000000</td>\n",
       "      <td>3.000000</td>\n",
       "      <td>3.000000</td>\n",
       "      <td>3.000000</td>\n",
       "      <td>4.000000</td>\n",
       "      <td>2.00000</td>\n",
       "    </tr>\n",
       "    <tr>\n",
       "      <th>50%</th>\n",
       "      <td>-1.000000</td>\n",
       "      <td>3.000000</td>\n",
       "      <td>2.000000</td>\n",
       "      <td>4.000000</td>\n",
       "      <td>3.000000</td>\n",
       "      <td>3.000000</td>\n",
       "      <td>3.000000</td>\n",
       "      <td>3.000000</td>\n",
       "      <td>3.000000</td>\n",
       "      <td>3.000000</td>\n",
       "      <td>...</td>\n",
       "      <td>2.000000</td>\n",
       "      <td>3.000000</td>\n",
       "      <td>2.000000</td>\n",
       "      <td>1.000000</td>\n",
       "      <td>1.000000</td>\n",
       "      <td>4.000000</td>\n",
       "      <td>3.000000</td>\n",
       "      <td>3.000000</td>\n",
       "      <td>5.000000</td>\n",
       "      <td>3.00000</td>\n",
       "    </tr>\n",
       "    <tr>\n",
       "      <th>75%</th>\n",
       "      <td>-1.000000</td>\n",
       "      <td>4.000000</td>\n",
       "      <td>2.000000</td>\n",
       "      <td>5.000000</td>\n",
       "      <td>4.000000</td>\n",
       "      <td>4.000000</td>\n",
       "      <td>5.000000</td>\n",
       "      <td>5.000000</td>\n",
       "      <td>4.000000</td>\n",
       "      <td>4.000000</td>\n",
       "      <td>...</td>\n",
       "      <td>3.000000</td>\n",
       "      <td>3.000000</td>\n",
       "      <td>2.000000</td>\n",
       "      <td>1.000000</td>\n",
       "      <td>3.000000</td>\n",
       "      <td>4.000000</td>\n",
       "      <td>4.000000</td>\n",
       "      <td>4.000000</td>\n",
       "      <td>7.000000</td>\n",
       "      <td>4.00000</td>\n",
       "    </tr>\n",
       "    <tr>\n",
       "      <th>max</th>\n",
       "      <td>3.000000</td>\n",
       "      <td>9.000000</td>\n",
       "      <td>2.000000</td>\n",
       "      <td>6.000000</td>\n",
       "      <td>5.000000</td>\n",
       "      <td>5.000000</td>\n",
       "      <td>5.000000</td>\n",
       "      <td>5.000000</td>\n",
       "      <td>5.000000</td>\n",
       "      <td>5.000000</td>\n",
       "      <td>...</td>\n",
       "      <td>4.000000</td>\n",
       "      <td>4.000000</td>\n",
       "      <td>3.000000</td>\n",
       "      <td>2.000000</td>\n",
       "      <td>5.000000</td>\n",
       "      <td>5.000000</td>\n",
       "      <td>5.000000</td>\n",
       "      <td>9.000000</td>\n",
       "      <td>9.000000</td>\n",
       "      <td>9.00000</td>\n",
       "    </tr>\n",
       "  </tbody>\n",
       "</table>\n",
       "<p>8 rows × 81 columns</p>\n",
       "</div>"
      ],
      "text/plain": [
       "            AGER_TYP  ALTERSKATEGORIE_GROB      ANREDE_KZ  CJT_GESAMTTYP  \\\n",
       "count  891221.000000         891221.000000  891221.000000  886367.000000   \n",
       "mean       -0.358435              2.777398       1.522098       3.632838   \n",
       "std         1.198724              1.068775       0.499512       1.595021   \n",
       "min        -1.000000              1.000000       1.000000       1.000000   \n",
       "25%        -1.000000              2.000000       1.000000       2.000000   \n",
       "50%        -1.000000              3.000000       2.000000       4.000000   \n",
       "75%        -1.000000              4.000000       2.000000       5.000000   \n",
       "max         3.000000              9.000000       2.000000       6.000000   \n",
       "\n",
       "       FINANZ_MINIMALIST  FINANZ_SPARER  FINANZ_VORSORGER  FINANZ_ANLEGER  \\\n",
       "count      891221.000000  891221.000000     891221.000000   891221.000000   \n",
       "mean            3.074528       2.821039          3.401106        3.033328   \n",
       "std             1.321055       1.464749          1.322134        1.529603   \n",
       "min             1.000000       1.000000          1.000000        1.000000   \n",
       "25%             2.000000       1.000000          3.000000        2.000000   \n",
       "50%             3.000000       3.000000          3.000000        3.000000   \n",
       "75%             4.000000       4.000000          5.000000        5.000000   \n",
       "max             5.000000       5.000000          5.000000        5.000000   \n",
       "\n",
       "       FINANZ_UNAUFFAELLIGER  FINANZ_HAUSBAUER      ...          PLZ8_ANTG1  \\\n",
       "count          891221.000000     891221.000000      ...       774706.000000   \n",
       "mean                2.874167          3.075121      ...            2.253330   \n",
       "std                 1.486731          1.353248      ...            0.972008   \n",
       "min                 1.000000          1.000000      ...            0.000000   \n",
       "25%                 2.000000          2.000000      ...            1.000000   \n",
       "50%                 3.000000          3.000000      ...            2.000000   \n",
       "75%                 4.000000          4.000000      ...            3.000000   \n",
       "max                 5.000000          5.000000      ...            4.000000   \n",
       "\n",
       "          PLZ8_ANTG2     PLZ8_ANTG3     PLZ8_ANTG4    PLZ8_BAUMAX  \\\n",
       "count  774706.000000  774706.000000  774706.000000  774706.000000   \n",
       "mean        2.801858       1.595426       0.699166       1.943913   \n",
       "std         0.920309       0.986736       0.727137       1.459654   \n",
       "min         0.000000       0.000000       0.000000       1.000000   \n",
       "25%         2.000000       1.000000       0.000000       1.000000   \n",
       "50%         3.000000       2.000000       1.000000       1.000000   \n",
       "75%         3.000000       2.000000       1.000000       3.000000   \n",
       "max         4.000000       3.000000       2.000000       5.000000   \n",
       "\n",
       "            PLZ8_HHZ       PLZ8_GBZ         ARBEIT    ORTSGR_KLS9  \\\n",
       "count  774706.000000  774706.000000  794005.000000  794005.000000   \n",
       "mean        3.612821       3.381087       3.167854       5.293002   \n",
       "std         0.973967       1.111598       1.002376       2.303739   \n",
       "min         1.000000       1.000000       1.000000       0.000000   \n",
       "25%         3.000000       3.000000       3.000000       4.000000   \n",
       "50%         4.000000       3.000000       3.000000       5.000000   \n",
       "75%         4.000000       4.000000       4.000000       7.000000   \n",
       "max         5.000000       5.000000       9.000000       9.000000   \n",
       "\n",
       "           RELAT_AB  \n",
       "count  794005.00000  \n",
       "mean        3.07222  \n",
       "std         1.36298  \n",
       "min         1.00000  \n",
       "25%         2.00000  \n",
       "50%         3.00000  \n",
       "75%         4.00000  \n",
       "max         9.00000  \n",
       "\n",
       "[8 rows x 81 columns]"
      ]
     },
     "execution_count": 3,
     "metadata": {},
     "output_type": "execute_result"
    }
   ],
   "source": [
    "# Check the structure of the data after it's loaded (e.g. print the number of\n",
    "# rows and columns, print the first few rows).\n",
    "df_azdias.describe()"
   ]
  },
  {
   "cell_type": "code",
   "execution_count": 4,
   "metadata": {},
   "outputs": [
    {
     "data": {
      "text/html": [
       "<div>\n",
       "<style scoped>\n",
       "    .dataframe tbody tr th:only-of-type {\n",
       "        vertical-align: middle;\n",
       "    }\n",
       "\n",
       "    .dataframe tbody tr th {\n",
       "        vertical-align: top;\n",
       "    }\n",
       "\n",
       "    .dataframe thead th {\n",
       "        text-align: right;\n",
       "    }\n",
       "</style>\n",
       "<table border=\"1\" class=\"dataframe\">\n",
       "  <thead>\n",
       "    <tr style=\"text-align: right;\">\n",
       "      <th></th>\n",
       "      <th>AGER_TYP</th>\n",
       "      <th>ALTERSKATEGORIE_GROB</th>\n",
       "      <th>ANREDE_KZ</th>\n",
       "      <th>CJT_GESAMTTYP</th>\n",
       "      <th>FINANZ_MINIMALIST</th>\n",
       "      <th>FINANZ_SPARER</th>\n",
       "      <th>FINANZ_VORSORGER</th>\n",
       "      <th>FINANZ_ANLEGER</th>\n",
       "      <th>FINANZ_UNAUFFAELLIGER</th>\n",
       "      <th>FINANZ_HAUSBAUER</th>\n",
       "      <th>...</th>\n",
       "      <th>PLZ8_ANTG1</th>\n",
       "      <th>PLZ8_ANTG2</th>\n",
       "      <th>PLZ8_ANTG3</th>\n",
       "      <th>PLZ8_ANTG4</th>\n",
       "      <th>PLZ8_BAUMAX</th>\n",
       "      <th>PLZ8_HHZ</th>\n",
       "      <th>PLZ8_GBZ</th>\n",
       "      <th>ARBEIT</th>\n",
       "      <th>ORTSGR_KLS9</th>\n",
       "      <th>RELAT_AB</th>\n",
       "    </tr>\n",
       "  </thead>\n",
       "  <tbody>\n",
       "    <tr>\n",
       "      <th>0</th>\n",
       "      <td>-1</td>\n",
       "      <td>2</td>\n",
       "      <td>1</td>\n",
       "      <td>2.0</td>\n",
       "      <td>3</td>\n",
       "      <td>4</td>\n",
       "      <td>3</td>\n",
       "      <td>5</td>\n",
       "      <td>5</td>\n",
       "      <td>3</td>\n",
       "      <td>...</td>\n",
       "      <td>NaN</td>\n",
       "      <td>NaN</td>\n",
       "      <td>NaN</td>\n",
       "      <td>NaN</td>\n",
       "      <td>NaN</td>\n",
       "      <td>NaN</td>\n",
       "      <td>NaN</td>\n",
       "      <td>NaN</td>\n",
       "      <td>NaN</td>\n",
       "      <td>NaN</td>\n",
       "    </tr>\n",
       "    <tr>\n",
       "      <th>1</th>\n",
       "      <td>-1</td>\n",
       "      <td>1</td>\n",
       "      <td>2</td>\n",
       "      <td>5.0</td>\n",
       "      <td>1</td>\n",
       "      <td>5</td>\n",
       "      <td>2</td>\n",
       "      <td>5</td>\n",
       "      <td>4</td>\n",
       "      <td>5</td>\n",
       "      <td>...</td>\n",
       "      <td>2.0</td>\n",
       "      <td>3.0</td>\n",
       "      <td>2.0</td>\n",
       "      <td>1.0</td>\n",
       "      <td>1.0</td>\n",
       "      <td>5.0</td>\n",
       "      <td>4.0</td>\n",
       "      <td>3.0</td>\n",
       "      <td>5.0</td>\n",
       "      <td>4.0</td>\n",
       "    </tr>\n",
       "    <tr>\n",
       "      <th>2</th>\n",
       "      <td>-1</td>\n",
       "      <td>3</td>\n",
       "      <td>2</td>\n",
       "      <td>3.0</td>\n",
       "      <td>1</td>\n",
       "      <td>4</td>\n",
       "      <td>1</td>\n",
       "      <td>2</td>\n",
       "      <td>3</td>\n",
       "      <td>5</td>\n",
       "      <td>...</td>\n",
       "      <td>3.0</td>\n",
       "      <td>3.0</td>\n",
       "      <td>1.0</td>\n",
       "      <td>0.0</td>\n",
       "      <td>1.0</td>\n",
       "      <td>4.0</td>\n",
       "      <td>4.0</td>\n",
       "      <td>3.0</td>\n",
       "      <td>5.0</td>\n",
       "      <td>2.0</td>\n",
       "    </tr>\n",
       "    <tr>\n",
       "      <th>3</th>\n",
       "      <td>2</td>\n",
       "      <td>4</td>\n",
       "      <td>2</td>\n",
       "      <td>2.0</td>\n",
       "      <td>4</td>\n",
       "      <td>2</td>\n",
       "      <td>5</td>\n",
       "      <td>2</td>\n",
       "      <td>1</td>\n",
       "      <td>2</td>\n",
       "      <td>...</td>\n",
       "      <td>2.0</td>\n",
       "      <td>2.0</td>\n",
       "      <td>2.0</td>\n",
       "      <td>0.0</td>\n",
       "      <td>1.0</td>\n",
       "      <td>3.0</td>\n",
       "      <td>4.0</td>\n",
       "      <td>2.0</td>\n",
       "      <td>3.0</td>\n",
       "      <td>3.0</td>\n",
       "    </tr>\n",
       "    <tr>\n",
       "      <th>4</th>\n",
       "      <td>-1</td>\n",
       "      <td>3</td>\n",
       "      <td>1</td>\n",
       "      <td>5.0</td>\n",
       "      <td>4</td>\n",
       "      <td>3</td>\n",
       "      <td>4</td>\n",
       "      <td>1</td>\n",
       "      <td>3</td>\n",
       "      <td>2</td>\n",
       "      <td>...</td>\n",
       "      <td>2.0</td>\n",
       "      <td>4.0</td>\n",
       "      <td>2.0</td>\n",
       "      <td>1.0</td>\n",
       "      <td>2.0</td>\n",
       "      <td>3.0</td>\n",
       "      <td>3.0</td>\n",
       "      <td>4.0</td>\n",
       "      <td>6.0</td>\n",
       "      <td>5.0</td>\n",
       "    </tr>\n",
       "  </tbody>\n",
       "</table>\n",
       "<p>5 rows × 85 columns</p>\n",
       "</div>"
      ],
      "text/plain": [
       "   AGER_TYP  ALTERSKATEGORIE_GROB  ANREDE_KZ  CJT_GESAMTTYP  \\\n",
       "0        -1                     2          1            2.0   \n",
       "1        -1                     1          2            5.0   \n",
       "2        -1                     3          2            3.0   \n",
       "3         2                     4          2            2.0   \n",
       "4        -1                     3          1            5.0   \n",
       "\n",
       "   FINANZ_MINIMALIST  FINANZ_SPARER  FINANZ_VORSORGER  FINANZ_ANLEGER  \\\n",
       "0                  3              4                 3               5   \n",
       "1                  1              5                 2               5   \n",
       "2                  1              4                 1               2   \n",
       "3                  4              2                 5               2   \n",
       "4                  4              3                 4               1   \n",
       "\n",
       "   FINANZ_UNAUFFAELLIGER  FINANZ_HAUSBAUER    ...     PLZ8_ANTG1  PLZ8_ANTG2  \\\n",
       "0                      5                 3    ...            NaN         NaN   \n",
       "1                      4                 5    ...            2.0         3.0   \n",
       "2                      3                 5    ...            3.0         3.0   \n",
       "3                      1                 2    ...            2.0         2.0   \n",
       "4                      3                 2    ...            2.0         4.0   \n",
       "\n",
       "   PLZ8_ANTG3  PLZ8_ANTG4  PLZ8_BAUMAX  PLZ8_HHZ  PLZ8_GBZ  ARBEIT  \\\n",
       "0         NaN         NaN          NaN       NaN       NaN     NaN   \n",
       "1         2.0         1.0          1.0       5.0       4.0     3.0   \n",
       "2         1.0         0.0          1.0       4.0       4.0     3.0   \n",
       "3         2.0         0.0          1.0       3.0       4.0     2.0   \n",
       "4         2.0         1.0          2.0       3.0       3.0     4.0   \n",
       "\n",
       "   ORTSGR_KLS9  RELAT_AB  \n",
       "0          NaN       NaN  \n",
       "1          5.0       4.0  \n",
       "2          5.0       2.0  \n",
       "3          3.0       3.0  \n",
       "4          6.0       5.0  \n",
       "\n",
       "[5 rows x 85 columns]"
      ]
     },
     "execution_count": 4,
     "metadata": {},
     "output_type": "execute_result"
    }
   ],
   "source": [
    "df_azdias.head()"
   ]
  },
  {
   "cell_type": "code",
   "execution_count": 5,
   "metadata": {},
   "outputs": [
    {
     "name": "stdout",
     "output_type": "stream",
     "text": [
      "original dataframe shape: (891221, 85)\n"
     ]
    }
   ],
   "source": [
    "print('original dataframe shape:', df_azdias.shape)"
   ]
  },
  {
   "cell_type": "code",
   "execution_count": 6,
   "metadata": {},
   "outputs": [
    {
     "data": {
      "text/html": [
       "<div>\n",
       "<style scoped>\n",
       "    .dataframe tbody tr th:only-of-type {\n",
       "        vertical-align: middle;\n",
       "    }\n",
       "\n",
       "    .dataframe tbody tr th {\n",
       "        vertical-align: top;\n",
       "    }\n",
       "\n",
       "    .dataframe thead th {\n",
       "        text-align: right;\n",
       "    }\n",
       "</style>\n",
       "<table border=\"1\" class=\"dataframe\">\n",
       "  <thead>\n",
       "    <tr style=\"text-align: right;\">\n",
       "      <th></th>\n",
       "      <th>attribute</th>\n",
       "      <th>information_level</th>\n",
       "      <th>type</th>\n",
       "      <th>missing_or_unknown</th>\n",
       "    </tr>\n",
       "  </thead>\n",
       "  <tbody>\n",
       "    <tr>\n",
       "      <th>0</th>\n",
       "      <td>AGER_TYP</td>\n",
       "      <td>person</td>\n",
       "      <td>categorical</td>\n",
       "      <td>[-1,0]</td>\n",
       "    </tr>\n",
       "    <tr>\n",
       "      <th>1</th>\n",
       "      <td>ALTERSKATEGORIE_GROB</td>\n",
       "      <td>person</td>\n",
       "      <td>ordinal</td>\n",
       "      <td>[-1,0,9]</td>\n",
       "    </tr>\n",
       "    <tr>\n",
       "      <th>2</th>\n",
       "      <td>ANREDE_KZ</td>\n",
       "      <td>person</td>\n",
       "      <td>categorical</td>\n",
       "      <td>[-1,0]</td>\n",
       "    </tr>\n",
       "    <tr>\n",
       "      <th>3</th>\n",
       "      <td>CJT_GESAMTTYP</td>\n",
       "      <td>person</td>\n",
       "      <td>categorical</td>\n",
       "      <td>[0]</td>\n",
       "    </tr>\n",
       "    <tr>\n",
       "      <th>4</th>\n",
       "      <td>FINANZ_MINIMALIST</td>\n",
       "      <td>person</td>\n",
       "      <td>ordinal</td>\n",
       "      <td>[-1]</td>\n",
       "    </tr>\n",
       "  </tbody>\n",
       "</table>\n",
       "</div>"
      ],
      "text/plain": [
       "              attribute information_level         type missing_or_unknown\n",
       "0              AGER_TYP            person  categorical             [-1,0]\n",
       "1  ALTERSKATEGORIE_GROB            person      ordinal           [-1,0,9]\n",
       "2             ANREDE_KZ            person  categorical             [-1,0]\n",
       "3         CJT_GESAMTTYP            person  categorical                [0]\n",
       "4     FINANZ_MINIMALIST            person      ordinal               [-1]"
      ]
     },
     "execution_count": 6,
     "metadata": {},
     "output_type": "execute_result"
    }
   ],
   "source": [
    "df_feat_info.head()"
   ]
  },
  {
   "cell_type": "code",
   "execution_count": 7,
   "metadata": {},
   "outputs": [
    {
     "data": {
      "text/plain": [
       "array(['[-1,0]', '[-1,0,9]', '[0]', '[-1]', '[]', '[-1,9]', '[-1,X]',\n",
       "       '[XX]', '[-1,XX]'], dtype=object)"
      ]
     },
     "execution_count": 7,
     "metadata": {},
     "output_type": "execute_result"
    }
   ],
   "source": [
    "df_feat_info['missing_or_unknown'].unique()"
   ]
  },
  {
   "cell_type": "markdown",
   "metadata": {},
   "source": [
    "The `missing_or_unknown` column in `df_feat_info` describes the labels used in the dataset for identifying missing or unknown data. This'll be useful for cleaning the data in the next step."
   ]
  },
  {
   "cell_type": "markdown",
   "metadata": {},
   "source": [
    "## Step 1: Preprocessing\n",
    "\n",
    "### Step 1.1: Assess Missing Data\n",
    "\n",
    "The feature summary file contains a summary of properties for each demographics data column. We will use this file to help us make cleaning decisions during this stage of the project. First of all, we should assess the demographics data in terms of missing data.\n",
    "\n",
    "#### Step 1.1.1: Convert Missing Value Codes to NaNs\n",
    "The fourth column of the feature attributes summary (loaded in above as `feat_info`) documents the codes from the data dictionary that indicate missing or unknown data. While the file encodes this as a list (e.g. `[-1,0]`), this will get read in as a string object. We'll need to do a little bit of parsing to make use of it to identify and clean the data. Convert data that matches a 'missing' or 'unknown' value code into a numpy NaN value. We might want to see how much data takes on a 'missing' or 'unknown' code, and how much data is naturally missing, as a point of interest.\n",
    "\n",
    "From the inspection of `df_feat_info` we know that the missing values are encoded as `['[-1,0]', '[-1,0,9]', '[0]', '[-1]', '[]', '[-1,9]', '[-1,X]', '[XX]', '[-1,XX]']`, a list of `list strings` so we have to take care when trying to parsing those values.\n",
    "\n",
    "We'll start with the ones containing an `X` as missing values."
   ]
  },
  {
   "cell_type": "code",
   "execution_count": 8,
   "metadata": {},
   "outputs": [],
   "source": [
    "X_labeled_missing_values = df_feat_info[df_feat_info.missing_or_unknown.isin(['[-1,X]','[XX]', '[-1,XX]'])]"
   ]
  },
  {
   "cell_type": "code",
   "execution_count": 9,
   "metadata": {},
   "outputs": [
    {
     "data": {
      "text/html": [
       "<div>\n",
       "<style scoped>\n",
       "    .dataframe tbody tr th:only-of-type {\n",
       "        vertical-align: middle;\n",
       "    }\n",
       "\n",
       "    .dataframe tbody tr th {\n",
       "        vertical-align: top;\n",
       "    }\n",
       "\n",
       "    .dataframe thead th {\n",
       "        text-align: right;\n",
       "    }\n",
       "</style>\n",
       "<table border=\"1\" class=\"dataframe\">\n",
       "  <thead>\n",
       "    <tr style=\"text-align: right;\">\n",
       "      <th></th>\n",
       "      <th>attribute</th>\n",
       "      <th>information_level</th>\n",
       "      <th>type</th>\n",
       "      <th>missing_or_unknown</th>\n",
       "    </tr>\n",
       "  </thead>\n",
       "  <tbody>\n",
       "    <tr>\n",
       "      <th>57</th>\n",
       "      <td>CAMEO_DEUG_2015</td>\n",
       "      <td>microcell_rr4</td>\n",
       "      <td>categorical</td>\n",
       "      <td>[-1,X]</td>\n",
       "    </tr>\n",
       "    <tr>\n",
       "      <th>58</th>\n",
       "      <td>CAMEO_DEU_2015</td>\n",
       "      <td>microcell_rr4</td>\n",
       "      <td>categorical</td>\n",
       "      <td>[XX]</td>\n",
       "    </tr>\n",
       "    <tr>\n",
       "      <th>59</th>\n",
       "      <td>CAMEO_INTL_2015</td>\n",
       "      <td>microcell_rr4</td>\n",
       "      <td>mixed</td>\n",
       "      <td>[-1,XX]</td>\n",
       "    </tr>\n",
       "  </tbody>\n",
       "</table>\n",
       "</div>"
      ],
      "text/plain": [
       "          attribute information_level         type missing_or_unknown\n",
       "57  CAMEO_DEUG_2015     microcell_rr4  categorical             [-1,X]\n",
       "58   CAMEO_DEU_2015     microcell_rr4  categorical               [XX]\n",
       "59  CAMEO_INTL_2015     microcell_rr4        mixed            [-1,XX]"
      ]
     },
     "execution_count": 9,
     "metadata": {},
     "output_type": "execute_result"
    }
   ],
   "source": [
    "X_labeled_missing_values.head()"
   ]
  },
  {
   "cell_type": "code",
   "execution_count": 10,
   "metadata": {},
   "outputs": [],
   "source": [
    "x_labeld_list = X_labeled_missing_values.attribute.tolist()"
   ]
  },
  {
   "cell_type": "markdown",
   "metadata": {},
   "source": [
    "#### Comment: \n",
    "We'll use `ast` library to evalueate the literal list numbers (aka. the missing values with only string numbers)\n",
    "\n",
    "For the `x_labeld_list` this X items can not be convert directly with ast since it throughs a `malformed node or string ValueError`, so they'll be parsed as regular list first.\n",
    "\n",
    "Finally, we'll only replace with NaN the missing values according to the specific column features."
   ]
  },
  {
   "cell_type": "code",
   "execution_count": 11,
   "metadata": {},
   "outputs": [],
   "source": [
    "# new dataframe for holding the cleagning missing values\n",
    "azdias_nan_replaced = df_azdias.copy()\n",
    "\n",
    "# traversing the feature columns\n",
    "for column in df_azdias.columns:\n",
    "    feature = df_feat_info[df_feat_info['attribute'] == column].iloc[0]\n",
    "    feature_unknow_label = feature['missing_or_unknown']\n",
    "\n",
    "    if feature['attribute'] in x_labeld_list:\n",
    "        # removing brackets from string\n",
    "        x_str = feature_unknow_label[1:-1].split(',')\n",
    "        # string numbers (-1) to int\n",
    "        missing_labels = [int(value) if 'X' not in value else value for value in x_str]\n",
    "    else:\n",
    "        missing_labels = ast.literal_eval(feature_unknow_label)\n",
    "\n",
    "    for label in missing_labels:\n",
    "        azdias_nan_replaced[column].replace(label, np.NaN, inplace=True) "
   ]
  },
  {
   "cell_type": "code",
   "execution_count": 12,
   "metadata": {},
   "outputs": [
    {
     "name": "stdout",
     "output_type": "stream",
     "text": [
      "total number of missing values in the dataset: 8373929\n"
     ]
    }
   ],
   "source": [
    "print('total number of missing values in the dataset:', azdias_nan_replaced.isna().sum().sum())"
   ]
  },
  {
   "cell_type": "markdown",
   "metadata": {},
   "source": [
    "#### Step 1.1.2: Assess Missing Data in Each **Column**\n",
    "\n",
    "How much missing data is present in each column? There are a few columns that are outliers in terms of the proportion of values that are missing. We will want to use matplotlib's [`hist()`](https://matplotlib.org/api/_as_gen/matplotlib.pyplot.hist.html) function to visualize the distribution of missing value counts to find these columns. Identify and document these columns. While some of these columns might have justifications for keeping or re-encoding the data, for this project we should just remove them from the dataframe. \n",
    "\n",
    "For the remaining features, are there any patterns in which columns have, or share, missing data?"
   ]
  },
  {
   "cell_type": "code",
   "execution_count": 13,
   "metadata": {},
   "outputs": [
    {
     "data": {
      "text/html": [
       "<div>\n",
       "<style scoped>\n",
       "    .dataframe tbody tr th:only-of-type {\n",
       "        vertical-align: middle;\n",
       "    }\n",
       "\n",
       "    .dataframe tbody tr th {\n",
       "        vertical-align: top;\n",
       "    }\n",
       "\n",
       "    .dataframe thead th {\n",
       "        text-align: right;\n",
       "    }\n",
       "</style>\n",
       "<table border=\"1\" class=\"dataframe\">\n",
       "  <thead>\n",
       "    <tr style=\"text-align: right;\">\n",
       "      <th></th>\n",
       "      <th>features</th>\n",
       "      <th>missing_proportion</th>\n",
       "    </tr>\n",
       "  </thead>\n",
       "  <tbody>\n",
       "    <tr>\n",
       "      <th>0</th>\n",
       "      <td>AGER_TYP</td>\n",
       "      <td>76.955435</td>\n",
       "    </tr>\n",
       "    <tr>\n",
       "      <th>1</th>\n",
       "      <td>ALTERSKATEGORIE_GROB</td>\n",
       "      <td>0.323264</td>\n",
       "    </tr>\n",
       "    <tr>\n",
       "      <th>2</th>\n",
       "      <td>ANREDE_KZ</td>\n",
       "      <td>0.000000</td>\n",
       "    </tr>\n",
       "    <tr>\n",
       "      <th>3</th>\n",
       "      <td>CJT_GESAMTTYP</td>\n",
       "      <td>0.544646</td>\n",
       "    </tr>\n",
       "    <tr>\n",
       "      <th>4</th>\n",
       "      <td>FINANZ_MINIMALIST</td>\n",
       "      <td>0.000000</td>\n",
       "    </tr>\n",
       "  </tbody>\n",
       "</table>\n",
       "</div>"
      ],
      "text/plain": [
       "               features  missing_proportion\n",
       "0              AGER_TYP           76.955435\n",
       "1  ALTERSKATEGORIE_GROB            0.323264\n",
       "2             ANREDE_KZ            0.000000\n",
       "3         CJT_GESAMTTYP            0.544646\n",
       "4     FINANZ_MINIMALIST            0.000000"
      ]
     },
     "metadata": {},
     "output_type": "display_data"
    }
   ],
   "source": [
    "# checking the proportion of NaNs per feature in the dataframe\n",
    "column_null_proportion = pd.DataFrame(azdias_nan_replaced.isna().mean(axis=0)*100).reset_index()\n",
    "column_null_proportion.columns = ['features', 'missing_proportion']\n",
    "display(column_null_proportion.head())"
   ]
  },
  {
   "cell_type": "code",
   "execution_count": 14,
   "metadata": {},
   "outputs": [
    {
     "data": {
      "image/png": "[encoded data removed]",
      "text/plain": [
       "<Figure size 432x288 with 1 Axes>"
      ]
     },
     "metadata": {
      "needs_background": "light"
     },
     "output_type": "display_data"
    }
   ],
   "source": [
    "# Investigate patterns in the amount of missing data in each column.\n",
    "plt.figure()\n",
    "plt.title('Missing data ratio per column')\n",
    "plt.hist(column_null_proportion['missing_proportion'], bins = 30)\n",
    "plt.xlabel('Missing data percentage')\n",
    "plt.ylabel('Number of features')\n",
    "plt.show()"
   ]
  },
  {
   "cell_type": "markdown",
   "metadata": {},
   "source": [
    "It seems that a small number of features have a proportion of missing values greater than 20%. Let's check which are these columns."
   ]
  },
  {
   "cell_type": "code",
   "execution_count": 15,
   "metadata": {},
   "outputs": [
    {
     "data": {
      "text/html": [
       "<div>\n",
       "<style scoped>\n",
       "    .dataframe tbody tr th:only-of-type {\n",
       "        vertical-align: middle;\n",
       "    }\n",
       "\n",
       "    .dataframe tbody tr th {\n",
       "        vertical-align: top;\n",
       "    }\n",
       "\n",
       "    .dataframe thead th {\n",
       "        text-align: right;\n",
       "    }\n",
       "</style>\n",
       "<table border=\"1\" class=\"dataframe\">\n",
       "  <thead>\n",
       "    <tr style=\"text-align: right;\">\n",
       "      <th></th>\n",
       "      <th>features</th>\n",
       "      <th>missing_proportion</th>\n",
       "    </tr>\n",
       "  </thead>\n",
       "  <tbody>\n",
       "    <tr>\n",
       "      <th>0</th>\n",
       "      <td>AGER_TYP</td>\n",
       "      <td>76.955435</td>\n",
       "    </tr>\n",
       "    <tr>\n",
       "      <th>11</th>\n",
       "      <td>GEBURTSJAHR</td>\n",
       "      <td>44.020282</td>\n",
       "    </tr>\n",
       "    <tr>\n",
       "      <th>40</th>\n",
       "      <td>TITEL_KZ</td>\n",
       "      <td>99.757636</td>\n",
       "    </tr>\n",
       "    <tr>\n",
       "      <th>43</th>\n",
       "      <td>ALTER_HH</td>\n",
       "      <td>34.813699</td>\n",
       "    </tr>\n",
       "    <tr>\n",
       "      <th>47</th>\n",
       "      <td>KK_KUNDENTYP</td>\n",
       "      <td>65.596749</td>\n",
       "    </tr>\n",
       "    <tr>\n",
       "      <th>64</th>\n",
       "      <td>KBA05_BAUMAX</td>\n",
       "      <td>53.468668</td>\n",
       "    </tr>\n",
       "  </tbody>\n",
       "</table>\n",
       "</div>"
      ],
      "text/plain": [
       "        features  missing_proportion\n",
       "0       AGER_TYP           76.955435\n",
       "11   GEBURTSJAHR           44.020282\n",
       "40      TITEL_KZ           99.757636\n",
       "43      ALTER_HH           34.813699\n",
       "47  KK_KUNDENTYP           65.596749\n",
       "64  KBA05_BAUMAX           53.468668"
      ]
     },
     "metadata": {},
     "output_type": "display_data"
    }
   ],
   "source": [
    "column_outliers = column_null_proportion[column_null_proportion['missing_proportion'] > 20]\n",
    "display(column_outliers)"
   ]
  },
  {
   "cell_type": "markdown",
   "metadata": {},
   "source": [
    "We'll remove this columns since we could consider them as *outliers columns*."
   ]
  },
  {
   "cell_type": "code",
   "execution_count": 16,
   "metadata": {},
   "outputs": [
    {
     "name": "stdout",
     "output_type": "stream",
     "text": [
      "updated dataframe shape: (891221, 79)\n"
     ]
    }
   ],
   "source": [
    "# Remove the outlier columns from the dataset. (We'll perform other data\n",
    "# engineering tasks such as re-encoding and imputation later.)\n",
    "azdias_no_col_outliers = azdias_nan_replaced.drop(columns=column_outliers.features, axis=1)\n",
    "print('updated dataframe shape:', azdias_no_col_outliers.shape)"
   ]
  },
  {
   "cell_type": "markdown",
   "metadata": {},
   "source": [
    "#### Discussion 1.1.2: Assess Missing Data in Each Column\n",
    "\n",
    "After replacing missing labels with appropiate Nan values it could be seen that there where a bunch of columns that are mearly unknow.\n",
    "The criteria for removing some columns was the checking of the histogram generated. For the proyect seems okay to do that (I'll verify that later hopefully), but I think it requires a more indepth analisis about the features.\n",
    "The removed columns were (alongside are their missing values percentage): \n",
    "\n",
    "|   features   | missing_proportion |\n",
    "| :----------: | :----------------: |\n",
    "|   AGER_TYP   |     76.955435      |\n",
    "| GEBURTSJAHR  |     44.020282      |\n",
    "|   TITEL_KZ   |     99.757636      |\n",
    "|   ALTER_HH   |     34.813699      |\n",
    "| KK_KUNDENTYP |     65.596749      |\n",
    "| KBA05_BAUMAX |     53.468668      |"
   ]
  },
  {
   "cell_type": "markdown",
   "metadata": {},
   "source": [
    "#### Step 1.1.3: Assess Missing Data in Each **Row**\n",
    "\n",
    "Now, we'll perform a similar assessment for the rows of the dataset. How much data is missing in each row? As with the columns, we should see some groups of points that have a very different numbers of missing values. We'll divide the data into two subsets: one for data points that are above some threshold for missing values, and a second subset for points below that threshold.\n",
    "\n",
    "In order to know what to do with the outlier rows, we should see if the distribution of data values on columns that are not missing data (or are missing very little data) are similar or different between the two groups. We'll select at least five of these columns and compare the distribution of values.\n",
    "- We can use seaborn's [`countplot()`](https://seaborn.pydata.org/generated/seaborn.countplot.html) function to create a bar chart of code frequencies and matplotlib's [`subplot()`](https://matplotlib.org/api/_as_gen/matplotlib.pyplot.subplot.html) function to put bar charts for the two subplots side by side.\n",
    "- To reduce repeated code, we'll write a function that can perform this comparison, taking as one of its arguments a column to be compared.\n",
    "\n",
    "Depending on what you observe in your comparison, this will have implications on how you approach your conclusions later in the analysis. If the distributions of non-missing features look similar between the data with many missing values and the data with few or no missing values, then we could argue that simply dropping those points from the analysis won't present a major issue. On the other hand, if the data with many missing values looks very different from the data with few or no missing values, then we should make a note on those data as special. We'll revisit these data later on. "
   ]
  },
  {
   "cell_type": "code",
   "execution_count": 17,
   "metadata": {},
   "outputs": [
    {
     "data": {
      "text/html": [
       "<div>\n",
       "<style scoped>\n",
       "    .dataframe tbody tr th:only-of-type {\n",
       "        vertical-align: middle;\n",
       "    }\n",
       "\n",
       "    .dataframe tbody tr th {\n",
       "        vertical-align: top;\n",
       "    }\n",
       "\n",
       "    .dataframe thead th {\n",
       "        text-align: right;\n",
       "    }\n",
       "</style>\n",
       "<table border=\"1\" class=\"dataframe\">\n",
       "  <thead>\n",
       "    <tr style=\"text-align: right;\">\n",
       "      <th></th>\n",
       "      <th>missing_proportion</th>\n",
       "    </tr>\n",
       "    <tr>\n",
       "      <th>rows_idx</th>\n",
       "      <th></th>\n",
       "    </tr>\n",
       "  </thead>\n",
       "  <tbody>\n",
       "    <tr>\n",
       "      <th>732775</th>\n",
       "      <td>62.025316</td>\n",
       "    </tr>\n",
       "    <tr>\n",
       "      <th>643174</th>\n",
       "      <td>62.025316</td>\n",
       "    </tr>\n",
       "    <tr>\n",
       "      <th>472919</th>\n",
       "      <td>60.759494</td>\n",
       "    </tr>\n",
       "    <tr>\n",
       "      <th>345274</th>\n",
       "      <td>59.493671</td>\n",
       "    </tr>\n",
       "    <tr>\n",
       "      <th>299868</th>\n",
       "      <td>59.493671</td>\n",
       "    </tr>\n",
       "  </tbody>\n",
       "</table>\n",
       "</div>"
      ],
      "text/plain": [
       "          missing_proportion\n",
       "rows_idx                    \n",
       "732775             62.025316\n",
       "643174             62.025316\n",
       "472919             60.759494\n",
       "345274             59.493671\n",
       "299868             59.493671"
      ]
     },
     "execution_count": 17,
     "metadata": {},
     "output_type": "execute_result"
    }
   ],
   "source": [
    "# How much data is missing in each row of the dataset?\n",
    "row_null_proportion = pd.DataFrame(azdias_no_col_outliers.isna().mean(axis=1)*100).reset_index()\n",
    "row_null_proportion.columns = ['rows_idx', 'missing_proportion']\n",
    "row_null_proportion = row_null_proportion.sort_values(by=['missing_proportion'], ascending=False)\n",
    "row_null_proportion.set_index('rows_idx', inplace=True, drop=True)\n",
    "row_null_proportion.head()"
   ]
  },
  {
   "cell_type": "code",
   "execution_count": 18,
   "metadata": {},
   "outputs": [
    {
     "data": {
      "image/png": "[encoded data removed]",
      "text/plain": [
       "<Figure size 432x288 with 1 Axes>"
      ]
     },
     "metadata": {
      "needs_background": "light"
     },
     "output_type": "display_data"
    }
   ],
   "source": [
    "plt.figure()\n",
    "plt.title('Missing data ratio per row')\n",
    "plt.hist(row_null_proportion['missing_proportion'], bins = 30)\n",
    "plt.xlabel('Missing data percentage')\n",
    "plt.ylabel('Number of features')\n",
    "plt.show()"
   ]
  },
  {
   "cell_type": "markdown",
   "metadata": {},
   "source": [
    "It seems that a small number of rows have a proportion of missing values greater than 30%. Let's check these columns."
   ]
  },
  {
   "cell_type": "code",
   "execution_count": 19,
   "metadata": {},
   "outputs": [
    {
     "data": {
      "text/html": [
       "<div>\n",
       "<style scoped>\n",
       "    .dataframe tbody tr th:only-of-type {\n",
       "        vertical-align: middle;\n",
       "    }\n",
       "\n",
       "    .dataframe tbody tr th {\n",
       "        vertical-align: top;\n",
       "    }\n",
       "\n",
       "    .dataframe thead th {\n",
       "        text-align: right;\n",
       "    }\n",
       "</style>\n",
       "<table border=\"1\" class=\"dataframe\">\n",
       "  <thead>\n",
       "    <tr style=\"text-align: right;\">\n",
       "      <th></th>\n",
       "      <th>missing_proportion</th>\n",
       "    </tr>\n",
       "    <tr>\n",
       "      <th>rows_idx</th>\n",
       "      <th></th>\n",
       "    </tr>\n",
       "  </thead>\n",
       "  <tbody>\n",
       "    <tr>\n",
       "      <th>732775</th>\n",
       "      <td>62.025316</td>\n",
       "    </tr>\n",
       "    <tr>\n",
       "      <th>643174</th>\n",
       "      <td>62.025316</td>\n",
       "    </tr>\n",
       "    <tr>\n",
       "      <th>472919</th>\n",
       "      <td>60.759494</td>\n",
       "    </tr>\n",
       "    <tr>\n",
       "      <th>345274</th>\n",
       "      <td>59.493671</td>\n",
       "    </tr>\n",
       "    <tr>\n",
       "      <th>299868</th>\n",
       "      <td>59.493671</td>\n",
       "    </tr>\n",
       "  </tbody>\n",
       "</table>\n",
       "</div>"
      ],
      "text/plain": [
       "          missing_proportion\n",
       "rows_idx                    \n",
       "732775             62.025316\n",
       "643174             62.025316\n",
       "472919             60.759494\n",
       "345274             59.493671\n",
       "299868             59.493671"
      ]
     },
     "metadata": {},
     "output_type": "display_data"
    }
   ],
   "source": [
    "# Dividing the data into two subsets based on the number of missing values in each row.\n",
    "rows_outliers = row_null_proportion[row_null_proportion['missing_proportion'] > 30]\n",
    "display(rows_outliers.head())"
   ]
  },
  {
   "cell_type": "code",
   "execution_count": 20,
   "metadata": {},
   "outputs": [],
   "source": [
    "# Compare the distribution of values for at least five columns where there are\n",
    "# no or few missing values, between the two subsets.\n",
    "azdias_no_row_outliers = azdias_no_col_outliers.drop(rows_outliers.index, axis=0) "
   ]
  },
  {
   "cell_type": "code",
   "execution_count": 21,
   "metadata": {},
   "outputs": [
    {
     "name": "stdout",
     "output_type": "stream",
     "text": [
      "updated dataframe shape: (797837, 79)\n"
     ]
    }
   ],
   "source": [
    "print('updated dataframe shape:', azdias_no_row_outliers.shape)"
   ]
  },
  {
   "cell_type": "markdown",
   "metadata": {},
   "source": [
    "It is also necesary to handle outliers from each column of the dataset"
   ]
  },
  {
   "cell_type": "code",
   "execution_count": 22,
   "metadata": {},
   "outputs": [],
   "source": [
    "def mask_outliers(df, prop_threshold):\n",
    "    \"\"\"\n",
    "    Mask the outliers as nans.\n",
    "    \"\"\"\n",
    "    outliers_replaced = []\n",
    "    df_columns = df.columns.tolist()\n",
    "    total_records = df.shape[0]\n",
    "    \n",
    "    for c in df_columns:\n",
    "        nulls = df[c].isnull().sum()\n",
    "        non_nulls = total_records - nulls\n",
    "        element_proportion_serie = df.groupby(c)[c].count()/non_nulls*100\n",
    "\n",
    "        element_list = element_proportion_serie.keys().tolist()\n",
    "        proportion_list = element_proportion_serie.values.tolist()\n",
    "\n",
    "        # masking values whom proportion is below a threshold\n",
    "        outlier_elements = [e for e in element_list if element_proportion_serie[e] < prop_threshold]\n",
    "        for outlier in outlier_elements:\n",
    "            outliers_replaced.append('outlier: %s, proportion: %s ,column: %s' %(outlier, element_proportion_serie[outlier], c))\n",
    "            df[c].replace(outlier, np.NaN, inplace = True)\n",
    "\n",
    "    return df"
   ]
  },
  {
   "cell_type": "code",
   "execution_count": 23,
   "metadata": {},
   "outputs": [],
   "source": [
    "outlier_threshold = 0.001 # threshold\n",
    "azdias_clean = mask_outliers(azdias_no_row_outliers, outlier_threshold)"
   ]
  },
  {
   "cell_type": "code",
   "execution_count": 24,
   "metadata": {},
   "outputs": [
    {
     "name": "stdout",
     "output_type": "stream",
     "text": [
      "number of columns in the final dataset: 79\n",
      "number of rows in the original dataset: 891221\n",
      "number of rows in the final dataset: 797837\n",
      "prop of final dataset with no missing data: 89.52%\n"
     ]
    }
   ],
   "source": [
    "#checking the size of the new dataset without 6 columns\n",
    "print(\"number of columns in the final dataset:\", azdias_clean.shape[1])\n",
    "print(\"number of rows in the original dataset:\", df_azdias.shape[0])\n",
    "print(\"number of rows in the final dataset:\", azdias_clean.shape[0])\n",
    "print(\"prop of final dataset with no missing data: {0:.2f}%\".format(100*azdias_clean.shape[0]/df_azdias.shape[0]))"
   ]
  },
  {
   "cell_type": "markdown",
   "metadata": {},
   "source": [
    "#### Discussion 1.1.3: Assess Missing Data in Each Row\n",
    "\n",
    "The criteria for removing some columns was the checking of the histogram generated. Again, in this scenario it can be seen that the proportion of missing values is above 30 % aprox but I think it requires a more indepth analisis into the business domain to sharp records."
   ]
  },
  {
   "cell_type": "markdown",
   "metadata": {},
   "source": [
    "### Step 1.2: Select and Re-Encode Features\n",
    "\n",
    "Since the unsupervised learning techniques to be used will only work on data that is encoded numerically, we need to make a few encoding changes or additional assumptions to be able to make progress. In addition, while almost all of the values in the dataset are encoded using numbers, not all of them represent numeric values. Check the third column of the feature summary (`feat_info`) for a summary of types of measurement.\n",
    "- For numeric and interval data, these features can be kept without changes.\n",
    "- Most of the variables in the dataset are ordinal in nature. While ordinal values may technically be non-linear in spacing, make the simplifying assumption that the ordinal variables can be treated as being interval in nature (that is, kept without any changes).\n",
    "- Special handling may be necessary for the remaining two variable types: categorical, and 'mixed'.\n",
    "\n",
    "We will perform an investigation of the categorical and mixed-type features and make a decision on each of them, whether we will keep, drop, or re-encode each. Then, in the last part, we will create a new data frame with only the selected and engineered columns."
   ]
  },
  {
   "cell_type": "code",
   "execution_count": 25,
   "metadata": {},
   "outputs": [
    {
     "data": {
      "text/plain": [
       "ordinal        49\n",
       "categorical    21\n",
       "mixed           7\n",
       "numeric         7\n",
       "interval        1\n",
       "Name: type, dtype: int64"
      ]
     },
     "execution_count": 25,
     "metadata": {},
     "output_type": "execute_result"
    }
   ],
   "source": [
    "# How many features are there of each data type?\n",
    "df_feat_info.type.value_counts()"
   ]
  },
  {
   "cell_type": "markdown",
   "metadata": {},
   "source": [
    "#### Step 1.2.1: Re-Encode Categorical Features\n",
    "\n",
    "For categorical data, we would ordinarily need to encode the levels as dummy variables. Depending on the number of categories, we'll perform one of the following:\n",
    "- For binary (two-level) categoricals that take numeric values, we can keep them without needing to do anything.\n",
    "- There is one binary variable that takes on non-numeric values. For this one, we need to re-encode the values as numbers or create a dummy variable.\n",
    "- For multi-level categoricals (three or more values), we can choose to encode the values using multiple dummy variables (e.g. via [OneHotEncoder](http://scikit-learn.org/stable/modules/generated/sklearn.preprocessing.OneHotEncoder.html)), or (to keep things straightforward) just drop them from the analysis."
   ]
  },
  {
   "cell_type": "markdown",
   "metadata": {},
   "source": [
    "#### Features comparison between feat_info and azdias dataframes\n",
    "We could check if all features from feat_info are present in azdias in order to save us time."
   ]
  },
  {
   "cell_type": "code",
   "execution_count": 26,
   "metadata": {},
   "outputs": [
    {
     "data": {
      "text/plain": [
       "(False, True)"
      ]
     },
     "execution_count": 26,
     "metadata": {},
     "output_type": "execute_result"
    }
   ],
   "source": [
    "feat_info_attribute_list = df_feat_info.attribute.tolist()\n",
    "azdias_feat_list = azdias_clean.columns.tolist()\n",
    "f_subset_a = set(feat_info_attribute_list).issubset(azdias_feat_list)\n",
    "a_subset_f = set(azdias_feat_list).issubset(feat_info_attribute_list)\n",
    "f_subset_a, a_subset_f"
   ]
  },
  {
   "cell_type": "markdown",
   "metadata": {},
   "source": [
    "#### Features not present in azdias\n",
    "Let's check what features are not present in azdias."
   ]
  },
  {
   "cell_type": "code",
   "execution_count": 27,
   "metadata": {},
   "outputs": [
    {
     "name": "stdout",
     "output_type": "stream",
     "text": [
      "Features not present in azdias: ['AGER_TYP', 'ALTER_HH', 'GEBURTSJAHR', 'KBA05_BAUMAX', 'KK_KUNDENTYP', 'TITEL_KZ']\n"
     ]
    }
   ],
   "source": [
    "feat_not_in_azdias = np.setdiff1d(feat_info_attribute_list, azdias_feat_list).tolist()\n",
    "print('Features not present in azdias:', feat_not_in_azdias)"
   ]
  },
  {
   "cell_type": "markdown",
   "metadata": {},
   "source": [
    "#### Assessing categorical variables\n",
    "We need to verify which features are `binary`, which are `multi-level`, and which needs to be re-encoded."
   ]
  },
  {
   "cell_type": "code",
   "execution_count": 28,
   "metadata": {},
   "outputs": [],
   "source": [
    "# categorical features\n",
    "categorical_features_list = df_feat_info[df_feat_info[\"type\"]==\"categorical\"].attribute.tolist()\n",
    "categorical_features_list_in_df = [x for x in categorical_features_list if x in azdias_clean.columns.tolist()]"
   ]
  },
  {
   "cell_type": "code",
   "execution_count": 29,
   "metadata": {},
   "outputs": [],
   "source": [
    "# features\n",
    "categorical_series = azdias_clean[categorical_features_list_in_df].nunique().sort_values()"
   ]
  },
  {
   "cell_type": "code",
   "execution_count": 30,
   "metadata": {},
   "outputs": [
    {
     "data": {
      "text/html": [
       "<div>\n",
       "<style scoped>\n",
       "    .dataframe tbody tr th:only-of-type {\n",
       "        vertical-align: middle;\n",
       "    }\n",
       "\n",
       "    .dataframe tbody tr th {\n",
       "        vertical-align: top;\n",
       "    }\n",
       "\n",
       "    .dataframe thead th {\n",
       "        text-align: right;\n",
       "    }\n",
       "</style>\n",
       "<table border=\"1\" class=\"dataframe\">\n",
       "  <thead>\n",
       "    <tr style=\"text-align: right;\">\n",
       "      <th></th>\n",
       "      <th>categorical features</th>\n",
       "      <th>number of categories</th>\n",
       "    </tr>\n",
       "  </thead>\n",
       "  <tbody>\n",
       "    <tr>\n",
       "      <th>0</th>\n",
       "      <td>ANREDE_KZ</td>\n",
       "      <td>2</td>\n",
       "    </tr>\n",
       "    <tr>\n",
       "      <th>1</th>\n",
       "      <td>OST_WEST_KZ</td>\n",
       "      <td>2</td>\n",
       "    </tr>\n",
       "    <tr>\n",
       "      <th>2</th>\n",
       "      <td>VERS_TYP</td>\n",
       "      <td>2</td>\n",
       "    </tr>\n",
       "    <tr>\n",
       "      <th>3</th>\n",
       "      <td>SOHO_KZ</td>\n",
       "      <td>2</td>\n",
       "    </tr>\n",
       "    <tr>\n",
       "      <th>4</th>\n",
       "      <td>GREEN_AVANTGARDE</td>\n",
       "      <td>2</td>\n",
       "    </tr>\n",
       "    <tr>\n",
       "      <th>5</th>\n",
       "      <td>NATIONALITAET_KZ</td>\n",
       "      <td>3</td>\n",
       "    </tr>\n",
       "    <tr>\n",
       "      <th>6</th>\n",
       "      <td>SHOPPER_TYP</td>\n",
       "      <td>4</td>\n",
       "    </tr>\n",
       "    <tr>\n",
       "      <th>7</th>\n",
       "      <td>LP_STATUS_GROB</td>\n",
       "      <td>5</td>\n",
       "    </tr>\n",
       "    <tr>\n",
       "      <th>8</th>\n",
       "      <td>LP_FAMILIE_GROB</td>\n",
       "      <td>5</td>\n",
       "    </tr>\n",
       "    <tr>\n",
       "      <th>9</th>\n",
       "      <td>FINANZTYP</td>\n",
       "      <td>6</td>\n",
       "    </tr>\n",
       "    <tr>\n",
       "      <th>10</th>\n",
       "      <td>ZABEOTYP</td>\n",
       "      <td>6</td>\n",
       "    </tr>\n",
       "    <tr>\n",
       "      <th>11</th>\n",
       "      <td>GEBAEUDETYP</td>\n",
       "      <td>6</td>\n",
       "    </tr>\n",
       "    <tr>\n",
       "      <th>12</th>\n",
       "      <td>CJT_GESAMTTYP</td>\n",
       "      <td>6</td>\n",
       "    </tr>\n",
       "    <tr>\n",
       "      <th>13</th>\n",
       "      <td>CAMEO_DEUG_2015</td>\n",
       "      <td>9</td>\n",
       "    </tr>\n",
       "    <tr>\n",
       "      <th>14</th>\n",
       "      <td>LP_STATUS_FEIN</td>\n",
       "      <td>10</td>\n",
       "    </tr>\n",
       "    <tr>\n",
       "      <th>15</th>\n",
       "      <td>LP_FAMILIE_FEIN</td>\n",
       "      <td>11</td>\n",
       "    </tr>\n",
       "    <tr>\n",
       "      <th>16</th>\n",
       "      <td>GFK_URLAUBERTYP</td>\n",
       "      <td>12</td>\n",
       "    </tr>\n",
       "    <tr>\n",
       "      <th>17</th>\n",
       "      <td>CAMEO_DEU_2015</td>\n",
       "      <td>44</td>\n",
       "    </tr>\n",
       "  </tbody>\n",
       "</table>\n",
       "</div>"
      ],
      "text/plain": [
       "   categorical features  number of categories\n",
       "0             ANREDE_KZ                     2\n",
       "1           OST_WEST_KZ                     2\n",
       "2              VERS_TYP                     2\n",
       "3               SOHO_KZ                     2\n",
       "4      GREEN_AVANTGARDE                     2\n",
       "5      NATIONALITAET_KZ                     3\n",
       "6           SHOPPER_TYP                     4\n",
       "7        LP_STATUS_GROB                     5\n",
       "8       LP_FAMILIE_GROB                     5\n",
       "9             FINANZTYP                     6\n",
       "10             ZABEOTYP                     6\n",
       "11          GEBAEUDETYP                     6\n",
       "12        CJT_GESAMTTYP                     6\n",
       "13      CAMEO_DEUG_2015                     9\n",
       "14       LP_STATUS_FEIN                    10\n",
       "15      LP_FAMILIE_FEIN                    11\n",
       "16      GFK_URLAUBERTYP                    12\n",
       "17       CAMEO_DEU_2015                    44"
      ]
     },
     "execution_count": 30,
     "metadata": {},
     "output_type": "execute_result"
    }
   ],
   "source": [
    "categorical_count_df = pd.DataFrame(categorical_series).reset_index()\n",
    "categorical_count_df.columns=['categorical features', 'number of categories']\n",
    "categorical_count_df"
   ]
  },
  {
   "cell_type": "markdown",
   "metadata": {},
   "source": [
    "We'll get booleans for filtering between binary and non binary categorical features. False values represent the binary ones."
   ]
  },
  {
   "cell_type": "code",
   "execution_count": 31,
   "metadata": {},
   "outputs": [],
   "source": [
    "boolean_not_binary_series = categorical_series > 2 \n",
    "not_binary_features_list = boolean_not_binary_series[boolean_not_binary_series].index.tolist()"
   ]
  },
  {
   "cell_type": "code",
   "execution_count": 32,
   "metadata": {},
   "outputs": [
    {
     "name": "stdout",
     "output_type": "stream",
     "text": [
      "No binary_features:  ['NATIONALITAET_KZ', 'SHOPPER_TYP', 'LP_STATUS_GROB', 'LP_FAMILIE_GROB', 'FINANZTYP', 'ZABEOTYP', 'GEBAEUDETYP', 'CJT_GESAMTTYP', 'CAMEO_DEUG_2015', 'LP_STATUS_FEIN', 'LP_FAMILIE_FEIN', 'GFK_URLAUBERTYP', 'CAMEO_DEU_2015']\n"
     ]
    }
   ],
   "source": [
    "print('No binary_features: ', not_binary_features_list)"
   ]
  },
  {
   "cell_type": "code",
   "execution_count": 33,
   "metadata": {},
   "outputs": [
    {
     "data": {
      "text/plain": [
       "True"
      ]
     },
     "execution_count": 33,
     "metadata": {},
     "output_type": "execute_result"
    }
   ],
   "source": [
    "# checking what features are present in azdias\n",
    "set(not_binary_features_list).issubset(azdias_clean.columns)"
   ]
  },
  {
   "cell_type": "markdown",
   "metadata": {},
   "source": [
    "Re-encoding non binary categorical variables to be kept in the analysis."
   ]
  },
  {
   "cell_type": "code",
   "execution_count": 34,
   "metadata": {},
   "outputs": [],
   "source": [
    "azdias_encode = pd.get_dummies(azdias_clean, columns = not_binary_features_list)"
   ]
  },
  {
   "cell_type": "code",
   "execution_count": 35,
   "metadata": {},
   "outputs": [
    {
     "data": {
      "text/plain": [
       "False"
      ]
     },
     "execution_count": 35,
     "metadata": {},
     "output_type": "execute_result"
    }
   ],
   "source": [
    "# checking that not binary categorical features are not present in azdias after encoding\n",
    "set(not_binary_features_list).issubset(azdias_encode.columns)"
   ]
  },
  {
   "cell_type": "markdown",
   "metadata": {},
   "source": [
    "Unique binary categorical feature with letters"
   ]
  },
  {
   "cell_type": "code",
   "execution_count": 36,
   "metadata": {},
   "outputs": [],
   "source": [
    "azdias_encode.OST_WEST_KZ.replace({'O': 0, 'W': 1}, inplace=True)"
   ]
  },
  {
   "cell_type": "code",
   "execution_count": 37,
   "metadata": {},
   "outputs": [
    {
     "data": {
      "text/html": [
       "<div>\n",
       "<style scoped>\n",
       "    .dataframe tbody tr th:only-of-type {\n",
       "        vertical-align: middle;\n",
       "    }\n",
       "\n",
       "    .dataframe tbody tr th {\n",
       "        vertical-align: top;\n",
       "    }\n",
       "\n",
       "    .dataframe thead th {\n",
       "        text-align: right;\n",
       "    }\n",
       "</style>\n",
       "<table border=\"1\" class=\"dataframe\">\n",
       "  <thead>\n",
       "    <tr style=\"text-align: right;\">\n",
       "      <th></th>\n",
       "      <th>ALTERSKATEGORIE_GROB</th>\n",
       "      <th>ANREDE_KZ</th>\n",
       "      <th>FINANZ_MINIMALIST</th>\n",
       "      <th>FINANZ_SPARER</th>\n",
       "      <th>FINANZ_VORSORGER</th>\n",
       "      <th>FINANZ_ANLEGER</th>\n",
       "      <th>FINANZ_UNAUFFAELLIGER</th>\n",
       "      <th>FINANZ_HAUSBAUER</th>\n",
       "      <th>GREEN_AVANTGARDE</th>\n",
       "      <th>HEALTH_TYP</th>\n",
       "      <th>...</th>\n",
       "      <th>CAMEO_DEU_2015_7E</th>\n",
       "      <th>CAMEO_DEU_2015_8A</th>\n",
       "      <th>CAMEO_DEU_2015_8B</th>\n",
       "      <th>CAMEO_DEU_2015_8C</th>\n",
       "      <th>CAMEO_DEU_2015_8D</th>\n",
       "      <th>CAMEO_DEU_2015_9A</th>\n",
       "      <th>CAMEO_DEU_2015_9B</th>\n",
       "      <th>CAMEO_DEU_2015_9C</th>\n",
       "      <th>CAMEO_DEU_2015_9D</th>\n",
       "      <th>CAMEO_DEU_2015_9E</th>\n",
       "    </tr>\n",
       "  </thead>\n",
       "  <tbody>\n",
       "    <tr>\n",
       "      <th>1</th>\n",
       "      <td>1.0</td>\n",
       "      <td>2</td>\n",
       "      <td>1</td>\n",
       "      <td>5</td>\n",
       "      <td>2</td>\n",
       "      <td>5</td>\n",
       "      <td>4</td>\n",
       "      <td>5</td>\n",
       "      <td>0</td>\n",
       "      <td>3.0</td>\n",
       "      <td>...</td>\n",
       "      <td>0</td>\n",
       "      <td>1</td>\n",
       "      <td>0</td>\n",
       "      <td>0</td>\n",
       "      <td>0</td>\n",
       "      <td>0</td>\n",
       "      <td>0</td>\n",
       "      <td>0</td>\n",
       "      <td>0</td>\n",
       "      <td>0</td>\n",
       "    </tr>\n",
       "    <tr>\n",
       "      <th>2</th>\n",
       "      <td>3.0</td>\n",
       "      <td>2</td>\n",
       "      <td>1</td>\n",
       "      <td>4</td>\n",
       "      <td>1</td>\n",
       "      <td>2</td>\n",
       "      <td>3</td>\n",
       "      <td>5</td>\n",
       "      <td>1</td>\n",
       "      <td>3.0</td>\n",
       "      <td>...</td>\n",
       "      <td>0</td>\n",
       "      <td>0</td>\n",
       "      <td>0</td>\n",
       "      <td>0</td>\n",
       "      <td>0</td>\n",
       "      <td>0</td>\n",
       "      <td>0</td>\n",
       "      <td>0</td>\n",
       "      <td>0</td>\n",
       "      <td>0</td>\n",
       "    </tr>\n",
       "    <tr>\n",
       "      <th>3</th>\n",
       "      <td>4.0</td>\n",
       "      <td>2</td>\n",
       "      <td>4</td>\n",
       "      <td>2</td>\n",
       "      <td>5</td>\n",
       "      <td>2</td>\n",
       "      <td>1</td>\n",
       "      <td>2</td>\n",
       "      <td>0</td>\n",
       "      <td>2.0</td>\n",
       "      <td>...</td>\n",
       "      <td>0</td>\n",
       "      <td>0</td>\n",
       "      <td>0</td>\n",
       "      <td>0</td>\n",
       "      <td>0</td>\n",
       "      <td>0</td>\n",
       "      <td>0</td>\n",
       "      <td>0</td>\n",
       "      <td>0</td>\n",
       "      <td>0</td>\n",
       "    </tr>\n",
       "    <tr>\n",
       "      <th>4</th>\n",
       "      <td>3.0</td>\n",
       "      <td>1</td>\n",
       "      <td>4</td>\n",
       "      <td>3</td>\n",
       "      <td>4</td>\n",
       "      <td>1</td>\n",
       "      <td>3</td>\n",
       "      <td>2</td>\n",
       "      <td>0</td>\n",
       "      <td>3.0</td>\n",
       "      <td>...</td>\n",
       "      <td>0</td>\n",
       "      <td>0</td>\n",
       "      <td>0</td>\n",
       "      <td>0</td>\n",
       "      <td>0</td>\n",
       "      <td>0</td>\n",
       "      <td>0</td>\n",
       "      <td>0</td>\n",
       "      <td>0</td>\n",
       "      <td>0</td>\n",
       "    </tr>\n",
       "    <tr>\n",
       "      <th>5</th>\n",
       "      <td>1.0</td>\n",
       "      <td>2</td>\n",
       "      <td>3</td>\n",
       "      <td>1</td>\n",
       "      <td>5</td>\n",
       "      <td>2</td>\n",
       "      <td>2</td>\n",
       "      <td>5</td>\n",
       "      <td>0</td>\n",
       "      <td>3.0</td>\n",
       "      <td>...</td>\n",
       "      <td>0</td>\n",
       "      <td>0</td>\n",
       "      <td>0</td>\n",
       "      <td>1</td>\n",
       "      <td>0</td>\n",
       "      <td>0</td>\n",
       "      <td>0</td>\n",
       "      <td>0</td>\n",
       "      <td>0</td>\n",
       "      <td>0</td>\n",
       "    </tr>\n",
       "  </tbody>\n",
       "</table>\n",
       "<p>5 rows × 193 columns</p>\n",
       "</div>"
      ],
      "text/plain": [
       "   ALTERSKATEGORIE_GROB  ANREDE_KZ  FINANZ_MINIMALIST  FINANZ_SPARER  \\\n",
       "1                   1.0          2                  1              5   \n",
       "2                   3.0          2                  1              4   \n",
       "3                   4.0          2                  4              2   \n",
       "4                   3.0          1                  4              3   \n",
       "5                   1.0          2                  3              1   \n",
       "\n",
       "   FINANZ_VORSORGER  FINANZ_ANLEGER  FINANZ_UNAUFFAELLIGER  FINANZ_HAUSBAUER  \\\n",
       "1                 2               5                      4                 5   \n",
       "2                 1               2                      3                 5   \n",
       "3                 5               2                      1                 2   \n",
       "4                 4               1                      3                 2   \n",
       "5                 5               2                      2                 5   \n",
       "\n",
       "   GREEN_AVANTGARDE  HEALTH_TYP        ...          CAMEO_DEU_2015_7E  \\\n",
       "1                 0         3.0        ...                          0   \n",
       "2                 1         3.0        ...                          0   \n",
       "3                 0         2.0        ...                          0   \n",
       "4                 0         3.0        ...                          0   \n",
       "5                 0         3.0        ...                          0   \n",
       "\n",
       "   CAMEO_DEU_2015_8A  CAMEO_DEU_2015_8B  CAMEO_DEU_2015_8C  CAMEO_DEU_2015_8D  \\\n",
       "1                  1                  0                  0                  0   \n",
       "2                  0                  0                  0                  0   \n",
       "3                  0                  0                  0                  0   \n",
       "4                  0                  0                  0                  0   \n",
       "5                  0                  0                  1                  0   \n",
       "\n",
       "   CAMEO_DEU_2015_9A  CAMEO_DEU_2015_9B  CAMEO_DEU_2015_9C  CAMEO_DEU_2015_9D  \\\n",
       "1                  0                  0                  0                  0   \n",
       "2                  0                  0                  0                  0   \n",
       "3                  0                  0                  0                  0   \n",
       "4                  0                  0                  0                  0   \n",
       "5                  0                  0                  0                  0   \n",
       "\n",
       "   CAMEO_DEU_2015_9E  \n",
       "1                  0  \n",
       "2                  0  \n",
       "3                  0  \n",
       "4                  0  \n",
       "5                  0  \n",
       "\n",
       "[5 rows x 193 columns]"
      ]
     },
     "execution_count": 37,
     "metadata": {},
     "output_type": "execute_result"
    }
   ],
   "source": [
    "azdias_encode.head()"
   ]
  },
  {
   "cell_type": "markdown",
   "metadata": {},
   "source": [
    "#### Discussion 1.2.1: Re-Encode Categorical Features\n",
    "\n",
    "So first it was necesary to identify the categorical features present in the dataset already pre procesed. Then, identify if it was multi or binary categories. For the first type the process is to one hot encode and for the other the only one to be encode was OST_WEST_KZ because it conteined string values."
   ]
  },
  {
   "cell_type": "markdown",
   "metadata": {},
   "source": [
    "#### Step 1.2.2: Engineer Mixed-Type Features\n",
    "\n",
    "There are a handful of features that are marked as \"mixed\" in the feature summary that require special treatment in order to be included in the analysis. There are two in particular that deserve attention:\n",
    "- \"PRAEGENDE_JUGENDJAHRE\" combines information on three dimensions: generation by decade, movement (mainstream vs. avantgarde), and nation (east vs. west). While there aren't enough levels to disentangle east from west, you should create two new variables to capture the other two dimensions: an interval-type variable for decade, and a binary variable for movement.\n",
    "- \"CAMEO_INTL_2015\" combines information on two axes: wealth and life stage. Break up the two-digit codes by their 'tens'-place and 'ones'-place digits into two new ordinal variables (which, for the purposes of this project, is equivalent to just treating them as their raw numeric values).\n",
    "- If you decide to keep or engineer new features around the other mixed-type features, make sure you note your steps in the Discussion section.\n",
    "\n",
    "`Data_Dictionary.md` private file contains the details needed to finish these tasks. I'll detail the process."
   ]
  },
  {
   "cell_type": "code",
   "execution_count": 38,
   "metadata": {},
   "outputs": [
    {
     "name": "stdout",
     "output_type": "stream",
     "text": [
      "Features with mixed type: \n",
      "\n"
     ]
    },
    {
     "data": {
      "text/html": [
       "<div>\n",
       "<style scoped>\n",
       "    .dataframe tbody tr th:only-of-type {\n",
       "        vertical-align: middle;\n",
       "    }\n",
       "\n",
       "    .dataframe tbody tr th {\n",
       "        vertical-align: top;\n",
       "    }\n",
       "\n",
       "    .dataframe thead th {\n",
       "        text-align: right;\n",
       "    }\n",
       "</style>\n",
       "<table border=\"1\" class=\"dataframe\">\n",
       "  <thead>\n",
       "    <tr style=\"text-align: right;\">\n",
       "      <th></th>\n",
       "      <th>attribute</th>\n",
       "      <th>information_level</th>\n",
       "      <th>type</th>\n",
       "      <th>missing_or_unknown</th>\n",
       "    </tr>\n",
       "  </thead>\n",
       "  <tbody>\n",
       "    <tr>\n",
       "      <th>15</th>\n",
       "      <td>LP_LEBENSPHASE_FEIN</td>\n",
       "      <td>person</td>\n",
       "      <td>mixed</td>\n",
       "      <td>[0]</td>\n",
       "    </tr>\n",
       "    <tr>\n",
       "      <th>16</th>\n",
       "      <td>LP_LEBENSPHASE_GROB</td>\n",
       "      <td>person</td>\n",
       "      <td>mixed</td>\n",
       "      <td>[0]</td>\n",
       "    </tr>\n",
       "    <tr>\n",
       "      <th>22</th>\n",
       "      <td>PRAEGENDE_JUGENDJAHRE</td>\n",
       "      <td>person</td>\n",
       "      <td>mixed</td>\n",
       "      <td>[-1,0]</td>\n",
       "    </tr>\n",
       "    <tr>\n",
       "      <th>56</th>\n",
       "      <td>WOHNLAGE</td>\n",
       "      <td>building</td>\n",
       "      <td>mixed</td>\n",
       "      <td>[-1]</td>\n",
       "    </tr>\n",
       "    <tr>\n",
       "      <th>59</th>\n",
       "      <td>CAMEO_INTL_2015</td>\n",
       "      <td>microcell_rr4</td>\n",
       "      <td>mixed</td>\n",
       "      <td>[-1,XX]</td>\n",
       "    </tr>\n",
       "    <tr>\n",
       "      <th>64</th>\n",
       "      <td>KBA05_BAUMAX</td>\n",
       "      <td>microcell_rr3</td>\n",
       "      <td>mixed</td>\n",
       "      <td>[-1,0]</td>\n",
       "    </tr>\n",
       "    <tr>\n",
       "      <th>79</th>\n",
       "      <td>PLZ8_BAUMAX</td>\n",
       "      <td>macrocell_plz8</td>\n",
       "      <td>mixed</td>\n",
       "      <td>[-1,0]</td>\n",
       "    </tr>\n",
       "  </tbody>\n",
       "</table>\n",
       "</div>"
      ],
      "text/plain": [
       "                attribute information_level   type missing_or_unknown\n",
       "15    LP_LEBENSPHASE_FEIN            person  mixed                [0]\n",
       "16    LP_LEBENSPHASE_GROB            person  mixed                [0]\n",
       "22  PRAEGENDE_JUGENDJAHRE            person  mixed             [-1,0]\n",
       "56               WOHNLAGE          building  mixed               [-1]\n",
       "59        CAMEO_INTL_2015     microcell_rr4  mixed            [-1,XX]\n",
       "64           KBA05_BAUMAX     microcell_rr3  mixed             [-1,0]\n",
       "79            PLZ8_BAUMAX    macrocell_plz8  mixed             [-1,0]"
      ]
     },
     "execution_count": 38,
     "metadata": {},
     "output_type": "execute_result"
    }
   ],
   "source": [
    "print('Features with mixed type: \\n')\n",
    "df_feat_info[df_feat_info['type'] == 'mixed']"
   ]
  },
  {
   "cell_type": "markdown",
   "metadata": {},
   "source": [
    "#### Investigating \"PRAEGENDE_JUGENDJAHRE\" and engineer two new variables."
   ]
  },
  {
   "cell_type": "code",
   "execution_count": 39,
   "metadata": {},
   "outputs": [
    {
     "name": "stdout",
     "output_type": "stream",
     "text": [
      "PRAEGENDE_JUGENDJAHRE unique values list:  [14.0, 15.0, 8.0, 3.0, 10.0, 11.0, 5.0, 9.0, 6.0, 4.0, nan, 2.0, 1.0, 12.0, 13.0, 7.0]\n"
     ]
    }
   ],
   "source": [
    "print('PRAEGENDE_JUGENDJAHRE unique values list: ', azdias_encode['PRAEGENDE_JUGENDJAHRE'].unique().tolist())"
   ]
  },
  {
   "cell_type": "code",
   "execution_count": 40,
   "metadata": {},
   "outputs": [],
   "source": [
    "# from the docs PRAEGENDE_JUGENDJAHRE  is condensed in two representative variables: decade and movement\n",
    "\n",
    "def features_from_PRAEGENDE_JUGENDJAHRE(df):\n",
    "    df.loc[df['PRAEGENDE_JUGENDJAHRE'].isin([1,2]), 'DECADE'] = '40s'\n",
    "    df.loc[df['PRAEGENDE_JUGENDJAHRE'].isin([3,4]), 'DECADE'] = '50s'\n",
    "    df.loc[df['PRAEGENDE_JUGENDJAHRE'].isin([5,6,7]), 'DECADE'] = '60s'\n",
    "    df.loc[df['PRAEGENDE_JUGENDJAHRE'].isin([8,9]), 'DECADE'] = '70s'\n",
    "    df.loc[df['PRAEGENDE_JUGENDJAHRE'].isin([10,11,12,13]), 'DECADE'] = '80s'\n",
    "    df.loc[df['PRAEGENDE_JUGENDJAHRE'].isin([14,15]), 'DECADE'] = '90s'\n",
    "    df.loc[df['PRAEGENDE_JUGENDJAHRE'].isin([1,3,5,8,10,12,14]), 'MOVEMENT'] = 'Mainstream'\n",
    "    df.loc[df['PRAEGENDE_JUGENDJAHRE'].isin([2,46,7,9,11,13,15]), 'MOVEMENT'] = 'Avantgarde'\n",
    "    return df\n",
    "\n",
    "azdias_PRAEGENDE = features_from_PRAEGENDE_JUGENDJAHRE(azdias_encode)"
   ]
  },
  {
   "cell_type": "code",
   "execution_count": 41,
   "metadata": {},
   "outputs": [],
   "source": [
    "# Investigate \"CAMEO_INTL_2015\" and engineer two new variables.\n",
    "\n",
    "def features_from_CAMEO_INTL_2015(df):\n",
    "    df[\"CAMEO_INTL_2015\"] = df[\"CAMEO_INTL_2015\"].astype(float)\n",
    "\n",
    "    df.loc[df[\"CAMEO_INTL_2015\"] // 10 == 1.0, 'WEALTH'] = 'Wealthy Households'\n",
    "    df.loc[df[\"CAMEO_INTL_2015\"] // 10 == 2.0, 'WEALTH'] = 'Prosperous Households'\n",
    "    df.loc[df[\"CAMEO_INTL_2015\"] // 10 == 3.0, 'WEALTH'] = 'Comfortable Households'\n",
    "    df.loc[df[\"CAMEO_INTL_2015\"] // 10 == 4.0, 'WEALTH'] = 'Less Affluent Households'\n",
    "    df.loc[df[\"CAMEO_INTL_2015\"] // 10 == 5.0, 'WEALTH'] = 'Poorer Households'\n",
    "    df.loc[df[\"CAMEO_INTL_2015\"] % 10 == 1.0, 'LIFE_STAGE'] = 'Pre-Family Couples & Singles'\n",
    "    df.loc[df[\"CAMEO_INTL_2015\"] % 10 == 2.0, 'LIFE_STAGE'] = 'Young Couples With Children'\n",
    "    df.loc[df[\"CAMEO_INTL_2015\"] % 10 == 3.0, 'LIFE_STAGE'] = 'Families With School Age Children'\n",
    "    df.loc[df[\"CAMEO_INTL_2015\"] % 10 == 4.0, 'LIFE_STAGE'] = 'Older Families &  Mature Couples'\n",
    "    df.loc[df[\"CAMEO_INTL_2015\"] % 10 == 5.0, 'LIFE_STAGE'] = 'Elders In Retirement'\n",
    "    return df\n"
   ]
  },
  {
   "cell_type": "code",
   "execution_count": 42,
   "metadata": {},
   "outputs": [],
   "source": [
    "azdias_mixed = features_from_CAMEO_INTL_2015(azdias_PRAEGENDE)"
   ]
  },
  {
   "cell_type": "markdown",
   "metadata": {},
   "source": [
    "#### Discussion 1.2.2: Engineer Mixed-Type Features\n",
    "\n",
    "To engineer this mixed types features it was necesary to analize the .md file with the features detail. These two features have data inside so it was necesary to extract it as part of the azdias dataframe columns. The way i've done it is not very fancy but works."
   ]
  },
  {
   "cell_type": "markdown",
   "metadata": {},
   "source": [
    "#### Step 1.2.3: Complete Feature Selection\n",
    "\n",
    "In order to finish this step up, we need to make sure that the data frame now only has the columns that we want to keep. To summarize, the dataframe should consist of the following:\n",
    "- All numeric, interval, and ordinal type columns from the original dataset.\n",
    "- Binary categorical features (all numerically-encoded).\n",
    "- Engineered features from other multi-level categorical features and mixed features.\n",
    "\n",
    "We need to make sure that for any new columns that we have engineered, that we've excluded the original columns from the final dataset. Otherwise, their values will interfere with the analysis later on the project. For example, we should not keep \"PRAEGENDE_JUGENDJAHRE\", since its values won't be useful for the algorithm: only the values derived from it in the engineered features we created should be retained. As a reminder, our data should only be from **the subset with few or no missing values**."
   ]
  },
  {
   "cell_type": "code",
   "execution_count": 43,
   "metadata": {},
   "outputs": [],
   "source": [
    "# If there are other re-engineering tasks you need to perform, make sure you\n",
    "# take care of them here. (Dealing with missing data will come in step 2.1.)\n",
    "\n",
    "# One-hot encode PRAEGENDE_JUGENDJAHRE new features\n",
    "azdias_mixed_PRAEGENDE_encode = pd.get_dummies(azdias_mixed, columns = ['DECADE', 'MOVEMENT'])\n",
    "# Drop the original feature\n",
    "azdias_mixed_PRAEGENDE_encode.drop('PRAEGENDE_JUGENDJAHRE', axis = 1, inplace=True)"
   ]
  },
  {
   "cell_type": "code",
   "execution_count": 44,
   "metadata": {},
   "outputs": [],
   "source": [
    "# same for CAMEO_INTL_2015 extracted features\n",
    "azdias_mixed_CAMEO_encode = pd.get_dummies(azdias_mixed_PRAEGENDE_encode, columns = ['WEALTH', 'LIFE_STAGE'])\n",
    "# Drop the original feature\n",
    "azdias_mixed_CAMEO_encode.drop('CAMEO_INTL_2015', axis = 1, inplace=True)"
   ]
  },
  {
   "cell_type": "code",
   "execution_count": 45,
   "metadata": {},
   "outputs": [],
   "source": [
    "azdias_cleaned = azdias_mixed_CAMEO_encode.copy()"
   ]
  },
  {
   "cell_type": "markdown",
   "metadata": {},
   "source": [
    "### Step 1.3: Create a Cleaning Function\n",
    "\n",
    "Even though we've finished cleaning up the general population demographics data, it's important to look ahead to the future and realize that we'll need to perform the same cleaning steps on the customer demographics data. The function below will be used to execute the main feature selection, encoding, and re-engineering steps we performed above. Then, when it comes to looking at the customer data in Step 3, we can just run this function on that DataFrame to get the trimmed dataset in a single step.\n",
    "\n",
    "The helper funciton is saved at `clean_data_helper.py` script."
   ]
  },
  {
   "cell_type": "markdown",
   "metadata": {},
   "source": [
    "### Saving the cleaned data\n",
    "Once cleaned the data will be saved in order to save us time later."
   ]
  },
  {
   "cell_type": "code",
   "execution_count": 46,
   "metadata": {},
   "outputs": [],
   "source": [
    "# azdias_cleaned.to_csv('azdias_cleaned.csv')"
   ]
  },
  {
   "cell_type": "code",
   "execution_count": 47,
   "metadata": {},
   "outputs": [
    {
     "data": {
      "text/html": [
       "<div>\n",
       "<style scoped>\n",
       "    .dataframe tbody tr th:only-of-type {\n",
       "        vertical-align: middle;\n",
       "    }\n",
       "\n",
       "    .dataframe tbody tr th {\n",
       "        vertical-align: top;\n",
       "    }\n",
       "\n",
       "    .dataframe thead th {\n",
       "        text-align: right;\n",
       "    }\n",
       "</style>\n",
       "<table border=\"1\" class=\"dataframe\">\n",
       "  <thead>\n",
       "    <tr style=\"text-align: right;\">\n",
       "      <th></th>\n",
       "      <th>ALTERSKATEGORIE_GROB</th>\n",
       "      <th>ANREDE_KZ</th>\n",
       "      <th>FINANZ_MINIMALIST</th>\n",
       "      <th>FINANZ_SPARER</th>\n",
       "      <th>FINANZ_VORSORGER</th>\n",
       "      <th>FINANZ_ANLEGER</th>\n",
       "      <th>FINANZ_UNAUFFAELLIGER</th>\n",
       "      <th>FINANZ_HAUSBAUER</th>\n",
       "      <th>GREEN_AVANTGARDE</th>\n",
       "      <th>HEALTH_TYP</th>\n",
       "      <th>...</th>\n",
       "      <th>WEALTH_Comfortable Households</th>\n",
       "      <th>WEALTH_Less Affluent Households</th>\n",
       "      <th>WEALTH_Poorer Households</th>\n",
       "      <th>WEALTH_Prosperous Households</th>\n",
       "      <th>WEALTH_Wealthy Households</th>\n",
       "      <th>LIFE_STAGE_Elders In Retirement</th>\n",
       "      <th>LIFE_STAGE_Families With School Age Children</th>\n",
       "      <th>LIFE_STAGE_Older Families &amp;  Mature Couples</th>\n",
       "      <th>LIFE_STAGE_Pre-Family Couples &amp; Singles</th>\n",
       "      <th>LIFE_STAGE_Young Couples With Children</th>\n",
       "    </tr>\n",
       "  </thead>\n",
       "  <tbody>\n",
       "    <tr>\n",
       "      <th>1</th>\n",
       "      <td>1.0</td>\n",
       "      <td>2</td>\n",
       "      <td>1</td>\n",
       "      <td>5</td>\n",
       "      <td>2</td>\n",
       "      <td>5</td>\n",
       "      <td>4</td>\n",
       "      <td>5</td>\n",
       "      <td>0</td>\n",
       "      <td>3.0</td>\n",
       "      <td>...</td>\n",
       "      <td>0</td>\n",
       "      <td>0</td>\n",
       "      <td>1</td>\n",
       "      <td>0</td>\n",
       "      <td>0</td>\n",
       "      <td>0</td>\n",
       "      <td>0</td>\n",
       "      <td>0</td>\n",
       "      <td>1</td>\n",
       "      <td>0</td>\n",
       "    </tr>\n",
       "    <tr>\n",
       "      <th>2</th>\n",
       "      <td>3.0</td>\n",
       "      <td>2</td>\n",
       "      <td>1</td>\n",
       "      <td>4</td>\n",
       "      <td>1</td>\n",
       "      <td>2</td>\n",
       "      <td>3</td>\n",
       "      <td>5</td>\n",
       "      <td>1</td>\n",
       "      <td>3.0</td>\n",
       "      <td>...</td>\n",
       "      <td>0</td>\n",
       "      <td>0</td>\n",
       "      <td>0</td>\n",
       "      <td>1</td>\n",
       "      <td>0</td>\n",
       "      <td>0</td>\n",
       "      <td>0</td>\n",
       "      <td>1</td>\n",
       "      <td>0</td>\n",
       "      <td>0</td>\n",
       "    </tr>\n",
       "    <tr>\n",
       "      <th>3</th>\n",
       "      <td>4.0</td>\n",
       "      <td>2</td>\n",
       "      <td>4</td>\n",
       "      <td>2</td>\n",
       "      <td>5</td>\n",
       "      <td>2</td>\n",
       "      <td>1</td>\n",
       "      <td>2</td>\n",
       "      <td>0</td>\n",
       "      <td>2.0</td>\n",
       "      <td>...</td>\n",
       "      <td>0</td>\n",
       "      <td>0</td>\n",
       "      <td>0</td>\n",
       "      <td>0</td>\n",
       "      <td>1</td>\n",
       "      <td>0</td>\n",
       "      <td>0</td>\n",
       "      <td>0</td>\n",
       "      <td>0</td>\n",
       "      <td>1</td>\n",
       "    </tr>\n",
       "    <tr>\n",
       "      <th>4</th>\n",
       "      <td>3.0</td>\n",
       "      <td>1</td>\n",
       "      <td>4</td>\n",
       "      <td>3</td>\n",
       "      <td>4</td>\n",
       "      <td>1</td>\n",
       "      <td>3</td>\n",
       "      <td>2</td>\n",
       "      <td>0</td>\n",
       "      <td>3.0</td>\n",
       "      <td>...</td>\n",
       "      <td>0</td>\n",
       "      <td>1</td>\n",
       "      <td>0</td>\n",
       "      <td>0</td>\n",
       "      <td>0</td>\n",
       "      <td>0</td>\n",
       "      <td>1</td>\n",
       "      <td>0</td>\n",
       "      <td>0</td>\n",
       "      <td>0</td>\n",
       "    </tr>\n",
       "    <tr>\n",
       "      <th>5</th>\n",
       "      <td>1.0</td>\n",
       "      <td>2</td>\n",
       "      <td>3</td>\n",
       "      <td>1</td>\n",
       "      <td>5</td>\n",
       "      <td>2</td>\n",
       "      <td>2</td>\n",
       "      <td>5</td>\n",
       "      <td>0</td>\n",
       "      <td>3.0</td>\n",
       "      <td>...</td>\n",
       "      <td>0</td>\n",
       "      <td>0</td>\n",
       "      <td>1</td>\n",
       "      <td>0</td>\n",
       "      <td>0</td>\n",
       "      <td>0</td>\n",
       "      <td>0</td>\n",
       "      <td>1</td>\n",
       "      <td>0</td>\n",
       "      <td>0</td>\n",
       "    </tr>\n",
       "  </tbody>\n",
       "</table>\n",
       "<p>5 rows × 209 columns</p>\n",
       "</div>"
      ],
      "text/plain": [
       "   ALTERSKATEGORIE_GROB  ANREDE_KZ  FINANZ_MINIMALIST  FINANZ_SPARER  \\\n",
       "1                   1.0          2                  1              5   \n",
       "2                   3.0          2                  1              4   \n",
       "3                   4.0          2                  4              2   \n",
       "4                   3.0          1                  4              3   \n",
       "5                   1.0          2                  3              1   \n",
       "\n",
       "   FINANZ_VORSORGER  FINANZ_ANLEGER  FINANZ_UNAUFFAELLIGER  FINANZ_HAUSBAUER  \\\n",
       "1                 2               5                      4                 5   \n",
       "2                 1               2                      3                 5   \n",
       "3                 5               2                      1                 2   \n",
       "4                 4               1                      3                 2   \n",
       "5                 5               2                      2                 5   \n",
       "\n",
       "   GREEN_AVANTGARDE  HEALTH_TYP                   ...                    \\\n",
       "1                 0         3.0                   ...                     \n",
       "2                 1         3.0                   ...                     \n",
       "3                 0         2.0                   ...                     \n",
       "4                 0         3.0                   ...                     \n",
       "5                 0         3.0                   ...                     \n",
       "\n",
       "   WEALTH_Comfortable Households  WEALTH_Less Affluent Households  \\\n",
       "1                              0                                0   \n",
       "2                              0                                0   \n",
       "3                              0                                0   \n",
       "4                              0                                1   \n",
       "5                              0                                0   \n",
       "\n",
       "   WEALTH_Poorer Households  WEALTH_Prosperous Households  \\\n",
       "1                         1                             0   \n",
       "2                         0                             1   \n",
       "3                         0                             0   \n",
       "4                         0                             0   \n",
       "5                         1                             0   \n",
       "\n",
       "   WEALTH_Wealthy Households  LIFE_STAGE_Elders In Retirement  \\\n",
       "1                          0                                0   \n",
       "2                          0                                0   \n",
       "3                          1                                0   \n",
       "4                          0                                0   \n",
       "5                          0                                0   \n",
       "\n",
       "   LIFE_STAGE_Families With School Age Children  \\\n",
       "1                                             0   \n",
       "2                                             0   \n",
       "3                                             0   \n",
       "4                                             1   \n",
       "5                                             0   \n",
       "\n",
       "   LIFE_STAGE_Older Families &  Mature Couples  \\\n",
       "1                                            0   \n",
       "2                                            1   \n",
       "3                                            0   \n",
       "4                                            0   \n",
       "5                                            1   \n",
       "\n",
       "   LIFE_STAGE_Pre-Family Couples & Singles  \\\n",
       "1                                        1   \n",
       "2                                        0   \n",
       "3                                        0   \n",
       "4                                        0   \n",
       "5                                        0   \n",
       "\n",
       "   LIFE_STAGE_Young Couples With Children  \n",
       "1                                       0  \n",
       "2                                       0  \n",
       "3                                       1  \n",
       "4                                       0  \n",
       "5                                       0  \n",
       "\n",
       "[5 rows x 209 columns]"
      ]
     },
     "execution_count": 47,
     "metadata": {},
     "output_type": "execute_result"
    }
   ],
   "source": [
    "azdias_cleaned.head()"
   ]
  },
  {
   "cell_type": "code",
   "execution_count": 48,
   "metadata": {},
   "outputs": [
    {
     "name": "stdout",
     "output_type": "stream",
     "text": [
      "<class 'pandas.core.frame.DataFrame'>\n",
      "Int64Index: 797837 entries, 1 to 891220\n",
      "Columns: 209 entries, ALTERSKATEGORIE_GROB to LIFE_STAGE_Young Couples With Children\n",
      "dtypes: float64(41), int64(23), uint8(145)\n",
      "memory usage: 506.0 MB\n"
     ]
    }
   ],
   "source": [
    "azdias_cleaned.info()"
   ]
  },
  {
   "cell_type": "code",
   "execution_count": 4,
   "metadata": {},
   "outputs": [
    {
     "data": {
      "text/html": [
       "<div>\n",
       "<style scoped>\n",
       "    .dataframe tbody tr th:only-of-type {\n",
       "        vertical-align: middle;\n",
       "    }\n",
       "\n",
       "    .dataframe tbody tr th {\n",
       "        vertical-align: top;\n",
       "    }\n",
       "\n",
       "    .dataframe thead th {\n",
       "        text-align: right;\n",
       "    }\n",
       "</style>\n",
       "<table border=\"1\" class=\"dataframe\">\n",
       "  <thead>\n",
       "    <tr style=\"text-align: right;\">\n",
       "      <th></th>\n",
       "      <th>ALTERSKATEGORIE_GROB</th>\n",
       "      <th>ANREDE_KZ</th>\n",
       "      <th>FINANZ_MINIMALIST</th>\n",
       "      <th>FINANZ_SPARER</th>\n",
       "      <th>FINANZ_VORSORGER</th>\n",
       "      <th>FINANZ_ANLEGER</th>\n",
       "      <th>FINANZ_UNAUFFAELLIGER</th>\n",
       "      <th>FINANZ_HAUSBAUER</th>\n",
       "      <th>GREEN_AVANTGARDE</th>\n",
       "      <th>HEALTH_TYP</th>\n",
       "      <th>...</th>\n",
       "      <th>WEALTH_Comfortable Households</th>\n",
       "      <th>WEALTH_Less Affluent Households</th>\n",
       "      <th>WEALTH_Poorer Households</th>\n",
       "      <th>WEALTH_Prosperous Households</th>\n",
       "      <th>WEALTH_Wealthy Households</th>\n",
       "      <th>LIFE_STAGE_Elders In Retirement</th>\n",
       "      <th>LIFE_STAGE_Families With School Age Children</th>\n",
       "      <th>LIFE_STAGE_Older Families &amp;  Mature Couples</th>\n",
       "      <th>LIFE_STAGE_Pre-Family Couples &amp; Singles</th>\n",
       "      <th>LIFE_STAGE_Young Couples With Children</th>\n",
       "    </tr>\n",
       "  </thead>\n",
       "  <tbody>\n",
       "    <tr>\n",
       "      <th>1</th>\n",
       "      <td>1.0</td>\n",
       "      <td>2</td>\n",
       "      <td>1</td>\n",
       "      <td>5</td>\n",
       "      <td>2</td>\n",
       "      <td>5</td>\n",
       "      <td>4</td>\n",
       "      <td>5</td>\n",
       "      <td>0</td>\n",
       "      <td>3.0</td>\n",
       "      <td>...</td>\n",
       "      <td>0</td>\n",
       "      <td>0</td>\n",
       "      <td>1</td>\n",
       "      <td>0</td>\n",
       "      <td>0</td>\n",
       "      <td>0</td>\n",
       "      <td>0</td>\n",
       "      <td>0</td>\n",
       "      <td>1</td>\n",
       "      <td>0</td>\n",
       "    </tr>\n",
       "    <tr>\n",
       "      <th>2</th>\n",
       "      <td>3.0</td>\n",
       "      <td>2</td>\n",
       "      <td>1</td>\n",
       "      <td>4</td>\n",
       "      <td>1</td>\n",
       "      <td>2</td>\n",
       "      <td>3</td>\n",
       "      <td>5</td>\n",
       "      <td>1</td>\n",
       "      <td>3.0</td>\n",
       "      <td>...</td>\n",
       "      <td>0</td>\n",
       "      <td>0</td>\n",
       "      <td>0</td>\n",
       "      <td>1</td>\n",
       "      <td>0</td>\n",
       "      <td>0</td>\n",
       "      <td>0</td>\n",
       "      <td>1</td>\n",
       "      <td>0</td>\n",
       "      <td>0</td>\n",
       "    </tr>\n",
       "    <tr>\n",
       "      <th>3</th>\n",
       "      <td>4.0</td>\n",
       "      <td>2</td>\n",
       "      <td>4</td>\n",
       "      <td>2</td>\n",
       "      <td>5</td>\n",
       "      <td>2</td>\n",
       "      <td>1</td>\n",
       "      <td>2</td>\n",
       "      <td>0</td>\n",
       "      <td>2.0</td>\n",
       "      <td>...</td>\n",
       "      <td>0</td>\n",
       "      <td>0</td>\n",
       "      <td>0</td>\n",
       "      <td>0</td>\n",
       "      <td>1</td>\n",
       "      <td>0</td>\n",
       "      <td>0</td>\n",
       "      <td>0</td>\n",
       "      <td>0</td>\n",
       "      <td>1</td>\n",
       "    </tr>\n",
       "    <tr>\n",
       "      <th>4</th>\n",
       "      <td>3.0</td>\n",
       "      <td>1</td>\n",
       "      <td>4</td>\n",
       "      <td>3</td>\n",
       "      <td>4</td>\n",
       "      <td>1</td>\n",
       "      <td>3</td>\n",
       "      <td>2</td>\n",
       "      <td>0</td>\n",
       "      <td>3.0</td>\n",
       "      <td>...</td>\n",
       "      <td>0</td>\n",
       "      <td>1</td>\n",
       "      <td>0</td>\n",
       "      <td>0</td>\n",
       "      <td>0</td>\n",
       "      <td>0</td>\n",
       "      <td>1</td>\n",
       "      <td>0</td>\n",
       "      <td>0</td>\n",
       "      <td>0</td>\n",
       "    </tr>\n",
       "    <tr>\n",
       "      <th>5</th>\n",
       "      <td>1.0</td>\n",
       "      <td>2</td>\n",
       "      <td>3</td>\n",
       "      <td>1</td>\n",
       "      <td>5</td>\n",
       "      <td>2</td>\n",
       "      <td>2</td>\n",
       "      <td>5</td>\n",
       "      <td>0</td>\n",
       "      <td>3.0</td>\n",
       "      <td>...</td>\n",
       "      <td>0</td>\n",
       "      <td>0</td>\n",
       "      <td>1</td>\n",
       "      <td>0</td>\n",
       "      <td>0</td>\n",
       "      <td>0</td>\n",
       "      <td>0</td>\n",
       "      <td>1</td>\n",
       "      <td>0</td>\n",
       "      <td>0</td>\n",
       "    </tr>\n",
       "  </tbody>\n",
       "</table>\n",
       "<p>5 rows × 209 columns</p>\n",
       "</div>"
      ],
      "text/plain": [
       "   ALTERSKATEGORIE_GROB  ANREDE_KZ  FINANZ_MINIMALIST  FINANZ_SPARER  \\\n",
       "1                   1.0          2                  1              5   \n",
       "2                   3.0          2                  1              4   \n",
       "3                   4.0          2                  4              2   \n",
       "4                   3.0          1                  4              3   \n",
       "5                   1.0          2                  3              1   \n",
       "\n",
       "   FINANZ_VORSORGER  FINANZ_ANLEGER  FINANZ_UNAUFFAELLIGER  FINANZ_HAUSBAUER  \\\n",
       "1                 2               5                      4                 5   \n",
       "2                 1               2                      3                 5   \n",
       "3                 5               2                      1                 2   \n",
       "4                 4               1                      3                 2   \n",
       "5                 5               2                      2                 5   \n",
       "\n",
       "   GREEN_AVANTGARDE  HEALTH_TYP                   ...                    \\\n",
       "1                 0         3.0                   ...                     \n",
       "2                 1         3.0                   ...                     \n",
       "3                 0         2.0                   ...                     \n",
       "4                 0         3.0                   ...                     \n",
       "5                 0         3.0                   ...                     \n",
       "\n",
       "   WEALTH_Comfortable Households  WEALTH_Less Affluent Households  \\\n",
       "1                              0                                0   \n",
       "2                              0                                0   \n",
       "3                              0                                0   \n",
       "4                              0                                1   \n",
       "5                              0                                0   \n",
       "\n",
       "   WEALTH_Poorer Households  WEALTH_Prosperous Households  \\\n",
       "1                         1                             0   \n",
       "2                         0                             1   \n",
       "3                         0                             0   \n",
       "4                         0                             0   \n",
       "5                         1                             0   \n",
       "\n",
       "   WEALTH_Wealthy Households  LIFE_STAGE_Elders In Retirement  \\\n",
       "1                          0                                0   \n",
       "2                          0                                0   \n",
       "3                          1                                0   \n",
       "4                          0                                0   \n",
       "5                          0                                0   \n",
       "\n",
       "   LIFE_STAGE_Families With School Age Children  \\\n",
       "1                                             0   \n",
       "2                                             0   \n",
       "3                                             0   \n",
       "4                                             1   \n",
       "5                                             0   \n",
       "\n",
       "   LIFE_STAGE_Older Families &  Mature Couples  \\\n",
       "1                                            0   \n",
       "2                                            1   \n",
       "3                                            0   \n",
       "4                                            0   \n",
       "5                                            1   \n",
       "\n",
       "   LIFE_STAGE_Pre-Family Couples & Singles  \\\n",
       "1                                        1   \n",
       "2                                        0   \n",
       "3                                        0   \n",
       "4                                        0   \n",
       "5                                        0   \n",
       "\n",
       "   LIFE_STAGE_Young Couples With Children  \n",
       "1                                       0  \n",
       "2                                       0  \n",
       "3                                       1  \n",
       "4                                       0  \n",
       "5                                       0  \n",
       "\n",
       "[5 rows x 209 columns]"
      ]
     },
     "execution_count": 4,
     "metadata": {},
     "output_type": "execute_result"
    }
   ],
   "source": [
    "azdias_cleaned.head()"
   ]
  },
  {
   "cell_type": "markdown",
   "metadata": {},
   "source": [
    "## Step 2: Feature Transformation\n",
    "\n",
    "### Step 2.1: Apply Feature Scaling\n",
    "\n",
    "Before we apply dimensionality reduction techniques to the data, we need to perform feature scaling so that the principal component vectors are not influenced by the natural differences in scale for features. Starting from this part of the project, we'll want to keep an eye on the [API reference page for sklearn](http://scikit-learn.org/stable/modules/classes.html) to help us navigate to all of the classes and functions that we'll need. In this substep, we'll need to check the following:\n",
    "\n",
    "- sklearn requires that data not have missing values in order for its estimators to work properly. So, before applying the scaler to your data, make sure that you've cleaned the DataFrame of the remaining missing values. This can be as simple as just removing all data points with missing data, or applying an [Imputer](http://scikit-learn.org/stable/modules/generated/sklearn.preprocessing.Imputer.html) to replace all missing values. You might also try a more complicated procedure where you temporarily remove missing values in order to compute the scaling parameters before re-introducing those missing values and applying imputation. Think about how much missing data you have and what possible effects each approach might have on your analysis, and justify your decision in the discussion section below.\n",
    "- For the actual scaling function, a [StandardScaler](http://scikit-learn.org/stable/modules/generated/sklearn.preprocessing.StandardScaler.html) instance is suggested, scaling each feature to mean 0 and standard deviation 1.\n",
    "- For these classes, you can make use of the `.fit_transform()` method to both fit a procedure to the data as well as apply the transformation to the data at the same time. Don't forget to keep the fit sklearn objects handy, since you'll be applying them to the customer demographics data towards the end of the project."
   ]
  },
  {
   "cell_type": "code",
   "execution_count": 5,
   "metadata": {},
   "outputs": [
    {
     "name": "stdout",
     "output_type": "stream",
     "text": [
      "<class 'pandas.core.frame.DataFrame'>\n",
      "Int64Index: 797837 entries, 1 to 891220\n",
      "Columns: 209 entries, ALTERSKATEGORIE_GROB to LIFE_STAGE_Young Couples With Children\n",
      "dtypes: float64(41), int64(23), uint8(145)\n",
      "memory usage: 506.0 MB\n"
     ]
    }
   ],
   "source": [
    "# Investigate all nans are removed\n",
    "azdias_cleaned.info()"
   ]
  },
  {
   "cell_type": "code",
   "execution_count": 6,
   "metadata": {},
   "outputs": [
    {
     "name": "stderr",
     "output_type": "stream",
     "text": [
      "/home/ismael/anaconda3/lib/python3.7/site-packages/sklearn/utils/deprecation.py:58: DeprecationWarning: Class Imputer is deprecated; Imputer was deprecated in version 0.20 and will be removed in 0.22. Import impute.SimpleImputer from sklearn instead.\n",
      "  warnings.warn(msg, category=DeprecationWarning)\n"
     ]
    }
   ],
   "source": [
    "from sklearn.preprocessing import Imputer\n",
    "from sklearn.preprocessing import StandardScaler\n",
    "scale = StandardScaler()\n",
    "imp = Imputer(missing_values=float(\"NaN\"), strategy=\"mean\", axis=1, copy = False)\n",
    "\n",
    "azdias_cleaned[azdias_cleaned.columns] = scale.fit_transform(imp.fit_transform(azdias_cleaned))"
   ]
  },
  {
   "cell_type": "code",
   "execution_count": 7,
   "metadata": {},
   "outputs": [
    {
     "data": {
      "text/html": [
       "<div>\n",
       "<style scoped>\n",
       "    .dataframe tbody tr th:only-of-type {\n",
       "        vertical-align: middle;\n",
       "    }\n",
       "\n",
       "    .dataframe tbody tr th {\n",
       "        vertical-align: top;\n",
       "    }\n",
       "\n",
       "    .dataframe thead th {\n",
       "        text-align: right;\n",
       "    }\n",
       "</style>\n",
       "<table border=\"1\" class=\"dataframe\">\n",
       "  <thead>\n",
       "    <tr style=\"text-align: right;\">\n",
       "      <th></th>\n",
       "      <th>ALTERSKATEGORIE_GROB</th>\n",
       "      <th>ANREDE_KZ</th>\n",
       "      <th>FINANZ_MINIMALIST</th>\n",
       "      <th>FINANZ_SPARER</th>\n",
       "      <th>FINANZ_VORSORGER</th>\n",
       "      <th>FINANZ_ANLEGER</th>\n",
       "      <th>FINANZ_UNAUFFAELLIGER</th>\n",
       "      <th>FINANZ_HAUSBAUER</th>\n",
       "      <th>GREEN_AVANTGARDE</th>\n",
       "      <th>HEALTH_TYP</th>\n",
       "      <th>...</th>\n",
       "      <th>WEALTH_Comfortable Households</th>\n",
       "      <th>WEALTH_Less Affluent Households</th>\n",
       "      <th>WEALTH_Poorer Households</th>\n",
       "      <th>WEALTH_Prosperous Households</th>\n",
       "      <th>WEALTH_Wealthy Households</th>\n",
       "      <th>LIFE_STAGE_Elders In Retirement</th>\n",
       "      <th>LIFE_STAGE_Families With School Age Children</th>\n",
       "      <th>LIFE_STAGE_Older Families &amp;  Mature Couples</th>\n",
       "      <th>LIFE_STAGE_Pre-Family Couples &amp; Singles</th>\n",
       "      <th>LIFE_STAGE_Young Couples With Children</th>\n",
       "    </tr>\n",
       "  </thead>\n",
       "  <tbody>\n",
       "    <tr>\n",
       "      <th>1</th>\n",
       "      <td>-1.512375</td>\n",
       "      <td>0.957932</td>\n",
       "      <td>-1.494575</td>\n",
       "      <td>1.537983</td>\n",
       "      <td>-1.040685</td>\n",
       "      <td>1.466063</td>\n",
       "      <td>0.958965</td>\n",
       "      <td>1.339139</td>\n",
       "      <td>-0.53045</td>\n",
       "      <td>0.107134</td>\n",
       "      <td>...</td>\n",
       "      <td>-0.305667</td>\n",
       "      <td>-0.559009</td>\n",
       "      <td>1.602672</td>\n",
       "      <td>-0.560324</td>\n",
       "      <td>-0.419567</td>\n",
       "      <td>-0.414613</td>\n",
       "      <td>-0.420054</td>\n",
       "      <td>-0.641785</td>\n",
       "      <td>1.501998</td>\n",
       "      <td>-0.327505</td>\n",
       "    </tr>\n",
       "    <tr>\n",
       "      <th>2</th>\n",
       "      <td>0.136690</td>\n",
       "      <td>0.957932</td>\n",
       "      <td>-1.494575</td>\n",
       "      <td>0.864621</td>\n",
       "      <td>-1.766949</td>\n",
       "      <td>-0.570955</td>\n",
       "      <td>0.244386</td>\n",
       "      <td>1.339139</td>\n",
       "      <td>1.88519</td>\n",
       "      <td>0.107134</td>\n",
       "      <td>...</td>\n",
       "      <td>-0.305667</td>\n",
       "      <td>-0.559009</td>\n",
       "      <td>-0.623958</td>\n",
       "      <td>1.784682</td>\n",
       "      <td>-0.419567</td>\n",
       "      <td>-0.414613</td>\n",
       "      <td>-0.420054</td>\n",
       "      <td>1.558153</td>\n",
       "      <td>-0.665780</td>\n",
       "      <td>-0.327505</td>\n",
       "    </tr>\n",
       "    <tr>\n",
       "      <th>3</th>\n",
       "      <td>0.961223</td>\n",
       "      <td>0.957932</td>\n",
       "      <td>0.683195</td>\n",
       "      <td>-0.482102</td>\n",
       "      <td>1.138107</td>\n",
       "      <td>-0.570955</td>\n",
       "      <td>-1.184772</td>\n",
       "      <td>-0.791524</td>\n",
       "      <td>-0.53045</td>\n",
       "      <td>-0.286092</td>\n",
       "      <td>...</td>\n",
       "      <td>-0.305667</td>\n",
       "      <td>-0.559009</td>\n",
       "      <td>-0.623958</td>\n",
       "      <td>-0.560324</td>\n",
       "      <td>2.383412</td>\n",
       "      <td>-0.414613</td>\n",
       "      <td>-0.420054</td>\n",
       "      <td>-0.641785</td>\n",
       "      <td>-0.665780</td>\n",
       "      <td>3.053388</td>\n",
       "    </tr>\n",
       "    <tr>\n",
       "      <th>4</th>\n",
       "      <td>0.136690</td>\n",
       "      <td>-1.043916</td>\n",
       "      <td>0.683195</td>\n",
       "      <td>0.191259</td>\n",
       "      <td>0.411843</td>\n",
       "      <td>-1.249961</td>\n",
       "      <td>0.244386</td>\n",
       "      <td>-0.791524</td>\n",
       "      <td>-0.53045</td>\n",
       "      <td>0.107134</td>\n",
       "      <td>...</td>\n",
       "      <td>-0.305667</td>\n",
       "      <td>1.788880</td>\n",
       "      <td>-0.623958</td>\n",
       "      <td>-0.560324</td>\n",
       "      <td>-0.419567</td>\n",
       "      <td>-0.414613</td>\n",
       "      <td>2.380646</td>\n",
       "      <td>-0.641785</td>\n",
       "      <td>-0.665780</td>\n",
       "      <td>-0.327505</td>\n",
       "    </tr>\n",
       "    <tr>\n",
       "      <th>5</th>\n",
       "      <td>-1.512375</td>\n",
       "      <td>0.957932</td>\n",
       "      <td>-0.042728</td>\n",
       "      <td>-1.155464</td>\n",
       "      <td>1.138107</td>\n",
       "      <td>-0.570955</td>\n",
       "      <td>-0.470193</td>\n",
       "      <td>1.339139</td>\n",
       "      <td>-0.53045</td>\n",
       "      <td>0.107134</td>\n",
       "      <td>...</td>\n",
       "      <td>-0.305667</td>\n",
       "      <td>-0.559009</td>\n",
       "      <td>1.602672</td>\n",
       "      <td>-0.560324</td>\n",
       "      <td>-0.419567</td>\n",
       "      <td>-0.414613</td>\n",
       "      <td>-0.420054</td>\n",
       "      <td>1.558153</td>\n",
       "      <td>-0.665780</td>\n",
       "      <td>-0.327505</td>\n",
       "    </tr>\n",
       "  </tbody>\n",
       "</table>\n",
       "<p>5 rows × 209 columns</p>\n",
       "</div>"
      ],
      "text/plain": [
       "   ALTERSKATEGORIE_GROB  ANREDE_KZ  FINANZ_MINIMALIST  FINANZ_SPARER  \\\n",
       "1             -1.512375   0.957932          -1.494575       1.537983   \n",
       "2              0.136690   0.957932          -1.494575       0.864621   \n",
       "3              0.961223   0.957932           0.683195      -0.482102   \n",
       "4              0.136690  -1.043916           0.683195       0.191259   \n",
       "5             -1.512375   0.957932          -0.042728      -1.155464   \n",
       "\n",
       "   FINANZ_VORSORGER  FINANZ_ANLEGER  FINANZ_UNAUFFAELLIGER  FINANZ_HAUSBAUER  \\\n",
       "1         -1.040685        1.466063               0.958965          1.339139   \n",
       "2         -1.766949       -0.570955               0.244386          1.339139   \n",
       "3          1.138107       -0.570955              -1.184772         -0.791524   \n",
       "4          0.411843       -1.249961               0.244386         -0.791524   \n",
       "5          1.138107       -0.570955              -0.470193          1.339139   \n",
       "\n",
       "   GREEN_AVANTGARDE  HEALTH_TYP                   ...                    \\\n",
       "1          -0.53045    0.107134                   ...                     \n",
       "2           1.88519    0.107134                   ...                     \n",
       "3          -0.53045   -0.286092                   ...                     \n",
       "4          -0.53045    0.107134                   ...                     \n",
       "5          -0.53045    0.107134                   ...                     \n",
       "\n",
       "   WEALTH_Comfortable Households  WEALTH_Less Affluent Households  \\\n",
       "1                      -0.305667                        -0.559009   \n",
       "2                      -0.305667                        -0.559009   \n",
       "3                      -0.305667                        -0.559009   \n",
       "4                      -0.305667                         1.788880   \n",
       "5                      -0.305667                        -0.559009   \n",
       "\n",
       "   WEALTH_Poorer Households  WEALTH_Prosperous Households  \\\n",
       "1                  1.602672                     -0.560324   \n",
       "2                 -0.623958                      1.784682   \n",
       "3                 -0.623958                     -0.560324   \n",
       "4                 -0.623958                     -0.560324   \n",
       "5                  1.602672                     -0.560324   \n",
       "\n",
       "   WEALTH_Wealthy Households  LIFE_STAGE_Elders In Retirement  \\\n",
       "1                  -0.419567                        -0.414613   \n",
       "2                  -0.419567                        -0.414613   \n",
       "3                   2.383412                        -0.414613   \n",
       "4                  -0.419567                        -0.414613   \n",
       "5                  -0.419567                        -0.414613   \n",
       "\n",
       "   LIFE_STAGE_Families With School Age Children  \\\n",
       "1                                     -0.420054   \n",
       "2                                     -0.420054   \n",
       "3                                     -0.420054   \n",
       "4                                      2.380646   \n",
       "5                                     -0.420054   \n",
       "\n",
       "   LIFE_STAGE_Older Families &  Mature Couples  \\\n",
       "1                                    -0.641785   \n",
       "2                                     1.558153   \n",
       "3                                    -0.641785   \n",
       "4                                    -0.641785   \n",
       "5                                     1.558153   \n",
       "\n",
       "   LIFE_STAGE_Pre-Family Couples & Singles  \\\n",
       "1                                 1.501998   \n",
       "2                                -0.665780   \n",
       "3                                -0.665780   \n",
       "4                                -0.665780   \n",
       "5                                -0.665780   \n",
       "\n",
       "   LIFE_STAGE_Young Couples With Children  \n",
       "1                               -0.327505  \n",
       "2                               -0.327505  \n",
       "3                                3.053388  \n",
       "4                               -0.327505  \n",
       "5                               -0.327505  \n",
       "\n",
       "[5 rows x 209 columns]"
      ]
     },
     "execution_count": 7,
     "metadata": {},
     "output_type": "execute_result"
    }
   ],
   "source": [
    "azdias_cleaned.head()"
   ]
  },
  {
   "cell_type": "code",
   "execution_count": 8,
   "metadata": {},
   "outputs": [
    {
     "data": {
      "text/html": [
       "<div>\n",
       "<style scoped>\n",
       "    .dataframe tbody tr th:only-of-type {\n",
       "        vertical-align: middle;\n",
       "    }\n",
       "\n",
       "    .dataframe tbody tr th {\n",
       "        vertical-align: top;\n",
       "    }\n",
       "\n",
       "    .dataframe thead th {\n",
       "        text-align: right;\n",
       "    }\n",
       "</style>\n",
       "<table border=\"1\" class=\"dataframe\">\n",
       "  <thead>\n",
       "    <tr style=\"text-align: right;\">\n",
       "      <th></th>\n",
       "      <th>ALTERSKATEGORIE_GROB</th>\n",
       "      <th>ANREDE_KZ</th>\n",
       "      <th>FINANZ_MINIMALIST</th>\n",
       "      <th>FINANZ_SPARER</th>\n",
       "      <th>FINANZ_VORSORGER</th>\n",
       "      <th>FINANZ_ANLEGER</th>\n",
       "      <th>FINANZ_UNAUFFAELLIGER</th>\n",
       "      <th>FINANZ_HAUSBAUER</th>\n",
       "      <th>GREEN_AVANTGARDE</th>\n",
       "      <th>HEALTH_TYP</th>\n",
       "      <th>...</th>\n",
       "      <th>WEALTH_Comfortable Households</th>\n",
       "      <th>WEALTH_Less Affluent Households</th>\n",
       "      <th>WEALTH_Poorer Households</th>\n",
       "      <th>WEALTH_Prosperous Households</th>\n",
       "      <th>WEALTH_Wealthy Households</th>\n",
       "      <th>LIFE_STAGE_Elders In Retirement</th>\n",
       "      <th>LIFE_STAGE_Families With School Age Children</th>\n",
       "      <th>LIFE_STAGE_Older Families &amp;  Mature Couples</th>\n",
       "      <th>LIFE_STAGE_Pre-Family Couples &amp; Singles</th>\n",
       "      <th>LIFE_STAGE_Young Couples With Children</th>\n",
       "    </tr>\n",
       "  </thead>\n",
       "  <tbody>\n",
       "    <tr>\n",
       "      <th>count</th>\n",
       "      <td>7.978370e+05</td>\n",
       "      <td>7.978370e+05</td>\n",
       "      <td>7.978370e+05</td>\n",
       "      <td>7.978370e+05</td>\n",
       "      <td>7.978370e+05</td>\n",
       "      <td>7.978370e+05</td>\n",
       "      <td>7.978370e+05</td>\n",
       "      <td>7.978370e+05</td>\n",
       "      <td>7.978370e+05</td>\n",
       "      <td>7.978370e+05</td>\n",
       "      <td>...</td>\n",
       "      <td>7.978370e+05</td>\n",
       "      <td>7.978370e+05</td>\n",
       "      <td>7.978370e+05</td>\n",
       "      <td>7.978370e+05</td>\n",
       "      <td>7.978370e+05</td>\n",
       "      <td>7.978370e+05</td>\n",
       "      <td>7.978370e+05</td>\n",
       "      <td>7.978370e+05</td>\n",
       "      <td>7.978370e+05</td>\n",
       "      <td>7.978370e+05</td>\n",
       "    </tr>\n",
       "    <tr>\n",
       "      <th>mean</th>\n",
       "      <td>6.428613e-15</td>\n",
       "      <td>-1.588355e-15</td>\n",
       "      <td>-3.205966e-15</td>\n",
       "      <td>3.250555e-16</td>\n",
       "      <td>-1.942080e-14</td>\n",
       "      <td>1.615614e-14</td>\n",
       "      <td>3.600112e-16</td>\n",
       "      <td>-3.439685e-15</td>\n",
       "      <td>-3.501526e-14</td>\n",
       "      <td>-8.170621e-15</td>\n",
       "      <td>...</td>\n",
       "      <td>-1.600662e-14</td>\n",
       "      <td>7.139901e-15</td>\n",
       "      <td>-3.143152e-14</td>\n",
       "      <td>4.656601e-15</td>\n",
       "      <td>5.486927e-15</td>\n",
       "      <td>3.165115e-14</td>\n",
       "      <td>-1.386980e-14</td>\n",
       "      <td>-4.200967e-15</td>\n",
       "      <td>-3.654210e-15</td>\n",
       "      <td>4.505116e-15</td>\n",
       "    </tr>\n",
       "    <tr>\n",
       "      <th>std</th>\n",
       "      <td>1.000001e+00</td>\n",
       "      <td>1.000001e+00</td>\n",
       "      <td>1.000001e+00</td>\n",
       "      <td>1.000001e+00</td>\n",
       "      <td>1.000001e+00</td>\n",
       "      <td>1.000001e+00</td>\n",
       "      <td>1.000001e+00</td>\n",
       "      <td>1.000001e+00</td>\n",
       "      <td>1.000001e+00</td>\n",
       "      <td>1.000001e+00</td>\n",
       "      <td>...</td>\n",
       "      <td>1.000001e+00</td>\n",
       "      <td>1.000001e+00</td>\n",
       "      <td>1.000001e+00</td>\n",
       "      <td>1.000001e+00</td>\n",
       "      <td>1.000001e+00</td>\n",
       "      <td>1.000001e+00</td>\n",
       "      <td>1.000001e+00</td>\n",
       "      <td>1.000001e+00</td>\n",
       "      <td>1.000001e+00</td>\n",
       "      <td>1.000001e+00</td>\n",
       "    </tr>\n",
       "    <tr>\n",
       "      <th>min</th>\n",
       "      <td>-1.512375e+00</td>\n",
       "      <td>-1.043916e+00</td>\n",
       "      <td>-1.494575e+00</td>\n",
       "      <td>-1.155464e+00</td>\n",
       "      <td>-1.766949e+00</td>\n",
       "      <td>-1.249961e+00</td>\n",
       "      <td>-1.184772e+00</td>\n",
       "      <td>-1.501745e+00</td>\n",
       "      <td>-5.304505e-01</td>\n",
       "      <td>-6.793171e-01</td>\n",
       "      <td>...</td>\n",
       "      <td>-3.056668e-01</td>\n",
       "      <td>-5.590089e-01</td>\n",
       "      <td>-6.239578e-01</td>\n",
       "      <td>-5.603240e-01</td>\n",
       "      <td>-4.195666e-01</td>\n",
       "      <td>-4.146132e-01</td>\n",
       "      <td>-4.200540e-01</td>\n",
       "      <td>-6.417854e-01</td>\n",
       "      <td>-6.657797e-01</td>\n",
       "      <td>-3.275051e-01</td>\n",
       "    </tr>\n",
       "    <tr>\n",
       "      <th>25%</th>\n",
       "      <td>-6.878427e-01</td>\n",
       "      <td>-1.043916e+00</td>\n",
       "      <td>-7.686517e-01</td>\n",
       "      <td>-1.155464e+00</td>\n",
       "      <td>-1.040685e+00</td>\n",
       "      <td>-1.249961e+00</td>\n",
       "      <td>-1.184772e+00</td>\n",
       "      <td>-7.915240e-01</td>\n",
       "      <td>-5.304505e-01</td>\n",
       "      <td>-2.860917e-01</td>\n",
       "      <td>...</td>\n",
       "      <td>-3.056668e-01</td>\n",
       "      <td>-5.590089e-01</td>\n",
       "      <td>-6.239578e-01</td>\n",
       "      <td>-5.603240e-01</td>\n",
       "      <td>-4.195666e-01</td>\n",
       "      <td>-4.146132e-01</td>\n",
       "      <td>-4.200540e-01</td>\n",
       "      <td>-6.417854e-01</td>\n",
       "      <td>-6.657797e-01</td>\n",
       "      <td>-3.275051e-01</td>\n",
       "    </tr>\n",
       "    <tr>\n",
       "      <th>50%</th>\n",
       "      <td>1.366901e-01</td>\n",
       "      <td>9.579317e-01</td>\n",
       "      <td>-4.272814e-02</td>\n",
       "      <td>1.912594e-01</td>\n",
       "      <td>4.118430e-01</td>\n",
       "      <td>1.080512e-01</td>\n",
       "      <td>-4.701931e-01</td>\n",
       "      <td>-8.130308e-02</td>\n",
       "      <td>-5.304505e-01</td>\n",
       "      <td>-2.860917e-01</td>\n",
       "      <td>...</td>\n",
       "      <td>-3.056668e-01</td>\n",
       "      <td>-5.590089e-01</td>\n",
       "      <td>-6.239578e-01</td>\n",
       "      <td>-5.603240e-01</td>\n",
       "      <td>-4.195666e-01</td>\n",
       "      <td>-4.146132e-01</td>\n",
       "      <td>-4.200540e-01</td>\n",
       "      <td>-6.417854e-01</td>\n",
       "      <td>-6.657797e-01</td>\n",
       "      <td>-3.275051e-01</td>\n",
       "    </tr>\n",
       "    <tr>\n",
       "      <th>75%</th>\n",
       "      <td>9.612228e-01</td>\n",
       "      <td>9.579317e-01</td>\n",
       "      <td>6.831954e-01</td>\n",
       "      <td>8.646211e-01</td>\n",
       "      <td>1.138107e+00</td>\n",
       "      <td>7.870572e-01</td>\n",
       "      <td>9.589645e-01</td>\n",
       "      <td>6.289178e-01</td>\n",
       "      <td>-5.304505e-01</td>\n",
       "      <td>1.071338e-01</td>\n",
       "      <td>...</td>\n",
       "      <td>-3.056668e-01</td>\n",
       "      <td>-5.590089e-01</td>\n",
       "      <td>1.602672e+00</td>\n",
       "      <td>-5.603240e-01</td>\n",
       "      <td>-4.195666e-01</td>\n",
       "      <td>-4.146132e-01</td>\n",
       "      <td>-4.200540e-01</td>\n",
       "      <td>1.558153e+00</td>\n",
       "      <td>1.501998e+00</td>\n",
       "      <td>-3.275051e-01</td>\n",
       "    </tr>\n",
       "    <tr>\n",
       "      <th>max</th>\n",
       "      <td>1.536225e+01</td>\n",
       "      <td>9.579317e-01</td>\n",
       "      <td>1.409119e+00</td>\n",
       "      <td>1.537983e+00</td>\n",
       "      <td>1.138107e+00</td>\n",
       "      <td>1.466063e+00</td>\n",
       "      <td>1.673543e+00</td>\n",
       "      <td>1.339139e+00</td>\n",
       "      <td>1.885190e+00</td>\n",
       "      <td>7.791826e+00</td>\n",
       "      <td>...</td>\n",
       "      <td>3.271537e+00</td>\n",
       "      <td>1.788880e+00</td>\n",
       "      <td>1.602672e+00</td>\n",
       "      <td>1.784682e+00</td>\n",
       "      <td>2.383412e+00</td>\n",
       "      <td>2.411887e+00</td>\n",
       "      <td>2.380646e+00</td>\n",
       "      <td>1.558153e+00</td>\n",
       "      <td>1.501998e+00</td>\n",
       "      <td>3.053388e+00</td>\n",
       "    </tr>\n",
       "  </tbody>\n",
       "</table>\n",
       "<p>8 rows × 209 columns</p>\n",
       "</div>"
      ],
      "text/plain": [
       "       ALTERSKATEGORIE_GROB     ANREDE_KZ  FINANZ_MINIMALIST  FINANZ_SPARER  \\\n",
       "count          7.978370e+05  7.978370e+05       7.978370e+05   7.978370e+05   \n",
       "mean           6.428613e-15 -1.588355e-15      -3.205966e-15   3.250555e-16   \n",
       "std            1.000001e+00  1.000001e+00       1.000001e+00   1.000001e+00   \n",
       "min           -1.512375e+00 -1.043916e+00      -1.494575e+00  -1.155464e+00   \n",
       "25%           -6.878427e-01 -1.043916e+00      -7.686517e-01  -1.155464e+00   \n",
       "50%            1.366901e-01  9.579317e-01      -4.272814e-02   1.912594e-01   \n",
       "75%            9.612228e-01  9.579317e-01       6.831954e-01   8.646211e-01   \n",
       "max            1.536225e+01  9.579317e-01       1.409119e+00   1.537983e+00   \n",
       "\n",
       "       FINANZ_VORSORGER  FINANZ_ANLEGER  FINANZ_UNAUFFAELLIGER  \\\n",
       "count      7.978370e+05    7.978370e+05           7.978370e+05   \n",
       "mean      -1.942080e-14    1.615614e-14           3.600112e-16   \n",
       "std        1.000001e+00    1.000001e+00           1.000001e+00   \n",
       "min       -1.766949e+00   -1.249961e+00          -1.184772e+00   \n",
       "25%       -1.040685e+00   -1.249961e+00          -1.184772e+00   \n",
       "50%        4.118430e-01    1.080512e-01          -4.701931e-01   \n",
       "75%        1.138107e+00    7.870572e-01           9.589645e-01   \n",
       "max        1.138107e+00    1.466063e+00           1.673543e+00   \n",
       "\n",
       "       FINANZ_HAUSBAUER  GREEN_AVANTGARDE    HEALTH_TYP  \\\n",
       "count      7.978370e+05      7.978370e+05  7.978370e+05   \n",
       "mean      -3.439685e-15     -3.501526e-14 -8.170621e-15   \n",
       "std        1.000001e+00      1.000001e+00  1.000001e+00   \n",
       "min       -1.501745e+00     -5.304505e-01 -6.793171e-01   \n",
       "25%       -7.915240e-01     -5.304505e-01 -2.860917e-01   \n",
       "50%       -8.130308e-02     -5.304505e-01 -2.860917e-01   \n",
       "75%        6.289178e-01     -5.304505e-01  1.071338e-01   \n",
       "max        1.339139e+00      1.885190e+00  7.791826e+00   \n",
       "\n",
       "                        ...                    WEALTH_Comfortable Households  \\\n",
       "count                   ...                                     7.978370e+05   \n",
       "mean                    ...                                    -1.600662e-14   \n",
       "std                     ...                                     1.000001e+00   \n",
       "min                     ...                                    -3.056668e-01   \n",
       "25%                     ...                                    -3.056668e-01   \n",
       "50%                     ...                                    -3.056668e-01   \n",
       "75%                     ...                                    -3.056668e-01   \n",
       "max                     ...                                     3.271537e+00   \n",
       "\n",
       "       WEALTH_Less Affluent Households  WEALTH_Poorer Households  \\\n",
       "count                     7.978370e+05              7.978370e+05   \n",
       "mean                      7.139901e-15             -3.143152e-14   \n",
       "std                       1.000001e+00              1.000001e+00   \n",
       "min                      -5.590089e-01             -6.239578e-01   \n",
       "25%                      -5.590089e-01             -6.239578e-01   \n",
       "50%                      -5.590089e-01             -6.239578e-01   \n",
       "75%                      -5.590089e-01              1.602672e+00   \n",
       "max                       1.788880e+00              1.602672e+00   \n",
       "\n",
       "       WEALTH_Prosperous Households  WEALTH_Wealthy Households  \\\n",
       "count                  7.978370e+05               7.978370e+05   \n",
       "mean                   4.656601e-15               5.486927e-15   \n",
       "std                    1.000001e+00               1.000001e+00   \n",
       "min                   -5.603240e-01              -4.195666e-01   \n",
       "25%                   -5.603240e-01              -4.195666e-01   \n",
       "50%                   -5.603240e-01              -4.195666e-01   \n",
       "75%                   -5.603240e-01              -4.195666e-01   \n",
       "max                    1.784682e+00               2.383412e+00   \n",
       "\n",
       "       LIFE_STAGE_Elders In Retirement  \\\n",
       "count                     7.978370e+05   \n",
       "mean                      3.165115e-14   \n",
       "std                       1.000001e+00   \n",
       "min                      -4.146132e-01   \n",
       "25%                      -4.146132e-01   \n",
       "50%                      -4.146132e-01   \n",
       "75%                      -4.146132e-01   \n",
       "max                       2.411887e+00   \n",
       "\n",
       "       LIFE_STAGE_Families With School Age Children  \\\n",
       "count                                  7.978370e+05   \n",
       "mean                                  -1.386980e-14   \n",
       "std                                    1.000001e+00   \n",
       "min                                   -4.200540e-01   \n",
       "25%                                   -4.200540e-01   \n",
       "50%                                   -4.200540e-01   \n",
       "75%                                   -4.200540e-01   \n",
       "max                                    2.380646e+00   \n",
       "\n",
       "       LIFE_STAGE_Older Families &  Mature Couples  \\\n",
       "count                                 7.978370e+05   \n",
       "mean                                 -4.200967e-15   \n",
       "std                                   1.000001e+00   \n",
       "min                                  -6.417854e-01   \n",
       "25%                                  -6.417854e-01   \n",
       "50%                                  -6.417854e-01   \n",
       "75%                                   1.558153e+00   \n",
       "max                                   1.558153e+00   \n",
       "\n",
       "       LIFE_STAGE_Pre-Family Couples & Singles  \\\n",
       "count                             7.978370e+05   \n",
       "mean                             -3.654210e-15   \n",
       "std                               1.000001e+00   \n",
       "min                              -6.657797e-01   \n",
       "25%                              -6.657797e-01   \n",
       "50%                              -6.657797e-01   \n",
       "75%                               1.501998e+00   \n",
       "max                               1.501998e+00   \n",
       "\n",
       "       LIFE_STAGE_Young Couples With Children  \n",
       "count                            7.978370e+05  \n",
       "mean                             4.505116e-15  \n",
       "std                              1.000001e+00  \n",
       "min                             -3.275051e-01  \n",
       "25%                             -3.275051e-01  \n",
       "50%                             -3.275051e-01  \n",
       "75%                             -3.275051e-01  \n",
       "max                              3.053388e+00  \n",
       "\n",
       "[8 rows x 209 columns]"
      ]
     },
     "execution_count": 8,
     "metadata": {},
     "output_type": "execute_result"
    }
   ],
   "source": [
    "azdias_cleaned.describe()"
   ]
  },
  {
   "cell_type": "code",
   "execution_count": 9,
   "metadata": {},
   "outputs": [
    {
     "name": "stdout",
     "output_type": "stream",
     "text": [
      "<class 'pandas.core.frame.DataFrame'>\n",
      "Int64Index: 797837 entries, 1 to 891220\n",
      "Columns: 209 entries, ALTERSKATEGORIE_GROB to LIFE_STAGE_Young Couples With Children\n",
      "dtypes: float64(209)\n",
      "memory usage: 1.2 GB\n"
     ]
    }
   ],
   "source": [
    "azdias_cleaned.info()"
   ]
  },
  {
   "cell_type": "markdown",
   "metadata": {},
   "source": [
    "### Discussion 2.1: Apply Feature Scaling\n",
    "\n",
    "Imputer object help me to replace nans. I choose to apply mean for the replacement as it seems to me that it could contribute to a normalized dataset. I also instanciate a standardscalar to scale original columns to mhu 0 and sd to1."
   ]
  },
  {
   "cell_type": "markdown",
   "metadata": {},
   "source": [
    "### Step 2.2: Perform Dimensionality Reduction\n",
    "\n",
    "On our scaled data, we are now ready to apply dimensionality reduction techniques.\n",
    "\n",
    "- Use sklearn's [PCA](http://scikit-learn.org/stable/modules/generated/sklearn.decomposition.PCA.html) class to apply principal component analysis on the data, thus finding the vectors of maximal variance in the data. To start, you should not set any parameters (so all components are computed) or set a number of components that is at least half the number of features (so there's enough features to see the general trend in variability).\n",
    "- Check out the ratio of variance explained by each principal component as well as the cumulative variance explained. Try plotting the cumulative or sequential values using matplotlib's [`plot()`](https://matplotlib.org/api/_as_gen/matplotlib.pyplot.plot.html) function. Based on what you find, select a value for the number of transformed features you'll retain for the clustering part of the project.\n",
    "- Once you've made a choice for the number of components to keep, make sure you re-fit a PCA instance to perform the decided-on transformation."
   ]
  },
  {
   "cell_type": "code",
   "execution_count": 10,
   "metadata": {},
   "outputs": [],
   "source": [
    "# Apply PCA to the data.\n",
    "pca = PCA()\n",
    "azdias_default_pca = pca.fit_transform(azdias_cleaned)"
   ]
  },
  {
   "cell_type": "code",
   "execution_count": 11,
   "metadata": {},
   "outputs": [],
   "source": [
    "# Investigate the variance accounted for by each principal component.\n",
    "def pca_explained_variance(pca):\n",
    "    # based on helpers from the nanodegree documents\n",
    "    explained_variance = pca.explained_variance_ratio_\n",
    "    explained_variance_accumulated = explained_variance.cumsum()\n",
    "    x = range(1, len(pca.explained_variance_ratio_) + 1)\n",
    "\n",
    "    plt.figure(figsize=(16, 8))\n",
    "    plt.fill_between(x, explained_variance_accumulated, 0, color='#ddeeff')\n",
    "    plt.bar(x, explained_variance, width=0.5, color='g', label='Variance explained by component')\n",
    "    plt.plot(x, explained_variance_accumulated, label='Accumulated explained variance')\n",
    "    plt.grid(True)\n",
    "    plt.title('Variance explained by PCA components')\n",
    "    plt.ylabel('Explained variance proportion')\n",
    "    plt.xlabel('Feature')\n",
    "    plt.legend()\n",
    "    plt.show()"
   ]
  },
  {
   "cell_type": "code",
   "execution_count": 12,
   "metadata": {},
   "outputs": [
    {
     "data": {
      "image/png": "[encoded data removed]",
      "text/plain": [
       "<Figure size 1152x576 with 1 Axes>"
      ]
     },
     "metadata": {
      "needs_background": "light"
     },
     "output_type": "display_data"
    }
   ],
   "source": [
    "pca_explained_variance(pca)"
   ]
  },
  {
   "cell_type": "code",
   "execution_count": 13,
   "metadata": {},
   "outputs": [
    {
     "data": {
      "image/png": "[encoded data removed]",
      "text/plain": [
       "<Figure size 1152x576 with 1 Axes>"
      ]
     },
     "metadata": {
      "needs_background": "light"
     },
     "output_type": "display_data"
    }
   ],
   "source": [
    "# Re-apply PCA to the data while selecting for number of components to retain.\n",
    "selected_pca = PCA(130)\n",
    "selected_pca_transform = selected_pca.fit_transform(azdias_cleaned)\n",
    "pca_explained_variance(selected_pca)"
   ]
  },
  {
   "cell_type": "code",
   "execution_count": 14,
   "metadata": {},
   "outputs": [
    {
     "data": {
      "text/plain": [
       "0.9727915558376004"
      ]
     },
     "execution_count": 14,
     "metadata": {},
     "output_type": "execute_result"
    }
   ],
   "source": [
    "selected_pca.explained_variance_ratio_.sum()"
   ]
  },
  {
   "cell_type": "code",
   "execution_count": 17,
   "metadata": {},
   "outputs": [
    {
     "name": "stdout",
     "output_type": "stream",
     "text": [
      "selected transformed pca data type: <class 'numpy.ndarray'>\n",
      "selected transformed pca shape: (797837, 130)\n"
     ]
    }
   ],
   "source": [
    "print('selected transformed pca data type:', type(selected_pca_transform)) # numpy array\n",
    "print('selected transformed pca shape:', selected_pca_transform.shape) # data features per number of components selected: (792287, 130)"
   ]
  },
  {
   "cell_type": "markdown",
   "metadata": {},
   "source": [
    "### Discussion 2.2: Perform Dimensionality Reduction\n",
    "\n",
    "Analizing the first graph it can be seen that around 130 features explain almost 100% data variance so at that point it is reasonable to reduce demensionality."
   ]
  },
  {
   "cell_type": "markdown",
   "metadata": {},
   "source": [
    "### Step 2.3: Interpret Principal Components\n",
    "\n",
    "Now that we have our transformed principal components, it's a nice idea to check out the weight of each variable on the first few components to see if they can be interpreted in some fashion.\n",
    "\n",
    "As a reminder, each principal component is a unit vector that points in the direction of highest variance (after accounting for the variance captured by earlier principal components). The further a weight is from zero, the more the principal component is in the direction of the corresponding feature. If two features have large weights of the same sign (both positive or both negative), then increases in one tend expect to be associated with increases in the other. To contrast, features with different signs can be expected to show a negative correlation: increases in one variable should result in a decrease in the other.\n",
    "\n",
    "- To investigate the features, we should map each weight to their corresponding feature name, then sort the features according to weight. The most interesting features for each principal component, then, will be those at the beginning and end of the sorted list. Use the data dictionary document to help we understand these most prominent features, their relationships, and what a positive or negative value on the principal component might indicate.\n",
    "- We should investigate and interpret feature associations from the first three principal components in this substep. To help facilitate this, we should write a function that we can call at any time to print the sorted list of feature weights, for the *i*-th principal component. This might come in handy in the next step of the project, when we interpret the tendencies of the discovered clusters."
   ]
  },
  {
   "cell_type": "code",
   "execution_count": 18,
   "metadata": {},
   "outputs": [],
   "source": [
    "# Defining a function we can reuse.\n",
    "\n",
    "def plot_features_proportion_per_pca_component(df, pca, nb_component, component_threshold):\n",
    "    \"\"\"\n",
    "    Plotting X comonent weights over original features.\n",
    "    \"\"\"\n",
    "    df_component = pd.DataFrame(pca.components_, columns=df.columns)\n",
    "    row = pd.Series(df_component.iloc[nb_component - 1], index=df_component.columns)\n",
    "    \n",
    "    # removing components below threshold\n",
    "    row = row[abs(row) > component_threshold] \n",
    "    row = row.sort_values(ascending=False)\n",
    "    \n",
    "    # Create a bar plot visualization\n",
    "    fig, ax = plt.subplots(figsize = (18,8))\n",
    "    title = 'Feature proportions for component %s'%(nb_component)\n",
    "    \n",
    "    row.plot(ax = ax, kind='bar', title=title)\n",
    "    plt.xlabel('Features with proportion above %s percent' %component_threshold)\n",
    "    plt.ylabel('Feature proportion' )\n",
    "    \n",
    "    return row"
   ]
  },
  {
   "cell_type": "code",
   "execution_count": 19,
   "metadata": {},
   "outputs": [
    {
     "data": {
      "image/png": "[encoded data removed]",
      "text/plain": [
       "<Figure size 1296x576 with 1 Axes>"
      ]
     },
     "metadata": {
      "needs_background": "light"
     },
     "output_type": "display_data"
    }
   ],
   "source": [
    "# Map weights for the first principal component to corresponding feature names\n",
    "# and then print the linked values, sorted by weight.\n",
    "feature_label = 1\n",
    "feature_proportion_threshold = 0.1\n",
    "features_proportion_by_PCA_1 = plot_features_proportion_per_pca_component(\n",
    "                                    azdias_cleaned,\n",
    "                                    selected_pca, \n",
    "                                    feature_label,\n",
    "                                    feature_proportion_threshold\n",
    "                                )"
   ]
  },
  {
   "cell_type": "code",
   "execution_count": 20,
   "metadata": {},
   "outputs": [
    {
     "data": {
      "text/plain": [
       "FINANZ_MINIMALIST      0.210302\n",
       "MOBI_REGIO             0.165386\n",
       "LP_LEBENSPHASE_FEIN    0.155614\n",
       "KBA05_ANTG1            0.152837\n",
       "KBA05_GBZ              0.151011\n",
       "Name: 0, dtype: float64"
      ]
     },
     "execution_count": 20,
     "metadata": {},
     "output_type": "execute_result"
    }
   ],
   "source": [
    "features_proportion_by_PCA_1.head()"
   ]
  },
  {
   "cell_type": "code",
   "execution_count": 21,
   "metadata": {},
   "outputs": [
    {
     "data": {
      "text/plain": [
       "LIFE_STAGE_Pre-Family Couples & Singles   -0.144668\n",
       "WEALTH_Poorer Households                  -0.150129\n",
       "FINANZ_HAUSBAUER                          -0.157304\n",
       "HH_EINKOMMEN_SCORE                        -0.196301\n",
       "LP_STATUS_GROB_1.0                        -0.199577\n",
       "Name: 0, dtype: float64"
      ]
     },
     "execution_count": 21,
     "metadata": {},
     "output_type": "execute_result"
    }
   ],
   "source": [
    "features_proportion_by_PCA_1.tail()"
   ]
  },
  {
   "cell_type": "code",
   "execution_count": 22,
   "metadata": {},
   "outputs": [
    {
     "data": {
      "image/png": "[encoded data removed]",
      "text/plain": [
       "<Figure size 1296x576 with 1 Axes>"
      ]
     },
     "metadata": {
      "needs_background": "light"
     },
     "output_type": "display_data"
    }
   ],
   "source": [
    "# Map weights for the second principal component to corresponding feature names\n",
    "# and then print the linked values, sorted by weight.\n",
    "feature_label = 2\n",
    "feature_proportion_threshold = 0.1\n",
    "features_proportion_by_PCA_2 = plot_features_proportion_per_pca_component(\n",
    "                                    azdias_cleaned,\n",
    "                                    selected_pca, \n",
    "                                    feature_label,\n",
    "                                    feature_proportion_threshold\n",
    "                                )"
   ]
  },
  {
   "cell_type": "code",
   "execution_count": 23,
   "metadata": {},
   "outputs": [
    {
     "data": {
      "text/plain": [
       "FINANZ_UNAUFFAELLIGER    0.215025\n",
       "FINANZ_SPARER            0.209558\n",
       "SEMIO_REL                0.195113\n",
       "SEMIO_TRADV              0.190784\n",
       "DECADE_90s               0.188049\n",
       "Name: 1, dtype: float64"
      ]
     },
     "execution_count": 23,
     "metadata": {},
     "output_type": "execute_result"
    }
   ],
   "source": [
    "features_proportion_by_PCA_2.head()"
   ]
  },
  {
   "cell_type": "code",
   "execution_count": 24,
   "metadata": {},
   "outputs": [
    {
     "data": {
      "text/plain": [
       "SEMIO_LUST             -0.158014\n",
       "SEMIO_ERL              -0.167735\n",
       "ALTERSKATEGORIE_GROB   -0.181451\n",
       "ZABEOTYP_3             -0.187946\n",
       "FINANZ_VORSORGER       -0.205319\n",
       "Name: 1, dtype: float64"
      ]
     },
     "execution_count": 24,
     "metadata": {},
     "output_type": "execute_result"
    }
   ],
   "source": [
    "features_proportion_by_PCA_2.tail()"
   ]
  },
  {
   "cell_type": "code",
   "execution_count": 25,
   "metadata": {},
   "outputs": [
    {
     "data": {
      "image/png": "[encoded data removed]",
      "text/plain": [
       "<Figure size 1296x576 with 1 Axes>"
      ]
     },
     "metadata": {
      "needs_background": "light"
     },
     "output_type": "display_data"
    }
   ],
   "source": [
    "# Map weights for the third principal component to corresponding feature names\n",
    "# and then print the linked values, sorted by weight.\n",
    "feature_label = 3\n",
    "feature_proportion_threshold = 0.08\n",
    "features_proportion_by_PCA_3 = plot_features_proportion_per_pca_component(\n",
    "                                    azdias_cleaned,\n",
    "                                    selected_pca, \n",
    "                                    feature_label,\n",
    "                                    feature_proportion_threshold\n",
    "                                )"
   ]
  },
  {
   "cell_type": "code",
   "execution_count": 26,
   "metadata": {},
   "outputs": [
    {
     "data": {
      "text/plain": [
       "PLZ8_ANTG4     0.266157\n",
       "PLZ8_ANTG3     0.263546\n",
       "PLZ8_ANTG2     0.255079\n",
       "PLZ8_BAUMAX    0.244720\n",
       "KBA05_ANTG4    0.243518\n",
       "Name: 2, dtype: float64"
      ]
     },
     "execution_count": 26,
     "metadata": {},
     "output_type": "execute_result"
    }
   ],
   "source": [
    "features_proportion_by_PCA_3.head()"
   ]
  },
  {
   "cell_type": "code",
   "execution_count": 27,
   "metadata": {},
   "outputs": [
    {
     "data": {
      "text/plain": [
       "SEMIO_SOZ             -0.086080\n",
       "LP_FAMILIE_GROB_5.0   -0.099484\n",
       "LP_LEBENSPHASE_FEIN   -0.100055\n",
       "ANZ_PERSONEN          -0.101925\n",
       "SEMIO_KULT            -0.108624\n",
       "Name: 2, dtype: float64"
      ]
     },
     "execution_count": 27,
     "metadata": {},
     "output_type": "execute_result"
    }
   ],
   "source": [
    "features_proportion_by_PCA_3.tail()"
   ]
  },
  {
   "cell_type": "markdown",
   "metadata": {},
   "source": [
    "### Discussion 2.3: Interpret Principal Components\n",
    "\n",
    "The table bellow shows the higher weighted features per component. \n",
    "- In the first component it can be seen the relation beetween LP_STATUS_GROB and HH_EINKOMMEN_SCORE\tbot related with income earnings. While MOBI_REGIO and FINANZ_MINIMALIST can be also related to income. This component seems to encapsule the **Income feature**.\n",
    "\n",
    "- The second component is mearly defined by a **finantial feature**.\n",
    "\n",
    "- The third component seems to be related with a **personality feature** since KBA05_ANTG4 and PLZ8_ANTG4 refer to where the individuos come from or where they were raised. "
   ]
  },
  {
   "cell_type": "markdown",
   "metadata": {},
   "source": [
    "|          First component characteristic features         |        Higher Weights associated    |           Description                          |           Feature type      |\n",
    "|:--------------------------------------------------------:|:-----------------------------------:|:----------------------------------------------:|:---------------------------:|\n",
    "|        FINANZ_MINIMALIST                                 |   0.2106                            | Financial typology                             |     ordinal                     |\n",
    "|  MOBI_REGIO                                              | 0.1619                              |  Movement patterns                             | ordinal                     |\n",
    "|    HH_EINKOMMEN_SCORE                                    | -0.1948                             |  Estimated household net income                | ordinal                   |\n",
    "| LP_STATUS_GROB_1.0                                       |  -0.1992                            | low-income earners                             |  categorical                 |\n",
    "| **Second component characteristic features**             | **Higher Weights associated**       | **Description**                                | **Feature type**            |\n",
    "| FINANZ_UNAUFFAELLIGER                                    | 0.2142                              | Financial typology                             | ordinal                     |\n",
    "| FINANZ_SPARER                                            | 0.2105                              | Financial typology                             | ordinal                     |\n",
    "| ZABEOTYP_3                                               | -0.1935                             | Energy consumption typology                    | categorical                 |\n",
    "| FINANZ_VORSORGER                                         | -0.2067                             | Financial typology                             | ordinal                     |\n",
    "| **Third component characteristic features**              | **Higher Weights associated**       | **Description**                                | **Feature type**            |\n",
    "|     PLZ8_ANTG4                                           | 0.2556                              | Number of 10+ family houses in the PLZ8 region | ordinal                     |\n",
    "| KBA05_ANTG4                                              | 0.2554                              | Number of 10+ family houses in the microcell   | ordinal                     |\n",
    "| SEMIO_SOZ                                                | -0.1076                             | Personality typology                           | ordinal                     |\n",
    "| SEMIO_KULT                                               | -0.1219                             | Personality typology                           | ordinal                     |\n"
   ]
  },
  {
   "cell_type": "markdown",
   "metadata": {},
   "source": [
    "## Step 3: Clustering\n",
    "\n",
    "### Step 3.1: Apply Clustering to General Population\n",
    "\n",
    "We've assessed and cleaned the demographics data, then scaled and transformed them. Now, it's time to see how the data clusters in the principal components space. In this substep, we will apply k-means clustering to the dataset and use the average within-cluster distances from each point to their assigned cluster's centroid to decide on a number of clusters to keep.\n",
    "\n",
    "- Use sklearn's [KMeans](http://scikit-learn.org/stable/modules/generated/sklearn.cluster.KMeans.html#sklearn.cluster.KMeans) class to perform k-means clustering on the PCA-transformed data.\n",
    "- Then, compute the average difference from each point to its assigned cluster's center. **Hint**: The KMeans object's `.score()` method might be useful here, but note that in sklearn, scores tend to be defined so that larger is better. Try applying it to a small, toy dataset, or use an internet search to help your understanding.\n",
    "- Perform the above two steps for a number of different cluster counts. You can then see how the average distance decreases with an increasing number of clusters. However, each additional cluster provides a smaller net benefit. Use this fact to select a final number of clusters in which to group the data. **Warning**: because of the large size of the dataset, it can take a long time for the algorithm to resolve. The more clusters to fit, the longer the algorithm will take. We should test for cluster counts through at least 10 clusters to get the full picture, but you shouldn't need to test for a number of clusters above about 30.\n",
    "- Once you've selected a final number of clusters to use, re-fit a KMeans instance to perform the clustering operation. We have to make sure that we also obtain the cluster assignments for the general demographics data, since we'll be using them in the final Step 3.3."
   ]
  },
  {
   "cell_type": "code",
   "execution_count": 28,
   "metadata": {},
   "outputs": [
    {
     "name": "stdout",
     "output_type": "stream",
     "text": [
      "<class 'pandas.core.frame.DataFrame'>\n",
      "Int64Index: 797837 entries, 1 to 891220\n",
      "Columns: 209 entries, ALTERSKATEGORIE_GROB to LIFE_STAGE_Young Couples With Children\n",
      "dtypes: float64(209)\n",
      "memory usage: 1.2 GB\n"
     ]
    }
   ],
   "source": [
    "azdias_cleaned.info()"
   ]
  },
  {
   "cell_type": "code",
   "execution_count": 31,
   "metadata": {},
   "outputs": [],
   "source": [
    "from sklearn.cluster import KMeans\n",
    "def cluster_scorer(data, nb_cluster):\n",
    "    # data: pca object\n",
    "    kmeans_k = KMeans(nb_cluster)\n",
    "    model = kmeans_k.fit(data)\n",
    "    return abs(model.score(data))"
   ]
  },
  {
   "cell_type": "code",
   "execution_count": 32,
   "metadata": {},
   "outputs": [
    {
     "name": "stdout",
     "output_type": "stream",
     "text": [
      "cluster: 1 - distance: 162210981.17577395\n",
      "cluster: 2 - distance: 154193293.49202096\n",
      "cluster: 3 - distance: 148869064.6185898\n",
      "cluster: 4 - distance: 144143872.20668238\n",
      "cluster: 5 - distance: 141364761.65343997\n",
      "cluster: 6 - distance: 139305618.8246575\n",
      "cluster: 7 - distance: 136936169.64040667\n",
      "cluster: 8 - distance: 135472114.91433242\n",
      "cluster: 9 - distance: 134132027.95573781\n",
      "cluster: 10 - distance: 133129333.25475404\n",
      "cluster: 11 - distance: 131819362.29874377\n",
      "cluster: 12 - distance: 131346934.84852096\n",
      "cluster: 13 - distance: 130254994.95624195\n",
      "cluster: 14 - distance: 128886752.97294386\n",
      "cluster: 15 - distance: 127595434.58765525\n"
     ]
    }
   ],
   "source": [
    "scores = []\n",
    "for i in range(1, 16):\n",
    "    scorer_i = cluster_scorer(selected_pca_transform, i)\n",
    "    scores.append(scorer_i)\n",
    "    print('cluster: %s - distance: %s' %(i, scorer_i))"
   ]
  },
  {
   "cell_type": "code",
   "execution_count": 33,
   "metadata": {},
   "outputs": [
    {
     "data": {
      "text/plain": [
       "[<matplotlib.lines.Line2D at 0x7fee3a7ba358>]"
      ]
     },
     "execution_count": 33,
     "metadata": {},
     "output_type": "execute_result"
    },
    {
     "data": {
      "image/png": "[encoded data removed]",
      "text/plain": [
       "<Figure size 432x288 with 1 Axes>"
      ]
     },
     "metadata": {
      "needs_background": "light"
     },
     "output_type": "display_data"
    }
   ],
   "source": [
    "# Investigate the change in within-cluster distance across number of clusters.\n",
    "# HINT: Use matplotlib's plot function to visualize this relationship.\n",
    "plt.xlabel('K')\n",
    "plt.ylabel('SSE')\n",
    "plt.title('SSE vs. K')\n",
    "plt.plot(np.linspace(1,15,15), scores, linestyle='-', marker='o', color='blue')"
   ]
  },
  {
   "cell_type": "code",
   "execution_count": 34,
   "metadata": {},
   "outputs": [],
   "source": [
    "# Re-fit the k-means model with the selected number of clusters and obtain\n",
    "# cluster predictions for the general population demographics data.\n",
    "kmeans = KMeans(n_clusters=11)\n",
    "km_model = kmeans.fit(selected_pca_transform)\n",
    "azdias_predicted_labels = km_model.predict(selected_pca_transform)"
   ]
  },
  {
   "cell_type": "code",
   "execution_count": 35,
   "metadata": {},
   "outputs": [],
   "source": [
    "kmeans_centers = kmeans.cluster_centers_"
   ]
  },
  {
   "cell_type": "markdown",
   "metadata": {},
   "source": [
    "### Discussion 3.1: Apply Clustering to General Population\n",
    "\n",
    "After analizing the result graphic it seems appropiate to choose a number of 11 clusters since it seems to be a elbow from where the distance beetween points and the center doesnt decrese much after when adding more clusters (Note for me: It took a really long time to perform calculations on all those clusters)."
   ]
  },
  {
   "cell_type": "markdown",
   "metadata": {},
   "source": [
    "### Step 3.2: Apply All Steps to the Customer Data\n",
    "\n",
    "Now that we have clusters and cluster centers for the general population, it's time to see how the customer data maps on to those clusters. Take care to not confuse this for re-fitting all of the models to the customer data. Instead, we're going to use the fits from the general population to clean, transform, and cluster the customer data. In the last step of the project, we will interpret how the general population fits apply to the customer data.\n",
    "\n",
    "- Don't forget when loading in the customers data, that it is semicolon (`;`) delimited.\n",
    "- Apply the same feature wrangling, selection, and engineering steps to the customer demographics using the `clean_data()` function we created earlier. (We can assume that the customer demographics data has similar meaning behind missing data patterns as the general demographics data.)\n",
    "- Use the sklearn objects from the general demographics data, and apply their transformations to the customers data. That is, we should not be using a `.fit()` or `.fit_transform()` method to re-fit the old objects, nor should we be creating new sklearn objects! Carry the data through the feature scaling, PCA, and clustering steps, obtaining cluster assignments for all of the data in the customer demographics data."
   ]
  },
  {
   "cell_type": "code",
   "execution_count": 70,
   "metadata": {},
   "outputs": [],
   "source": [
    "# Load in the customer demographics data.\n",
    "customers = pd.read_csv(\"Udacity_CUSTOMERS_Subset.csv\", sep=\";\")"
   ]
  },
  {
   "cell_type": "code",
   "execution_count": 71,
   "metadata": {},
   "outputs": [
    {
     "data": {
      "text/html": [
       "<div>\n",
       "<style scoped>\n",
       "    .dataframe tbody tr th:only-of-type {\n",
       "        vertical-align: middle;\n",
       "    }\n",
       "\n",
       "    .dataframe tbody tr th {\n",
       "        vertical-align: top;\n",
       "    }\n",
       "\n",
       "    .dataframe thead th {\n",
       "        text-align: right;\n",
       "    }\n",
       "</style>\n",
       "<table border=\"1\" class=\"dataframe\">\n",
       "  <thead>\n",
       "    <tr style=\"text-align: right;\">\n",
       "      <th></th>\n",
       "      <th>features</th>\n",
       "      <th>missing_proportion</th>\n",
       "    </tr>\n",
       "  </thead>\n",
       "  <tbody>\n",
       "    <tr>\n",
       "      <th>39</th>\n",
       "      <td>SOHO_KZ</td>\n",
       "      <td>24.312817</td>\n",
       "    </tr>\n",
       "    <tr>\n",
       "      <th>40</th>\n",
       "      <td>TITEL_KZ</td>\n",
       "      <td>24.312817</td>\n",
       "    </tr>\n",
       "    <tr>\n",
       "      <th>43</th>\n",
       "      <td>ALTER_HH</td>\n",
       "      <td>24.312817</td>\n",
       "    </tr>\n",
       "    <tr>\n",
       "      <th>44</th>\n",
       "      <td>ANZ_PERSONEN</td>\n",
       "      <td>24.312817</td>\n",
       "    </tr>\n",
       "    <tr>\n",
       "      <th>45</th>\n",
       "      <td>ANZ_TITEL</td>\n",
       "      <td>24.312817</td>\n",
       "    </tr>\n",
       "  </tbody>\n",
       "</table>\n",
       "</div>"
      ],
      "text/plain": [
       "        features  missing_proportion\n",
       "39       SOHO_KZ           24.312817\n",
       "40      TITEL_KZ           24.312817\n",
       "43      ALTER_HH           24.312817\n",
       "44  ANZ_PERSONEN           24.312817\n",
       "45     ANZ_TITEL           24.312817"
      ]
     },
     "metadata": {},
     "output_type": "display_data"
    }
   ],
   "source": [
    "# checking the proportion of NaNs per feature in the dataframe\n",
    "column_null_proportion_cust = pd.DataFrame(customers.isna().mean(axis=0)*100).reset_index()\n",
    "column_null_proportion_cust.columns = ['features', 'missing_proportion']\n",
    "display(column_null_proportion_cust[column_null_proportion_cust['missing_proportion']>20].head())"
   ]
  },
  {
   "cell_type": "code",
   "execution_count": 72,
   "metadata": {},
   "outputs": [
    {
     "data": {
      "image/png": "[encoded data removed]",
      "text/plain": [
       "<Figure size 432x288 with 1 Axes>"
      ]
     },
     "metadata": {
      "needs_background": "light"
     },
     "output_type": "display_data"
    }
   ],
   "source": [
    "plt.figure()\n",
    "plt.title('Missing data ratio per column')\n",
    "plt.hist(column_null_proportion_cust['missing_proportion'], bins = 30)\n",
    "plt.xlabel('Missing data percentage')\n",
    "plt.ylabel('Number of features')\n",
    "plt.show()"
   ]
  },
  {
   "cell_type": "markdown",
   "metadata": {},
   "source": [
    "Given the plot above seem reasonable to drop columns with missing values above 35%, otherwise a lot of valuable data will be lost."
   ]
  },
  {
   "cell_type": "code",
   "execution_count": 73,
   "metadata": {},
   "outputs": [
    {
     "data": {
      "text/html": [
       "<div>\n",
       "<style scoped>\n",
       "    .dataframe tbody tr th:only-of-type {\n",
       "        vertical-align: middle;\n",
       "    }\n",
       "\n",
       "    .dataframe tbody tr th {\n",
       "        vertical-align: top;\n",
       "    }\n",
       "\n",
       "    .dataframe thead th {\n",
       "        text-align: right;\n",
       "    }\n",
       "</style>\n",
       "<table border=\"1\" class=\"dataframe\">\n",
       "  <thead>\n",
       "    <tr style=\"text-align: right;\">\n",
       "      <th></th>\n",
       "      <th>features</th>\n",
       "      <th>missing_proportion</th>\n",
       "    </tr>\n",
       "  </thead>\n",
       "  <tbody>\n",
       "    <tr>\n",
       "      <th>1</th>\n",
       "      <td>1</td>\n",
       "      <td>52.941176</td>\n",
       "    </tr>\n",
       "    <tr>\n",
       "      <th>10</th>\n",
       "      <td>10</td>\n",
       "      <td>40.000000</td>\n",
       "    </tr>\n",
       "    <tr>\n",
       "      <th>36</th>\n",
       "      <td>36</td>\n",
       "      <td>49.411765</td>\n",
       "    </tr>\n",
       "    <tr>\n",
       "      <th>37</th>\n",
       "      <td>37</td>\n",
       "      <td>49.411765</td>\n",
       "    </tr>\n",
       "    <tr>\n",
       "      <th>38</th>\n",
       "      <td>38</td>\n",
       "      <td>49.411765</td>\n",
       "    </tr>\n",
       "  </tbody>\n",
       "</table>\n",
       "</div>"
      ],
      "text/plain": [
       "    features  missing_proportion\n",
       "1          1           52.941176\n",
       "10        10           40.000000\n",
       "36        36           49.411765\n",
       "37        37           49.411765\n",
       "38        38           49.411765"
      ]
     },
     "metadata": {},
     "output_type": "display_data"
    }
   ],
   "source": [
    "# checking the proportion of NaNs per feature in the dataframe\n",
    "row_null_proportion_cust = pd.DataFrame(customers.isna().mean(axis=1)*100).reset_index()\n",
    "row_null_proportion_cust.columns = ['features', 'missing_proportion']\n",
    "display(row_null_proportion_cust[row_null_proportion_cust['missing_proportion']>20].head())"
   ]
  },
  {
   "cell_type": "code",
   "execution_count": 74,
   "metadata": {},
   "outputs": [
    {
     "data": {
      "image/png": "[encoded data removed]",
      "text/plain": [
       "<Figure size 432x288 with 1 Axes>"
      ]
     },
     "metadata": {
      "needs_background": "light"
     },
     "output_type": "display_data"
    }
   ],
   "source": [
    "plt.figure()\n",
    "plt.title('Missing data ratio per row')\n",
    "plt.hist(row_null_proportion_cust['missing_proportion'], bins = 30)\n",
    "plt.xlabel('Missing data percentage')\n",
    "plt.ylabel('Number of features')\n",
    "plt.show()"
   ]
  },
  {
   "cell_type": "markdown",
   "metadata": {},
   "source": [
    "It seems that there's a lot of missing values for a large amount of rows. It will be descarted as well since it's likely to mess the model."
   ]
  },
  {
   "cell_type": "code",
   "execution_count": 78,
   "metadata": {},
   "outputs": [
    {
     "name": "stdout",
     "output_type": "stream",
     "text": [
      "outlier columns removed: \n",
      "AGER_TYP        50.475863\n",
      "GEBURTSJAHR     48.537975\n",
      "TITEL_KZ        98.793647\n",
      "ALTER_HH        35.870745\n",
      "KK_KUNDENTYP    58.406382\n",
      "KBA05_BAUMAX    57.153069\n",
      "dtype: float64\n"
     ]
    }
   ],
   "source": [
    "# Apply preprocessing, feature transformation, and clustering from the general\n",
    "# demographics onto the customer data, obtaining cluster predictions for the\n",
    "# customer demographics data.\n",
    "from clean_data_helper import clean_data\n",
    "\n",
    "row_proportion_thresh=30\n",
    "col_proportion_thresh=35\n",
    "outlier_threshold =0.001 # threshold percentage\n",
    "customer_df_cleaned = clean_data(customers, row_proportion_thresh, col_proportion_thresh, outlier_threshold)"
   ]
  },
  {
   "cell_type": "code",
   "execution_count": 79,
   "metadata": {},
   "outputs": [
    {
     "name": "stdout",
     "output_type": "stream",
     "text": [
      "customers dataframe cleaned shape: (141690, 209)\n"
     ]
    }
   ],
   "source": [
    "print('customers dataframe cleaned shape:', customer_df_cleaned.shape)"
   ]
  },
  {
   "cell_type": "code",
   "execution_count": 80,
   "metadata": {},
   "outputs": [
    {
     "data": {
      "text/plain": [
       "209"
      ]
     },
     "execution_count": 80,
     "metadata": {},
     "output_type": "execute_result"
    }
   ],
   "source": [
    "len(scale.mean_) # it should be the same number of columns to perform the transform on scale"
   ]
  },
  {
   "cell_type": "code",
   "execution_count": 82,
   "metadata": {},
   "outputs": [],
   "source": [
    "cols_c = customer_df_cleaned.columns.tolist()\n",
    "cols_p = azdias_cleaned.columns.tolist()"
   ]
  },
  {
   "cell_type": "code",
   "execution_count": 83,
   "metadata": {},
   "outputs": [
    {
     "name": "stdout",
     "output_type": "stream",
     "text": [
      "[]\n"
     ]
    }
   ],
   "source": [
    "feat_in_cust_not_in_pop= np.setdiff1d(cols_c,cols_p).tolist()\n",
    "print(feat_in_cust_not_in_pop)"
   ]
  },
  {
   "cell_type": "code",
   "execution_count": 84,
   "metadata": {},
   "outputs": [],
   "source": [
    "# scaling, removing nans and predicting\n",
    "customer_df_cleaned[customer_df_cleaned.columns] = scale.transform(imp.transform(customer_df_cleaned))"
   ]
  },
  {
   "cell_type": "code",
   "execution_count": 85,
   "metadata": {},
   "outputs": [],
   "source": [
    "# pca\n",
    "customers_pca = selected_pca.transform(customer_df_cleaned)\n",
    "customers_azdias_predicted_labels = km_model.predict(customers_pca)"
   ]
  },
  {
   "cell_type": "markdown",
   "metadata": {},
   "source": [
    "### Step 3.3: Compare Customer Data to Demographics Data\n",
    "\n",
    "In this final substep, you will compare the two cluster distributions to see where the strongest customer base for the company is.\n",
    "\n",
    "Consider the proportion of persons in each cluster for the general population, and the proportions for the customers. If we think the company's customer base to be universal, then the cluster assignment proportions should be fairly similar between the two. If there are only particular segments of the population that are interested in the company's products, then we should see a mismatch from one to the other. If there is a higher proportion of persons in a cluster for the customer data compared to the general population (e.g. 5% of persons are assigned to a cluster for the general population, but 15% of the customer data is closest to that cluster's centroid) then that suggests the people in that cluster to be a target audience for the company. On the other hand, the proportion of the data in a cluster being larger in the general population than the customer data (e.g. only 2% of customers closest to a population centroid that captures 6% of the data) suggests that group of persons to be outside of the target demographics.\n",
    "\n",
    "Take a look at the following points in this step:\n",
    "\n",
    "- Compute the proportion of data points in each cluster for the general population and the customer data. Visualizations will be useful here: both for the individual dataset proportions, but also to visualize the ratios in cluster representation between groups. Seaborn's [`countplot()`](https://seaborn.pydata.org/generated/seaborn.countplot.html) or [`barplot()`](https://seaborn.pydata.org/generated/seaborn.barplot.html) function could be handy.\n",
    "  - Recall the analysis you performed in step 1.1.3 of the project, where you separated out certain data points from the dataset if they had more than a specified threshold of missing values. If you found that this group was qualitatively different from the main bulk of the data, you should treat this as an additional data cluster in this analysis. Make sure that you account for the number of data points in this subset, for both the general population and customer datasets, when making your computations!\n",
    "- Which cluster or clusters are overrepresented in the customer dataset compared to the general population? Select at least one such cluster and infer what kind of people might be represented by that cluster. Use the principal component interpretations from step 2.3 or look at additional components to help you make this inference. Alternatively, you can use the `.inverse_transform()` method of the PCA and StandardScaler objects to transform centroids back to the original data space and interpret the retrieved values directly.\n",
    "- Perform a similar investigation for the underrepresented clusters. Which cluster or clusters are underrepresented in the customer dataset compared to the general population, and what kinds of people are typified by these clusters?"
   ]
  },
  {
   "cell_type": "code",
   "execution_count": 86,
   "metadata": {},
   "outputs": [],
   "source": [
    "# plotting function definition\n",
    "def compare_clusters(clust_a, clust_b, label_clust_a, label_clust_b):\n",
    "    # proportions by value\n",
    "    series_a = pd.Series(clust_a)\n",
    "    series_b = pd.Series(clust_b)\n",
    "    values_count_a = series_a.value_counts()\n",
    "    values_count_b = series_b.value_counts()\n",
    "    values_prop_a = values_count_a.sort_index() / values_count_a.sum()\n",
    "    values_prop_b = values_count_b.sort_index() / values_count_b.sum()\n",
    "\n",
    "    # merge columns\n",
    "    df = pd.merge(values_prop_a.reset_index(), values_prop_b.reset_index(), \n",
    "                    on='index', how='outer').fillna(0)\n",
    "\n",
    "    # reshape dataframe\n",
    "    df.columns = ['index', label_clust_a, label_clust_b]\n",
    "    df = df.set_index('index').stack().reset_index()\n",
    "    df.columns = ['Cluster Index', 'Dataset', 'Proportion']\n",
    "    df = df.fillna(0)\n",
    "    \n",
    "    # plot comparison\n",
    "    plt.figure(figsize=(16, 6))\n",
    "    g = sns.barplot(data=df, x='Cluster Index', y='Proportion', hue='Dataset')\n",
    "    g.set_title('Cluster comparison proportion between population and customer')\n",
    "\n",
    "    plt.show()\n",
    "    \n",
    "    return df"
   ]
  },
  {
   "cell_type": "code",
   "execution_count": 87,
   "metadata": {},
   "outputs": [
    {
     "data": {
      "image/png": "[encoded data removed]",
      "text/plain": [
       "<Figure size 1152x432 with 1 Axes>"
      ]
     },
     "metadata": {
      "needs_background": "light"
     },
     "output_type": "display_data"
    }
   ],
   "source": [
    "# Compare the proportion of data in each cluster for the customer data to the\n",
    "# proportion of data in each cluster for the general population.\n",
    "df_comparison = compare_clusters(azdias_predicted_labels, \n",
    "                                 customers_azdias_predicted_labels, \n",
    "                                 'Population', \n",
    "                                 'Customers'\n",
    "                )"
   ]
  },
  {
   "cell_type": "markdown",
   "metadata": {},
   "source": [
    "Cluster 2, 3, 4 and 6 in the plot above seem to have a matching beetween general population and customers so those can be a target audience for the company.\n",
    "\n",
    "There is a higher proportion of people in cluster 0, 1 and 9 for the customer data compared to the general population, this suggests people in that cluster to be a target audience for the company.\n",
    "\n",
    "The proportion of the data in remaining clusters being larger in the general population than the customer data that group of persons to be outside of the target demographics."
   ]
  },
  {
   "cell_type": "code",
   "execution_count": 96,
   "metadata": {},
   "outputs": [],
   "source": [
    "# get center in original space\n",
    "centers = selected_pca.inverse_transform(kmeans_centers)\n",
    "centers = scale.inverse_transform(centers)"
   ]
  },
  {
   "cell_type": "code",
   "execution_count": 89,
   "metadata": {},
   "outputs": [],
   "source": [
    "# Display the true centers calculated from population dataset\n",
    "segments = ['Segment {}'.format(i) for i in range(0,len(centers))]\n",
    "pop_centers = pd.DataFrame(np.round(centers, 4), columns = azdias_cleaned.columns)\n",
    "pop_centers.index = segments"
   ]
  },
  {
   "cell_type": "markdown",
   "metadata": {},
   "source": [
    "From section 2.3 we had the following relevant positive correlated features per principal components:\n",
    "- **Component 1**: 'FINANZ_MINIMALIST', 'MOBI_REGIO', 'LP_LEBENSPHASE_FEIN', 'KBA05_ANTG1', 'KBA05_GBZ' : **income**\n",
    "    \n",
    "- **Component 2**: 'FINANZ_UNAUFFAELLIGER', 'FINANZ_SPARER', 'SEMIO_REL', 'SEMIO_TRADV', 'DECADE_90s' : **finance**\n",
    "\n",
    "- **Component 3**: 'PLZ8_ANTG4','KBA05_ANTG4','KBA05_ANTG3','PLZ8_ANTG3','PLZ8_ANTG2' : **personality**"
   ]
  },
  {
   "cell_type": "code",
   "execution_count": 91,
   "metadata": {},
   "outputs": [],
   "source": [
    "# analizing strongly correlated weighted features\n",
    "\n",
    "comp1_high_relevant_features = ['FINANZ_MINIMALIST', 'MOBI_REGIO', 'LP_LEBENSPHASE_FEIN', 'KBA05_ANTG1', 'KBA05_GBZ']          \n",
    "comp2_high_relevant_features = ['FINANZ_UNAUFFAELLIGER', 'FINANZ_SPARER', 'SEMIO_REL', 'SEMIO_TRADV', 'DECADE_90s']          \n",
    "comp3_high_relevant_features = ['PLZ8_ANTG4','KBA05_ANTG4','KBA05_ANTG3','PLZ8_ANTG3','PLZ8_ANTG2']\n",
    "\n",
    "relevant_features = comp1_high_relevant_features + comp2_high_relevant_features + comp3_high_relevant_features"
   ]
  },
  {
   "cell_type": "code",
   "execution_count": 92,
   "metadata": {},
   "outputs": [],
   "source": [
    "# overrated clusters\n",
    "overrated_segments = ['Segment 2']\n",
    "\n",
    "# underrated clusters\n",
    "underrated_segments = ['Segment 4']\n",
    "\n",
    "relevant_segments = overrated_segments + underrated_segments"
   ]
  },
  {
   "cell_type": "code",
   "execution_count": 93,
   "metadata": {},
   "outputs": [],
   "source": [
    "def display_deviation_from_mean_and_variance_per_df(centers, segments, df, df_label, features):\n",
    "    \n",
    "    segment_centers = centers.loc[segments,]\n",
    "    # analizing median since its less propense to noise\n",
    "    print('True population centers offset from %s MEDIAN for relevant segments'%(df_label.upper(), ))\n",
    "    segment_centers_median_deviation= segment_centers - np.round(scale.inverse_transform((df).median()))\n",
    "    display(segment_centers_median_deviation[features])"
   ]
  },
  {
   "cell_type": "code",
   "execution_count": 94,
   "metadata": {},
   "outputs": [
    {
     "name": "stdout",
     "output_type": "stream",
     "text": [
      "True population centers offset from POPULATION MEDIAN for relevant segments\n"
     ]
    },
    {
     "data": {
      "text/html": [
       "<div>\n",
       "<style scoped>\n",
       "    .dataframe tbody tr th:only-of-type {\n",
       "        vertical-align: middle;\n",
       "    }\n",
       "\n",
       "    .dataframe tbody tr th {\n",
       "        vertical-align: top;\n",
       "    }\n",
       "\n",
       "    .dataframe thead th {\n",
       "        text-align: right;\n",
       "    }\n",
       "</style>\n",
       "<table border=\"1\" class=\"dataframe\">\n",
       "  <thead>\n",
       "    <tr style=\"text-align: right;\">\n",
       "      <th></th>\n",
       "      <th>FINANZ_MINIMALIST</th>\n",
       "      <th>MOBI_REGIO</th>\n",
       "      <th>LP_LEBENSPHASE_FEIN</th>\n",
       "      <th>KBA05_ANTG1</th>\n",
       "      <th>KBA05_GBZ</th>\n",
       "      <th>FINANZ_UNAUFFAELLIGER</th>\n",
       "      <th>FINANZ_SPARER</th>\n",
       "      <th>SEMIO_REL</th>\n",
       "      <th>SEMIO_TRADV</th>\n",
       "      <th>DECADE_90s</th>\n",
       "      <th>PLZ8_ANTG4</th>\n",
       "      <th>KBA05_ANTG4</th>\n",
       "      <th>KBA05_ANTG3</th>\n",
       "      <th>PLZ8_ANTG3</th>\n",
       "      <th>PLZ8_ANTG2</th>\n",
       "    </tr>\n",
       "  </thead>\n",
       "  <tbody>\n",
       "    <tr>\n",
       "      <th>Segment 2</th>\n",
       "      <td>0.1261</td>\n",
       "      <td>0.0422</td>\n",
       "      <td>0.0578</td>\n",
       "      <td>0.5074</td>\n",
       "      <td>0.2084</td>\n",
       "      <td>-0.3041</td>\n",
       "      <td>-1.4259</td>\n",
       "      <td>-2.0491</td>\n",
       "      <td>-1.6285</td>\n",
       "      <td>0.0243</td>\n",
       "      <td>-0.4479</td>\n",
       "      <td>0.2437</td>\n",
       "      <td>0.7144</td>\n",
       "      <td>-0.5431</td>\n",
       "      <td>-0.2434</td>\n",
       "    </tr>\n",
       "    <tr>\n",
       "      <th>Segment 4</th>\n",
       "      <td>-0.3852</td>\n",
       "      <td>-0.6966</td>\n",
       "      <td>-0.7487</td>\n",
       "      <td>-0.1191</td>\n",
       "      <td>-0.3367</td>\n",
       "      <td>0.7439</td>\n",
       "      <td>-0.1335</td>\n",
       "      <td>0.1305</td>\n",
       "      <td>-0.1401</td>\n",
       "      <td>0.3118</td>\n",
       "      <td>0.1151</td>\n",
       "      <td>0.5097</td>\n",
       "      <td>0.8886</td>\n",
       "      <td>0.1564</td>\n",
       "      <td>0.2094</td>\n",
       "    </tr>\n",
       "  </tbody>\n",
       "</table>\n",
       "</div>"
      ],
      "text/plain": [
       "           FINANZ_MINIMALIST  MOBI_REGIO  LP_LEBENSPHASE_FEIN  KBA05_ANTG1  \\\n",
       "Segment 2             0.1261      0.0422               0.0578       0.5074   \n",
       "Segment 4            -0.3852     -0.6966              -0.7487      -0.1191   \n",
       "\n",
       "           KBA05_GBZ  FINANZ_UNAUFFAELLIGER  FINANZ_SPARER  SEMIO_REL  \\\n",
       "Segment 2     0.2084                -0.3041        -1.4259    -2.0491   \n",
       "Segment 4    -0.3367                 0.7439        -0.1335     0.1305   \n",
       "\n",
       "           SEMIO_TRADV  DECADE_90s  PLZ8_ANTG4  KBA05_ANTG4  KBA05_ANTG3  \\\n",
       "Segment 2      -1.6285      0.0243     -0.4479       0.2437       0.7144   \n",
       "Segment 4      -0.1401      0.3118      0.1151       0.5097       0.8886   \n",
       "\n",
       "           PLZ8_ANTG3  PLZ8_ANTG2  \n",
       "Segment 2     -0.5431     -0.2434  \n",
       "Segment 4      0.1564      0.2094  "
      ]
     },
     "metadata": {},
     "output_type": "display_data"
    }
   ],
   "source": [
    "# over and under represented cluster: population\n",
    "display_deviation_from_mean_and_variance_per_df(\n",
    "    pop_centers, relevant_segments, azdias_cleaned, 'population', relevant_features\n",
    ")"
   ]
  },
  {
   "cell_type": "code",
   "execution_count": 95,
   "metadata": {},
   "outputs": [
    {
     "name": "stdout",
     "output_type": "stream",
     "text": [
      "True population centers offset from CUSTOMERS MEDIAN for relevant segments\n"
     ]
    },
    {
     "data": {
      "text/html": [
       "<div>\n",
       "<style scoped>\n",
       "    .dataframe tbody tr th:only-of-type {\n",
       "        vertical-align: middle;\n",
       "    }\n",
       "\n",
       "    .dataframe tbody tr th {\n",
       "        vertical-align: top;\n",
       "    }\n",
       "\n",
       "    .dataframe thead th {\n",
       "        text-align: right;\n",
       "    }\n",
       "</style>\n",
       "<table border=\"1\" class=\"dataframe\">\n",
       "  <thead>\n",
       "    <tr style=\"text-align: right;\">\n",
       "      <th></th>\n",
       "      <th>FINANZ_MINIMALIST</th>\n",
       "      <th>MOBI_REGIO</th>\n",
       "      <th>LP_LEBENSPHASE_FEIN</th>\n",
       "      <th>KBA05_ANTG1</th>\n",
       "      <th>KBA05_GBZ</th>\n",
       "      <th>FINANZ_UNAUFFAELLIGER</th>\n",
       "      <th>FINANZ_SPARER</th>\n",
       "      <th>SEMIO_REL</th>\n",
       "      <th>SEMIO_TRADV</th>\n",
       "      <th>DECADE_90s</th>\n",
       "      <th>PLZ8_ANTG4</th>\n",
       "      <th>KBA05_ANTG4</th>\n",
       "      <th>KBA05_ANTG3</th>\n",
       "      <th>PLZ8_ANTG3</th>\n",
       "      <th>PLZ8_ANTG2</th>\n",
       "    </tr>\n",
       "  </thead>\n",
       "  <tbody>\n",
       "    <tr>\n",
       "      <th>Segment 2</th>\n",
       "      <td>-1.8739</td>\n",
       "      <td>-0.9578</td>\n",
       "      <td>-6.9422</td>\n",
       "      <td>-0.4926</td>\n",
       "      <td>-0.7916</td>\n",
       "      <td>-0.3041</td>\n",
       "      <td>0.5741</td>\n",
       "      <td>-1.0491</td>\n",
       "      <td>-0.6285</td>\n",
       "      <td>0.0243</td>\n",
       "      <td>0.5521</td>\n",
       "      <td>0.2437</td>\n",
       "      <td>0.7144</td>\n",
       "      <td>0.4569</td>\n",
       "      <td>-0.2434</td>\n",
       "    </tr>\n",
       "    <tr>\n",
       "      <th>Segment 4</th>\n",
       "      <td>-2.3852</td>\n",
       "      <td>-1.6966</td>\n",
       "      <td>-7.7487</td>\n",
       "      <td>-1.1191</td>\n",
       "      <td>-1.3367</td>\n",
       "      <td>0.7439</td>\n",
       "      <td>1.8665</td>\n",
       "      <td>1.1305</td>\n",
       "      <td>0.8599</td>\n",
       "      <td>0.3118</td>\n",
       "      <td>1.1151</td>\n",
       "      <td>0.5097</td>\n",
       "      <td>0.8886</td>\n",
       "      <td>1.1564</td>\n",
       "      <td>0.2094</td>\n",
       "    </tr>\n",
       "  </tbody>\n",
       "</table>\n",
       "</div>"
      ],
      "text/plain": [
       "           FINANZ_MINIMALIST  MOBI_REGIO  LP_LEBENSPHASE_FEIN  KBA05_ANTG1  \\\n",
       "Segment 2            -1.8739     -0.9578              -6.9422      -0.4926   \n",
       "Segment 4            -2.3852     -1.6966              -7.7487      -1.1191   \n",
       "\n",
       "           KBA05_GBZ  FINANZ_UNAUFFAELLIGER  FINANZ_SPARER  SEMIO_REL  \\\n",
       "Segment 2    -0.7916                -0.3041         0.5741    -1.0491   \n",
       "Segment 4    -1.3367                 0.7439         1.8665     1.1305   \n",
       "\n",
       "           SEMIO_TRADV  DECADE_90s  PLZ8_ANTG4  KBA05_ANTG4  KBA05_ANTG3  \\\n",
       "Segment 2      -0.6285      0.0243      0.5521       0.2437       0.7144   \n",
       "Segment 4       0.8599      0.3118      1.1151       0.5097       0.8886   \n",
       "\n",
       "           PLZ8_ANTG3  PLZ8_ANTG2  \n",
       "Segment 2      0.4569     -0.2434  \n",
       "Segment 4      1.1564      0.2094  "
      ]
     },
     "metadata": {},
     "output_type": "display_data"
    }
   ],
   "source": [
    "# over and underrepresented cluster: customers\n",
    "display_deviation_from_mean_and_variance_per_df(\n",
    "    pop_centers, relevant_segments, customer_df_cleaned, 'customers', relevant_features\n",
    ")"
   ]
  },
  {
   "cell_type": "markdown",
   "metadata": {},
   "source": [
    "### Analizing clusters relation beetween population and customers:\n",
    "\n",
    "First thing to check is that the distance from records to cluster centers are similar. This is true for most of the features in both population and customer dataset which means that the clusters describe well enough customers patterns. It gets easy to visualize per segment and component:\n",
    "\n",
    "* **Overrated cluster: Segment 2**\n",
    "\n",
    "| component number | segments (clusters)  | FINANZ_MINIMALIST | MOBI_REGIO | LP_LEBENSPHASE_FEIN | KBA05_ANTG1 | KBA05_GBZ |\n",
    "|------------------|----------------------|-------------------|------------|---------------------|-------------|-----------|\n",
    "| 1                | Segment 2 population | -1.9346           | -2.7252    | -12.1915            | -0.7515     | -2.8152   |\n",
    "| 1                | Segment 2 customers  | -3.9346           | -3.7252    | -19.1915            | -1.7515     | -3.8152   |\n",
    "| 2                | Segment 2 population | -2.2354           | -3.5600    | -4.3658             | -4.2350     | -0.3606   |\n",
    "| 2                | Segment 2 customers  | -2.2354           | -1.5600    | -3.3658             | -3.2350     | -0.3606   |\n",
    "| 3                | Segment 2 population | -1.3107           | -0.3031    | -0.3898             | -2.3604     | -3.2807   |\n",
    "| 3                | Segment 2 customers  | -0.3107           | -0.3031    | -0.3898             | -1.3604     | -3.2807   |\n",
    "\n",
    "\n",
    "\n",
    "* **Under rated clusters: Segment 4** \n",
    "\n",
    "| component number | segments (clusters)  | FINANZ_MINIMALIST | MOBI_REGIO | LP_LEBENSPHASE_FEIN | KBA05_ANTG1 | KBA05_GBZ |\n",
    "|------------------|----------------------|-------------------|------------|---------------------|-------------|-----------|\n",
    "| 1                | Segment 4 population | -4.2467           | -3.5759    | -13.5778            | -1.5177     | -3.5121   |\n",
    "| 1                | Segment 4 customers  | -6.2467           | -4.5759    | -20.5778            | -2.5177     | -4.5121   |\n",
    "| 2                | Segment 4 population | -1.1386           | -1.7925    | -3.1583             | -2.9965     | 1.1073    |\n",
    "| 2                | Segment 4 customers  | -1.1386           | 0.2075     | -2.1583             | -1.9965     | 1.1073    |\n",
    "| 3                | Segment 4 population | -0.8940           | -0.1174    | -0.0540             | -1.7910     | -2.9013   |\n",
    "| 3                | Segment 4 customers  | 0.1060            | -0.1174    | -0.0540             | -0.7910     | -2.9013   |\n"
   ]
  },
  {
   "cell_type": "markdown",
   "metadata": {},
   "source": [
    "### Identifying customer segments in relevant clusters\n",
    "\n",
    "* **Overrated cluster: Segment 2**\n",
    "\n",
    "It can be seen that features from component 1 are the features that represent the second cluster with highest values over the other features. The type of customers in this cluster are the ones whom can be identify as **finantialy stable**, have **reduce family elements**.\n",
    "\n",
    "|  FINANZ_MINIMALIST |        MOBI_REGIO | LP_LEBENSPHASE_FEIN |                                  KBA05_ANTG1 |\n",
    "| -----------------: | ----------------: | ------------------: | -------------------------------------------: |\n",
    "| Financial typology | Movement patterns |          Life stage | Number of 1-2 family houses in the microcell |\n",
    "\n",
    "\n",
    "* **Under rated clusters: Segment 4**\n",
    "\n",
    "It can be seen that features from component 3 are the features that represent the second cluster with highest values over the other features. It also can be seen that DECADE_90s fits in this group as well. This cluster clearly identifies people whit **higher number of family members** and segregated by **region**. \n",
    "\n",
    "|                   PLZ8_ANTG4                   |                 KBA05_ANTG4                  |                  KBA05_ANTG3                  |                   PLZ8_ANTG3                    |\n",
    "| :--------------------------------------------: | :------------------------------------------: | :-------------------------------------------: | :---------------------------------------------: |\n",
    "| Number of 10+ family houses in the PLZ8 region | Number of 10+ family houses in the microcell | Number of 6-10 family houses in the microcell | Number of 6-10 family houses in the PLZ8 region |\n"
   ]
  },
  {
   "cell_type": "markdown",
   "metadata": {},
   "source": [
    "### Discussion 3.3: Compare Customer Data to Demographics Data\n",
    "\n",
    "After analyzing the plot results about the clusters per origin_data_frame (population, customers) and the corresponding features associated with the principal components it can be seen that there is a valuable insight this analysis that can be used to select the appropriate target population after identifying customer segments.\n",
    "So in conclution, the target population should be in the active middle class, related with economical status (not sure if that is the correct way to say it but what I'm trying to mean is that one of the target population is the one that has money, in the middle-class range)."
   ]
  }
 ],
 "metadata": {
  "kernelspec": {
   "display_name": "Python [conda env:root] *",
   "language": "python",
   "name": "conda-root-py"
  },
  "language_info": {
   "codemirror_mode": {
    "name": "ipython",
    "version": 3
   },
   "file_extension": ".py",
   "mimetype": "text/x-python",
   "name": "python",
   "nbconvert_exporter": "python",
   "pygments_lexer": "ipython3",
   "version": "3.7.3"
  }
 },
 "nbformat": 4,
 "nbformat_minor": 4
}
