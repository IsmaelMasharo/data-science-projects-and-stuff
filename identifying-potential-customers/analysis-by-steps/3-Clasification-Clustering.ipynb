{
 "cells": [
  {
   "cell_type": "markdown",
   "metadata": {},
   "source": [
    "#### Importing libraries"
   ]
  },
  {
   "cell_type": "code",
   "execution_count": 1,
   "metadata": {},
   "outputs": [],
   "source": [
    "%store -r azdias_cleaned"
   ]
  },
  {
   "cell_type": "code",
   "execution_count": 2,
   "metadata": {},
   "outputs": [],
   "source": [
    "import numpy as np\n",
    "import pandas as pd\n",
    "import matplotlib.pyplot as plt\n",
    "import seaborn as sns\n",
    "\n",
    "from sklearn.preprocessing import StandardScaler\n",
    "from sklearn.decomposition import PCA\n",
    "from sklearn.cluster import KMeans\n",
    "\n",
    "from collections import OrderedDict\n",
    "\n",
    "import ast\n",
    "\n",
    "# magic word for producing visualizations in notebook\n",
    "%matplotlib inline"
   ]
  },
  {
   "cell_type": "markdown",
   "metadata": {},
   "source": [
    "## Step 3: Clustering\n",
    "\n",
    "### Step 3.1: Apply Clustering to General Population\n",
    "\n",
    "We've assessed and cleaned the demographics data, then scaled and transformed them. Now, it's time to see how the data clusters in the principal components space. In this substep, we will apply k-means clustering to the dataset and use the average within-cluster distances from each point to their assigned cluster's centroid to decide on a number of clusters to keep.\n",
    "\n",
    "We'll do the following:\n",
    "\n",
    "- Use sklearn's [KMeans](http://scikit-learn.org/stable/modules/generated/sklearn.cluster.KMeans.html#sklearn.cluster.KMeans) class to perform k-means clustering on the PCA-transformed data.\n",
    "- Then, compute the average difference from each point to its assigned cluster's center. **Hint**: The KMeans object's `.score()` method might be useful here, but note that in sklearn, scores tend to be defined so that larger is better. Try applying it to a small, toy dataset, or use an internet search to help your understanding.\n",
    "- Perform the above two steps for a number of different cluster counts. You can then see how the average distance decreases with an increasing number of clusters. However, each additional cluster provides a smaller net benefit. Use this fact to select a final number of clusters in which to group the data. **Warning**: because of the large size of the dataset, it can take a long time for the algorithm to resolve. The more clusters to fit, the longer the algorithm will take. You should test for cluster counts through at least 10 clusters to get the full picture, but you shouldn't need to test for a number of clusters above about 30.\n",
    "- Once we've selected a final number of clusters to use, re-fit a KMeans instance to perform the clustering operation. Make sure that you also obtain the cluster assignments for the general demographics data, since we'll be using them in the final Step 3.3."
   ]
  },
  {
   "cell_type": "code",
   "execution_count": 1,
   "metadata": {},
   "outputs": [],
   "source": [
    "%store -r azdias_cleaned"
   ]
  },
  {
   "cell_type": "code",
   "execution_count": 28,
   "metadata": {},
   "outputs": [
    {
     "name": "stdout",
     "output_type": "stream",
     "text": [
      "<class 'pandas.core.frame.DataFrame'>\n",
      "Int64Index: 797837 entries, 1 to 891220\n",
      "Columns: 209 entries, ALTERSKATEGORIE_GROB to LIFE_STAGE_Young Couples With Children\n",
      "dtypes: float64(209)\n",
      "memory usage: 1.2 GB\n"
     ]
    }
   ],
   "source": [
    "azdias_cleaned.info()"
   ]
  },
  {
   "cell_type": "code",
   "execution_count": 31,
   "metadata": {},
   "outputs": [],
   "source": [
    "from sklearn.cluster import KMeans\n",
    "def cluster_scorer(data, nb_cluster):\n",
    "    # data: pca object\n",
    "    kmeans_k = KMeans(nb_cluster)\n",
    "    model = kmeans_k.fit(data)\n",
    "    return abs(model.score(data))"
   ]
  },
  {
   "cell_type": "code",
   "execution_count": 32,
   "metadata": {},
   "outputs": [
    {
     "name": "stdout",
     "output_type": "stream",
     "text": [
      "cluster: 1 - distance: 162210981.17577395\n",
      "cluster: 2 - distance: 154193293.49202096\n",
      "cluster: 3 - distance: 148869064.6185898\n",
      "cluster: 4 - distance: 144143872.20668238\n",
      "cluster: 5 - distance: 141364761.65343997\n",
      "cluster: 6 - distance: 139305618.8246575\n",
      "cluster: 7 - distance: 136936169.64040667\n",
      "cluster: 8 - distance: 135472114.91433242\n",
      "cluster: 9 - distance: 134132027.95573781\n",
      "cluster: 10 - distance: 133129333.25475404\n",
      "cluster: 11 - distance: 131819362.29874377\n",
      "cluster: 12 - distance: 131346934.84852096\n",
      "cluster: 13 - distance: 130254994.95624195\n",
      "cluster: 14 - distance: 128886752.97294386\n",
      "cluster: 15 - distance: 127595434.58765525\n"
     ]
    }
   ],
   "source": [
    "scores = []\n",
    "for i in range(1, 16):\n",
    "    scorer_i = cluster_scorer(selected_pca_transform, i)\n",
    "    scores.append(scorer_i)\n",
    "    print('cluster: %s - distance: %s' %(i, scorer_i))"
   ]
  },
  {
   "cell_type": "code",
   "execution_count": 33,
   "metadata": {},
   "outputs": [
    {
     "data": {
      "text/plain": [
       "[<matplotlib.lines.Line2D at 0x7fee3a7ba358>]"
      ]
     },
     "execution_count": 33,
     "metadata": {},
     "output_type": "execute_result"
    },
    {
     "data": {
      "image/png": "[encoded data removed]",
      "text/plain": [
       "<Figure size 432x288 with 1 Axes>"
      ]
     },
     "metadata": {
      "needs_background": "light"
     },
     "output_type": "display_data"
    }
   ],
   "source": [
    "# Investigate the change in within-cluster distance across number of clusters.\n",
    "# HINT: Use matplotlib's plot function to visualize this relationship.\n",
    "plt.xlabel('K')\n",
    "plt.ylabel('SSE')\n",
    "plt.title('SSE vs. K')\n",
    "plt.plot(np.linspace(1,15,15), scores, linestyle='-', marker='o', color='blue')"
   ]
  },
  {
   "cell_type": "code",
   "execution_count": 34,
   "metadata": {},
   "outputs": [],
   "source": [
    "# Re-fit the k-means model with the selected number of clusters and obtain\n",
    "# cluster predictions for the general population demographics data.\n",
    "kmeans = KMeans(n_clusters=11)\n",
    "km_model = kmeans.fit(selected_pca_transform)\n",
    "azdias_predicted_labels = km_model.predict(selected_pca_transform)"
   ]
  },
  {
   "cell_type": "code",
   "execution_count": 35,
   "metadata": {},
   "outputs": [],
   "source": [
    "kmeans_centers = kmeans.cluster_centers_"
   ]
  },
  {
   "cell_type": "markdown",
   "metadata": {},
   "source": [
    "### Discussion 3.1: Apply Clustering to General Population\n",
    "\n",
    "After analizing the result graphic it seems appropiate to choose a number of 11 clusters since it seems to be a elbow from where the distance beetween points and the center doesnt decrese much after when adding more clusters (Note for me: It took a really long time to perform calculations on all those clusters)."
   ]
  },
  {
   "cell_type": "markdown",
   "metadata": {},
   "source": [
    "### Step 3.2: Apply All Steps to the Customer Data\n",
    "\n",
    "Now that we have clusters and cluster centers for the general population, it's time to see how the customer data maps on to those clusters. Take care to not confuse this for re-fitting all of the models to the customer data. Instead, we're going to use the fits from the general population to clean, transform, and cluster the customer data. In the last step of the project, we will interpret how the general population fits apply to the customer data.\n",
    "\n",
    "- Don't forget when loading in the customers data, that it is semicolon (`;`) delimited.\n",
    "- Apply the same feature wrangling, selection, and engineering steps to the customer demographics using the `clean_data()` function we created earlier. (We can assume that the customer demographics data has similar meaning behind missing data patterns as the general demographics data.)\n",
    "- Use the sklearn objects from the general demographics data, and apply their transformations to the customers data. That is, we should not be using a `.fit()` or `.fit_transform()` method to re-fit the old objects, nor should we be creating new sklearn objects! Carry the data through the feature scaling, PCA, and clustering steps, obtaining cluster assignments for all of the data in the customer demographics data."
   ]
  },
  {
   "cell_type": "code",
   "execution_count": 70,
   "metadata": {},
   "outputs": [],
   "source": [
    "# Load in the customer demographics data.\n",
    "customers = pd.read_csv(\"Udacity_CUSTOMERS_Subset.csv\", sep=\";\")"
   ]
  },
  {
   "cell_type": "code",
   "execution_count": 71,
   "metadata": {},
   "outputs": [
    {
     "data": {
      "text/html": [
       "<div>\n",
       "<style scoped>\n",
       "    .dataframe tbody tr th:only-of-type {\n",
       "        vertical-align: middle;\n",
       "    }\n",
       "\n",
       "    .dataframe tbody tr th {\n",
       "        vertical-align: top;\n",
       "    }\n",
       "\n",
       "    .dataframe thead th {\n",
       "        text-align: right;\n",
       "    }\n",
       "</style>\n",
       "<table border=\"1\" class=\"dataframe\">\n",
       "  <thead>\n",
       "    <tr style=\"text-align: right;\">\n",
       "      <th></th>\n",
       "      <th>features</th>\n",
       "      <th>missing_proportion</th>\n",
       "    </tr>\n",
       "  </thead>\n",
       "  <tbody>\n",
       "    <tr>\n",
       "      <th>39</th>\n",
       "      <td>SOHO_KZ</td>\n",
       "      <td>24.312817</td>\n",
       "    </tr>\n",
       "    <tr>\n",
       "      <th>40</th>\n",
       "      <td>TITEL_KZ</td>\n",
       "      <td>24.312817</td>\n",
       "    </tr>\n",
       "    <tr>\n",
       "      <th>43</th>\n",
       "      <td>ALTER_HH</td>\n",
       "      <td>24.312817</td>\n",
       "    </tr>\n",
       "    <tr>\n",
       "      <th>44</th>\n",
       "      <td>ANZ_PERSONEN</td>\n",
       "      <td>24.312817</td>\n",
       "    </tr>\n",
       "    <tr>\n",
       "      <th>45</th>\n",
       "      <td>ANZ_TITEL</td>\n",
       "      <td>24.312817</td>\n",
       "    </tr>\n",
       "  </tbody>\n",
       "</table>\n",
       "</div>"
      ],
      "text/plain": [
       "        features  missing_proportion\n",
       "39       SOHO_KZ           24.312817\n",
       "40      TITEL_KZ           24.312817\n",
       "43      ALTER_HH           24.312817\n",
       "44  ANZ_PERSONEN           24.312817\n",
       "45     ANZ_TITEL           24.312817"
      ]
     },
     "metadata": {},
     "output_type": "display_data"
    }
   ],
   "source": [
    "# checking the proportion of NaNs per feature in the dataframe\n",
    "column_null_proportion_cust = pd.DataFrame(customers.isna().mean(axis=0)*100).reset_index()\n",
    "column_null_proportion_cust.columns = ['features', 'missing_proportion']\n",
    "display(column_null_proportion_cust[column_null_proportion_cust['missing_proportion']>20].head())"
   ]
  },
  {
   "cell_type": "code",
   "execution_count": 72,
   "metadata": {},
   "outputs": [
    {
     "data": {
      "image/png": "[encoded data removed]",
      "text/plain": [
       "<Figure size 432x288 with 1 Axes>"
      ]
     },
     "metadata": {
      "needs_background": "light"
     },
     "output_type": "display_data"
    }
   ],
   "source": [
    "plt.figure()\n",
    "plt.title('Missing data ratio per column')\n",
    "plt.hist(column_null_proportion_cust['missing_proportion'], bins = 30)\n",
    "plt.xlabel('Missing data percentage')\n",
    "plt.ylabel('Number of features')\n",
    "plt.show()"
   ]
  },
  {
   "cell_type": "markdown",
   "metadata": {},
   "source": [
    "Given the plot above seem reasonable to drop columns with missing values above 35%, otherwise a lot of valuable data will be lost."
   ]
  },
  {
   "cell_type": "code",
   "execution_count": 73,
   "metadata": {},
   "outputs": [
    {
     "data": {
      "text/html": [
       "<div>\n",
       "<style scoped>\n",
       "    .dataframe tbody tr th:only-of-type {\n",
       "        vertical-align: middle;\n",
       "    }\n",
       "\n",
       "    .dataframe tbody tr th {\n",
       "        vertical-align: top;\n",
       "    }\n",
       "\n",
       "    .dataframe thead th {\n",
       "        text-align: right;\n",
       "    }\n",
       "</style>\n",
       "<table border=\"1\" class=\"dataframe\">\n",
       "  <thead>\n",
       "    <tr style=\"text-align: right;\">\n",
       "      <th></th>\n",
       "      <th>features</th>\n",
       "      <th>missing_proportion</th>\n",
       "    </tr>\n",
       "  </thead>\n",
       "  <tbody>\n",
       "    <tr>\n",
       "      <th>1</th>\n",
       "      <td>1</td>\n",
       "      <td>52.941176</td>\n",
       "    </tr>\n",
       "    <tr>\n",
       "      <th>10</th>\n",
       "      <td>10</td>\n",
       "      <td>40.000000</td>\n",
       "    </tr>\n",
       "    <tr>\n",
       "      <th>36</th>\n",
       "      <td>36</td>\n",
       "      <td>49.411765</td>\n",
       "    </tr>\n",
       "    <tr>\n",
       "      <th>37</th>\n",
       "      <td>37</td>\n",
       "      <td>49.411765</td>\n",
       "    </tr>\n",
       "    <tr>\n",
       "      <th>38</th>\n",
       "      <td>38</td>\n",
       "      <td>49.411765</td>\n",
       "    </tr>\n",
       "  </tbody>\n",
       "</table>\n",
       "</div>"
      ],
      "text/plain": [
       "    features  missing_proportion\n",
       "1          1           52.941176\n",
       "10        10           40.000000\n",
       "36        36           49.411765\n",
       "37        37           49.411765\n",
       "38        38           49.411765"
      ]
     },
     "metadata": {},
     "output_type": "display_data"
    }
   ],
   "source": [
    "# checking the proportion of NaNs per feature in the dataframe\n",
    "row_null_proportion_cust = pd.DataFrame(customers.isna().mean(axis=1)*100).reset_index()\n",
    "row_null_proportion_cust.columns = ['features', 'missing_proportion']\n",
    "display(row_null_proportion_cust[row_null_proportion_cust['missing_proportion']>20].head())"
   ]
  },
  {
   "cell_type": "code",
   "execution_count": 74,
   "metadata": {},
   "outputs": [
    {
     "data": {
      "image/png": "[encoded data removed]",
      "text/plain": [
       "<Figure size 432x288 with 1 Axes>"
      ]
     },
     "metadata": {
      "needs_background": "light"
     },
     "output_type": "display_data"
    }
   ],
   "source": [
    "plt.figure()\n",
    "plt.title('Missing data ratio per row')\n",
    "plt.hist(row_null_proportion_cust['missing_proportion'], bins = 30)\n",
    "plt.xlabel('Missing data percentage')\n",
    "plt.ylabel('Number of features')\n",
    "plt.show()"
   ]
  },
  {
   "cell_type": "markdown",
   "metadata": {},
   "source": [
    "It seems that there's a lot of missing values for a large amount of rows. It will be descarted as well since it's likely to mess the model."
   ]
  },
  {
   "cell_type": "code",
   "execution_count": 78,
   "metadata": {},
   "outputs": [
    {
     "name": "stdout",
     "output_type": "stream",
     "text": [
      "outlier columns removed: \n",
      "AGER_TYP        50.475863\n",
      "GEBURTSJAHR     48.537975\n",
      "TITEL_KZ        98.793647\n",
      "ALTER_HH        35.870745\n",
      "KK_KUNDENTYP    58.406382\n",
      "KBA05_BAUMAX    57.153069\n",
      "dtype: float64\n"
     ]
    }
   ],
   "source": [
    "# Apply preprocessing, feature transformation, and clustering from the general\n",
    "# demographics onto the customer data, obtaining cluster predictions for the\n",
    "# customer demographics data.\n",
    "from clean_data_helper import clean_data\n",
    "\n",
    "row_proportion_thresh=30\n",
    "col_proportion_thresh=35\n",
    "outlier_threshold =0.001 # threshold percentage\n",
    "customer_df_cleaned = clean_data(customers, row_proportion_thresh, col_proportion_thresh, outlier_threshold)"
   ]
  },
  {
   "cell_type": "code",
   "execution_count": 79,
   "metadata": {},
   "outputs": [
    {
     "name": "stdout",
     "output_type": "stream",
     "text": [
      "customers dataframe cleaned shape: (141690, 209)\n"
     ]
    }
   ],
   "source": [
    "print('customers dataframe cleaned shape:', customer_df_cleaned.shape)"
   ]
  },
  {
   "cell_type": "code",
   "execution_count": 80,
   "metadata": {},
   "outputs": [
    {
     "data": {
      "text/plain": [
       "209"
      ]
     },
     "execution_count": 80,
     "metadata": {},
     "output_type": "execute_result"
    }
   ],
   "source": [
    "len(scale.mean_) # it should be the same number of columns to perform the transform on scale"
   ]
  },
  {
   "cell_type": "code",
   "execution_count": 82,
   "metadata": {},
   "outputs": [],
   "source": [
    "cols_c = customer_df_cleaned.columns.tolist()\n",
    "cols_p = azdias_cleaned.columns.tolist()"
   ]
  },
  {
   "cell_type": "code",
   "execution_count": 83,
   "metadata": {},
   "outputs": [
    {
     "name": "stdout",
     "output_type": "stream",
     "text": [
      "[]\n"
     ]
    }
   ],
   "source": [
    "feat_in_cust_not_in_pop= np.setdiff1d(cols_c,cols_p).tolist()\n",
    "print(feat_in_cust_not_in_pop)"
   ]
  },
  {
   "cell_type": "code",
   "execution_count": 84,
   "metadata": {},
   "outputs": [],
   "source": [
    "# scaling, removing nans and predicting\n",
    "customer_df_cleaned[customer_df_cleaned.columns] = scale.transform(imp.transform(customer_df_cleaned))"
   ]
  },
  {
   "cell_type": "code",
   "execution_count": 85,
   "metadata": {},
   "outputs": [],
   "source": [
    "# pca\n",
    "customers_pca = selected_pca.transform(customer_df_cleaned)\n",
    "customers_azdias_predicted_labels = km_model.predict(customers_pca)"
   ]
  },
  {
   "cell_type": "markdown",
   "metadata": {},
   "source": [
    "### Step 3.3: Compare Customer Data to Demographics Data\n",
    "\n",
    "In this final substep, you will compare the two cluster distributions to see where the strongest customer base for the company is.\n",
    "\n",
    "Consider the proportion of persons in each cluster for the general population, and the proportions for the customers. If we think the company's customer base to be universal, then the cluster assignment proportions should be fairly similar between the two. If there are only particular segments of the population that are interested in the company's products, then we should see a mismatch from one to the other. If there is a higher proportion of persons in a cluster for the customer data compared to the general population (e.g. 5% of persons are assigned to a cluster for the general population, but 15% of the customer data is closest to that cluster's centroid) then that suggests the people in that cluster to be a target audience for the company. On the other hand, the proportion of the data in a cluster being larger in the general population than the customer data (e.g. only 2% of customers closest to a population centroid that captures 6% of the data) suggests that group of persons to be outside of the target demographics.\n",
    "\n",
    "Take a look at the following points in this step:\n",
    "\n",
    "- Compute the proportion of data points in each cluster for the general population and the customer data. Visualizations will be useful here: both for the individual dataset proportions, but also to visualize the ratios in cluster representation between groups. Seaborn's [`countplot()`](https://seaborn.pydata.org/generated/seaborn.countplot.html) or [`barplot()`](https://seaborn.pydata.org/generated/seaborn.barplot.html) function could be handy.\n",
    "  - Recall the analysis you performed in step 1.1.3 of the project, where you separated out certain data points from the dataset if they had more than a specified threshold of missing values. If you found that this group was qualitatively different from the main bulk of the data, you should treat this as an additional data cluster in this analysis. Make sure that you account for the number of data points in this subset, for both the general population and customer datasets, when making your computations!\n",
    "- Which cluster or clusters are overrepresented in the customer dataset compared to the general population? Select at least one such cluster and infer what kind of people might be represented by that cluster. Use the principal component interpretations from step 2.3 or look at additional components to help you make this inference. Alternatively, you can use the `.inverse_transform()` method of the PCA and StandardScaler objects to transform centroids back to the original data space and interpret the retrieved values directly.\n",
    "- Perform a similar investigation for the underrepresented clusters. Which cluster or clusters are underrepresented in the customer dataset compared to the general population, and what kinds of people are typified by these clusters?"
   ]
  },
  {
   "cell_type": "code",
   "execution_count": 86,
   "metadata": {},
   "outputs": [],
   "source": [
    "# plotting function definition\n",
    "def compare_clusters(clust_a, clust_b, label_clust_a, label_clust_b):\n",
    "    # proportions by value\n",
    "    series_a = pd.Series(clust_a)\n",
    "    series_b = pd.Series(clust_b)\n",
    "    values_count_a = series_a.value_counts()\n",
    "    values_count_b = series_b.value_counts()\n",
    "    values_prop_a = values_count_a.sort_index() / values_count_a.sum()\n",
    "    values_prop_b = values_count_b.sort_index() / values_count_b.sum()\n",
    "\n",
    "    # merge columns\n",
    "    df = pd.merge(values_prop_a.reset_index(), values_prop_b.reset_index(), \n",
    "                    on='index', how='outer').fillna(0)\n",
    "\n",
    "    # reshape dataframe\n",
    "    df.columns = ['index', label_clust_a, label_clust_b]\n",
    "    df = df.set_index('index').stack().reset_index()\n",
    "    df.columns = ['Cluster Index', 'Dataset', 'Proportion']\n",
    "    df = df.fillna(0)\n",
    "    \n",
    "    # plot comparison\n",
    "    plt.figure(figsize=(16, 6))\n",
    "    g = sns.barplot(data=df, x='Cluster Index', y='Proportion', hue='Dataset')\n",
    "    g.set_title('Cluster comparison proportion between population and customer')\n",
    "\n",
    "    plt.show()\n",
    "    \n",
    "    return df"
   ]
  },
  {
   "cell_type": "code",
   "execution_count": 87,
   "metadata": {},
   "outputs": [
    {
     "data": {
      "image/png": "[encoded data removed]",
      "text/plain": [
       "<Figure size 1152x432 with 1 Axes>"
      ]
     },
     "metadata": {
      "needs_background": "light"
     },
     "output_type": "display_data"
    }
   ],
   "source": [
    "# Compare the proportion of data in each cluster for the customer data to the\n",
    "# proportion of data in each cluster for the general population.\n",
    "df_comparison = compare_clusters(azdias_predicted_labels, \n",
    "                                 customers_azdias_predicted_labels, \n",
    "                                 'Population', \n",
    "                                 'Customers'\n",
    "                )"
   ]
  },
  {
   "cell_type": "markdown",
   "metadata": {},
   "source": [
    "Cluster 2, 3, 4 and 6 in the plot above seem to have a matching beetween general population and customers so those can be a target audience for the company.\n",
    "\n",
    "There is a higher proportion of people in cluster 0, 1 and 9 for the customer data compared to the general population, this suggests people in that cluster to be a target audience for the company.\n",
    "\n",
    "The proportion of the data in remaining clusters being larger in the general population than the customer data that group of persons to be outside of the target demographics."
   ]
  },
  {
   "cell_type": "code",
   "execution_count": 96,
   "metadata": {},
   "outputs": [],
   "source": [
    "# get center in original space\n",
    "centers = selected_pca.inverse_transform(kmeans_centers)\n",
    "centers = scale.inverse_transform(centers)"
   ]
  },
  {
   "cell_type": "code",
   "execution_count": 89,
   "metadata": {},
   "outputs": [],
   "source": [
    "# Display the true centers calculated from population dataset\n",
    "segments = ['Segment {}'.format(i) for i in range(0,len(centers))]\n",
    "pop_centers = pd.DataFrame(np.round(centers, 4), columns = azdias_cleaned.columns)\n",
    "pop_centers.index = segments"
   ]
  },
  {
   "cell_type": "markdown",
   "metadata": {},
   "source": [
    "From section 2.3 we had the following relevant positive correlated features per principal components:\n",
    "- **Component 1**: 'FINANZ_MINIMALIST', 'MOBI_REGIO', 'LP_LEBENSPHASE_FEIN', 'KBA05_ANTG1', 'KBA05_GBZ' : **income**\n",
    "    \n",
    "- **Component 2**: 'FINANZ_UNAUFFAELLIGER', 'FINANZ_SPARER', 'SEMIO_REL', 'SEMIO_TRADV', 'DECADE_90s' : **finance**\n",
    "\n",
    "- **Component 3**: 'PLZ8_ANTG4','KBA05_ANTG4','KBA05_ANTG3','PLZ8_ANTG3','PLZ8_ANTG2' : **personality**"
   ]
  },
  {
   "cell_type": "code",
   "execution_count": 91,
   "metadata": {},
   "outputs": [],
   "source": [
    "# analizing strongly correlated weighted features\n",
    "\n",
    "comp1_high_relevant_features = ['FINANZ_MINIMALIST', 'MOBI_REGIO', 'LP_LEBENSPHASE_FEIN', 'KBA05_ANTG1', 'KBA05_GBZ']          \n",
    "comp2_high_relevant_features = ['FINANZ_UNAUFFAELLIGER', 'FINANZ_SPARER', 'SEMIO_REL', 'SEMIO_TRADV', 'DECADE_90s']          \n",
    "comp3_high_relevant_features = ['PLZ8_ANTG4','KBA05_ANTG4','KBA05_ANTG3','PLZ8_ANTG3','PLZ8_ANTG2']\n",
    "\n",
    "relevant_features = comp1_high_relevant_features + comp2_high_relevant_features + comp3_high_relevant_features"
   ]
  },
  {
   "cell_type": "code",
   "execution_count": 92,
   "metadata": {},
   "outputs": [],
   "source": [
    "# overrated clusters\n",
    "overrated_segments = ['Segment 2']\n",
    "\n",
    "# underrated clusters\n",
    "underrated_segments = ['Segment 4']\n",
    "\n",
    "relevant_segments = overrated_segments + underrated_segments"
   ]
  },
  {
   "cell_type": "code",
   "execution_count": 93,
   "metadata": {},
   "outputs": [],
   "source": [
    "def display_deviation_from_mean_and_variance_per_df(centers, segments, df, df_label, features):\n",
    "    \n",
    "    segment_centers = centers.loc[segments,]\n",
    "    # analizing median since its less propense to noise\n",
    "    print('True population centers offset from %s MEDIAN for relevant segments'%(df_label.upper(), ))\n",
    "    segment_centers_median_deviation= segment_centers - np.round(scale.inverse_transform((df).median()))\n",
    "    display(segment_centers_median_deviation[features])"
   ]
  },
  {
   "cell_type": "code",
   "execution_count": 94,
   "metadata": {},
   "outputs": [
    {
     "name": "stdout",
     "output_type": "stream",
     "text": [
      "True population centers offset from POPULATION MEDIAN for relevant segments\n"
     ]
    },
    {
     "data": {
      "text/html": [
       "<div>\n",
       "<style scoped>\n",
       "    .dataframe tbody tr th:only-of-type {\n",
       "        vertical-align: middle;\n",
       "    }\n",
       "\n",
       "    .dataframe tbody tr th {\n",
       "        vertical-align: top;\n",
       "    }\n",
       "\n",
       "    .dataframe thead th {\n",
       "        text-align: right;\n",
       "    }\n",
       "</style>\n",
       "<table border=\"1\" class=\"dataframe\">\n",
       "  <thead>\n",
       "    <tr style=\"text-align: right;\">\n",
       "      <th></th>\n",
       "      <th>FINANZ_MINIMALIST</th>\n",
       "      <th>MOBI_REGIO</th>\n",
       "      <th>LP_LEBENSPHASE_FEIN</th>\n",
       "      <th>KBA05_ANTG1</th>\n",
       "      <th>KBA05_GBZ</th>\n",
       "      <th>FINANZ_UNAUFFAELLIGER</th>\n",
       "      <th>FINANZ_SPARER</th>\n",
       "      <th>SEMIO_REL</th>\n",
       "      <th>SEMIO_TRADV</th>\n",
       "      <th>DECADE_90s</th>\n",
       "      <th>PLZ8_ANTG4</th>\n",
       "      <th>KBA05_ANTG4</th>\n",
       "      <th>KBA05_ANTG3</th>\n",
       "      <th>PLZ8_ANTG3</th>\n",
       "      <th>PLZ8_ANTG2</th>\n",
       "    </tr>\n",
       "  </thead>\n",
       "  <tbody>\n",
       "    <tr>\n",
       "      <th>Segment 2</th>\n",
       "      <td>0.1261</td>\n",
       "      <td>0.0422</td>\n",
       "      <td>0.0578</td>\n",
       "      <td>0.5074</td>\n",
       "      <td>0.2084</td>\n",
       "      <td>-0.3041</td>\n",
       "      <td>-1.4259</td>\n",
       "      <td>-2.0491</td>\n",
       "      <td>-1.6285</td>\n",
       "      <td>0.0243</td>\n",
       "      <td>-0.4479</td>\n",
       "      <td>0.2437</td>\n",
       "      <td>0.7144</td>\n",
       "      <td>-0.5431</td>\n",
       "      <td>-0.2434</td>\n",
       "    </tr>\n",
       "    <tr>\n",
       "      <th>Segment 4</th>\n",
       "      <td>-0.3852</td>\n",
       "      <td>-0.6966</td>\n",
       "      <td>-0.7487</td>\n",
       "      <td>-0.1191</td>\n",
       "      <td>-0.3367</td>\n",
       "      <td>0.7439</td>\n",
       "      <td>-0.1335</td>\n",
       "      <td>0.1305</td>\n",
       "      <td>-0.1401</td>\n",
       "      <td>0.3118</td>\n",
       "      <td>0.1151</td>\n",
       "      <td>0.5097</td>\n",
       "      <td>0.8886</td>\n",
       "      <td>0.1564</td>\n",
       "      <td>0.2094</td>\n",
       "    </tr>\n",
       "  </tbody>\n",
       "</table>\n",
       "</div>"
      ],
      "text/plain": [
       "           FINANZ_MINIMALIST  MOBI_REGIO  LP_LEBENSPHASE_FEIN  KBA05_ANTG1  \\\n",
       "Segment 2             0.1261      0.0422               0.0578       0.5074   \n",
       "Segment 4            -0.3852     -0.6966              -0.7487      -0.1191   \n",
       "\n",
       "           KBA05_GBZ  FINANZ_UNAUFFAELLIGER  FINANZ_SPARER  SEMIO_REL  \\\n",
       "Segment 2     0.2084                -0.3041        -1.4259    -2.0491   \n",
       "Segment 4    -0.3367                 0.7439        -0.1335     0.1305   \n",
       "\n",
       "           SEMIO_TRADV  DECADE_90s  PLZ8_ANTG4  KBA05_ANTG4  KBA05_ANTG3  \\\n",
       "Segment 2      -1.6285      0.0243     -0.4479       0.2437       0.7144   \n",
       "Segment 4      -0.1401      0.3118      0.1151       0.5097       0.8886   \n",
       "\n",
       "           PLZ8_ANTG3  PLZ8_ANTG2  \n",
       "Segment 2     -0.5431     -0.2434  \n",
       "Segment 4      0.1564      0.2094  "
      ]
     },
     "metadata": {},
     "output_type": "display_data"
    }
   ],
   "source": [
    "# over and under represented cluster: population\n",
    "display_deviation_from_mean_and_variance_per_df(\n",
    "    pop_centers, relevant_segments, azdias_cleaned, 'population', relevant_features\n",
    ")"
   ]
  },
  {
   "cell_type": "code",
   "execution_count": 95,
   "metadata": {},
   "outputs": [
    {
     "name": "stdout",
     "output_type": "stream",
     "text": [
      "True population centers offset from CUSTOMERS MEDIAN for relevant segments\n"
     ]
    },
    {
     "data": {
      "text/html": [
       "<div>\n",
       "<style scoped>\n",
       "    .dataframe tbody tr th:only-of-type {\n",
       "        vertical-align: middle;\n",
       "    }\n",
       "\n",
       "    .dataframe tbody tr th {\n",
       "        vertical-align: top;\n",
       "    }\n",
       "\n",
       "    .dataframe thead th {\n",
       "        text-align: right;\n",
       "    }\n",
       "</style>\n",
       "<table border=\"1\" class=\"dataframe\">\n",
       "  <thead>\n",
       "    <tr style=\"text-align: right;\">\n",
       "      <th></th>\n",
       "      <th>FINANZ_MINIMALIST</th>\n",
       "      <th>MOBI_REGIO</th>\n",
       "      <th>LP_LEBENSPHASE_FEIN</th>\n",
       "      <th>KBA05_ANTG1</th>\n",
       "      <th>KBA05_GBZ</th>\n",
       "      <th>FINANZ_UNAUFFAELLIGER</th>\n",
       "      <th>FINANZ_SPARER</th>\n",
       "      <th>SEMIO_REL</th>\n",
       "      <th>SEMIO_TRADV</th>\n",
       "      <th>DECADE_90s</th>\n",
       "      <th>PLZ8_ANTG4</th>\n",
       "      <th>KBA05_ANTG4</th>\n",
       "      <th>KBA05_ANTG3</th>\n",
       "      <th>PLZ8_ANTG3</th>\n",
       "      <th>PLZ8_ANTG2</th>\n",
       "    </tr>\n",
       "  </thead>\n",
       "  <tbody>\n",
       "    <tr>\n",
       "      <th>Segment 2</th>\n",
       "      <td>-1.8739</td>\n",
       "      <td>-0.9578</td>\n",
       "      <td>-6.9422</td>\n",
       "      <td>-0.4926</td>\n",
       "      <td>-0.7916</td>\n",
       "      <td>-0.3041</td>\n",
       "      <td>0.5741</td>\n",
       "      <td>-1.0491</td>\n",
       "      <td>-0.6285</td>\n",
       "      <td>0.0243</td>\n",
       "      <td>0.5521</td>\n",
       "      <td>0.2437</td>\n",
       "      <td>0.7144</td>\n",
       "      <td>0.4569</td>\n",
       "      <td>-0.2434</td>\n",
       "    </tr>\n",
       "    <tr>\n",
       "      <th>Segment 4</th>\n",
       "      <td>-2.3852</td>\n",
       "      <td>-1.6966</td>\n",
       "      <td>-7.7487</td>\n",
       "      <td>-1.1191</td>\n",
       "      <td>-1.3367</td>\n",
       "      <td>0.7439</td>\n",
       "      <td>1.8665</td>\n",
       "      <td>1.1305</td>\n",
       "      <td>0.8599</td>\n",
       "      <td>0.3118</td>\n",
       "      <td>1.1151</td>\n",
       "      <td>0.5097</td>\n",
       "      <td>0.8886</td>\n",
       "      <td>1.1564</td>\n",
       "      <td>0.2094</td>\n",
       "    </tr>\n",
       "  </tbody>\n",
       "</table>\n",
       "</div>"
      ],
      "text/plain": [
       "           FINANZ_MINIMALIST  MOBI_REGIO  LP_LEBENSPHASE_FEIN  KBA05_ANTG1  \\\n",
       "Segment 2            -1.8739     -0.9578              -6.9422      -0.4926   \n",
       "Segment 4            -2.3852     -1.6966              -7.7487      -1.1191   \n",
       "\n",
       "           KBA05_GBZ  FINANZ_UNAUFFAELLIGER  FINANZ_SPARER  SEMIO_REL  \\\n",
       "Segment 2    -0.7916                -0.3041         0.5741    -1.0491   \n",
       "Segment 4    -1.3367                 0.7439         1.8665     1.1305   \n",
       "\n",
       "           SEMIO_TRADV  DECADE_90s  PLZ8_ANTG4  KBA05_ANTG4  KBA05_ANTG3  \\\n",
       "Segment 2      -0.6285      0.0243      0.5521       0.2437       0.7144   \n",
       "Segment 4       0.8599      0.3118      1.1151       0.5097       0.8886   \n",
       "\n",
       "           PLZ8_ANTG3  PLZ8_ANTG2  \n",
       "Segment 2      0.4569     -0.2434  \n",
       "Segment 4      1.1564      0.2094  "
      ]
     },
     "metadata": {},
     "output_type": "display_data"
    }
   ],
   "source": [
    "# over and underrepresented cluster: customers\n",
    "display_deviation_from_mean_and_variance_per_df(\n",
    "    pop_centers, relevant_segments, customer_df_cleaned, 'customers', relevant_features\n",
    ")"
   ]
  },
  {
   "cell_type": "markdown",
   "metadata": {},
   "source": [
    "### Analizing clusters relation beetween population and customers:\n",
    "\n",
    "First thing to check is that the distance from records to cluster centers are similar. This is true for most of the features in both population and customer dataset which means that the clusters describe well enough customers patterns. It gets easy to visualize per segment and component:\n",
    "\n",
    "* **Overrated cluster: Segment 2**\n",
    "\n",
    "| component number | segments (clusters)  | FINANZ_MINIMALIST | MOBI_REGIO | LP_LEBENSPHASE_FEIN | KBA05_ANTG1 | KBA05_GBZ |\n",
    "|------------------|----------------------|-------------------|------------|---------------------|-------------|-----------|\n",
    "| 1                | Segment 2 population | -1.9346           | -2.7252    | -12.1915            | -0.7515     | -2.8152   |\n",
    "| 1                | Segment 2 customers  | -3.9346           | -3.7252    | -19.1915            | -1.7515     | -3.8152   |\n",
    "| 2                | Segment 2 population | -2.2354           | -3.5600    | -4.3658             | -4.2350     | -0.3606   |\n",
    "| 2                | Segment 2 customers  | -2.2354           | -1.5600    | -3.3658             | -3.2350     | -0.3606   |\n",
    "| 3                | Segment 2 population | -1.3107           | -0.3031    | -0.3898             | -2.3604     | -3.2807   |\n",
    "| 3                | Segment 2 customers  | -0.3107           | -0.3031    | -0.3898             | -1.3604     | -3.2807   |\n",
    "\n",
    "\n",
    "\n",
    "* **Under rated clusters: Segment 4** \n",
    "\n",
    "| component number | segments (clusters)  | FINANZ_MINIMALIST | MOBI_REGIO | LP_LEBENSPHASE_FEIN | KBA05_ANTG1 | KBA05_GBZ |\n",
    "|------------------|----------------------|-------------------|------------|---------------------|-------------|-----------|\n",
    "| 1                | Segment 4 population | -4.2467           | -3.5759    | -13.5778            | -1.5177     | -3.5121   |\n",
    "| 1                | Segment 4 customers  | -6.2467           | -4.5759    | -20.5778            | -2.5177     | -4.5121   |\n",
    "| 2                | Segment 4 population | -1.1386           | -1.7925    | -3.1583             | -2.9965     | 1.1073    |\n",
    "| 2                | Segment 4 customers  | -1.1386           | 0.2075     | -2.1583             | -1.9965     | 1.1073    |\n",
    "| 3                | Segment 4 population | -0.8940           | -0.1174    | -0.0540             | -1.7910     | -2.9013   |\n",
    "| 3                | Segment 4 customers  | 0.1060            | -0.1174    | -0.0540             | -0.7910     | -2.9013   |\n"
   ]
  },
  {
   "cell_type": "markdown",
   "metadata": {},
   "source": [
    "### Identifying customer segments in relevant clusters\n",
    "\n",
    "* **Overrated cluster: Segment 2**\n",
    "\n",
    "It can be seen that features from component 1 are the features that represent the second cluster with highest values over the other features. The type of customers in this cluster are the ones whom can be identify as **finantialy stable**, have **reduce family elements**.\n",
    "\n",
    "|  FINANZ_MINIMALIST |        MOBI_REGIO | LP_LEBENSPHASE_FEIN |                                  KBA05_ANTG1 |\n",
    "| -----------------: | ----------------: | ------------------: | -------------------------------------------: |\n",
    "| Financial typology | Movement patterns |          Life stage | Number of 1-2 family houses in the microcell |\n",
    "\n",
    "\n",
    "* **Under rated clusters: Segment 4**\n",
    "\n",
    "It can be seen that features from component 3 are the features that represent the second cluster with highest values over the other features. It also can be seen that DECADE_90s fits in this group as well. This cluster clearly identifies people whit **higher number of family members** and segregated by **region**. \n",
    "\n",
    "|                   PLZ8_ANTG4                   |                 KBA05_ANTG4                  |                  KBA05_ANTG3                  |                   PLZ8_ANTG3                    |\n",
    "| :--------------------------------------------: | :------------------------------------------: | :-------------------------------------------: | :---------------------------------------------: |\n",
    "| Number of 10+ family houses in the PLZ8 region | Number of 10+ family houses in the microcell | Number of 6-10 family houses in the microcell | Number of 6-10 family houses in the PLZ8 region |\n"
   ]
  },
  {
   "cell_type": "markdown",
   "metadata": {},
   "source": [
    "### Discussion 3.3: Compare Customer Data to Demographics Data\n",
    "\n",
    "After analyzing the plot results about the clusters per origin_data_frame (population, customers) and the corresponding features associated with the principal components it can be seen that there is a valuable insight this analysis that can be used to select the appropriate target population after identifying customer segments.\n",
    "So in conclution, the target population should be in the active middle class, related with economical status (not sure if that is the correct way to say it but what I'm trying to mean is that one of the target population is the one that has money, in the middle-class range)."
   ]
  }
 ],
 "metadata": {
  "kernelspec": {
   "display_name": "Python [conda env:root] *",
   "language": "python",
   "name": "conda-root-py"
  },
  "language_info": {
   "codemirror_mode": {
    "name": "ipython",
    "version": 3
   },
   "file_extension": ".py",
   "mimetype": "text/x-python",
   "name": "python",
   "nbconvert_exporter": "python",
   "pygments_lexer": "ipython3",
   "version": "3.7.3"
  }
 },
 "nbformat": 4,
 "nbformat_minor": 4
}
