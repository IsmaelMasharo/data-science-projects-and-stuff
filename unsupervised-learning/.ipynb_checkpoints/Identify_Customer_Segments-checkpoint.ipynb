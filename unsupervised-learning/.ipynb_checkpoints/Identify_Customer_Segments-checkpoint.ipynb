{
 "cells": [
  {
   "cell_type": "markdown",
   "metadata": {},
   "source": [
    "# Project: Identify Customer Segments\n",
    "\n",
    "In this project I've applied unsupervised learning techniques to identify segments of the population that form the core customer base for a mail-order sales company in Germany. These segments can then be used to direct marketing campaigns towards audiences that will have the highest expected rate of returns. The data is private and has been provided by Bertelsmann Arvato Analytics, and represents a real-life data science task.\n",
    "\n",
    "In each step of the project, there'll be detail about the subtask that I've performed as part of documentation. "
   ]
  },
  {
   "cell_type": "markdown",
   "metadata": {},
   "source": [
    "#### Importing libraries"
   ]
  },
  {
   "cell_type": "code",
   "execution_count": 1,
   "metadata": {},
   "outputs": [],
   "source": [
    "import numpy as np\n",
    "import pandas as pd\n",
    "import matplotlib.pyplot as plt\n",
    "import seaborn as sns\n",
    "\n",
    "from sklearn.preprocessing import StandardScaler\n",
    "from sklearn.decomposition import PCA\n",
    "from sklearn.cluster import KMeans\n",
    "\n",
    "from collections import OrderedDict\n",
    "\n",
    "# magic word for producing visualizations in notebook\n",
    "%matplotlib inline"
   ]
  },
  {
   "cell_type": "markdown",
   "metadata": {},
   "source": [
    "### Step 0: Load the Data\n",
    "\n",
    "There are four files associated with this project (not including this one):\n",
    "\n",
    "- `Udacity_AZDIAS_Subset.csv`: Demographics data for the general population of Germany; 891211 persons (rows) x 85 features (columns).\n",
    "- `Udacity_CUSTOMERS_Subset.csv`: Demographics data for customers of a mail-order company; 191652 persons (rows) x 85 features (columns).\n",
    "- `Data_Dictionary.md`: Detailed information file about the features in the provided datasets.\n",
    "- `AZDIAS_Feature_Summary.csv`: Summary of feature attributes for demographics data; 85 features (rows) x 4 columns\n",
    "\n",
    "Each row of the demographics files represents a single person, but also includes information outside of individuals, including information about their household, building, and neighborhood. This information we'll be used to cluster the general population into groups with similar demographic properties. Then, we will see how the people in the customers dataset fit into those created clusters. The hope here is that certain clusters are over-represented in the customers data, as compared to the general population; those over-represented clusters will be assumed to be part of the core userbase. This information can then be used for further applications, such as targeting for a marketing campaign.\n",
    "\n",
    "To start off with, load in the demographics data for the general population into a pandas DataFrame, and do the same for the feature attributes summary. Note for all of the `.csv` data files in this project: they're semicolon (`;`) delimited.\n",
    "\n",
    "Once the dataset is loaded, it's recommended that we take a little bit of time just browsing the general structure of the dataset and feature summary file. We'll be getting deep into the innards of the cleaning in the first major step of the project, so gaining some general familiarity can help us get our bearings."
   ]
  },
  {
   "cell_type": "code",
   "execution_count": 2,
   "metadata": {},
   "outputs": [],
   "source": [
    "# Load in the general demographics data.\n",
    "df_azdias = pd.read_csv('Udacity_AZDIAS_Subset.csv', sep = ';')\n",
    "\n",
    "# Load in the feature summary file.\n",
    "df_feat_info = pd.read_csv('AZDIAS_Feature_Summary.csv', sep = ';')"
   ]
  },
  {
   "cell_type": "code",
   "execution_count": 3,
   "metadata": {},
   "outputs": [
    {
     "data": {
      "text/html": [
       "<div>\n",
       "<style scoped>\n",
       "    .dataframe tbody tr th:only-of-type {\n",
       "        vertical-align: middle;\n",
       "    }\n",
       "\n",
       "    .dataframe tbody tr th {\n",
       "        vertical-align: top;\n",
       "    }\n",
       "\n",
       "    .dataframe thead th {\n",
       "        text-align: right;\n",
       "    }\n",
       "</style>\n",
       "<table border=\"1\" class=\"dataframe\">\n",
       "  <thead>\n",
       "    <tr style=\"text-align: right;\">\n",
       "      <th></th>\n",
       "      <th>AGER_TYP</th>\n",
       "      <th>ALTERSKATEGORIE_GROB</th>\n",
       "      <th>ANREDE_KZ</th>\n",
       "      <th>CJT_GESAMTTYP</th>\n",
       "      <th>FINANZ_MINIMALIST</th>\n",
       "      <th>FINANZ_SPARER</th>\n",
       "      <th>FINANZ_VORSORGER</th>\n",
       "      <th>FINANZ_ANLEGER</th>\n",
       "      <th>FINANZ_UNAUFFAELLIGER</th>\n",
       "      <th>FINANZ_HAUSBAUER</th>\n",
       "      <th>...</th>\n",
       "      <th>PLZ8_ANTG1</th>\n",
       "      <th>PLZ8_ANTG2</th>\n",
       "      <th>PLZ8_ANTG3</th>\n",
       "      <th>PLZ8_ANTG4</th>\n",
       "      <th>PLZ8_BAUMAX</th>\n",
       "      <th>PLZ8_HHZ</th>\n",
       "      <th>PLZ8_GBZ</th>\n",
       "      <th>ARBEIT</th>\n",
       "      <th>ORTSGR_KLS9</th>\n",
       "      <th>RELAT_AB</th>\n",
       "    </tr>\n",
       "  </thead>\n",
       "  <tbody>\n",
       "    <tr>\n",
       "      <th>count</th>\n",
       "      <td>891221.000000</td>\n",
       "      <td>891221.000000</td>\n",
       "      <td>891221.000000</td>\n",
       "      <td>886367.000000</td>\n",
       "      <td>891221.000000</td>\n",
       "      <td>891221.000000</td>\n",
       "      <td>891221.000000</td>\n",
       "      <td>891221.000000</td>\n",
       "      <td>891221.000000</td>\n",
       "      <td>891221.000000</td>\n",
       "      <td>...</td>\n",
       "      <td>774706.000000</td>\n",
       "      <td>774706.000000</td>\n",
       "      <td>774706.000000</td>\n",
       "      <td>774706.000000</td>\n",
       "      <td>774706.000000</td>\n",
       "      <td>774706.000000</td>\n",
       "      <td>774706.000000</td>\n",
       "      <td>794005.000000</td>\n",
       "      <td>794005.000000</td>\n",
       "      <td>794005.00000</td>\n",
       "    </tr>\n",
       "    <tr>\n",
       "      <th>mean</th>\n",
       "      <td>-0.358435</td>\n",
       "      <td>2.777398</td>\n",
       "      <td>1.522098</td>\n",
       "      <td>3.632838</td>\n",
       "      <td>3.074528</td>\n",
       "      <td>2.821039</td>\n",
       "      <td>3.401106</td>\n",
       "      <td>3.033328</td>\n",
       "      <td>2.874167</td>\n",
       "      <td>3.075121</td>\n",
       "      <td>...</td>\n",
       "      <td>2.253330</td>\n",
       "      <td>2.801858</td>\n",
       "      <td>1.595426</td>\n",
       "      <td>0.699166</td>\n",
       "      <td>1.943913</td>\n",
       "      <td>3.612821</td>\n",
       "      <td>3.381087</td>\n",
       "      <td>3.167854</td>\n",
       "      <td>5.293002</td>\n",
       "      <td>3.07222</td>\n",
       "    </tr>\n",
       "    <tr>\n",
       "      <th>std</th>\n",
       "      <td>1.198724</td>\n",
       "      <td>1.068775</td>\n",
       "      <td>0.499512</td>\n",
       "      <td>1.595021</td>\n",
       "      <td>1.321055</td>\n",
       "      <td>1.464749</td>\n",
       "      <td>1.322134</td>\n",
       "      <td>1.529603</td>\n",
       "      <td>1.486731</td>\n",
       "      <td>1.353248</td>\n",
       "      <td>...</td>\n",
       "      <td>0.972008</td>\n",
       "      <td>0.920309</td>\n",
       "      <td>0.986736</td>\n",
       "      <td>0.727137</td>\n",
       "      <td>1.459654</td>\n",
       "      <td>0.973967</td>\n",
       "      <td>1.111598</td>\n",
       "      <td>1.002376</td>\n",
       "      <td>2.303739</td>\n",
       "      <td>1.36298</td>\n",
       "    </tr>\n",
       "    <tr>\n",
       "      <th>min</th>\n",
       "      <td>-1.000000</td>\n",
       "      <td>1.000000</td>\n",
       "      <td>1.000000</td>\n",
       "      <td>1.000000</td>\n",
       "      <td>1.000000</td>\n",
       "      <td>1.000000</td>\n",
       "      <td>1.000000</td>\n",
       "      <td>1.000000</td>\n",
       "      <td>1.000000</td>\n",
       "      <td>1.000000</td>\n",
       "      <td>...</td>\n",
       "      <td>0.000000</td>\n",
       "      <td>0.000000</td>\n",
       "      <td>0.000000</td>\n",
       "      <td>0.000000</td>\n",
       "      <td>1.000000</td>\n",
       "      <td>1.000000</td>\n",
       "      <td>1.000000</td>\n",
       "      <td>1.000000</td>\n",
       "      <td>0.000000</td>\n",
       "      <td>1.00000</td>\n",
       "    </tr>\n",
       "    <tr>\n",
       "      <th>25%</th>\n",
       "      <td>-1.000000</td>\n",
       "      <td>2.000000</td>\n",
       "      <td>1.000000</td>\n",
       "      <td>2.000000</td>\n",
       "      <td>2.000000</td>\n",
       "      <td>1.000000</td>\n",
       "      <td>3.000000</td>\n",
       "      <td>2.000000</td>\n",
       "      <td>2.000000</td>\n",
       "      <td>2.000000</td>\n",
       "      <td>...</td>\n",
       "      <td>1.000000</td>\n",
       "      <td>2.000000</td>\n",
       "      <td>1.000000</td>\n",
       "      <td>0.000000</td>\n",
       "      <td>1.000000</td>\n",
       "      <td>3.000000</td>\n",
       "      <td>3.000000</td>\n",
       "      <td>3.000000</td>\n",
       "      <td>4.000000</td>\n",
       "      <td>2.00000</td>\n",
       "    </tr>\n",
       "    <tr>\n",
       "      <th>50%</th>\n",
       "      <td>-1.000000</td>\n",
       "      <td>3.000000</td>\n",
       "      <td>2.000000</td>\n",
       "      <td>4.000000</td>\n",
       "      <td>3.000000</td>\n",
       "      <td>3.000000</td>\n",
       "      <td>3.000000</td>\n",
       "      <td>3.000000</td>\n",
       "      <td>3.000000</td>\n",
       "      <td>3.000000</td>\n",
       "      <td>...</td>\n",
       "      <td>2.000000</td>\n",
       "      <td>3.000000</td>\n",
       "      <td>2.000000</td>\n",
       "      <td>1.000000</td>\n",
       "      <td>1.000000</td>\n",
       "      <td>4.000000</td>\n",
       "      <td>3.000000</td>\n",
       "      <td>3.000000</td>\n",
       "      <td>5.000000</td>\n",
       "      <td>3.00000</td>\n",
       "    </tr>\n",
       "    <tr>\n",
       "      <th>75%</th>\n",
       "      <td>-1.000000</td>\n",
       "      <td>4.000000</td>\n",
       "      <td>2.000000</td>\n",
       "      <td>5.000000</td>\n",
       "      <td>4.000000</td>\n",
       "      <td>4.000000</td>\n",
       "      <td>5.000000</td>\n",
       "      <td>5.000000</td>\n",
       "      <td>4.000000</td>\n",
       "      <td>4.000000</td>\n",
       "      <td>...</td>\n",
       "      <td>3.000000</td>\n",
       "      <td>3.000000</td>\n",
       "      <td>2.000000</td>\n",
       "      <td>1.000000</td>\n",
       "      <td>3.000000</td>\n",
       "      <td>4.000000</td>\n",
       "      <td>4.000000</td>\n",
       "      <td>4.000000</td>\n",
       "      <td>7.000000</td>\n",
       "      <td>4.00000</td>\n",
       "    </tr>\n",
       "    <tr>\n",
       "      <th>max</th>\n",
       "      <td>3.000000</td>\n",
       "      <td>9.000000</td>\n",
       "      <td>2.000000</td>\n",
       "      <td>6.000000</td>\n",
       "      <td>5.000000</td>\n",
       "      <td>5.000000</td>\n",
       "      <td>5.000000</td>\n",
       "      <td>5.000000</td>\n",
       "      <td>5.000000</td>\n",
       "      <td>5.000000</td>\n",
       "      <td>...</td>\n",
       "      <td>4.000000</td>\n",
       "      <td>4.000000</td>\n",
       "      <td>3.000000</td>\n",
       "      <td>2.000000</td>\n",
       "      <td>5.000000</td>\n",
       "      <td>5.000000</td>\n",
       "      <td>5.000000</td>\n",
       "      <td>9.000000</td>\n",
       "      <td>9.000000</td>\n",
       "      <td>9.00000</td>\n",
       "    </tr>\n",
       "  </tbody>\n",
       "</table>\n",
       "<p>8 rows × 81 columns</p>\n",
       "</div>"
      ],
      "text/plain": [
       "            AGER_TYP  ALTERSKATEGORIE_GROB      ANREDE_KZ  CJT_GESAMTTYP  \\\n",
       "count  891221.000000         891221.000000  891221.000000  886367.000000   \n",
       "mean       -0.358435              2.777398       1.522098       3.632838   \n",
       "std         1.198724              1.068775       0.499512       1.595021   \n",
       "min        -1.000000              1.000000       1.000000       1.000000   \n",
       "25%        -1.000000              2.000000       1.000000       2.000000   \n",
       "50%        -1.000000              3.000000       2.000000       4.000000   \n",
       "75%        -1.000000              4.000000       2.000000       5.000000   \n",
       "max         3.000000              9.000000       2.000000       6.000000   \n",
       "\n",
       "       FINANZ_MINIMALIST  FINANZ_SPARER  FINANZ_VORSORGER  FINANZ_ANLEGER  \\\n",
       "count      891221.000000  891221.000000     891221.000000   891221.000000   \n",
       "mean            3.074528       2.821039          3.401106        3.033328   \n",
       "std             1.321055       1.464749          1.322134        1.529603   \n",
       "min             1.000000       1.000000          1.000000        1.000000   \n",
       "25%             2.000000       1.000000          3.000000        2.000000   \n",
       "50%             3.000000       3.000000          3.000000        3.000000   \n",
       "75%             4.000000       4.000000          5.000000        5.000000   \n",
       "max             5.000000       5.000000          5.000000        5.000000   \n",
       "\n",
       "       FINANZ_UNAUFFAELLIGER  FINANZ_HAUSBAUER      ...          PLZ8_ANTG1  \\\n",
       "count          891221.000000     891221.000000      ...       774706.000000   \n",
       "mean                2.874167          3.075121      ...            2.253330   \n",
       "std                 1.486731          1.353248      ...            0.972008   \n",
       "min                 1.000000          1.000000      ...            0.000000   \n",
       "25%                 2.000000          2.000000      ...            1.000000   \n",
       "50%                 3.000000          3.000000      ...            2.000000   \n",
       "75%                 4.000000          4.000000      ...            3.000000   \n",
       "max                 5.000000          5.000000      ...            4.000000   \n",
       "\n",
       "          PLZ8_ANTG2     PLZ8_ANTG3     PLZ8_ANTG4    PLZ8_BAUMAX  \\\n",
       "count  774706.000000  774706.000000  774706.000000  774706.000000   \n",
       "mean        2.801858       1.595426       0.699166       1.943913   \n",
       "std         0.920309       0.986736       0.727137       1.459654   \n",
       "min         0.000000       0.000000       0.000000       1.000000   \n",
       "25%         2.000000       1.000000       0.000000       1.000000   \n",
       "50%         3.000000       2.000000       1.000000       1.000000   \n",
       "75%         3.000000       2.000000       1.000000       3.000000   \n",
       "max         4.000000       3.000000       2.000000       5.000000   \n",
       "\n",
       "            PLZ8_HHZ       PLZ8_GBZ         ARBEIT    ORTSGR_KLS9  \\\n",
       "count  774706.000000  774706.000000  794005.000000  794005.000000   \n",
       "mean        3.612821       3.381087       3.167854       5.293002   \n",
       "std         0.973967       1.111598       1.002376       2.303739   \n",
       "min         1.000000       1.000000       1.000000       0.000000   \n",
       "25%         3.000000       3.000000       3.000000       4.000000   \n",
       "50%         4.000000       3.000000       3.000000       5.000000   \n",
       "75%         4.000000       4.000000       4.000000       7.000000   \n",
       "max         5.000000       5.000000       9.000000       9.000000   \n",
       "\n",
       "           RELAT_AB  \n",
       "count  794005.00000  \n",
       "mean        3.07222  \n",
       "std         1.36298  \n",
       "min         1.00000  \n",
       "25%         2.00000  \n",
       "50%         3.00000  \n",
       "75%         4.00000  \n",
       "max         9.00000  \n",
       "\n",
       "[8 rows x 81 columns]"
      ]
     },
     "execution_count": 3,
     "metadata": {},
     "output_type": "execute_result"
    }
   ],
   "source": [
    "# Check the structure of the data after it's loaded (e.g. print the number of\n",
    "# rows and columns, print the first few rows).\n",
    "df_azdias.describe()"
   ]
  },
  {
   "cell_type": "code",
   "execution_count": 4,
   "metadata": {},
   "outputs": [
    {
     "data": {
      "text/html": [
       "<div>\n",
       "<style scoped>\n",
       "    .dataframe tbody tr th:only-of-type {\n",
       "        vertical-align: middle;\n",
       "    }\n",
       "\n",
       "    .dataframe tbody tr th {\n",
       "        vertical-align: top;\n",
       "    }\n",
       "\n",
       "    .dataframe thead th {\n",
       "        text-align: right;\n",
       "    }\n",
       "</style>\n",
       "<table border=\"1\" class=\"dataframe\">\n",
       "  <thead>\n",
       "    <tr style=\"text-align: right;\">\n",
       "      <th></th>\n",
       "      <th>AGER_TYP</th>\n",
       "      <th>ALTERSKATEGORIE_GROB</th>\n",
       "      <th>ANREDE_KZ</th>\n",
       "      <th>CJT_GESAMTTYP</th>\n",
       "      <th>FINANZ_MINIMALIST</th>\n",
       "      <th>FINANZ_SPARER</th>\n",
       "      <th>FINANZ_VORSORGER</th>\n",
       "      <th>FINANZ_ANLEGER</th>\n",
       "      <th>FINANZ_UNAUFFAELLIGER</th>\n",
       "      <th>FINANZ_HAUSBAUER</th>\n",
       "      <th>...</th>\n",
       "      <th>PLZ8_ANTG1</th>\n",
       "      <th>PLZ8_ANTG2</th>\n",
       "      <th>PLZ8_ANTG3</th>\n",
       "      <th>PLZ8_ANTG4</th>\n",
       "      <th>PLZ8_BAUMAX</th>\n",
       "      <th>PLZ8_HHZ</th>\n",
       "      <th>PLZ8_GBZ</th>\n",
       "      <th>ARBEIT</th>\n",
       "      <th>ORTSGR_KLS9</th>\n",
       "      <th>RELAT_AB</th>\n",
       "    </tr>\n",
       "  </thead>\n",
       "  <tbody>\n",
       "    <tr>\n",
       "      <th>0</th>\n",
       "      <td>-1</td>\n",
       "      <td>2</td>\n",
       "      <td>1</td>\n",
       "      <td>2.0</td>\n",
       "      <td>3</td>\n",
       "      <td>4</td>\n",
       "      <td>3</td>\n",
       "      <td>5</td>\n",
       "      <td>5</td>\n",
       "      <td>3</td>\n",
       "      <td>...</td>\n",
       "      <td>NaN</td>\n",
       "      <td>NaN</td>\n",
       "      <td>NaN</td>\n",
       "      <td>NaN</td>\n",
       "      <td>NaN</td>\n",
       "      <td>NaN</td>\n",
       "      <td>NaN</td>\n",
       "      <td>NaN</td>\n",
       "      <td>NaN</td>\n",
       "      <td>NaN</td>\n",
       "    </tr>\n",
       "    <tr>\n",
       "      <th>1</th>\n",
       "      <td>-1</td>\n",
       "      <td>1</td>\n",
       "      <td>2</td>\n",
       "      <td>5.0</td>\n",
       "      <td>1</td>\n",
       "      <td>5</td>\n",
       "      <td>2</td>\n",
       "      <td>5</td>\n",
       "      <td>4</td>\n",
       "      <td>5</td>\n",
       "      <td>...</td>\n",
       "      <td>2.0</td>\n",
       "      <td>3.0</td>\n",
       "      <td>2.0</td>\n",
       "      <td>1.0</td>\n",
       "      <td>1.0</td>\n",
       "      <td>5.0</td>\n",
       "      <td>4.0</td>\n",
       "      <td>3.0</td>\n",
       "      <td>5.0</td>\n",
       "      <td>4.0</td>\n",
       "    </tr>\n",
       "    <tr>\n",
       "      <th>2</th>\n",
       "      <td>-1</td>\n",
       "      <td>3</td>\n",
       "      <td>2</td>\n",
       "      <td>3.0</td>\n",
       "      <td>1</td>\n",
       "      <td>4</td>\n",
       "      <td>1</td>\n",
       "      <td>2</td>\n",
       "      <td>3</td>\n",
       "      <td>5</td>\n",
       "      <td>...</td>\n",
       "      <td>3.0</td>\n",
       "      <td>3.0</td>\n",
       "      <td>1.0</td>\n",
       "      <td>0.0</td>\n",
       "      <td>1.0</td>\n",
       "      <td>4.0</td>\n",
       "      <td>4.0</td>\n",
       "      <td>3.0</td>\n",
       "      <td>5.0</td>\n",
       "      <td>2.0</td>\n",
       "    </tr>\n",
       "    <tr>\n",
       "      <th>3</th>\n",
       "      <td>2</td>\n",
       "      <td>4</td>\n",
       "      <td>2</td>\n",
       "      <td>2.0</td>\n",
       "      <td>4</td>\n",
       "      <td>2</td>\n",
       "      <td>5</td>\n",
       "      <td>2</td>\n",
       "      <td>1</td>\n",
       "      <td>2</td>\n",
       "      <td>...</td>\n",
       "      <td>2.0</td>\n",
       "      <td>2.0</td>\n",
       "      <td>2.0</td>\n",
       "      <td>0.0</td>\n",
       "      <td>1.0</td>\n",
       "      <td>3.0</td>\n",
       "      <td>4.0</td>\n",
       "      <td>2.0</td>\n",
       "      <td>3.0</td>\n",
       "      <td>3.0</td>\n",
       "    </tr>\n",
       "    <tr>\n",
       "      <th>4</th>\n",
       "      <td>-1</td>\n",
       "      <td>3</td>\n",
       "      <td>1</td>\n",
       "      <td>5.0</td>\n",
       "      <td>4</td>\n",
       "      <td>3</td>\n",
       "      <td>4</td>\n",
       "      <td>1</td>\n",
       "      <td>3</td>\n",
       "      <td>2</td>\n",
       "      <td>...</td>\n",
       "      <td>2.0</td>\n",
       "      <td>4.0</td>\n",
       "      <td>2.0</td>\n",
       "      <td>1.0</td>\n",
       "      <td>2.0</td>\n",
       "      <td>3.0</td>\n",
       "      <td>3.0</td>\n",
       "      <td>4.0</td>\n",
       "      <td>6.0</td>\n",
       "      <td>5.0</td>\n",
       "    </tr>\n",
       "  </tbody>\n",
       "</table>\n",
       "<p>5 rows × 85 columns</p>\n",
       "</div>"
      ],
      "text/plain": [
       "   AGER_TYP  ALTERSKATEGORIE_GROB  ANREDE_KZ  CJT_GESAMTTYP  \\\n",
       "0        -1                     2          1            2.0   \n",
       "1        -1                     1          2            5.0   \n",
       "2        -1                     3          2            3.0   \n",
       "3         2                     4          2            2.0   \n",
       "4        -1                     3          1            5.0   \n",
       "\n",
       "   FINANZ_MINIMALIST  FINANZ_SPARER  FINANZ_VORSORGER  FINANZ_ANLEGER  \\\n",
       "0                  3              4                 3               5   \n",
       "1                  1              5                 2               5   \n",
       "2                  1              4                 1               2   \n",
       "3                  4              2                 5               2   \n",
       "4                  4              3                 4               1   \n",
       "\n",
       "   FINANZ_UNAUFFAELLIGER  FINANZ_HAUSBAUER    ...     PLZ8_ANTG1  PLZ8_ANTG2  \\\n",
       "0                      5                 3    ...            NaN         NaN   \n",
       "1                      4                 5    ...            2.0         3.0   \n",
       "2                      3                 5    ...            3.0         3.0   \n",
       "3                      1                 2    ...            2.0         2.0   \n",
       "4                      3                 2    ...            2.0         4.0   \n",
       "\n",
       "   PLZ8_ANTG3  PLZ8_ANTG4  PLZ8_BAUMAX  PLZ8_HHZ  PLZ8_GBZ  ARBEIT  \\\n",
       "0         NaN         NaN          NaN       NaN       NaN     NaN   \n",
       "1         2.0         1.0          1.0       5.0       4.0     3.0   \n",
       "2         1.0         0.0          1.0       4.0       4.0     3.0   \n",
       "3         2.0         0.0          1.0       3.0       4.0     2.0   \n",
       "4         2.0         1.0          2.0       3.0       3.0     4.0   \n",
       "\n",
       "   ORTSGR_KLS9  RELAT_AB  \n",
       "0          NaN       NaN  \n",
       "1          5.0       4.0  \n",
       "2          5.0       2.0  \n",
       "3          3.0       3.0  \n",
       "4          6.0       5.0  \n",
       "\n",
       "[5 rows x 85 columns]"
      ]
     },
     "execution_count": 4,
     "metadata": {},
     "output_type": "execute_result"
    }
   ],
   "source": [
    "df_azdias.head()"
   ]
  },
  {
   "cell_type": "code",
   "execution_count": 5,
   "metadata": {},
   "outputs": [
    {
     "data": {
      "text/plain": [
       "(891221, 85)"
      ]
     },
     "execution_count": 5,
     "metadata": {},
     "output_type": "execute_result"
    }
   ],
   "source": [
    "df_azdias.shape"
   ]
  },
  {
   "cell_type": "code",
   "execution_count": 6,
   "metadata": {},
   "outputs": [
    {
     "data": {
      "text/html": [
       "<div>\n",
       "<style scoped>\n",
       "    .dataframe tbody tr th:only-of-type {\n",
       "        vertical-align: middle;\n",
       "    }\n",
       "\n",
       "    .dataframe tbody tr th {\n",
       "        vertical-align: top;\n",
       "    }\n",
       "\n",
       "    .dataframe thead th {\n",
       "        text-align: right;\n",
       "    }\n",
       "</style>\n",
       "<table border=\"1\" class=\"dataframe\">\n",
       "  <thead>\n",
       "    <tr style=\"text-align: right;\">\n",
       "      <th></th>\n",
       "      <th>attribute</th>\n",
       "      <th>information_level</th>\n",
       "      <th>type</th>\n",
       "      <th>missing_or_unknown</th>\n",
       "    </tr>\n",
       "  </thead>\n",
       "  <tbody>\n",
       "    <tr>\n",
       "      <th>0</th>\n",
       "      <td>AGER_TYP</td>\n",
       "      <td>person</td>\n",
       "      <td>categorical</td>\n",
       "      <td>[-1,0]</td>\n",
       "    </tr>\n",
       "    <tr>\n",
       "      <th>1</th>\n",
       "      <td>ALTERSKATEGORIE_GROB</td>\n",
       "      <td>person</td>\n",
       "      <td>ordinal</td>\n",
       "      <td>[-1,0,9]</td>\n",
       "    </tr>\n",
       "    <tr>\n",
       "      <th>2</th>\n",
       "      <td>ANREDE_KZ</td>\n",
       "      <td>person</td>\n",
       "      <td>categorical</td>\n",
       "      <td>[-1,0]</td>\n",
       "    </tr>\n",
       "    <tr>\n",
       "      <th>3</th>\n",
       "      <td>CJT_GESAMTTYP</td>\n",
       "      <td>person</td>\n",
       "      <td>categorical</td>\n",
       "      <td>[0]</td>\n",
       "    </tr>\n",
       "    <tr>\n",
       "      <th>4</th>\n",
       "      <td>FINANZ_MINIMALIST</td>\n",
       "      <td>person</td>\n",
       "      <td>ordinal</td>\n",
       "      <td>[-1]</td>\n",
       "    </tr>\n",
       "  </tbody>\n",
       "</table>\n",
       "</div>"
      ],
      "text/plain": [
       "              attribute information_level         type missing_or_unknown\n",
       "0              AGER_TYP            person  categorical             [-1,0]\n",
       "1  ALTERSKATEGORIE_GROB            person      ordinal           [-1,0,9]\n",
       "2             ANREDE_KZ            person  categorical             [-1,0]\n",
       "3         CJT_GESAMTTYP            person  categorical                [0]\n",
       "4     FINANZ_MINIMALIST            person      ordinal               [-1]"
      ]
     },
     "execution_count": 6,
     "metadata": {},
     "output_type": "execute_result"
    }
   ],
   "source": [
    "df_feat_info.head()"
   ]
  },
  {
   "cell_type": "code",
   "execution_count": 6,
   "metadata": {},
   "outputs": [
    {
     "data": {
      "text/plain": [
       "array(['[-1,0]', '[-1,0,9]', '[0]', '[-1]', '[]', '[-1,9]', '[-1,X]',\n",
       "       '[XX]', '[-1,XX]'], dtype=object)"
      ]
     },
     "execution_count": 6,
     "metadata": {},
     "output_type": "execute_result"
    }
   ],
   "source": [
    "df_feat_info['missing_or_unknown'].unique()"
   ]
  },
  {
   "cell_type": "markdown",
   "metadata": {},
   "source": [
    "The `missing_or_unknown` column in `df_feat_info` describes the labels used in the dataset for identifying missing or unknown data. This'll be useful for cleaning the data in the next step."
   ]
  },
  {
   "cell_type": "markdown",
   "metadata": {},
   "source": [
    "## Step 1: Preprocessing\n",
    "\n",
    "### Step 1.1: Assess Missing Data\n",
    "\n",
    "The feature summary file contains a summary of properties for each demographics data column. We will use this file to help us make cleaning decisions during this stage of the project. First of all, we should assess the demographics data in terms of missing data.\n",
    "\n",
    "#### Step 1.1.1: Convert Missing Value Codes to NaNs\n",
    "The fourth column of the feature attributes summary (loaded in above as `feat_info`) documents the codes from the data dictionary that indicate missing or unknown data. While the file encodes this as a list (e.g. `[-1,0]`), this will get read in as a string object. We'll need to do a little bit of parsing to make use of it to identify and clean the data. Convert data that matches a 'missing' or 'unknown' value code into a numpy NaN value. We might want to see how much data takes on a 'missing' or 'unknown' code, and how much data is naturally missing, as a point of interest.\n",
    "\n",
    "From the inspection of `df_feat_info` we know that the missing values are encoded as `['[-1,0]', '[-1,0,9]', '[0]', '[-1]', '[]', '[-1,9]', '[-1,X]', '[XX]', '[-1,XX]']`, a list of `list strings` so we have to take care when trying to parsing those values.\n",
    "\n",
    "We'll start with the ones containing an `X` as missing values."
   ]
  },
  {
   "cell_type": "code",
   "execution_count": 7,
   "metadata": {},
   "outputs": [],
   "source": [
    "X_labeled_missing_values = df_feat_info[df_feat_info.missing_or_unknown.isin(['[-1,X]','[XX]', '[-1,XX]'])]"
   ]
  },
  {
   "cell_type": "code",
   "execution_count": 8,
   "metadata": {},
   "outputs": [
    {
     "data": {
      "text/html": [
       "<div>\n",
       "<style scoped>\n",
       "    .dataframe tbody tr th:only-of-type {\n",
       "        vertical-align: middle;\n",
       "    }\n",
       "\n",
       "    .dataframe tbody tr th {\n",
       "        vertical-align: top;\n",
       "    }\n",
       "\n",
       "    .dataframe thead th {\n",
       "        text-align: right;\n",
       "    }\n",
       "</style>\n",
       "<table border=\"1\" class=\"dataframe\">\n",
       "  <thead>\n",
       "    <tr style=\"text-align: right;\">\n",
       "      <th></th>\n",
       "      <th>attribute</th>\n",
       "      <th>information_level</th>\n",
       "      <th>type</th>\n",
       "      <th>missing_or_unknown</th>\n",
       "    </tr>\n",
       "  </thead>\n",
       "  <tbody>\n",
       "    <tr>\n",
       "      <th>57</th>\n",
       "      <td>CAMEO_DEUG_2015</td>\n",
       "      <td>microcell_rr4</td>\n",
       "      <td>categorical</td>\n",
       "      <td>[-1,X]</td>\n",
       "    </tr>\n",
       "    <tr>\n",
       "      <th>58</th>\n",
       "      <td>CAMEO_DEU_2015</td>\n",
       "      <td>microcell_rr4</td>\n",
       "      <td>categorical</td>\n",
       "      <td>[XX]</td>\n",
       "    </tr>\n",
       "    <tr>\n",
       "      <th>59</th>\n",
       "      <td>CAMEO_INTL_2015</td>\n",
       "      <td>microcell_rr4</td>\n",
       "      <td>mixed</td>\n",
       "      <td>[-1,XX]</td>\n",
       "    </tr>\n",
       "  </tbody>\n",
       "</table>\n",
       "</div>"
      ],
      "text/plain": [
       "          attribute information_level         type missing_or_unknown\n",
       "57  CAMEO_DEUG_2015     microcell_rr4  categorical             [-1,X]\n",
       "58   CAMEO_DEU_2015     microcell_rr4  categorical               [XX]\n",
       "59  CAMEO_INTL_2015     microcell_rr4        mixed            [-1,XX]"
      ]
     },
     "execution_count": 8,
     "metadata": {},
     "output_type": "execute_result"
    }
   ],
   "source": [
    "X_labeled_missing_values.head()"
   ]
  },
  {
   "cell_type": "markdown",
   "metadata": {},
   "source": [
    "Now we can focus in the list of attributes containing the letter X as label for missing data."
   ]
  },
  {
   "cell_type": "code",
   "execution_count": 9,
   "metadata": {},
   "outputs": [],
   "source": [
    "x_labeld_list = X_labeled_missing_values.attribute.tolist()"
   ]
  },
  {
   "cell_type": "markdown",
   "metadata": {},
   "source": [
    "#### Comment: \n",
    "We'll use `ast` library to evalueate the literal list numbers (aka. the missing values with only string numbers)\n",
    "\n",
    "For the `x_labeld_list` this X items can not be convert directly with ast since it throughs a `malformed node or string ValueError`, so they'll be parsed as regular list first.\n",
    "\n",
    "Finally, we'll only replace with NaN the missing values according to the specific column features."
   ]
  },
  {
   "cell_type": "code",
   "execution_count": 13,
   "metadata": {},
   "outputs": [],
   "source": [
    "import ast\n",
    "\n",
    "# traversing the feature columns\n",
    "for column in df_azdias.columns:\n",
    "    feature = df_feat_info[df_feat_info['attribute'] == column].iloc[0]\n",
    "    feature_unknow_label = feature['missing_or_unknown']\n",
    "\n",
    "    if feature['attribute'] in x_labeld_list:\n",
    "        # removing brackets from string\n",
    "        x_str = feature_unknow_label[1:-1].split(',')\n",
    "        # string numbers (-1) to int\n",
    "        missing_labels = [int(value) if 'X' not in value else value for value in x_str]\n",
    "    else:\n",
    "        missing_labels = ast.literal_eval(feature_unknow_label)\n",
    "\n",
    "    for label in missing_labels:\n",
    "        df_azdias[column].replace(label, np.NaN, inplace = True) "
   ]
  },
  {
   "cell_type": "markdown",
   "metadata": {},
   "source": [
    "#### Checking the proportion of missing data in each column after the transformation"
   ]
  },
  {
   "cell_type": "code",
   "execution_count": 15,
   "metadata": {},
   "outputs": [
    {
     "name": "stdout",
     "output_type": "stream",
     "text": [
      "total number of missing values in the dataset 8373929\n"
     ]
    }
   ],
   "source": [
    "print('total number of missing values in the dataset', df_azdias.isna().sum().sum())"
   ]
  },
  {
   "cell_type": "code",
   "execution_count": 16,
   "metadata": {},
   "outputs": [
    {
     "data": {
      "text/html": [
       "<div>\n",
       "<style scoped>\n",
       "    .dataframe tbody tr th:only-of-type {\n",
       "        vertical-align: middle;\n",
       "    }\n",
       "\n",
       "    .dataframe tbody tr th {\n",
       "        vertical-align: top;\n",
       "    }\n",
       "\n",
       "    .dataframe thead th {\n",
       "        text-align: right;\n",
       "    }\n",
       "</style>\n",
       "<table border=\"1\" class=\"dataframe\">\n",
       "  <thead>\n",
       "    <tr style=\"text-align: right;\">\n",
       "      <th></th>\n",
       "      <th>features</th>\n",
       "      <th>missing_prop</th>\n",
       "    </tr>\n",
       "  </thead>\n",
       "  <tbody>\n",
       "    <tr>\n",
       "      <th>0</th>\n",
       "      <td>AGER_TYP</td>\n",
       "      <td>0.769554</td>\n",
       "    </tr>\n",
       "    <tr>\n",
       "      <th>1</th>\n",
       "      <td>ALTERSKATEGORIE_GROB</td>\n",
       "      <td>0.003233</td>\n",
       "    </tr>\n",
       "    <tr>\n",
       "      <th>2</th>\n",
       "      <td>ANREDE_KZ</td>\n",
       "      <td>0.000000</td>\n",
       "    </tr>\n",
       "    <tr>\n",
       "      <th>3</th>\n",
       "      <td>CJT_GESAMTTYP</td>\n",
       "      <td>0.005446</td>\n",
       "    </tr>\n",
       "    <tr>\n",
       "      <th>4</th>\n",
       "      <td>FINANZ_MINIMALIST</td>\n",
       "      <td>0.000000</td>\n",
       "    </tr>\n",
       "  </tbody>\n",
       "</table>\n",
       "</div>"
      ],
      "text/plain": [
       "               features  missing_prop\n",
       "0              AGER_TYP      0.769554\n",
       "1  ALTERSKATEGORIE_GROB      0.003233\n",
       "2             ANREDE_KZ      0.000000\n",
       "3         CJT_GESAMTTYP      0.005446\n",
       "4     FINANZ_MINIMALIST      0.000000"
      ]
     },
     "execution_count": 16,
     "metadata": {},
     "output_type": "execute_result"
    }
   ],
   "source": [
    "# checking the proportion of NaNs per feature in the dataframe\n",
    "missing_prop_per_col = pd.DataFrame(df_azdias.isna().mean(axis=0)).reset_index()\n",
    "missing_prop_per_col.columns = ['features', 'missing_prop']\n",
    "missing_prop_per_col.head()"
   ]
  },
  {
   "cell_type": "markdown",
   "metadata": {},
   "source": [
    "#### Step 1.1.2: Assess Missing Data in Each Column\n",
    "\n",
    "How much missing data is present in each column? There are a few columns that are outliers in terms of the proportion of values that are missing. We will want to use matplotlib's [`hist()`](https://matplotlib.org/api/_as_gen/matplotlib.pyplot.hist.html) function to visualize the distribution of missing value counts to find these columns. Identify and document these columns. While some of these columns might have justifications for keeping or re-encoding the data, for this project we should just remove them from the dataframe.\n",
    "\n",
    "For the remaining features, are there any patterns in which columns have, or share, missing data?"
   ]
  },
  {
   "cell_type": "code",
   "execution_count": 11,
   "metadata": {},
   "outputs": [
    {
     "data": {
      "text/plain": [
       "6"
      ]
     },
     "execution_count": 11,
     "metadata": {},
     "output_type": "execute_result"
    }
   ],
   "source": [
    "# Perform an assessment of how much missing data there is in each column of the\n",
    "# dataset.\n",
    "column_null_list = df_azdias.isnull().sum()\n",
    "column_null_proportion = column_null_list / len(df_azdias) * 100\n",
    "column_null_proportion[column_null_proportion>20].count()"
   ]
  },
  {
   "cell_type": "code",
   "execution_count": 12,
   "metadata": {},
   "outputs": [
    {
     "data": {
      "image/png": "[encoded data removed]",
      "text/plain": [
       "<matplotlib.figure.Figure at 0x7f15d4460198>"
      ]
     },
     "metadata": {
      "needs_background": "light"
     },
     "output_type": "display_data"
    }
   ],
   "source": [
    "# Investigate patterns in the amount of missing data in each column.\n",
    "plt.figure()\n",
    "plt.title('Missing data ratio per column')\n",
    "plt.hist(column_null_proportion, bins = 30)\n",
    "plt.xlabel('Missing data percentage')\n",
    "plt.ylabel('Number of features')\n",
    "plt.show()"
   ]
  },
  {
   "cell_type": "markdown",
   "metadata": {},
   "source": [
    "it seems that a large number of features have bellow 20 % of missing data. \n",
    "Removing the ones that have more than this value:"
   ]
  },
  {
   "cell_type": "code",
   "execution_count": 13,
   "metadata": {
    "scrolled": true
   },
   "outputs": [
    {
     "data": {
      "text/plain": [
       "AGER_TYP        76.955435\n",
       "GEBURTSJAHR     44.020282\n",
       "TITEL_KZ        99.757636\n",
       "ALTER_HH        34.813699\n",
       "KK_KUNDENTYP    65.596749\n",
       "KBA05_BAUMAX    53.468668\n",
       "dtype: float64"
      ]
     },
     "execution_count": 13,
     "metadata": {},
     "output_type": "execute_result"
    }
   ],
   "source": [
    "column_outliers = column_null_proportion[column_null_proportion > 20]\n",
    "column_outliers"
   ]
  },
  {
   "cell_type": "code",
   "execution_count": 14,
   "metadata": {},
   "outputs": [],
   "source": [
    "# Remove the outlier columns from the dataset. (You'll perform other data\n",
    "# engineering tasks such as re-encoding and imputation later.)\n",
    "df_azdias.drop(column_outliers.index, axis=1, inplace=True) "
   ]
  },
  {
   "cell_type": "markdown",
   "metadata": {},
   "source": [
    "#### Discussion 1.1.2: Assess Missing Data in Each Column\n",
    "\n",
    "(Double click this cell and replace this text with your own text, reporting your observations regarding the amount of missing data in each column. Are there any patterns in missing values? Which columns were removed from the dataset?)\n",
    "\n",
    "After replacing missing labels with appropiate Nan values it could be seen that there where a bunch of columns that are mearly unknow.\n",
    "The criteria for removing some columns was the checking of the histogram generated. For the proyect seems okay to do that (I'll verify that later hopefully), but I think it requires a more indepth analisis about the features.\n",
    "The removed columns were (alongside are their missing values percentage): \n",
    "\n",
    "| features  |  percentage of missing values |  \n",
    "|---|---|\n",
    "| AGER_TYP        | 76.955435 |\n",
    "| GEBURTSJAHR     | 44.020282 |\n",
    "| TITEL_KZ        | 99.757636 |\n",
    "| ALTER_HH        | 34.813699 |\n",
    "| KK_KUNDENTYP    | 65.596749 |\n",
    "| KBA05_BAUMAX    | 53.468668 |"
   ]
  },
  {
   "cell_type": "markdown",
   "metadata": {},
   "source": [
    "#### Step 1.1.3: Assess Missing Data in Each Row\n",
    "\n",
    "Now, you'll perform a similar assessment for the rows of the dataset. How much data is missing in each row? As with the columns, you should see some groups of points that have a very different numbers of missing values. Divide the data into two subsets: one for data points that are above some threshold for missing values, and a second subset for points below that threshold.\n",
    "\n",
    "In order to know what to do with the outlier rows, we should see if the distribution of data values on columns that are not missing data (or are missing very little data) are similar or different between the two groups. Select at least five of these columns and compare the distribution of values.\n",
    "- You can use seaborn's [`countplot()`](https://seaborn.pydata.org/generated/seaborn.countplot.html) function to create a bar chart of code frequencies and matplotlib's [`subplot()`](https://matplotlib.org/api/_as_gen/matplotlib.pyplot.subplot.html) function to put bar charts for the two subplots side by side.\n",
    "- To reduce repeated code, you might want to write a function that can perform this comparison, taking as one of its arguments a column to be compared.\n",
    "\n",
    "Depending on what you observe in your comparison, this will have implications on how you approach your conclusions later in the analysis. If the distributions of non-missing features look similar between the data with many missing values and the data with few or no missing values, then we could argue that simply dropping those points from the analysis won't present a major issue. On the other hand, if the data with many missing values looks very different from the data with few or no missing values, then we should make a note on those data as special. We'll revisit these data later on. **Either way, you should continue your analysis for now using just the subset of the data with few or no missing values.**"
   ]
  },
  {
   "cell_type": "code",
   "execution_count": 15,
   "metadata": {},
   "outputs": [
    {
     "data": {
      "text/plain": [
       "93384"
      ]
     },
     "execution_count": 15,
     "metadata": {},
     "output_type": "execute_result"
    }
   ],
   "source": [
    "# How much data is missing in each row of the dataset?\n",
    "row_null_list = df_azdias.isnull().sum(axis=1)\n",
    "row_null_proportion = row_null_list / len(df_azdias.columns) * 100\n",
    "row_null_proportion[row_null_proportion>30].count()"
   ]
  },
  {
   "cell_type": "code",
   "execution_count": 16,
   "metadata": {},
   "outputs": [
    {
     "data": {
      "image/png": "[encoded data removed]",
      "text/plain": [
       "<matplotlib.figure.Figure at 0x7f15d4447a20>"
      ]
     },
     "metadata": {
      "needs_background": "light"
     },
     "output_type": "display_data"
    }
   ],
   "source": [
    "plt.figure()\n",
    "plt.title('Missing data ratio per row')\n",
    "plt.hist(row_null_proportion, bins = 30)\n",
    "plt.xlabel('Missing data percentage')\n",
    "plt.ylabel('Number of features')\n",
    "plt.show()"
   ]
  },
  {
   "cell_type": "code",
   "execution_count": 17,
   "metadata": {},
   "outputs": [
    {
     "data": {
      "text/plain": [
       "98934"
      ]
     },
     "execution_count": 17,
     "metadata": {},
     "output_type": "execute_result"
    }
   ],
   "source": [
    "# Write code to divide the data into two subsets based on the number of missing\n",
    "# values in each row.\n",
    "rows_outliers = row_null_proportion[row_null_proportion > 20]\n",
    "rows_outliers.count()"
   ]
  },
  {
   "cell_type": "code",
   "execution_count": 18,
   "metadata": {},
   "outputs": [
    {
     "data": {
      "text/plain": [
       "(891221, 79)"
      ]
     },
     "execution_count": 18,
     "metadata": {},
     "output_type": "execute_result"
    }
   ],
   "source": [
    "df_azdias.shape"
   ]
  },
  {
   "cell_type": "code",
   "execution_count": 19,
   "metadata": {},
   "outputs": [],
   "source": [
    "# Compare the distribution of values for at least five columns where there are\n",
    "# no or few missing values, between the two subsets.\n",
    "df_azdias.drop(rows_outliers.index, axis=0, inplace=True) "
   ]
  },
  {
   "cell_type": "code",
   "execution_count": 20,
   "metadata": {},
   "outputs": [
    {
     "data": {
      "text/plain": [
       "(792287, 79)"
      ]
     },
     "execution_count": 20,
     "metadata": {},
     "output_type": "execute_result"
    }
   ],
   "source": [
    "df_azdias.shape"
   ]
  },
  {
   "cell_type": "markdown",
   "metadata": {},
   "source": [
    "It is also necesary to handle outliers from each column of the dataset"
   ]
  },
  {
   "cell_type": "code",
   "execution_count": 21,
   "metadata": {},
   "outputs": [],
   "source": [
    "def mask_outliers(df, prop_threshold):\n",
    "    \"\"\"\n",
    "    Mask the outliers as nans.\n",
    "    \"\"\"\n",
    "    \n",
    "    df_columns = df.columns.tolist()\n",
    "    total_records = df.shape[0]\n",
    "    \n",
    "    for c in df_columns:\n",
    "        nulls = df[c].isnull().sum()\n",
    "        non_nulls = total_records - nulls\n",
    "        element_proportion_serie = df.groupby(c)[c].count()/non_nulls*100\n",
    "\n",
    "        element_list = element_proportion_serie.keys().tolist()\n",
    "        proportion_list = element_proportion_serie.values.tolist()\n",
    "\n",
    "        # masking values whom proportion is below a threshold\n",
    "        outlier_elements = [e for e in element_list if element_proportion_serie[e] < prop_threshold]\n",
    "        for outlier in outlier_elements:\n",
    "            print('outlier: %s, proportion: %s ,column: %s' %(outlier, element_proportion_serie[outlier], c))\n",
    "            df[c].replace(outlier, np.NaN, inplace = True) \n",
    "\n",
    "    return df"
   ]
  },
  {
   "cell_type": "code",
   "execution_count": 22,
   "metadata": {},
   "outputs": [
    {
     "name": "stdout",
     "output_type": "stream",
     "text": [
      "outlier: 14.0, proportion: 0.0005048675543079717 ,column: ANZ_PERSONEN\n",
      "outlier: 15.0, proportion: 0.00037865066573097877 ,column: ANZ_PERSONEN\n",
      "outlier: 16.0, proportion: 0.00012621688857699292 ,column: ANZ_PERSONEN\n",
      "outlier: 17.0, proportion: 0.00012621688857699292 ,column: ANZ_PERSONEN\n",
      "outlier: 18.0, proportion: 0.00012621688857699292 ,column: ANZ_PERSONEN\n",
      "outlier: 20.0, proportion: 0.00037865066573097877 ,column: ANZ_PERSONEN\n",
      "outlier: 21.0, proportion: 0.0005048675543079717 ,column: ANZ_PERSONEN\n",
      "outlier: 22.0, proportion: 0.00025243377715398585 ,column: ANZ_PERSONEN\n",
      "outlier: 23.0, proportion: 0.00025243377715398585 ,column: ANZ_PERSONEN\n",
      "outlier: 31.0, proportion: 0.00012621688857699292 ,column: ANZ_PERSONEN\n",
      "outlier: 35.0, proportion: 0.00012621688857699292 ,column: ANZ_PERSONEN\n",
      "outlier: 37.0, proportion: 0.00025243377715398585 ,column: ANZ_PERSONEN\n",
      "outlier: 38.0, proportion: 0.00025243377715398585 ,column: ANZ_PERSONEN\n",
      "outlier: 40.0, proportion: 0.00012621688857699292 ,column: ANZ_PERSONEN\n",
      "outlier: 45.0, proportion: 0.00012621688857699292 ,column: ANZ_PERSONEN\n",
      "outlier: 3.0, proportion: 0.0006310844428849647 ,column: ANZ_TITEL\n",
      "outlier: 4.0, proportion: 0.00025243377715398585 ,column: ANZ_TITEL\n",
      "outlier: 166.0, proportion: 0.000763254874972491 ,column: ANZ_HAUSHALTE_AKTIV\n",
      "outlier: 168.0, proportion: 0.0003816274374862455 ,column: ANZ_HAUSHALTE_AKTIV\n",
      "outlier: 174.0, proportion: 0.000508836583314994 ,column: ANZ_HAUSHALTE_AKTIV\n",
      "outlier: 191.0, proportion: 0.0008904640208012395 ,column: ANZ_HAUSHALTE_AKTIV\n",
      "outlier: 193.0, proportion: 0.000763254874972491 ,column: ANZ_HAUSHALTE_AKTIV\n",
      "outlier: 197.0, proportion: 0.0006360457291437426 ,column: ANZ_HAUSHALTE_AKTIV\n",
      "outlier: 201.0, proportion: 0.0008904640208012395 ,column: ANZ_HAUSHALTE_AKTIV\n",
      "outlier: 202.0, proportion: 0.000763254874972491 ,column: ANZ_HAUSHALTE_AKTIV\n",
      "outlier: 204.0, proportion: 0.000763254874972491 ,column: ANZ_HAUSHALTE_AKTIV\n",
      "outlier: 205.0, proportion: 0.0006360457291437426 ,column: ANZ_HAUSHALTE_AKTIV\n",
      "outlier: 206.0, proportion: 0.0008904640208012395 ,column: ANZ_HAUSHALTE_AKTIV\n",
      "outlier: 208.0, proportion: 0.0008904640208012395 ,column: ANZ_HAUSHALTE_AKTIV\n",
      "outlier: 211.0, proportion: 0.0008904640208012395 ,column: ANZ_HAUSHALTE_AKTIV\n",
      "outlier: 213.0, proportion: 0.000254418291657497 ,column: ANZ_HAUSHALTE_AKTIV\n",
      "outlier: 214.0, proportion: 0.000763254874972491 ,column: ANZ_HAUSHALTE_AKTIV\n",
      "outlier: 215.0, proportion: 0.000763254874972491 ,column: ANZ_HAUSHALTE_AKTIV\n",
      "outlier: 220.0, proportion: 0.0001272091458287485 ,column: ANZ_HAUSHALTE_AKTIV\n",
      "outlier: 224.0, proportion: 0.0003816274374862455 ,column: ANZ_HAUSHALTE_AKTIV\n",
      "outlier: 226.0, proportion: 0.0003816274374862455 ,column: ANZ_HAUSHALTE_AKTIV\n",
      "outlier: 228.0, proportion: 0.0006360457291437426 ,column: ANZ_HAUSHALTE_AKTIV\n",
      "outlier: 229.0, proportion: 0.0006360457291437426 ,column: ANZ_HAUSHALTE_AKTIV\n",
      "outlier: 231.0, proportion: 0.0006360457291437426 ,column: ANZ_HAUSHALTE_AKTIV\n",
      "outlier: 232.0, proportion: 0.0001272091458287485 ,column: ANZ_HAUSHALTE_AKTIV\n",
      "outlier: 237.0, proportion: 0.000254418291657497 ,column: ANZ_HAUSHALTE_AKTIV\n",
      "outlier: 240.0, proportion: 0.0006360457291437426 ,column: ANZ_HAUSHALTE_AKTIV\n",
      "outlier: 241.0, proportion: 0.0008904640208012395 ,column: ANZ_HAUSHALTE_AKTIV\n",
      "outlier: 242.0, proportion: 0.0008904640208012395 ,column: ANZ_HAUSHALTE_AKTIV\n",
      "outlier: 243.0, proportion: 0.000763254874972491 ,column: ANZ_HAUSHALTE_AKTIV\n",
      "outlier: 244.0, proportion: 0.0003816274374862455 ,column: ANZ_HAUSHALTE_AKTIV\n",
      "outlier: 249.0, proportion: 0.000508836583314994 ,column: ANZ_HAUSHALTE_AKTIV\n",
      "outlier: 250.0, proportion: 0.000508836583314994 ,column: ANZ_HAUSHALTE_AKTIV\n",
      "outlier: 254.0, proportion: 0.000254418291657497 ,column: ANZ_HAUSHALTE_AKTIV\n",
      "outlier: 255.0, proportion: 0.000508836583314994 ,column: ANZ_HAUSHALTE_AKTIV\n",
      "outlier: 256.0, proportion: 0.000508836583314994 ,column: ANZ_HAUSHALTE_AKTIV\n",
      "outlier: 259.0, proportion: 0.000763254874972491 ,column: ANZ_HAUSHALTE_AKTIV\n",
      "outlier: 260.0, proportion: 0.000508836583314994 ,column: ANZ_HAUSHALTE_AKTIV\n",
      "outlier: 263.0, proportion: 0.0006360457291437426 ,column: ANZ_HAUSHALTE_AKTIV\n",
      "outlier: 266.0, proportion: 0.000508836583314994 ,column: ANZ_HAUSHALTE_AKTIV\n",
      "outlier: 267.0, proportion: 0.0008904640208012395 ,column: ANZ_HAUSHALTE_AKTIV\n",
      "outlier: 272.0, proportion: 0.0003816274374862455 ,column: ANZ_HAUSHALTE_AKTIV\n",
      "outlier: 276.0, proportion: 0.0008904640208012395 ,column: ANZ_HAUSHALTE_AKTIV\n",
      "outlier: 280.0, proportion: 0.0006360457291437426 ,column: ANZ_HAUSHALTE_AKTIV\n",
      "outlier: 283.0, proportion: 0.000763254874972491 ,column: ANZ_HAUSHALTE_AKTIV\n",
      "outlier: 285.0, proportion: 0.000508836583314994 ,column: ANZ_HAUSHALTE_AKTIV\n",
      "outlier: 286.0, proportion: 0.0008904640208012395 ,column: ANZ_HAUSHALTE_AKTIV\n",
      "outlier: 290.0, proportion: 0.000763254874972491 ,column: ANZ_HAUSHALTE_AKTIV\n",
      "outlier: 293.0, proportion: 0.0003816274374862455 ,column: ANZ_HAUSHALTE_AKTIV\n",
      "outlier: 301.0, proportion: 0.000508836583314994 ,column: ANZ_HAUSHALTE_AKTIV\n",
      "outlier: 304.0, proportion: 0.000763254874972491 ,column: ANZ_HAUSHALTE_AKTIV\n",
      "outlier: 307.0, proportion: 0.0003816274374862455 ,column: ANZ_HAUSHALTE_AKTIV\n",
      "outlier: 316.0, proportion: 0.0006360457291437426 ,column: ANZ_HAUSHALTE_AKTIV\n",
      "outlier: 317.0, proportion: 0.000763254874972491 ,column: ANZ_HAUSHALTE_AKTIV\n",
      "outlier: 326.0, proportion: 0.000508836583314994 ,column: ANZ_HAUSHALTE_AKTIV\n",
      "outlier: 328.0, proportion: 0.0008904640208012395 ,column: ANZ_HAUSHALTE_AKTIV\n",
      "outlier: 331.0, proportion: 0.000508836583314994 ,column: ANZ_HAUSHALTE_AKTIV\n",
      "outlier: 346.0, proportion: 0.0008904640208012395 ,column: ANZ_HAUSHALTE_AKTIV\n",
      "outlier: 353.0, proportion: 0.0008904640208012395 ,column: ANZ_HAUSHALTE_AKTIV\n",
      "outlier: 366.0, proportion: 0.0001272091458287485 ,column: ANZ_HAUSHALTE_AKTIV\n",
      "outlier: 377.0, proportion: 0.0006360457291437426 ,column: ANZ_HAUSHALTE_AKTIV\n",
      "outlier: 378.0, proportion: 0.0003816274374862455 ,column: ANZ_HAUSHALTE_AKTIV\n",
      "outlier: 379.0, proportion: 0.000763254874972491 ,column: ANZ_HAUSHALTE_AKTIV\n",
      "outlier: 395.0, proportion: 0.0003816274374862455 ,column: ANZ_HAUSHALTE_AKTIV\n",
      "outlier: 404.0, proportion: 0.000254418291657497 ,column: ANZ_HAUSHALTE_AKTIV\n",
      "outlier: 414.0, proportion: 0.0003816274374862455 ,column: ANZ_HAUSHALTE_AKTIV\n",
      "outlier: 430.0, proportion: 0.000763254874972491 ,column: ANZ_HAUSHALTE_AKTIV\n",
      "outlier: 445.0, proportion: 0.0008904640208012395 ,column: ANZ_HAUSHALTE_AKTIV\n",
      "outlier: 515.0, proportion: 0.000508836583314994 ,column: ANZ_HAUSHALTE_AKTIV\n",
      "outlier: 523.0, proportion: 0.000508836583314994 ,column: ANZ_HAUSHALTE_AKTIV\n",
      "outlier: 536.0, proportion: 0.0001272091458287485 ,column: ANZ_HAUSHALTE_AKTIV\n",
      "outlier: 15.0, proportion: 0.0008875488310347932 ,column: ANZ_HH_TITEL\n",
      "outlier: 16.0, proportion: 0.0003803780704434828 ,column: ANZ_HH_TITEL\n",
      "outlier: 18.0, proportion: 0.0007607561408869656 ,column: ANZ_HH_TITEL\n",
      "outlier: 23.0, proportion: 0.0003803780704434828 ,column: ANZ_HH_TITEL\n",
      "outlier: 5.0, proportion: 0.00012621688857699292 ,column: GEBAEUDETYP\n",
      "outlier: 2.0, proportion: 0.0007653939865545791 ,column: KBA13_ANZAHL_PKW\n",
      "outlier: 3.0, proportion: 0.0007653939865545791 ,column: KBA13_ANZAHL_PKW\n",
      "outlier: 4.0, proportion: 0.0007653939865545791 ,column: KBA13_ANZAHL_PKW\n",
      "outlier: 5.0, proportion: 0.0008929596509803421 ,column: KBA13_ANZAHL_PKW\n",
      "outlier: 6.0, proportion: 0.0006378283221288158 ,column: KBA13_ANZAHL_PKW\n",
      "outlier: 7.0, proportion: 0.0006378283221288158 ,column: KBA13_ANZAHL_PKW\n",
      "outlier: 8.0, proportion: 0.0007653939865545791 ,column: KBA13_ANZAHL_PKW\n",
      "outlier: 9.0, proportion: 0.0008929596509803421 ,column: KBA13_ANZAHL_PKW\n",
      "outlier: 11.0, proportion: 0.0008929596509803421 ,column: KBA13_ANZAHL_PKW\n"
     ]
    }
   ],
   "source": [
    "outlier_threshold = 0.001 # percentage\n",
    "df_azdias = mask_outliers(df_azdias, outlier_threshold)"
   ]
  },
  {
   "cell_type": "markdown",
   "metadata": {},
   "source": [
    "#### Discussion 1.1.3: Assess Missing Data in Each Row\n",
    "\n",
    "Again, The criteria for removing some columns was the checking of the histogram generated. Again, in this scenaria it can be seens that the proportion of missing values is above 30 % aprox but I think it requires a more indepth analisis to sharp recordss."
   ]
  },
  {
   "cell_type": "markdown",
   "metadata": {},
   "source": [
    "### Step 1.2: Select and Re-Encode Features\n",
    "\n",
    "Checking for missing data isn't the only way in which you can prepare a dataset for analysis. Since the unsupervised learning techniques to be used will only work on data that is encoded numerically, you need to make a few encoding changes or additional assumptions to be able to make progress. In addition, while almost all of the values in the dataset are encoded using numbers, not all of them represent numeric values. Check the third column of the feature summary (`feat_info`) for a summary of types of measurement.\n",
    "- For numeric and interval data, these features can be kept without changes.\n",
    "- Most of the variables in the dataset are ordinal in nature. While ordinal values may technically be non-linear in spacing, make the simplifying assumption that the ordinal variables can be treated as being interval in nature (that is, kept without any changes).\n",
    "- Special handling may be necessary for the remaining two variable types: categorical, and 'mixed'.\n",
    "\n",
    "In the first two parts of this sub-step, you will perform an investigation of the categorical and mixed-type features and make a decision on each of them, whether you will keep, drop, or re-encode each. Then, in the last part, you will create a new data frame with only the selected and engineered columns.\n",
    "\n",
    "Data wrangling is often the trickiest part of the data analysis process, and there's a lot of it to be done here. But stick with it: once you're done with this step, you'll be ready to get to the machine learning parts of the project!"
   ]
  },
  {
   "cell_type": "code",
   "execution_count": 23,
   "metadata": {},
   "outputs": [
    {
     "data": {
      "text/plain": [
       "ordinal        49\n",
       "categorical    21\n",
       "mixed           7\n",
       "numeric         7\n",
       "interval        1\n",
       "Name: type, dtype: int64"
      ]
     },
     "execution_count": 23,
     "metadata": {},
     "output_type": "execute_result"
    }
   ],
   "source": [
    "# How many features are there of each data type?\n",
    "df_feat_info.type.value_counts()"
   ]
  },
  {
   "cell_type": "markdown",
   "metadata": {},
   "source": [
    "#### Step 1.2.1: Re-Encode Categorical Features\n",
    "\n",
    "For categorical data, you would ordinarily need to encode the levels as dummy variables. Depending on the number of categories, perform one of the following:\n",
    "- For binary (two-level) categoricals that take numeric values, you can keep them without needing to do anything.\n",
    "- There is one binary variable that takes on non-numeric values. For this one, you need to re-encode the values as numbers or create a dummy variable.\n",
    "- For multi-level categoricals (three or more values), you can choose to encode the values using multiple dummy variables (e.g. via [OneHotEncoder](http://scikit-learn.org/stable/modules/generated/sklearn.preprocessing.OneHotEncoder.html)), or (to keep things straightforward) just drop them from the analysis. As always, document your choices in the Discussion section."
   ]
  },
  {
   "cell_type": "code",
   "execution_count": 24,
   "metadata": {},
   "outputs": [
    {
     "data": {
      "text/plain": [
       "(False, True)"
      ]
     },
     "execution_count": 24,
     "metadata": {},
     "output_type": "execute_result"
    }
   ],
   "source": [
    "# not all features from feat_info are present in azdias\n",
    "feat_info_attribute_list = df_feat_info.attribute.tolist()\n",
    "azdias_feat_list = df_azdias.columns.tolist()\n",
    "f_subset_a = set(feat_info_attribute_list).issubset(azdias_feat_list)\n",
    "a_subset_f = set(azdias_feat_list).issubset(feat_info_attribute_list)\n",
    "f_subset_a, a_subset_f"
   ]
  },
  {
   "cell_type": "code",
   "execution_count": 25,
   "metadata": {},
   "outputs": [
    {
     "name": "stdout",
     "output_type": "stream",
     "text": [
      "['AGER_TYP', 'ALTER_HH', 'GEBURTSJAHR', 'KBA05_BAUMAX', 'KK_KUNDENTYP', 'TITEL_KZ']\n"
     ]
    }
   ],
   "source": [
    "# checking what features are not present in azdias\n",
    "feat_not_in_azdias = np.setdiff1d(feat_info_attribute_list,azdias_feat_list).tolist()\n",
    "print(feat_not_in_azdias)"
   ]
  },
  {
   "cell_type": "code",
   "execution_count": 26,
   "metadata": {},
   "outputs": [],
   "source": [
    "# Assess categorical variables: which are binary, which are multi-level, and\n",
    "# which one needs to be re-encoded?\n",
    "\n",
    "# categorical features\n",
    "categorical_features_list = df_feat_info[df_feat_info[\"type\"]==\"categorical\"].attribute.tolist()\n",
    "categorical_features_list_in_df = [x for x in categorical_features_list if x in df_azdias.columns.tolist()]"
   ]
  },
  {
   "cell_type": "code",
   "execution_count": 27,
   "metadata": {},
   "outputs": [],
   "source": [
    "# features\n",
    "categorical_series = df_azdias[categorical_features_list_in_df].nunique().sort_values()"
   ]
  },
  {
   "cell_type": "code",
   "execution_count": 28,
   "metadata": {
    "scrolled": true
   },
   "outputs": [
    {
     "data": {
      "text/html": [
       "<div>\n",
       "<style scoped>\n",
       "    .dataframe tbody tr th:only-of-type {\n",
       "        vertical-align: middle;\n",
       "    }\n",
       "\n",
       "    .dataframe tbody tr th {\n",
       "        vertical-align: top;\n",
       "    }\n",
       "\n",
       "    .dataframe thead th {\n",
       "        text-align: right;\n",
       "    }\n",
       "</style>\n",
       "<table border=\"1\" class=\"dataframe\">\n",
       "  <thead>\n",
       "    <tr style=\"text-align: right;\">\n",
       "      <th></th>\n",
       "      <th>ANREDE_KZ</th>\n",
       "      <th>OST_WEST_KZ</th>\n",
       "      <th>VERS_TYP</th>\n",
       "      <th>SOHO_KZ</th>\n",
       "      <th>GREEN_AVANTGARDE</th>\n",
       "      <th>NATIONALITAET_KZ</th>\n",
       "      <th>SHOPPER_TYP</th>\n",
       "      <th>LP_STATUS_GROB</th>\n",
       "      <th>LP_FAMILIE_GROB</th>\n",
       "      <th>FINANZTYP</th>\n",
       "      <th>ZABEOTYP</th>\n",
       "      <th>GEBAEUDETYP</th>\n",
       "      <th>CJT_GESAMTTYP</th>\n",
       "      <th>CAMEO_DEUG_2015</th>\n",
       "      <th>LP_STATUS_FEIN</th>\n",
       "      <th>LP_FAMILIE_FEIN</th>\n",
       "      <th>GFK_URLAUBERTYP</th>\n",
       "      <th>CAMEO_DEU_2015</th>\n",
       "    </tr>\n",
       "  </thead>\n",
       "  <tbody>\n",
       "    <tr>\n",
       "      <th>1</th>\n",
       "      <td>2</td>\n",
       "      <td>W</td>\n",
       "      <td>2.0</td>\n",
       "      <td>1.0</td>\n",
       "      <td>0</td>\n",
       "      <td>1.0</td>\n",
       "      <td>3.0</td>\n",
       "      <td>1.0</td>\n",
       "      <td>3.0</td>\n",
       "      <td>1</td>\n",
       "      <td>5</td>\n",
       "      <td>8.0</td>\n",
       "      <td>5.0</td>\n",
       "      <td>8</td>\n",
       "      <td>2.0</td>\n",
       "      <td>5.0</td>\n",
       "      <td>10.0</td>\n",
       "      <td>8A</td>\n",
       "    </tr>\n",
       "    <tr>\n",
       "      <th>2</th>\n",
       "      <td>2</td>\n",
       "      <td>W</td>\n",
       "      <td>1.0</td>\n",
       "      <td>0.0</td>\n",
       "      <td>1</td>\n",
       "      <td>1.0</td>\n",
       "      <td>2.0</td>\n",
       "      <td>2.0</td>\n",
       "      <td>1.0</td>\n",
       "      <td>1</td>\n",
       "      <td>5</td>\n",
       "      <td>1.0</td>\n",
       "      <td>3.0</td>\n",
       "      <td>4</td>\n",
       "      <td>3.0</td>\n",
       "      <td>1.0</td>\n",
       "      <td>10.0</td>\n",
       "      <td>4C</td>\n",
       "    </tr>\n",
       "    <tr>\n",
       "      <th>3</th>\n",
       "      <td>2</td>\n",
       "      <td>W</td>\n",
       "      <td>1.0</td>\n",
       "      <td>0.0</td>\n",
       "      <td>0</td>\n",
       "      <td>1.0</td>\n",
       "      <td>1.0</td>\n",
       "      <td>4.0</td>\n",
       "      <td>NaN</td>\n",
       "      <td>6</td>\n",
       "      <td>3</td>\n",
       "      <td>1.0</td>\n",
       "      <td>2.0</td>\n",
       "      <td>2</td>\n",
       "      <td>9.0</td>\n",
       "      <td>NaN</td>\n",
       "      <td>1.0</td>\n",
       "      <td>2A</td>\n",
       "    </tr>\n",
       "    <tr>\n",
       "      <th>4</th>\n",
       "      <td>1</td>\n",
       "      <td>W</td>\n",
       "      <td>2.0</td>\n",
       "      <td>0.0</td>\n",
       "      <td>0</td>\n",
       "      <td>1.0</td>\n",
       "      <td>2.0</td>\n",
       "      <td>2.0</td>\n",
       "      <td>5.0</td>\n",
       "      <td>5</td>\n",
       "      <td>4</td>\n",
       "      <td>1.0</td>\n",
       "      <td>5.0</td>\n",
       "      <td>6</td>\n",
       "      <td>3.0</td>\n",
       "      <td>10.0</td>\n",
       "      <td>5.0</td>\n",
       "      <td>6B</td>\n",
       "    </tr>\n",
       "    <tr>\n",
       "      <th>5</th>\n",
       "      <td>2</td>\n",
       "      <td>W</td>\n",
       "      <td>2.0</td>\n",
       "      <td>0.0</td>\n",
       "      <td>0</td>\n",
       "      <td>1.0</td>\n",
       "      <td>0.0</td>\n",
       "      <td>2.0</td>\n",
       "      <td>1.0</td>\n",
       "      <td>2</td>\n",
       "      <td>4</td>\n",
       "      <td>1.0</td>\n",
       "      <td>2.0</td>\n",
       "      <td>8</td>\n",
       "      <td>4.0</td>\n",
       "      <td>1.0</td>\n",
       "      <td>1.0</td>\n",
       "      <td>8C</td>\n",
       "    </tr>\n",
       "  </tbody>\n",
       "</table>\n",
       "</div>"
      ],
      "text/plain": [
       "   ANREDE_KZ OST_WEST_KZ  VERS_TYP  SOHO_KZ  GREEN_AVANTGARDE  \\\n",
       "1          2           W       2.0      1.0                 0   \n",
       "2          2           W       1.0      0.0                 1   \n",
       "3          2           W       1.0      0.0                 0   \n",
       "4          1           W       2.0      0.0                 0   \n",
       "5          2           W       2.0      0.0                 0   \n",
       "\n",
       "   NATIONALITAET_KZ  SHOPPER_TYP  LP_STATUS_GROB  LP_FAMILIE_GROB  FINANZTYP  \\\n",
       "1               1.0          3.0             1.0              3.0          1   \n",
       "2               1.0          2.0             2.0              1.0          1   \n",
       "3               1.0          1.0             4.0              NaN          6   \n",
       "4               1.0          2.0             2.0              5.0          5   \n",
       "5               1.0          0.0             2.0              1.0          2   \n",
       "\n",
       "   ZABEOTYP  GEBAEUDETYP  CJT_GESAMTTYP CAMEO_DEUG_2015  LP_STATUS_FEIN  \\\n",
       "1         5          8.0            5.0               8             2.0   \n",
       "2         5          1.0            3.0               4             3.0   \n",
       "3         3          1.0            2.0               2             9.0   \n",
       "4         4          1.0            5.0               6             3.0   \n",
       "5         4          1.0            2.0               8             4.0   \n",
       "\n",
       "   LP_FAMILIE_FEIN  GFK_URLAUBERTYP CAMEO_DEU_2015  \n",
       "1              5.0             10.0             8A  \n",
       "2              1.0             10.0             4C  \n",
       "3              NaN              1.0             2A  \n",
       "4             10.0              5.0             6B  \n",
       "5              1.0              1.0             8C  "
      ]
     },
     "execution_count": 28,
     "metadata": {},
     "output_type": "execute_result"
    }
   ],
   "source": [
    "df_azdias[categorical_series.index].head()"
   ]
  },
  {
   "cell_type": "code",
   "execution_count": 29,
   "metadata": {},
   "outputs": [],
   "source": [
    "# getting booleans with for binary or non binary categorical features\n",
    "# false values are the binary\n",
    "boolean_not_binary_series = categorical_series > 2 \n",
    "not_binary_features_list = boolean_not_binary_series[boolean_not_binary_series].index.tolist()"
   ]
  },
  {
   "cell_type": "code",
   "execution_count": 30,
   "metadata": {},
   "outputs": [
    {
     "data": {
      "text/plain": [
       "True"
      ]
     },
     "execution_count": 30,
     "metadata": {},
     "output_type": "execute_result"
    }
   ],
   "source": [
    "# checking that features are present in azdias\n",
    "set(not_binary_features_list).issubset(df_azdias.columns)"
   ]
  },
  {
   "cell_type": "code",
   "execution_count": 31,
   "metadata": {},
   "outputs": [],
   "source": [
    "# Re-encode categorical variable(s) to be kept in the analysis.\n",
    "df_azdias = pd.get_dummies(df_azdias, columns = not_binary_features_list)"
   ]
  },
  {
   "cell_type": "code",
   "execution_count": 32,
   "metadata": {},
   "outputs": [
    {
     "data": {
      "text/plain": [
       "False"
      ]
     },
     "execution_count": 32,
     "metadata": {},
     "output_type": "execute_result"
    }
   ],
   "source": [
    "# checking that not binary categorical features are not present in azdias after encoding\n",
    "set(not_binary_features_list).issubset(df_azdias.columns)\n",
    "# df_azdias.drop(not_binary_features_list, axis = 1, inplace=True) # not necesary"
   ]
  },
  {
   "cell_type": "code",
   "execution_count": 33,
   "metadata": {},
   "outputs": [],
   "source": [
    "# unique binary categorical feature with letters\n",
    "df_azdias.OST_WEST_KZ.replace({'O': 0, 'W': 1}, inplace=True)"
   ]
  },
  {
   "cell_type": "code",
   "execution_count": 34,
   "metadata": {},
   "outputs": [
    {
     "data": {
      "text/html": [
       "<div>\n",
       "<style scoped>\n",
       "    .dataframe tbody tr th:only-of-type {\n",
       "        vertical-align: middle;\n",
       "    }\n",
       "\n",
       "    .dataframe tbody tr th {\n",
       "        vertical-align: top;\n",
       "    }\n",
       "\n",
       "    .dataframe thead th {\n",
       "        text-align: right;\n",
       "    }\n",
       "</style>\n",
       "<table border=\"1\" class=\"dataframe\">\n",
       "  <thead>\n",
       "    <tr style=\"text-align: right;\">\n",
       "      <th></th>\n",
       "      <th>ALTERSKATEGORIE_GROB</th>\n",
       "      <th>ANREDE_KZ</th>\n",
       "      <th>FINANZ_MINIMALIST</th>\n",
       "      <th>FINANZ_SPARER</th>\n",
       "      <th>FINANZ_VORSORGER</th>\n",
       "      <th>FINANZ_ANLEGER</th>\n",
       "      <th>FINANZ_UNAUFFAELLIGER</th>\n",
       "      <th>FINANZ_HAUSBAUER</th>\n",
       "      <th>GREEN_AVANTGARDE</th>\n",
       "      <th>HEALTH_TYP</th>\n",
       "      <th>...</th>\n",
       "      <th>CAMEO_DEU_2015_7E</th>\n",
       "      <th>CAMEO_DEU_2015_8A</th>\n",
       "      <th>CAMEO_DEU_2015_8B</th>\n",
       "      <th>CAMEO_DEU_2015_8C</th>\n",
       "      <th>CAMEO_DEU_2015_8D</th>\n",
       "      <th>CAMEO_DEU_2015_9A</th>\n",
       "      <th>CAMEO_DEU_2015_9B</th>\n",
       "      <th>CAMEO_DEU_2015_9C</th>\n",
       "      <th>CAMEO_DEU_2015_9D</th>\n",
       "      <th>CAMEO_DEU_2015_9E</th>\n",
       "    </tr>\n",
       "  </thead>\n",
       "  <tbody>\n",
       "    <tr>\n",
       "      <th>1</th>\n",
       "      <td>1.0</td>\n",
       "      <td>2</td>\n",
       "      <td>1</td>\n",
       "      <td>5</td>\n",
       "      <td>2</td>\n",
       "      <td>5</td>\n",
       "      <td>4</td>\n",
       "      <td>5</td>\n",
       "      <td>0</td>\n",
       "      <td>3.0</td>\n",
       "      <td>...</td>\n",
       "      <td>0</td>\n",
       "      <td>1</td>\n",
       "      <td>0</td>\n",
       "      <td>0</td>\n",
       "      <td>0</td>\n",
       "      <td>0</td>\n",
       "      <td>0</td>\n",
       "      <td>0</td>\n",
       "      <td>0</td>\n",
       "      <td>0</td>\n",
       "    </tr>\n",
       "    <tr>\n",
       "      <th>2</th>\n",
       "      <td>3.0</td>\n",
       "      <td>2</td>\n",
       "      <td>1</td>\n",
       "      <td>4</td>\n",
       "      <td>1</td>\n",
       "      <td>2</td>\n",
       "      <td>3</td>\n",
       "      <td>5</td>\n",
       "      <td>1</td>\n",
       "      <td>3.0</td>\n",
       "      <td>...</td>\n",
       "      <td>0</td>\n",
       "      <td>0</td>\n",
       "      <td>0</td>\n",
       "      <td>0</td>\n",
       "      <td>0</td>\n",
       "      <td>0</td>\n",
       "      <td>0</td>\n",
       "      <td>0</td>\n",
       "      <td>0</td>\n",
       "      <td>0</td>\n",
       "    </tr>\n",
       "    <tr>\n",
       "      <th>3</th>\n",
       "      <td>4.0</td>\n",
       "      <td>2</td>\n",
       "      <td>4</td>\n",
       "      <td>2</td>\n",
       "      <td>5</td>\n",
       "      <td>2</td>\n",
       "      <td>1</td>\n",
       "      <td>2</td>\n",
       "      <td>0</td>\n",
       "      <td>2.0</td>\n",
       "      <td>...</td>\n",
       "      <td>0</td>\n",
       "      <td>0</td>\n",
       "      <td>0</td>\n",
       "      <td>0</td>\n",
       "      <td>0</td>\n",
       "      <td>0</td>\n",
       "      <td>0</td>\n",
       "      <td>0</td>\n",
       "      <td>0</td>\n",
       "      <td>0</td>\n",
       "    </tr>\n",
       "    <tr>\n",
       "      <th>4</th>\n",
       "      <td>3.0</td>\n",
       "      <td>1</td>\n",
       "      <td>4</td>\n",
       "      <td>3</td>\n",
       "      <td>4</td>\n",
       "      <td>1</td>\n",
       "      <td>3</td>\n",
       "      <td>2</td>\n",
       "      <td>0</td>\n",
       "      <td>3.0</td>\n",
       "      <td>...</td>\n",
       "      <td>0</td>\n",
       "      <td>0</td>\n",
       "      <td>0</td>\n",
       "      <td>0</td>\n",
       "      <td>0</td>\n",
       "      <td>0</td>\n",
       "      <td>0</td>\n",
       "      <td>0</td>\n",
       "      <td>0</td>\n",
       "      <td>0</td>\n",
       "    </tr>\n",
       "    <tr>\n",
       "      <th>5</th>\n",
       "      <td>1.0</td>\n",
       "      <td>2</td>\n",
       "      <td>3</td>\n",
       "      <td>1</td>\n",
       "      <td>5</td>\n",
       "      <td>2</td>\n",
       "      <td>2</td>\n",
       "      <td>5</td>\n",
       "      <td>0</td>\n",
       "      <td>3.0</td>\n",
       "      <td>...</td>\n",
       "      <td>0</td>\n",
       "      <td>0</td>\n",
       "      <td>0</td>\n",
       "      <td>1</td>\n",
       "      <td>0</td>\n",
       "      <td>0</td>\n",
       "      <td>0</td>\n",
       "      <td>0</td>\n",
       "      <td>0</td>\n",
       "      <td>0</td>\n",
       "    </tr>\n",
       "  </tbody>\n",
       "</table>\n",
       "<p>5 rows × 193 columns</p>\n",
       "</div>"
      ],
      "text/plain": [
       "   ALTERSKATEGORIE_GROB  ANREDE_KZ  FINANZ_MINIMALIST  FINANZ_SPARER  \\\n",
       "1                   1.0          2                  1              5   \n",
       "2                   3.0          2                  1              4   \n",
       "3                   4.0          2                  4              2   \n",
       "4                   3.0          1                  4              3   \n",
       "5                   1.0          2                  3              1   \n",
       "\n",
       "   FINANZ_VORSORGER  FINANZ_ANLEGER  FINANZ_UNAUFFAELLIGER  FINANZ_HAUSBAUER  \\\n",
       "1                 2               5                      4                 5   \n",
       "2                 1               2                      3                 5   \n",
       "3                 5               2                      1                 2   \n",
       "4                 4               1                      3                 2   \n",
       "5                 5               2                      2                 5   \n",
       "\n",
       "   GREEN_AVANTGARDE  HEALTH_TYP        ...          CAMEO_DEU_2015_7E  \\\n",
       "1                 0         3.0        ...                          0   \n",
       "2                 1         3.0        ...                          0   \n",
       "3                 0         2.0        ...                          0   \n",
       "4                 0         3.0        ...                          0   \n",
       "5                 0         3.0        ...                          0   \n",
       "\n",
       "   CAMEO_DEU_2015_8A  CAMEO_DEU_2015_8B  CAMEO_DEU_2015_8C  CAMEO_DEU_2015_8D  \\\n",
       "1                  1                  0                  0                  0   \n",
       "2                  0                  0                  0                  0   \n",
       "3                  0                  0                  0                  0   \n",
       "4                  0                  0                  0                  0   \n",
       "5                  0                  0                  1                  0   \n",
       "\n",
       "   CAMEO_DEU_2015_9A  CAMEO_DEU_2015_9B  CAMEO_DEU_2015_9C  CAMEO_DEU_2015_9D  \\\n",
       "1                  0                  0                  0                  0   \n",
       "2                  0                  0                  0                  0   \n",
       "3                  0                  0                  0                  0   \n",
       "4                  0                  0                  0                  0   \n",
       "5                  0                  0                  0                  0   \n",
       "\n",
       "   CAMEO_DEU_2015_9E  \n",
       "1                  0  \n",
       "2                  0  \n",
       "3                  0  \n",
       "4                  0  \n",
       "5                  0  \n",
       "\n",
       "[5 rows x 193 columns]"
      ]
     },
     "execution_count": 34,
     "metadata": {},
     "output_type": "execute_result"
    }
   ],
   "source": [
    "df_azdias.head()"
   ]
  },
  {
   "cell_type": "markdown",
   "metadata": {},
   "source": [
    "#### Discussion 1.2.1: Re-Encode Categorical Features\n",
    "\n",
    "So first it was necesary to identify the categorical features present in the dataset already pre procesed. Then, identify if it was multi or binary categories. For the first type the process is to one hot encode and for the other the only one to be encode was OST_WEST_KZ because it conteined string values."
   ]
  },
  {
   "cell_type": "markdown",
   "metadata": {},
   "source": [
    "#### Step 1.2.2: Engineer Mixed-Type Features\n",
    "\n",
    "There are a handful of features that are marked as \"mixed\" in the feature summary that require special treatment in order to be included in the analysis. There are two in particular that deserve attention; the handling of the rest are up to your own choices:\n",
    "- \"PRAEGENDE_JUGENDJAHRE\" combines information on three dimensions: generation by decade, movement (mainstream vs. avantgarde), and nation (east vs. west). While there aren't enough levels to disentangle east from west, you should create two new variables to capture the other two dimensions: an interval-type variable for decade, and a binary variable for movement.\n",
    "- \"CAMEO_INTL_2015\" combines information on two axes: wealth and life stage. Break up the two-digit codes by their 'tens'-place and 'ones'-place digits into two new ordinal variables (which, for the purposes of this project, is equivalent to just treating them as their raw numeric values).\n",
    "- If you decide to keep or engineer new features around the other mixed-type features, make sure you note your steps in the Discussion section.\n",
    "\n",
    "Be sure to check `Data_Dictionary.md` for the details needed to finish these tasks."
   ]
  },
  {
   "cell_type": "code",
   "execution_count": 35,
   "metadata": {},
   "outputs": [
    {
     "data": {
      "text/html": [
       "<div>\n",
       "<style scoped>\n",
       "    .dataframe tbody tr th:only-of-type {\n",
       "        vertical-align: middle;\n",
       "    }\n",
       "\n",
       "    .dataframe tbody tr th {\n",
       "        vertical-align: top;\n",
       "    }\n",
       "\n",
       "    .dataframe thead th {\n",
       "        text-align: right;\n",
       "    }\n",
       "</style>\n",
       "<table border=\"1\" class=\"dataframe\">\n",
       "  <thead>\n",
       "    <tr style=\"text-align: right;\">\n",
       "      <th></th>\n",
       "      <th>attribute</th>\n",
       "      <th>information_level</th>\n",
       "      <th>type</th>\n",
       "      <th>missing_or_unknown</th>\n",
       "    </tr>\n",
       "  </thead>\n",
       "  <tbody>\n",
       "    <tr>\n",
       "      <th>15</th>\n",
       "      <td>LP_LEBENSPHASE_FEIN</td>\n",
       "      <td>person</td>\n",
       "      <td>mixed</td>\n",
       "      <td>[0]</td>\n",
       "    </tr>\n",
       "    <tr>\n",
       "      <th>16</th>\n",
       "      <td>LP_LEBENSPHASE_GROB</td>\n",
       "      <td>person</td>\n",
       "      <td>mixed</td>\n",
       "      <td>[0]</td>\n",
       "    </tr>\n",
       "    <tr>\n",
       "      <th>22</th>\n",
       "      <td>PRAEGENDE_JUGENDJAHRE</td>\n",
       "      <td>person</td>\n",
       "      <td>mixed</td>\n",
       "      <td>[-1,0]</td>\n",
       "    </tr>\n",
       "    <tr>\n",
       "      <th>56</th>\n",
       "      <td>WOHNLAGE</td>\n",
       "      <td>building</td>\n",
       "      <td>mixed</td>\n",
       "      <td>[-1]</td>\n",
       "    </tr>\n",
       "    <tr>\n",
       "      <th>59</th>\n",
       "      <td>CAMEO_INTL_2015</td>\n",
       "      <td>microcell_rr4</td>\n",
       "      <td>mixed</td>\n",
       "      <td>[-1,XX]</td>\n",
       "    </tr>\n",
       "    <tr>\n",
       "      <th>64</th>\n",
       "      <td>KBA05_BAUMAX</td>\n",
       "      <td>microcell_rr3</td>\n",
       "      <td>mixed</td>\n",
       "      <td>[-1,0]</td>\n",
       "    </tr>\n",
       "    <tr>\n",
       "      <th>79</th>\n",
       "      <td>PLZ8_BAUMAX</td>\n",
       "      <td>macrocell_plz8</td>\n",
       "      <td>mixed</td>\n",
       "      <td>[-1,0]</td>\n",
       "    </tr>\n",
       "  </tbody>\n",
       "</table>\n",
       "</div>"
      ],
      "text/plain": [
       "                attribute information_level   type missing_or_unknown\n",
       "15    LP_LEBENSPHASE_FEIN            person  mixed                [0]\n",
       "16    LP_LEBENSPHASE_GROB            person  mixed                [0]\n",
       "22  PRAEGENDE_JUGENDJAHRE            person  mixed             [-1,0]\n",
       "56               WOHNLAGE          building  mixed               [-1]\n",
       "59        CAMEO_INTL_2015     microcell_rr4  mixed            [-1,XX]\n",
       "64           KBA05_BAUMAX     microcell_rr3  mixed             [-1,0]\n",
       "79            PLZ8_BAUMAX    macrocell_plz8  mixed             [-1,0]"
      ]
     },
     "execution_count": 35,
     "metadata": {},
     "output_type": "execute_result"
    }
   ],
   "source": [
    "df_feat_info[df_feat_info['type'] == 'mixed']"
   ]
  },
  {
   "cell_type": "code",
   "execution_count": 36,
   "metadata": {},
   "outputs": [
    {
     "name": "stdout",
     "output_type": "stream",
     "text": [
      "[14.0, 15.0, 8.0, 3.0, 10.0, 11.0, 5.0, 9.0, 6.0, 4.0, nan, 2.0, 1.0, 12.0, 13.0, 7.0]\n"
     ]
    }
   ],
   "source": [
    "# Investigate \"PRAEGENDE_JUGENDJAHRE\" and engineer two new variables.\n",
    "print(df_azdias['PRAEGENDE_JUGENDJAHRE'].unique().tolist())"
   ]
  },
  {
   "cell_type": "code",
   "execution_count": 37,
   "metadata": {},
   "outputs": [],
   "source": [
    "# from the docs PRAEGENDE_JUGENDJAHRE  is condensed in two representative variables: decade and movement\n",
    "\n",
    "def features_from_PRAEGENDE_JUGENDJAHRE(df_azdias):\n",
    "    df_azdias.loc[df_azdias['PRAEGENDE_JUGENDJAHRE'].isin([1,2]), 'DECADE'] = '40s'\n",
    "    df_azdias.loc[df_azdias['PRAEGENDE_JUGENDJAHRE'].isin([3,4]), 'DECADE'] = '50s'\n",
    "    df_azdias.loc[df_azdias['PRAEGENDE_JUGENDJAHRE'].isin([5,6,7]), 'DECADE'] = '60s'\n",
    "    df_azdias.loc[df_azdias['PRAEGENDE_JUGENDJAHRE'].isin([8,9]), 'DECADE'] = '70s'\n",
    "    df_azdias.loc[df_azdias['PRAEGENDE_JUGENDJAHRE'].isin([10,11,12,13]), 'DECADE'] = '80s'\n",
    "    df_azdias.loc[df_azdias['PRAEGENDE_JUGENDJAHRE'].isin([14,15]), 'DECADE'] = '90s'\n",
    "    df_azdias.loc[df_azdias['PRAEGENDE_JUGENDJAHRE'].isin([1,3,5,8,10,12,14]), 'MOVEMENT'] = 'Mainstream'\n",
    "    df_azdias.loc[df_azdias['PRAEGENDE_JUGENDJAHRE'].isin([2,46,7,9,11,13,15]), 'MOVEMENT'] = 'Avantgarde'\n",
    "    return df_azdias\n",
    "\n",
    "df_azdias = features_from_PRAEGENDE_JUGENDJAHRE(df_azdias)"
   ]
  },
  {
   "cell_type": "code",
   "execution_count": 38,
   "metadata": {},
   "outputs": [],
   "source": [
    "# Investigate \"CAMEO_INTL_2015\" and engineer two new variables.\n",
    "\n",
    "def features_from_CAMEO_INTL_2015(df_azdias):\n",
    "    df_azdias[\"CAMEO_INTL_2015\"] = df_azdias[\"CAMEO_INTL_2015\"].astype(float)\n",
    "\n",
    "    df_azdias.loc[df_azdias[\"CAMEO_INTL_2015\"] // 10 == 1.0, 'WEALTH'] = 'Wealthy Households'\n",
    "    df_azdias.loc[df_azdias[\"CAMEO_INTL_2015\"] // 10 == 2.0, 'WEALTH'] = 'Prosperous Households'\n",
    "    df_azdias.loc[df_azdias[\"CAMEO_INTL_2015\"] // 10 == 3.0, 'WEALTH'] = 'Comfortable Households'\n",
    "    df_azdias.loc[df_azdias[\"CAMEO_INTL_2015\"] // 10 == 4.0, 'WEALTH'] = 'Less Affluent Households'\n",
    "    df_azdias.loc[df_azdias[\"CAMEO_INTL_2015\"] // 10 == 5.0, 'WEALTH'] = 'Poorer Households'\n",
    "    df_azdias.loc[df_azdias[\"CAMEO_INTL_2015\"] % 10 == 1.0, 'LIFE_STAGE'] = 'Pre-Family Couples & Singles'\n",
    "    df_azdias.loc[df_azdias[\"CAMEO_INTL_2015\"] % 10 == 2.0, 'LIFE_STAGE'] = 'Young Couples With Children'\n",
    "    df_azdias.loc[df_azdias[\"CAMEO_INTL_2015\"] % 10 == 3.0, 'LIFE_STAGE'] = 'Families With School Age Children'\n",
    "    df_azdias.loc[df_azdias[\"CAMEO_INTL_2015\"] % 10 == 4.0, 'LIFE_STAGE'] = 'Older Families &  Mature Couples'\n",
    "    df_azdias.loc[df_azdias[\"CAMEO_INTL_2015\"] % 10 == 5.0, 'LIFE_STAGE'] = 'Elders In Retirement'\n",
    "    return df_azdias\n",
    "\n",
    "df_azdias = features_from_CAMEO_INTL_2015(df_azdias)"
   ]
  },
  {
   "cell_type": "markdown",
   "metadata": {},
   "source": [
    "#### Discussion 1.2.2: Engineer Mixed-Type Features\n",
    "\n",
    "To engineer this mixed types features it was necesary to analize the .md file with the features detail. These two features have data inside so it was necesary to extract it as part of the azdias dataframe columns. The way i've done it is not very fancy but works."
   ]
  },
  {
   "cell_type": "markdown",
   "metadata": {},
   "source": [
    "#### Step 1.2.3: Complete Feature Selection\n",
    "\n",
    "In order to finish this step up, you need to make sure that your data frame now only has the columns that you want to keep. To summarize, the dataframe should consist of the following:\n",
    "- All numeric, interval, and ordinal type columns from the original dataset.\n",
    "- Binary categorical features (all numerically-encoded).\n",
    "- Engineered features from other multi-level categorical features and mixed features.\n",
    "\n",
    "Make sure that for any new columns that you have engineered, that you've excluded the original columns from the final dataset. Otherwise, their values will interfere with the analysis later on the project. For example, you should not keep \"PRAEGENDE_JUGENDJAHRE\", since its values won't be useful for the algorithm: only the values derived from it in the engineered features you created should be retained. As a reminder, your data should only be from **the subset with few or no missing values**."
   ]
  },
  {
   "cell_type": "code",
   "execution_count": 39,
   "metadata": {},
   "outputs": [],
   "source": [
    "# If there are other re-engineering tasks you need to perform, make sure you\n",
    "# take care of them here. (Dealing with missing data will come in step 2.1.)\n",
    "\n",
    "# One-hot encode PRAEGENDE_JUGENDJAHRE new features\n",
    "df_azdias = pd.get_dummies(df_azdias, columns = ['DECADE', 'MOVEMENT'])\n",
    "# Drop the original feature\n",
    "df_azdias.drop('PRAEGENDE_JUGENDJAHRE', axis = 1, inplace=True)"
   ]
  },
  {
   "cell_type": "code",
   "execution_count": 40,
   "metadata": {},
   "outputs": [],
   "source": [
    "# same for CAMEO_INTL_2015 extracted features\n",
    "df_azdias = pd.get_dummies(df_azdias, columns = ['WEALTH', 'LIFE_STAGE'])\n",
    "# Drop the original feature\n",
    "df_azdias.drop('CAMEO_INTL_2015', axis = 1, inplace=True)"
   ]
  },
  {
   "cell_type": "markdown",
   "metadata": {},
   "source": [
    "### Step 1.3: Create a Cleaning Function\n",
    "\n",
    "Even though you've finished cleaning up the general population demographics data, it's important to look ahead to the future and realize that you'll need to perform the same cleaning steps on the customer demographics data. In this substep, complete the function below to execute the main feature selection, encoding, and re-engineering steps you performed above. Then, when it comes to looking at the customer data in Step 3, you can just run this function on that DataFrame to get the trimmed dataset in a single step."
   ]
  },
  {
   "cell_type": "code",
   "execution_count": 41,
   "metadata": {},
   "outputs": [],
   "source": [
    "def clean_data(df, row_proportion_thresh, col_proportion_thresh, outlier_threshold):\n",
    "    \"\"\"\n",
    "    Perform feature trimming, re-encoding, and engineering for demographics\n",
    "    data\n",
    "    \n",
    "    INPUT: Demographics DataFrame\n",
    "    OUTPUT: Trimmed and cleaned demographics DataFrame\n",
    "    \"\"\"\n",
    "    \n",
    "    # Put in code here to execute all main cleaning steps:\n",
    "    # convert missing value codes into NaNs, ...\n",
    "    X_labeled_missing_values = df_feat_info[df_feat_info.missing_or_unknown.isin(['[-1,X]','[XX]', '[-1,XX]'])]\n",
    "    x_labeld_list = X_labeled_missing_values.attribute.tolist()\n",
    "    for column in df.columns:\n",
    "        feature = df_feat_info[df_feat_info['attribute'] == column].iloc[0]\n",
    "        feature_unknow_label = feature['missing_or_unknown']\n",
    "        if feature['attribute'] in x_labeld_list:\n",
    "            x_str = feature_unknow_label[1:-1].split(',')\n",
    "            missing_labels = [int(value) if 'X' not in value else value for value in x_str]\n",
    "        else:\n",
    "            missing_labels = ast.literal_eval(feature_unknow_label)\n",
    "        for label in missing_labels:\n",
    "            df[column].replace(label, np.NaN, inplace = True) \n",
    "  \n",
    "    # remove selected columns and rows, ...\n",
    "    column_null_list = df.isnull().sum()\n",
    "    column_null_proportion = column_null_list / len(df) * 100\n",
    "    column_outliers = column_null_proportion[column_null_proportion > col_proportion_thresh]\n",
    "    df.drop(column_outliers.index, axis=1, inplace=True) \n",
    "    print('outlier columns removed: %s' % column_outliers)\n",
    "    row_null_list = df.isnull().sum(axis=1)\n",
    "    row_null_proportion = row_null_list / len(df.columns) * 100\n",
    "    rows_outliers = row_null_proportion[row_null_proportion > row_proportion_thresh]\n",
    "    df.drop(rows_outliers.index, axis=0, inplace=True) \n",
    "    \n",
    "    # removing outliers\n",
    "    df = mask_outliers(df, outlier_threshold)\n",
    "\n",
    "    # select, re-encode, and engineer column values.\n",
    "    categorical_features_list = df_feat_info[df_feat_info[\"type\"]==\"categorical\"].attribute.tolist()\n",
    "    categorical_features_list_in_df = [x for x in categorical_features_list if x in df.columns.tolist()]\n",
    "    categorical_series = df[categorical_features_list_in_df].nunique().sort_values()\n",
    "    boolean_not_binary_series = categorical_series > 2 \n",
    "    not_binary_features_list = boolean_not_binary_series[boolean_not_binary_series].index.tolist()\n",
    "    df = pd.get_dummies(df, columns = not_binary_features_list)    \n",
    "    df.OST_WEST_KZ.replace({'O': 0, 'W': 1}, inplace=True)\n",
    "        \n",
    "    # One-hot encode \n",
    "    df = features_from_PRAEGENDE_JUGENDJAHRE(df)\n",
    "    df = features_from_CAMEO_INTL_2015(df)\n",
    "    df = pd.get_dummies(df, columns = ['DECADE', 'MOVEMENT'])\n",
    "    df.drop('PRAEGENDE_JUGENDJAHRE', axis = 1, inplace=True)\n",
    "    df = pd.get_dummies(df, columns = ['WEALTH', 'LIFE_STAGE'])\n",
    "    df.drop('CAMEO_INTL_2015', axis = 1, inplace=True)\n",
    "\n",
    "    # Return the cleaned dataframe.\n",
    "    \n",
    "    return df"
   ]
  },
  {
   "cell_type": "markdown",
   "metadata": {},
   "source": [
    "## Step 2: Feature Transformation\n",
    "\n",
    "### Step 2.1: Apply Feature Scaling\n",
    "\n",
    "Before we apply dimensionality reduction techniques to the data, we need to perform feature scaling so that the principal component vectors are not influenced by the natural differences in scale for features. Starting from this part of the project, you'll want to keep an eye on the [API reference page for sklearn](http://scikit-learn.org/stable/modules/classes.html) to help you navigate to all of the classes and functions that you'll need. In this substep, you'll need to check the following:\n",
    "\n",
    "- sklearn requires that data not have missing values in order for its estimators to work properly. So, before applying the scaler to your data, make sure that you've cleaned the DataFrame of the remaining missing values. This can be as simple as just removing all data points with missing data, or applying an [Imputer](http://scikit-learn.org/stable/modules/generated/sklearn.preprocessing.Imputer.html) to replace all missing values. You might also try a more complicated procedure where you temporarily remove missing values in order to compute the scaling parameters before re-introducing those missing values and applying imputation. Think about how much missing data you have and what possible effects each approach might have on your analysis, and justify your decision in the discussion section below.\n",
    "- For the actual scaling function, a [StandardScaler](http://scikit-learn.org/stable/modules/generated/sklearn.preprocessing.StandardScaler.html) instance is suggested, scaling each feature to mean 0 and standard deviation 1.\n",
    "- For these classes, you can make use of the `.fit_transform()` method to both fit a procedure to the data as well as apply the transformation to the data at the same time. Don't forget to keep the fit sklearn objects handy, since you'll be applying them to the customer demographics data towards the end of the project."
   ]
  },
  {
   "cell_type": "code",
   "execution_count": 42,
   "metadata": {},
   "outputs": [
    {
     "name": "stdout",
     "output_type": "stream",
     "text": [
      "<class 'pandas.core.frame.DataFrame'>\n",
      "Int64Index: 792287 entries, 1 to 891220\n",
      "Columns: 209 entries, ALTERSKATEGORIE_GROB to LIFE_STAGE_Young Couples With Children\n",
      "dtypes: float64(41), int64(23), uint8(145)\n",
      "memory usage: 502.5 MB\n"
     ]
    }
   ],
   "source": [
    "# If you've not yet cleaned the dataset of all NaN values, then investigate and\n",
    "# do that now.\n",
    "df_azdias.info()"
   ]
  },
  {
   "cell_type": "code",
   "execution_count": 43,
   "metadata": {},
   "outputs": [],
   "source": [
    "from sklearn.preprocessing import Imputer\n",
    "from sklearn.preprocessing import StandardScaler\n",
    "scale = StandardScaler()\n",
    "imp = Imputer(missing_values=float(\"NaN\"), strategy=\"mean\", axis=1, copy = False)\n",
    "df_azdias[df_azdias.columns] = scale.fit_transform(imp.fit_transform(df_azdias))"
   ]
  },
  {
   "cell_type": "code",
   "execution_count": 44,
   "metadata": {},
   "outputs": [
    {
     "data": {
      "text/html": [
       "<div>\n",
       "<style scoped>\n",
       "    .dataframe tbody tr th:only-of-type {\n",
       "        vertical-align: middle;\n",
       "    }\n",
       "\n",
       "    .dataframe tbody tr th {\n",
       "        vertical-align: top;\n",
       "    }\n",
       "\n",
       "    .dataframe thead th {\n",
       "        text-align: right;\n",
       "    }\n",
       "</style>\n",
       "<table border=\"1\" class=\"dataframe\">\n",
       "  <thead>\n",
       "    <tr style=\"text-align: right;\">\n",
       "      <th></th>\n",
       "      <th>ALTERSKATEGORIE_GROB</th>\n",
       "      <th>ANREDE_KZ</th>\n",
       "      <th>FINANZ_MINIMALIST</th>\n",
       "      <th>FINANZ_SPARER</th>\n",
       "      <th>FINANZ_VORSORGER</th>\n",
       "      <th>FINANZ_ANLEGER</th>\n",
       "      <th>FINANZ_UNAUFFAELLIGER</th>\n",
       "      <th>FINANZ_HAUSBAUER</th>\n",
       "      <th>GREEN_AVANTGARDE</th>\n",
       "      <th>HEALTH_TYP</th>\n",
       "      <th>...</th>\n",
       "      <th>WEALTH_Comfortable Households</th>\n",
       "      <th>WEALTH_Less Affluent Households</th>\n",
       "      <th>WEALTH_Poorer Households</th>\n",
       "      <th>WEALTH_Prosperous Households</th>\n",
       "      <th>WEALTH_Wealthy Households</th>\n",
       "      <th>LIFE_STAGE_Elders In Retirement</th>\n",
       "      <th>LIFE_STAGE_Families With School Age Children</th>\n",
       "      <th>LIFE_STAGE_Older Families &amp;  Mature Couples</th>\n",
       "      <th>LIFE_STAGE_Pre-Family Couples &amp; Singles</th>\n",
       "      <th>LIFE_STAGE_Young Couples With Children</th>\n",
       "    </tr>\n",
       "  </thead>\n",
       "  <tbody>\n",
       "    <tr>\n",
       "      <th>count</th>\n",
       "      <td>7.922870e+05</td>\n",
       "      <td>7.922870e+05</td>\n",
       "      <td>7.922870e+05</td>\n",
       "      <td>7.922870e+05</td>\n",
       "      <td>7.922870e+05</td>\n",
       "      <td>7.922870e+05</td>\n",
       "      <td>7.922870e+05</td>\n",
       "      <td>7.922870e+05</td>\n",
       "      <td>7.922870e+05</td>\n",
       "      <td>7.922870e+05</td>\n",
       "      <td>...</td>\n",
       "      <td>7.922870e+05</td>\n",
       "      <td>7.922870e+05</td>\n",
       "      <td>7.922870e+05</td>\n",
       "      <td>7.922870e+05</td>\n",
       "      <td>7.922870e+05</td>\n",
       "      <td>7.922870e+05</td>\n",
       "      <td>7.922870e+05</td>\n",
       "      <td>7.922870e+05</td>\n",
       "      <td>7.922870e+05</td>\n",
       "      <td>7.922870e+05</td>\n",
       "    </tr>\n",
       "    <tr>\n",
       "      <th>mean</th>\n",
       "      <td>1.678856e-16</td>\n",
       "      <td>2.812443e-17</td>\n",
       "      <td>-3.675189e-17</td>\n",
       "      <td>-6.561171e-17</td>\n",
       "      <td>-6.388981e-17</td>\n",
       "      <td>1.061123e-16</td>\n",
       "      <td>1.237618e-17</td>\n",
       "      <td>-1.231699e-16</td>\n",
       "      <td>6.674171e-17</td>\n",
       "      <td>-8.118059e-17</td>\n",
       "      <td>...</td>\n",
       "      <td>4.255434e-17</td>\n",
       "      <td>-6.183608e-17</td>\n",
       "      <td>1.294074e-16</td>\n",
       "      <td>-6.168362e-17</td>\n",
       "      <td>2.154622e-17</td>\n",
       "      <td>-6.736949e-17</td>\n",
       "      <td>-2.765808e-17</td>\n",
       "      <td>4.152299e-17</td>\n",
       "      <td>2.520975e-17</td>\n",
       "      <td>4.841061e-17</td>\n",
       "    </tr>\n",
       "    <tr>\n",
       "      <th>std</th>\n",
       "      <td>1.000001e+00</td>\n",
       "      <td>1.000001e+00</td>\n",
       "      <td>1.000001e+00</td>\n",
       "      <td>1.000001e+00</td>\n",
       "      <td>1.000001e+00</td>\n",
       "      <td>1.000001e+00</td>\n",
       "      <td>1.000001e+00</td>\n",
       "      <td>1.000001e+00</td>\n",
       "      <td>1.000001e+00</td>\n",
       "      <td>1.000001e+00</td>\n",
       "      <td>...</td>\n",
       "      <td>1.000001e+00</td>\n",
       "      <td>1.000001e+00</td>\n",
       "      <td>1.000001e+00</td>\n",
       "      <td>1.000001e+00</td>\n",
       "      <td>1.000001e+00</td>\n",
       "      <td>1.000001e+00</td>\n",
       "      <td>1.000001e+00</td>\n",
       "      <td>1.000001e+00</td>\n",
       "      <td>1.000001e+00</td>\n",
       "      <td>1.000001e+00</td>\n",
       "    </tr>\n",
       "    <tr>\n",
       "      <th>min</th>\n",
       "      <td>-1.515598e+00</td>\n",
       "      <td>-1.043729e+00</td>\n",
       "      <td>-1.492816e+00</td>\n",
       "      <td>-1.154259e+00</td>\n",
       "      <td>-1.768435e+00</td>\n",
       "      <td>-1.249434e+00</td>\n",
       "      <td>-1.180665e+00</td>\n",
       "      <td>-1.511484e+00</td>\n",
       "      <td>-5.310496e-01</td>\n",
       "      <td>-6.811519e-01</td>\n",
       "      <td>...</td>\n",
       "      <td>-3.053760e-01</td>\n",
       "      <td>-5.604740e-01</td>\n",
       "      <td>-6.261727e-01</td>\n",
       "      <td>-5.598556e-01</td>\n",
       "      <td>-4.199446e-01</td>\n",
       "      <td>-4.152968e-01</td>\n",
       "      <td>-4.194558e-01</td>\n",
       "      <td>-6.430383e-01</td>\n",
       "      <td>-6.675603e-01</td>\n",
       "      <td>-3.278136e-01</td>\n",
       "    </tr>\n",
       "    <tr>\n",
       "      <th>25%</th>\n",
       "      <td>-6.892700e-01</td>\n",
       "      <td>-1.043729e+00</td>\n",
       "      <td>-7.669478e-01</td>\n",
       "      <td>-1.154259e+00</td>\n",
       "      <td>-1.042098e+00</td>\n",
       "      <td>-1.249434e+00</td>\n",
       "      <td>-1.180665e+00</td>\n",
       "      <td>-7.998623e-01</td>\n",
       "      <td>-5.310496e-01</td>\n",
       "      <td>-2.855377e-01</td>\n",
       "      <td>...</td>\n",
       "      <td>-3.053760e-01</td>\n",
       "      <td>-5.604740e-01</td>\n",
       "      <td>-6.261727e-01</td>\n",
       "      <td>-5.598556e-01</td>\n",
       "      <td>-4.199446e-01</td>\n",
       "      <td>-4.152968e-01</td>\n",
       "      <td>-4.194558e-01</td>\n",
       "      <td>-6.430383e-01</td>\n",
       "      <td>-6.675603e-01</td>\n",
       "      <td>-3.278136e-01</td>\n",
       "    </tr>\n",
       "    <tr>\n",
       "      <th>50%</th>\n",
       "      <td>1.370580e-01</td>\n",
       "      <td>9.581032e-01</td>\n",
       "      <td>-4.107917e-02</td>\n",
       "      <td>1.921875e-01</td>\n",
       "      <td>4.105766e-01</td>\n",
       "      <td>1.086148e-01</td>\n",
       "      <td>-4.650897e-01</td>\n",
       "      <td>-8.824056e-02</td>\n",
       "      <td>-5.310496e-01</td>\n",
       "      <td>-2.855377e-01</td>\n",
       "      <td>...</td>\n",
       "      <td>-3.053760e-01</td>\n",
       "      <td>-5.604740e-01</td>\n",
       "      <td>-6.261727e-01</td>\n",
       "      <td>-5.598556e-01</td>\n",
       "      <td>-4.199446e-01</td>\n",
       "      <td>-4.152968e-01</td>\n",
       "      <td>-4.194558e-01</td>\n",
       "      <td>-6.430383e-01</td>\n",
       "      <td>-6.675603e-01</td>\n",
       "      <td>-3.278136e-01</td>\n",
       "    </tr>\n",
       "    <tr>\n",
       "      <th>75%</th>\n",
       "      <td>9.633860e-01</td>\n",
       "      <td>9.581032e-01</td>\n",
       "      <td>6.847894e-01</td>\n",
       "      <td>8.654109e-01</td>\n",
       "      <td>1.136914e+00</td>\n",
       "      <td>7.876393e-01</td>\n",
       "      <td>9.660599e-01</td>\n",
       "      <td>6.233811e-01</td>\n",
       "      <td>-5.310496e-01</td>\n",
       "      <td>1.100764e-01</td>\n",
       "      <td>...</td>\n",
       "      <td>-3.053760e-01</td>\n",
       "      <td>-5.604740e-01</td>\n",
       "      <td>1.597004e+00</td>\n",
       "      <td>-5.598556e-01</td>\n",
       "      <td>-4.199446e-01</td>\n",
       "      <td>-4.152968e-01</td>\n",
       "      <td>-4.194558e-01</td>\n",
       "      <td>1.555117e+00</td>\n",
       "      <td>1.497992e+00</td>\n",
       "      <td>-3.278136e-01</td>\n",
       "    </tr>\n",
       "    <tr>\n",
       "      <th>max</th>\n",
       "      <td>1.539577e+01</td>\n",
       "      <td>9.581032e-01</td>\n",
       "      <td>1.410658e+00</td>\n",
       "      <td>1.538634e+00</td>\n",
       "      <td>1.136914e+00</td>\n",
       "      <td>1.466664e+00</td>\n",
       "      <td>1.681635e+00</td>\n",
       "      <td>1.335003e+00</td>\n",
       "      <td>1.883063e+00</td>\n",
       "      <td>7.841451e+00</td>\n",
       "      <td>...</td>\n",
       "      <td>3.274652e+00</td>\n",
       "      <td>1.784204e+00</td>\n",
       "      <td>1.597004e+00</td>\n",
       "      <td>1.786175e+00</td>\n",
       "      <td>2.381266e+00</td>\n",
       "      <td>2.407917e+00</td>\n",
       "      <td>2.384041e+00</td>\n",
       "      <td>1.555117e+00</td>\n",
       "      <td>1.497992e+00</td>\n",
       "      <td>3.050514e+00</td>\n",
       "    </tr>\n",
       "  </tbody>\n",
       "</table>\n",
       "<p>8 rows × 209 columns</p>\n",
       "</div>"
      ],
      "text/plain": [
       "       ALTERSKATEGORIE_GROB     ANREDE_KZ  FINANZ_MINIMALIST  FINANZ_SPARER  \\\n",
       "count          7.922870e+05  7.922870e+05       7.922870e+05   7.922870e+05   \n",
       "mean           1.678856e-16  2.812443e-17      -3.675189e-17  -6.561171e-17   \n",
       "std            1.000001e+00  1.000001e+00       1.000001e+00   1.000001e+00   \n",
       "min           -1.515598e+00 -1.043729e+00      -1.492816e+00  -1.154259e+00   \n",
       "25%           -6.892700e-01 -1.043729e+00      -7.669478e-01  -1.154259e+00   \n",
       "50%            1.370580e-01  9.581032e-01      -4.107917e-02   1.921875e-01   \n",
       "75%            9.633860e-01  9.581032e-01       6.847894e-01   8.654109e-01   \n",
       "max            1.539577e+01  9.581032e-01       1.410658e+00   1.538634e+00   \n",
       "\n",
       "       FINANZ_VORSORGER  FINANZ_ANLEGER  FINANZ_UNAUFFAELLIGER  \\\n",
       "count      7.922870e+05    7.922870e+05           7.922870e+05   \n",
       "mean      -6.388981e-17    1.061123e-16           1.237618e-17   \n",
       "std        1.000001e+00    1.000001e+00           1.000001e+00   \n",
       "min       -1.768435e+00   -1.249434e+00          -1.180665e+00   \n",
       "25%       -1.042098e+00   -1.249434e+00          -1.180665e+00   \n",
       "50%        4.105766e-01    1.086148e-01          -4.650897e-01   \n",
       "75%        1.136914e+00    7.876393e-01           9.660599e-01   \n",
       "max        1.136914e+00    1.466664e+00           1.681635e+00   \n",
       "\n",
       "       FINANZ_HAUSBAUER  GREEN_AVANTGARDE    HEALTH_TYP  \\\n",
       "count      7.922870e+05      7.922870e+05  7.922870e+05   \n",
       "mean      -1.231699e-16      6.674171e-17 -8.118059e-17   \n",
       "std        1.000001e+00      1.000001e+00  1.000001e+00   \n",
       "min       -1.511484e+00     -5.310496e-01 -6.811519e-01   \n",
       "25%       -7.998623e-01     -5.310496e-01 -2.855377e-01   \n",
       "50%       -8.824056e-02     -5.310496e-01 -2.855377e-01   \n",
       "75%        6.233811e-01     -5.310496e-01  1.100764e-01   \n",
       "max        1.335003e+00      1.883063e+00  7.841451e+00   \n",
       "\n",
       "                        ...                    WEALTH_Comfortable Households  \\\n",
       "count                   ...                                     7.922870e+05   \n",
       "mean                    ...                                     4.255434e-17   \n",
       "std                     ...                                     1.000001e+00   \n",
       "min                     ...                                    -3.053760e-01   \n",
       "25%                     ...                                    -3.053760e-01   \n",
       "50%                     ...                                    -3.053760e-01   \n",
       "75%                     ...                                    -3.053760e-01   \n",
       "max                     ...                                     3.274652e+00   \n",
       "\n",
       "       WEALTH_Less Affluent Households  WEALTH_Poorer Households  \\\n",
       "count                     7.922870e+05              7.922870e+05   \n",
       "mean                     -6.183608e-17              1.294074e-16   \n",
       "std                       1.000001e+00              1.000001e+00   \n",
       "min                      -5.604740e-01             -6.261727e-01   \n",
       "25%                      -5.604740e-01             -6.261727e-01   \n",
       "50%                      -5.604740e-01             -6.261727e-01   \n",
       "75%                      -5.604740e-01              1.597004e+00   \n",
       "max                       1.784204e+00              1.597004e+00   \n",
       "\n",
       "       WEALTH_Prosperous Households  WEALTH_Wealthy Households  \\\n",
       "count                  7.922870e+05               7.922870e+05   \n",
       "mean                  -6.168362e-17               2.154622e-17   \n",
       "std                    1.000001e+00               1.000001e+00   \n",
       "min                   -5.598556e-01              -4.199446e-01   \n",
       "25%                   -5.598556e-01              -4.199446e-01   \n",
       "50%                   -5.598556e-01              -4.199446e-01   \n",
       "75%                   -5.598556e-01              -4.199446e-01   \n",
       "max                    1.786175e+00               2.381266e+00   \n",
       "\n",
       "       LIFE_STAGE_Elders In Retirement  \\\n",
       "count                     7.922870e+05   \n",
       "mean                     -6.736949e-17   \n",
       "std                       1.000001e+00   \n",
       "min                      -4.152968e-01   \n",
       "25%                      -4.152968e-01   \n",
       "50%                      -4.152968e-01   \n",
       "75%                      -4.152968e-01   \n",
       "max                       2.407917e+00   \n",
       "\n",
       "       LIFE_STAGE_Families With School Age Children  \\\n",
       "count                                  7.922870e+05   \n",
       "mean                                  -2.765808e-17   \n",
       "std                                    1.000001e+00   \n",
       "min                                   -4.194558e-01   \n",
       "25%                                   -4.194558e-01   \n",
       "50%                                   -4.194558e-01   \n",
       "75%                                   -4.194558e-01   \n",
       "max                                    2.384041e+00   \n",
       "\n",
       "       LIFE_STAGE_Older Families &  Mature Couples  \\\n",
       "count                                 7.922870e+05   \n",
       "mean                                  4.152299e-17   \n",
       "std                                   1.000001e+00   \n",
       "min                                  -6.430383e-01   \n",
       "25%                                  -6.430383e-01   \n",
       "50%                                  -6.430383e-01   \n",
       "75%                                   1.555117e+00   \n",
       "max                                   1.555117e+00   \n",
       "\n",
       "       LIFE_STAGE_Pre-Family Couples & Singles  \\\n",
       "count                             7.922870e+05   \n",
       "mean                              2.520975e-17   \n",
       "std                               1.000001e+00   \n",
       "min                              -6.675603e-01   \n",
       "25%                              -6.675603e-01   \n",
       "50%                              -6.675603e-01   \n",
       "75%                               1.497992e+00   \n",
       "max                               1.497992e+00   \n",
       "\n",
       "       LIFE_STAGE_Young Couples With Children  \n",
       "count                            7.922870e+05  \n",
       "mean                             4.841061e-17  \n",
       "std                              1.000001e+00  \n",
       "min                             -3.278136e-01  \n",
       "25%                             -3.278136e-01  \n",
       "50%                             -3.278136e-01  \n",
       "75%                             -3.278136e-01  \n",
       "max                              3.050514e+00  \n",
       "\n",
       "[8 rows x 209 columns]"
      ]
     },
     "execution_count": 44,
     "metadata": {},
     "output_type": "execute_result"
    }
   ],
   "source": [
    "df_azdias.describe()"
   ]
  },
  {
   "cell_type": "markdown",
   "metadata": {},
   "source": [
    "### Discussion 2.1: Apply Feature Scaling\n",
    "\n",
    "Imputer object help me to replace nans. I choose to apply mean for the replacement as it seems to me that it could contribute to a normalized dataset. I also instanciate a standardscalar to scale original columns to mhu 0 and sd to1."
   ]
  },
  {
   "cell_type": "markdown",
   "metadata": {},
   "source": [
    "### Step 2.2: Perform Dimensionality Reduction\n",
    "\n",
    "On your scaled data, you are now ready to apply dimensionality reduction techniques.\n",
    "\n",
    "- Use sklearn's [PCA](http://scikit-learn.org/stable/modules/generated/sklearn.decomposition.PCA.html) class to apply principal component analysis on the data, thus finding the vectors of maximal variance in the data. To start, you should not set any parameters (so all components are computed) or set a number of components that is at least half the number of features (so there's enough features to see the general trend in variability).\n",
    "- Check out the ratio of variance explained by each principal component as well as the cumulative variance explained. Try plotting the cumulative or sequential values using matplotlib's [`plot()`](https://matplotlib.org/api/_as_gen/matplotlib.pyplot.plot.html) function. Based on what you find, select a value for the number of transformed features you'll retain for the clustering part of the project.\n",
    "- Once you've made a choice for the number of components to keep, make sure you re-fit a PCA instance to perform the decided-on transformation."
   ]
  },
  {
   "cell_type": "code",
   "execution_count": 45,
   "metadata": {},
   "outputs": [],
   "source": [
    "# Apply PCA to the data.\n",
    "pca = PCA()\n",
    "df_azdias_default_pca = pca.fit_transform(df_azdias)"
   ]
  },
  {
   "cell_type": "code",
   "execution_count": 46,
   "metadata": {},
   "outputs": [],
   "source": [
    "# Investigate the variance accounted for by each principal component.\n",
    "def pca_explained_variance(pca):\n",
    "    # based on helpers from the nanodegree documents\n",
    "    explained_variance = pca.explained_variance_ratio_\n",
    "    explained_variance_accumulated = explained_variance.cumsum()\n",
    "    x = range(1, len(pca.explained_variance_ratio_) + 1)\n",
    "\n",
    "    plt.figure(figsize=(16, 8))\n",
    "    plt.fill_between(x, explained_variance_accumulated, 0, color='#ddeeff')\n",
    "    plt.bar(x, explained_variance, width=0.5, color='g', label='Variance explained by component')\n",
    "    plt.plot(x, explained_variance_accumulated, label='Accumulated explained variance')\n",
    "    plt.grid(True)\n",
    "    plt.title('Variance explained by PCA components')\n",
    "    plt.ylabel('Explained variance proportion')\n",
    "    plt.xlabel('Feature')\n",
    "    plt.legend()\n",
    "    plt.show()"
   ]
  },
  {
   "cell_type": "code",
   "execution_count": 47,
   "metadata": {},
   "outputs": [
    {
     "data": {
      "image/png": "[encoded data removed]",
      "text/plain": [
       "<matplotlib.figure.Figure at 0x7f15c779b5f8>"
      ]
     },
     "metadata": {
      "needs_background": "light"
     },
     "output_type": "display_data"
    }
   ],
   "source": [
    "pca_explained_variance(pca)"
   ]
  },
  {
   "cell_type": "code",
   "execution_count": 48,
   "metadata": {},
   "outputs": [
    {
     "data": {
      "image/png": "[encoded data removed]",
      "text/plain": [
       "<matplotlib.figure.Figure at 0x7f141246d208>"
      ]
     },
     "metadata": {
      "needs_background": "light"
     },
     "output_type": "display_data"
    }
   ],
   "source": [
    "# Re-apply PCA to the data while selecting for number of components to retain.\n",
    "selected_pca = PCA(130)\n",
    "selected_pca_transform = selected_pca.fit_transform(df_azdias)\n",
    "pca_explained_variance(selected_pca)"
   ]
  },
  {
   "cell_type": "code",
   "execution_count": 49,
   "metadata": {},
   "outputs": [
    {
     "data": {
      "text/plain": [
       "0.9723254462331852"
      ]
     },
     "execution_count": 49,
     "metadata": {},
     "output_type": "execute_result"
    }
   ],
   "source": [
    "selected_pca.explained_variance_ratio_.sum()"
   ]
  },
  {
   "cell_type": "code",
   "execution_count": 50,
   "metadata": {},
   "outputs": [
    {
     "data": {
      "text/plain": [
       "(792287, 130)"
      ]
     },
     "execution_count": 50,
     "metadata": {},
     "output_type": "execute_result"
    }
   ],
   "source": [
    "type(selected_pca_transform) # numpy array\n",
    "selected_pca_transform.shape # data features per number of components selected: (792287, 130)"
   ]
  },
  {
   "cell_type": "markdown",
   "metadata": {},
   "source": [
    "### Discussion 2.2: Perform Dimensionality Reduction\n",
    "\n",
    "Analizing the first graph it can be seen that around 130 features explain almost 100% data variance so at that point it is reasonable to reduce demensionality."
   ]
  },
  {
   "cell_type": "markdown",
   "metadata": {},
   "source": [
    "### Step 2.3: Interpret Principal Components\n",
    "\n",
    "Now that we have our transformed principal components, it's a nice idea to check out the weight of each variable on the first few components to see if they can be interpreted in some fashion.\n",
    "\n",
    "As a reminder, each principal component is a unit vector that points in the direction of highest variance (after accounting for the variance captured by earlier principal components). The further a weight is from zero, the more the principal component is in the direction of the corresponding feature. If two features have large weights of the same sign (both positive or both negative), then increases in one tend expect to be associated with increases in the other. To contrast, features with different signs can be expected to show a negative correlation: increases in one variable should result in a decrease in the other.\n",
    "\n",
    "- To investigate the features, you should map each weight to their corresponding feature name, then sort the features according to weight. The most interesting features for each principal component, then, will be those at the beginning and end of the sorted list. Use the data dictionary document to help you understand these most prominent features, their relationships, and what a positive or negative value on the principal component might indicate.\n",
    "- You should investigate and interpret feature associations from the first three principal components in this substep. To help facilitate this, you should write a function that you can call at any time to print the sorted list of feature weights, for the *i*-th principal component. This might come in handy in the next step of the project, when you interpret the tendencies of the discovered clusters."
   ]
  },
  {
   "cell_type": "code",
   "execution_count": 51,
   "metadata": {},
   "outputs": [],
   "source": [
    "# # mapping weights\n",
    "# def pca_weights_df(nb_component, df, pca_object):\n",
    "#     df_component = pd.DataFrame(np.round(pca_object.components_[nb_component - 1: nb_component], 4),\n",
    "#                               columns = df.keys())\n",
    "#     df_component.index = ['Weights']\n",
    "#     df_component = df_component.sort_values(by = 'Weights', axis = 1, ascending=False)\n",
    "#     df_component = df_component.T\n",
    "#     return df_component"
   ]
  },
  {
   "cell_type": "code",
   "execution_count": 52,
   "metadata": {},
   "outputs": [],
   "source": [
    "def plot_features_proportion_per_pca_component(df, pca, nb_component, component_threshold):\n",
    "    \"\"\"\n",
    "    Plotting X comonent weights over original features.\n",
    "    \"\"\"\n",
    "    df_component = pd.DataFrame(pca.components_, columns=df.columns)\n",
    "    row = pd.Series(df_component.iloc[nb_component - 1], index=df_component.columns)\n",
    "    \n",
    "    # removing components below threshold\n",
    "    row = row[abs(row) > component_threshold] \n",
    "    row = row.sort_values(ascending=False)\n",
    "    \n",
    "    # Create a bar plot visualization\n",
    "    fig, ax = plt.subplots(figsize = (18,8))\n",
    "    title = 'Feature proportions for component %s'%(nb_component)\n",
    "    \n",
    "    row.plot(ax = ax, kind='bar', title=title)\n",
    "    plt.xlabel('Features with proportion above %s percent' %component_threshold)\n",
    "    plt.ylabel('Feature proportion' )\n",
    "    \n",
    "    return row"
   ]
  },
  {
   "cell_type": "code",
   "execution_count": 53,
   "metadata": {},
   "outputs": [
    {
     "data": {
      "image/png": "[encoded data removed]",
      "text/plain": [
       "<matplotlib.figure.Figure at 0x7f15cd738be0>"
      ]
     },
     "metadata": {
      "needs_background": "light"
     },
     "output_type": "display_data"
    }
   ],
   "source": [
    "# Map weights for the first principal component to corresponding feature names\n",
    "# and then print the linked values, sorted by weight.\n",
    "# HINT: Try defining a function here or in a new cell that you can reuse in the\n",
    "# other cells.\n",
    "feature_label = 1\n",
    "feature_proportion_threshold = 0.1\n",
    "features_proportion_by_PCA_1 = plot_features_proportion_per_pca_component(\n",
    "                                    df_azdias,\n",
    "                                    selected_pca, \n",
    "                                    feature_label,\n",
    "                                    feature_proportion_threshold\n",
    "                                )"
   ]
  },
  {
   "cell_type": "code",
   "execution_count": 54,
   "metadata": {},
   "outputs": [
    {
     "data": {
      "text/plain": [
       "FINANZ_MINIMALIST      0.210453\n",
       "MOBI_REGIO             0.161798\n",
       "LP_LEBENSPHASE_FEIN    0.155931\n",
       "KBA05_ANTG1            0.148834\n",
       "KBA05_GBZ              0.146770\n",
       "Name: 0, dtype: float64"
      ]
     },
     "execution_count": 54,
     "metadata": {},
     "output_type": "execute_result"
    }
   ],
   "source": [
    "features_proportion_by_PCA_1.head()"
   ]
  },
  {
   "cell_type": "code",
   "execution_count": 55,
   "metadata": {},
   "outputs": [
    {
     "data": {
      "text/plain": [
       "LIFE_STAGE_Pre-Family Couples & Singles   -0.144670\n",
       "WEALTH_Poorer Households                  -0.149762\n",
       "FINANZ_HAUSBAUER                          -0.155012\n",
       "HH_EINKOMMEN_SCORE                        -0.194835\n",
       "LP_STATUS_GROB_1.0                        -0.199277\n",
       "Name: 0, dtype: float64"
      ]
     },
     "execution_count": 55,
     "metadata": {},
     "output_type": "execute_result"
    }
   ],
   "source": [
    "features_proportion_by_PCA_1.tail()"
   ]
  },
  {
   "cell_type": "code",
   "execution_count": 56,
   "metadata": {},
   "outputs": [
    {
     "data": {
      "image/png": "[encoded data removed]",
      "text/plain": [
       "<matplotlib.figure.Figure at 0x7f15cd68a860>"
      ]
     },
     "metadata": {
      "needs_background": "light"
     },
     "output_type": "display_data"
    }
   ],
   "source": [
    "# Map weights for the second principal component to corresponding feature names\n",
    "# and then print the linked values, sorted by weight.\n",
    "feature_label = 2\n",
    "feature_proportion_threshold = 0.1\n",
    "features_proportion_by_PCA_2 = plot_features_proportion_per_pca_component(\n",
    "                                    df_azdias,\n",
    "                                    selected_pca, \n",
    "                                    feature_label,\n",
    "                                    feature_proportion_threshold\n",
    "                                )"
   ]
  },
  {
   "cell_type": "code",
   "execution_count": 57,
   "metadata": {},
   "outputs": [
    {
     "data": {
      "text/plain": [
       "FINANZ_UNAUFFAELLIGER    0.214417\n",
       "FINANZ_SPARER            0.210813\n",
       "SEMIO_REL                0.198630\n",
       "SEMIO_TRADV              0.194427\n",
       "DECADE_90s               0.190535\n",
       "Name: 1, dtype: float64"
      ]
     },
     "execution_count": 57,
     "metadata": {},
     "output_type": "execute_result"
    }
   ],
   "source": [
    "features_proportion_by_PCA_2.head()"
   ]
  },
  {
   "cell_type": "code",
   "execution_count": 58,
   "metadata": {},
   "outputs": [
    {
     "data": {
      "text/plain": [
       "SEMIO_LUST             -0.157625\n",
       "SEMIO_ERL              -0.171346\n",
       "ALTERSKATEGORIE_GROB   -0.184964\n",
       "ZABEOTYP_3             -0.193472\n",
       "FINANZ_VORSORGER       -0.206971\n",
       "Name: 1, dtype: float64"
      ]
     },
     "execution_count": 58,
     "metadata": {},
     "output_type": "execute_result"
    }
   ],
   "source": [
    "features_proportion_by_PCA_2.tail()"
   ]
  },
  {
   "cell_type": "code",
   "execution_count": 59,
   "metadata": {},
   "outputs": [
    {
     "data": {
      "image/png": "[encoded data removed]",
      "text/plain": [
       "<matplotlib.figure.Figure at 0x7f158ef270f0>"
      ]
     },
     "metadata": {
      "needs_background": "light"
     },
     "output_type": "display_data"
    }
   ],
   "source": [
    "# Map weights for the third principal component to corresponding feature names\n",
    "# and then print the linked values, sorted by weight.\n",
    "feature_label = 3\n",
    "feature_proportion_threshold = 0.08\n",
    "features_proportion_by_PCA_3 = plot_features_proportion_per_pca_component(\n",
    "                                    df_azdias,\n",
    "                                    selected_pca, \n",
    "                                    feature_label,\n",
    "                                    feature_proportion_threshold\n",
    "                                )"
   ]
  },
  {
   "cell_type": "code",
   "execution_count": 60,
   "metadata": {},
   "outputs": [
    {
     "data": {
      "text/plain": [
       "PLZ8_ANTG4     0.256080\n",
       "KBA05_ANTG4    0.255506\n",
       "KBA05_ANTG3    0.253802\n",
       "PLZ8_ANTG3     0.249707\n",
       "PLZ8_ANTG2     0.243592\n",
       "Name: 2, dtype: float64"
      ]
     },
     "execution_count": 60,
     "metadata": {},
     "output_type": "execute_result"
    }
   ],
   "source": [
    "features_proportion_by_PCA_3.head()"
   ]
  },
  {
   "cell_type": "code",
   "execution_count": 61,
   "metadata": {},
   "outputs": [
    {
     "data": {
      "text/plain": [
       "ANZ_PERSONEN          -0.090218\n",
       "LP_FAMILIE_GROB_5.0   -0.093307\n",
       "SEMIO_FAM             -0.093861\n",
       "SEMIO_SOZ             -0.106450\n",
       "SEMIO_KULT            -0.120876\n",
       "Name: 2, dtype: float64"
      ]
     },
     "execution_count": 61,
     "metadata": {},
     "output_type": "execute_result"
    }
   ],
   "source": [
    "features_proportion_by_PCA_3.tail()"
   ]
  },
  {
   "cell_type": "markdown",
   "metadata": {},
   "source": [
    "### Discussion 2.3: Interpret Principal Components\n",
    "\n",
    "The table bellow shows the higher weighted features per component. \n",
    "- In the first component it can be seen the relation beetween LP_STATUS_GROB and HH_EINKOMMEN_SCORE\tbot related with income earnings. While MOBI_REGIO and FINANZ_MINIMALIST can be also related to income. This component seems to encapsule the **Income feature**.\n",
    "\n",
    "- The second component is mearly defined by a **finantial feature**.\n",
    "\n",
    "- The third component seems to be related with a **personality feature** since KBA05_ANTG4 and PLZ8_ANTG4 refer to where the individuos come from or where they were raised. "
   ]
  },
  {
   "cell_type": "markdown",
   "metadata": {},
   "source": [
    "|          First component characteristic features         |        Higher Weights associated    |           Description                          |           Feature type      |\n",
    "|:--------------------------------------------------------:|:-----------------------------------:|:----------------------------------------------:|:---------------------------:|\n",
    "|        FINANZ_MINIMALIST                                 |   0.2106                            | Financial typology                             |     ordinal                     |\n",
    "|  MOBI_REGIO                                              | 0.1619                              |  Movement patterns                             | ordinal                     |\n",
    "|    HH_EINKOMMEN_SCORE                                    | -0.1948                             |  Estimated household net income                | ordinal                   |\n",
    "| LP_STATUS_GROB_1.0                                       |  -0.1992                            | low-income earners                             |  categorical                 |\n",
    "| **Second component characteristic features**             | **Higher Weights associated**       | **Description**                                | **Feature type**            |\n",
    "| FINANZ_UNAUFFAELLIGER                                    | 0.2142                              | Financial typology                             | ordinal                     |\n",
    "| FINANZ_SPARER                                            | 0.2105                              | Financial typology                             | ordinal                     |\n",
    "| ZABEOTYP_3                                               | -0.1935                             | Energy consumption typology                    | categorical                 |\n",
    "| FINANZ_VORSORGER                                         | -0.2067                             | Financial typology                             | ordinal                     |\n",
    "| **Third component characteristic features**              | **Higher Weights associated**       | **Description**                                | **Feature type**            |\n",
    "|     PLZ8_ANTG4                                           | 0.2556                              | Number of 10+ family houses in the PLZ8 region | ordinal                     |\n",
    "| KBA05_ANTG4                                              | 0.2554                              | Number of 10+ family houses in the microcell   | ordinal                     |\n",
    "| SEMIO_SOZ                                                | -0.1076                             | Personality typology                           | ordinal                     |\n",
    "| SEMIO_KULT                                               | -0.1219                             | Personality typology                           | ordinal                     |\n"
   ]
  },
  {
   "cell_type": "markdown",
   "metadata": {},
   "source": [
    "## Step 3: Clustering\n",
    "\n",
    "### Step 3.1: Apply Clustering to General Population\n",
    "\n",
    "You've assessed and cleaned the demographics data, then scaled and transformed them. Now, it's time to see how the data clusters in the principal components space. In this substep, you will apply k-means clustering to the dataset and use the average within-cluster distances from each point to their assigned cluster's centroid to decide on a number of clusters to keep.\n",
    "\n",
    "- Use sklearn's [KMeans](http://scikit-learn.org/stable/modules/generated/sklearn.cluster.KMeans.html#sklearn.cluster.KMeans) class to perform k-means clustering on the PCA-transformed data.\n",
    "- Then, compute the average difference from each point to its assigned cluster's center. **Hint**: The KMeans object's `.score()` method might be useful here, but note that in sklearn, scores tend to be defined so that larger is better. Try applying it to a small, toy dataset, or use an internet search to help your understanding.\n",
    "- Perform the above two steps for a number of different cluster counts. You can then see how the average distance decreases with an increasing number of clusters. However, each additional cluster provides a smaller net benefit. Use this fact to select a final number of clusters in which to group the data. **Warning**: because of the large size of the dataset, it can take a long time for the algorithm to resolve. The more clusters to fit, the longer the algorithm will take. You should test for cluster counts through at least 10 clusters to get the full picture, but you shouldn't need to test for a number of clusters above about 30.\n",
    "- Once you've selected a final number of clusters to use, re-fit a KMeans instance to perform the clustering operation. Make sure that you also obtain the cluster assignments for the general demographics data, since you'll be using them in the final Step 3.3."
   ]
  },
  {
   "cell_type": "code",
   "execution_count": 62,
   "metadata": {},
   "outputs": [],
   "source": [
    "from sklearn.cluster import KMeans\n",
    "def cluster_scorer(data, nb_cluster):\n",
    "    # data: pca object\n",
    "    kmeans_k = KMeans(nb_cluster)\n",
    "    model = kmeans_k.fit(data)\n",
    "    return abs(model.score(data))"
   ]
  },
  {
   "cell_type": "code",
   "execution_count": 63,
   "metadata": {},
   "outputs": [
    {
     "name": "stdout",
     "output_type": "stream",
     "text": [
      "cluster: 1 - distance: 161005409.46132812\n",
      "cluster: 2 - distance: 152973473.91027308\n",
      "cluster: 3 - distance: 148094786.54665235\n",
      "cluster: 4 - distance: 143429789.07195416\n",
      "cluster: 5 - distance: 140637509.4125333\n",
      "cluster: 6 - distance: 138680290.7908088\n",
      "cluster: 7 - distance: 136900609.49065775\n",
      "cluster: 8 - distance: 134601324.92346087\n",
      "cluster: 9 - distance: 133182054.5947975\n",
      "cluster: 10 - distance: 131521425.70317721\n",
      "cluster: 11 - distance: 131212855.7016616\n",
      "cluster: 12 - distance: 129235870.37116207\n",
      "cluster: 13 - distance: 129150403.02436772\n",
      "cluster: 14 - distance: 127395545.72076343\n",
      "cluster: 15 - distance: 127493113.28571887\n"
     ]
    }
   ],
   "source": [
    "scores = []\n",
    "for i in range(1, 16):\n",
    "    scorer_i = cluster_scorer(selected_pca_transform, i)\n",
    "    scores.append(scorer_i)\n",
    "    print('cluster: %s - distance: %s' %(i, scorer_i))"
   ]
  },
  {
   "cell_type": "code",
   "execution_count": 64,
   "metadata": {},
   "outputs": [
    {
     "data": {
      "text/plain": [
       "[<matplotlib.lines.Line2D at 0x7f15c6379780>]"
      ]
     },
     "execution_count": 64,
     "metadata": {},
     "output_type": "execute_result"
    },
    {
     "data": {
      "image/png": "[encoded data removed]",
      "text/plain": [
       "<matplotlib.figure.Figure at 0x7f15d1b82780>"
      ]
     },
     "metadata": {
      "needs_background": "light"
     },
     "output_type": "display_data"
    }
   ],
   "source": [
    "# Investigate the change in within-cluster distance across number of clusters.\n",
    "# HINT: Use matplotlib's plot function to visualize this relationship.\n",
    "plt.xlabel('K')\n",
    "plt.ylabel('SSE')\n",
    "plt.title('SSE vs. K')\n",
    "plt.plot(np.linspace(1,15,15), scores, linestyle='-', marker='o', color='blue')"
   ]
  },
  {
   "cell_type": "code",
   "execution_count": 65,
   "metadata": {},
   "outputs": [],
   "source": [
    "# Re-fit the k-means model with the selected number of clusters and obtain\n",
    "# cluster predictions for the general population demographics data.\n",
    "kmeans = KMeans(n_clusters=11)\n",
    "km_model = kmeans.fit(selected_pca_transform)\n",
    "azdias_predicted_labels = km_model.predict(selected_pca_transform)"
   ]
  },
  {
   "cell_type": "code",
   "execution_count": 66,
   "metadata": {},
   "outputs": [],
   "source": [
    "kmeans_centers = kmeans.cluster_centers_"
   ]
  },
  {
   "cell_type": "markdown",
   "metadata": {},
   "source": [
    "### Discussion 3.1: Apply Clustering to General Population\n",
    "\n",
    "After analizing the result graphic it seems appropiate to choose a number of 11 clusters since it seems to be a elbow from where the distance beetween points and the center doesnt decrese much after when adding more clusters (Note for me: It took a really long time to perform calculations on all those clusters)."
   ]
  },
  {
   "cell_type": "markdown",
   "metadata": {},
   "source": [
    "### Step 3.2: Apply All Steps to the Customer Data\n",
    "\n",
    "Now that you have clusters and cluster centers for the general population, it's time to see how the customer data maps on to those clusters. Take care to not confuse this for re-fitting all of the models to the customer data. Instead, you're going to use the fits from the general population to clean, transform, and cluster the customer data. In the last step of the project, you will interpret how the general population fits apply to the customer data.\n",
    "\n",
    "- Don't forget when loading in the customers data, that it is semicolon (`;`) delimited.\n",
    "- Apply the same feature wrangling, selection, and engineering steps to the customer demographics using the `clean_data()` function you created earlier. (You can assume that the customer demographics data has similar meaning behind missing data patterns as the general demographics data.)\n",
    "- Use the sklearn objects from the general demographics data, and apply their transformations to the customers data. That is, you should not be using a `.fit()` or `.fit_transform()` method to re-fit the old objects, nor should you be creating new sklearn objects! Carry the data through the feature scaling, PCA, and clustering steps, obtaining cluster assignments for all of the data in the customer demographics data."
   ]
  },
  {
   "cell_type": "code",
   "execution_count": 67,
   "metadata": {},
   "outputs": [],
   "source": [
    "# Load in the customer demographics data.\n",
    "customers = pd.read_csv(\"Udacity_CUSTOMERS_Subset.csv\", sep=\";\")"
   ]
  },
  {
   "cell_type": "code",
   "execution_count": 68,
   "metadata": {},
   "outputs": [
    {
     "data": {
      "image/png": "[encoded data removed]",
      "text/plain": [
       "<matplotlib.figure.Figure at 0x7f15cd7adf98>"
      ]
     },
     "metadata": {
      "needs_background": "light"
     },
     "output_type": "display_data"
    }
   ],
   "source": [
    "# How much data is missing in each COLUMN of the dataset?\n",
    "column_null_list_cust = customers.isnull().sum()\n",
    "column_null_proportion_cust = column_null_list_cust / len(customers) * 100\n",
    "column_null_proportion_cust[column_null_proportion_cust>20].count()\n",
    "\n",
    "plt.figure()\n",
    "plt.title('Missing data ratio per column')\n",
    "plt.hist(column_null_proportion_cust, bins = 30)\n",
    "plt.xlabel('Missing data percentage')\n",
    "plt.ylabel('Number of features')\n",
    "plt.show()"
   ]
  },
  {
   "cell_type": "markdown",
   "metadata": {},
   "source": [
    "Given the plot above seem reasonable to drop columns with missing values above 35%, otherwise it will be lost a lot of valuable data."
   ]
  },
  {
   "cell_type": "code",
   "execution_count": 69,
   "metadata": {},
   "outputs": [
    {
     "data": {
      "image/png": "[encoded data removed]",
      "text/plain": [
       "<matplotlib.figure.Figure at 0x7f15cd5f10b8>"
      ]
     },
     "metadata": {
      "needs_background": "light"
     },
     "output_type": "display_data"
    }
   ],
   "source": [
    "# How much data is missing in each row of the dataset?\n",
    "row_null_list_cust = customers.isnull().sum(axis=1)\n",
    "row_null_proportion_cust = row_null_list_cust / len(customers.columns) * 100\n",
    "row_null_proportion_cust[row_null_proportion_cust>30].count()\n",
    "\n",
    "plt.figure()\n",
    "plt.title('Missing data ratio per row')\n",
    "plt.hist(row_null_proportion_cust, bins = 30)\n",
    "plt.xlabel('Missing data percentage')\n",
    "plt.ylabel('Number of features')\n",
    "plt.show()"
   ]
  },
  {
   "cell_type": "markdown",
   "metadata": {},
   "source": [
    "It seems that there's a lot of missing values for a large amount of rows. It will be descarted as well since it's likely to mess the model."
   ]
  },
  {
   "cell_type": "code",
   "execution_count": 71,
   "metadata": {},
   "outputs": [
    {
     "name": "stdout",
     "output_type": "stream",
     "text": [
      "outlier columns removed: AGER_TYP        50.475863\n",
      "GEBURTSJAHR     48.537975\n",
      "TITEL_KZ        98.793647\n",
      "ALTER_HH        35.870745\n",
      "KK_KUNDENTYP    58.406382\n",
      "KBA05_BAUMAX    57.153069\n",
      "dtype: float64\n",
      "outlier: 15.0, proportion: 0.0007057661091114404 ,column: ANZ_PERSONEN\n",
      "outlier: 16.0, proportion: 0.0007057661091114404 ,column: ANZ_PERSONEN\n",
      "outlier: 5.0, proportion: 0.0007057661091114404 ,column: ANZ_TITEL\n",
      "outlier: 105.0, proportion: 0.0007181380117631007 ,column: ANZ_HAUSHALTE_AKTIV\n",
      "outlier: 123.0, proportion: 0.0007181380117631007 ,column: ANZ_HAUSHALTE_AKTIV\n",
      "outlier: 126.0, proportion: 0.0007181380117631007 ,column: ANZ_HAUSHALTE_AKTIV\n",
      "outlier: 139.0, proportion: 0.0007181380117631007 ,column: ANZ_HAUSHALTE_AKTIV\n",
      "outlier: 143.0, proportion: 0.0007181380117631007 ,column: ANZ_HAUSHALTE_AKTIV\n",
      "outlier: 147.0, proportion: 0.0007181380117631007 ,column: ANZ_HAUSHALTE_AKTIV\n",
      "outlier: 148.0, proportion: 0.0007181380117631007 ,column: ANZ_HAUSHALTE_AKTIV\n",
      "outlier: 161.0, proportion: 0.0007181380117631007 ,column: ANZ_HAUSHALTE_AKTIV\n",
      "outlier: 172.0, proportion: 0.0007181380117631007 ,column: ANZ_HAUSHALTE_AKTIV\n",
      "outlier: 179.0, proportion: 0.0007181380117631007 ,column: ANZ_HAUSHALTE_AKTIV\n",
      "outlier: 186.0, proportion: 0.0007181380117631007 ,column: ANZ_HAUSHALTE_AKTIV\n",
      "outlier: 190.0, proportion: 0.0007181380117631007 ,column: ANZ_HAUSHALTE_AKTIV\n",
      "outlier: 196.0, proportion: 0.0007181380117631007 ,column: ANZ_HAUSHALTE_AKTIV\n",
      "outlier: 202.0, proportion: 0.0007181380117631007 ,column: ANZ_HAUSHALTE_AKTIV\n",
      "outlier: 211.0, proportion: 0.0007181380117631007 ,column: ANZ_HAUSHALTE_AKTIV\n",
      "outlier: 221.0, proportion: 0.0007181380117631007 ,column: ANZ_HAUSHALTE_AKTIV\n",
      "outlier: 238.0, proportion: 0.0007181380117631007 ,column: ANZ_HAUSHALTE_AKTIV\n",
      "outlier: 254.0, proportion: 0.0007181380117631007 ,column: ANZ_HAUSHALTE_AKTIV\n",
      "outlier: 259.0, proportion: 0.0007181380117631007 ,column: ANZ_HAUSHALTE_AKTIV\n",
      "outlier: 276.0, proportion: 0.0007181380117631007 ,column: ANZ_HAUSHALTE_AKTIV\n",
      "outlier: 301.0, proportion: 0.0007181380117631007 ,column: ANZ_HAUSHALTE_AKTIV\n",
      "outlier: 331.0, proportion: 0.0007181380117631007 ,column: ANZ_HAUSHALTE_AKTIV\n",
      "outlier: 348.0, proportion: 0.0007181380117631007 ,column: ANZ_HAUSHALTE_AKTIV\n",
      "outlier: 367.0, proportion: 0.0007181380117631007 ,column: ANZ_HAUSHALTE_AKTIV\n",
      "outlier: 395.0, proportion: 0.0007181380117631007 ,column: ANZ_HAUSHALTE_AKTIV\n",
      "outlier: 523.0, proportion: 0.0007181380117631007 ,column: ANZ_HAUSHALTE_AKTIV\n",
      "outlier: 8.0, proportion: 0.0007124486146436688 ,column: KBA13_ANZAHL_PKW\n",
      "outlier: 11.0, proportion: 0.0007124486146436688 ,column: KBA13_ANZAHL_PKW\n",
      "outlier: 13.0, proportion: 0.0007124486146436688 ,column: KBA13_ANZAHL_PKW\n",
      "outlier: 15.0, proportion: 0.0007124486146436688 ,column: KBA13_ANZAHL_PKW\n",
      "outlier: 16.0, proportion: 0.0007124486146436688 ,column: KBA13_ANZAHL_PKW\n",
      "outlier: 20.0, proportion: 0.0007124486146436688 ,column: KBA13_ANZAHL_PKW\n",
      "outlier: 31.0, proportion: 0.0007124486146436688 ,column: KBA13_ANZAHL_PKW\n",
      "outlier: 34.0, proportion: 0.0007124486146436688 ,column: KBA13_ANZAHL_PKW\n",
      "outlier: 43.0, proportion: 0.0007124486146436688 ,column: KBA13_ANZAHL_PKW\n",
      "outlier: 48.0, proportion: 0.0007124486146436688 ,column: KBA13_ANZAHL_PKW\n",
      "outlier: 77.0, proportion: 0.0007124486146436688 ,column: KBA13_ANZAHL_PKW\n"
     ]
    }
   ],
   "source": [
    "# Apply preprocessing, feature transformation, and clustering from the general\n",
    "# demographics onto the customer data, obtaining cluster predictions for the\n",
    "# customer demographics data.\n",
    "row_proportion_thresh=30\n",
    "col_proportion_thresh=35\n",
    "outlier_threshold =0.001 #percentage\n",
    "customers = clean_data(customers, row_proportion_thresh, col_proportion_thresh, outlier_threshold)"
   ]
  },
  {
   "cell_type": "code",
   "execution_count": 72,
   "metadata": {},
   "outputs": [
    {
     "data": {
      "text/plain": [
       "(141690, 209)"
      ]
     },
     "execution_count": 72,
     "metadata": {},
     "output_type": "execute_result"
    }
   ],
   "source": [
    "customers.shape"
   ]
  },
  {
   "cell_type": "code",
   "execution_count": 73,
   "metadata": {},
   "outputs": [
    {
     "data": {
      "text/plain": [
       "209"
      ]
     },
     "execution_count": 73,
     "metadata": {},
     "output_type": "execute_result"
    }
   ],
   "source": [
    "len(scale.mean_) # it should be the same number of columns to perform the transform on scale"
   ]
  },
  {
   "cell_type": "code",
   "execution_count": 74,
   "metadata": {},
   "outputs": [],
   "source": [
    "cols_c = customers.columns.tolist()\n",
    "cols_p = df_azdias.columns.tolist()"
   ]
  },
  {
   "cell_type": "code",
   "execution_count": 75,
   "metadata": {},
   "outputs": [
    {
     "name": "stdout",
     "output_type": "stream",
     "text": [
      "[]\n"
     ]
    }
   ],
   "source": [
    "feat_in_cust_not_in_pop= np.setdiff1d(cols_c,cols_p).tolist()\n",
    "print(feat_in_cust_not_in_pop)"
   ]
  },
  {
   "cell_type": "code",
   "execution_count": 76,
   "metadata": {},
   "outputs": [],
   "source": [
    "# scaling, removing nans and predicting\n",
    "customers[customers.columns] = scale.transform(imp.transform(customers))"
   ]
  },
  {
   "cell_type": "code",
   "execution_count": 77,
   "metadata": {},
   "outputs": [],
   "source": [
    "# pca\n",
    "customers_pca = selected_pca.transform(customers)\n",
    "customers_azdias_predicted_labels = km_model.predict(customers_pca)"
   ]
  },
  {
   "cell_type": "markdown",
   "metadata": {},
   "source": [
    "### Step 3.3: Compare Customer Data to Demographics Data\n",
    "\n",
    "At this point, you have clustered data based on demographics of the general population of Germany, and seen how the customer data for a mail-order sales company maps onto those demographic clusters. In this final substep, you will compare the two cluster distributions to see where the strongest customer base for the company is.\n",
    "\n",
    "Consider the proportion of persons in each cluster for the general population, and the proportions for the customers. If we think the company's customer base to be universal, then the cluster assignment proportions should be fairly similar between the two. If there are only particular segments of the population that are interested in the company's products, then we should see a mismatch from one to the other. If there is a higher proportion of persons in a cluster for the customer data compared to the general population (e.g. 5% of persons are assigned to a cluster for the general population, but 15% of the customer data is closest to that cluster's centroid) then that suggests the people in that cluster to be a target audience for the company. On the other hand, the proportion of the data in a cluster being larger in the general population than the customer data (e.g. only 2% of customers closest to a population centroid that captures 6% of the data) suggests that group of persons to be outside of the target demographics.\n",
    "\n",
    "Take a look at the following points in this step:\n",
    "\n",
    "- Compute the proportion of data points in each cluster for the general population and the customer data. Visualizations will be useful here: both for the individual dataset proportions, but also to visualize the ratios in cluster representation between groups. Seaborn's [`countplot()`](https://seaborn.pydata.org/generated/seaborn.countplot.html) or [`barplot()`](https://seaborn.pydata.org/generated/seaborn.barplot.html) function could be handy.\n",
    "  - Recall the analysis you performed in step 1.1.3 of the project, where you separated out certain data points from the dataset if they had more than a specified threshold of missing values. If you found that this group was qualitatively different from the main bulk of the data, you should treat this as an additional data cluster in this analysis. Make sure that you account for the number of data points in this subset, for both the general population and customer datasets, when making your computations!\n",
    "- Which cluster or clusters are overrepresented in the customer dataset compared to the general population? Select at least one such cluster and infer what kind of people might be represented by that cluster. Use the principal component interpretations from step 2.3 or look at additional components to help you make this inference. Alternatively, you can use the `.inverse_transform()` method of the PCA and StandardScaler objects to transform centroids back to the original data space and interpret the retrieved values directly.\n",
    "- Perform a similar investigation for the underrepresented clusters. Which cluster or clusters are underrepresented in the customer dataset compared to the general population, and what kinds of people are typified by these clusters?"
   ]
  },
  {
   "cell_type": "code",
   "execution_count": 78,
   "metadata": {},
   "outputs": [],
   "source": [
    "# plotting function definition\n",
    "def compare_clusters(clust_a, clust_b, label_clust_a, label_clust_b):\n",
    "    # proportions by value\n",
    "    series_a = pd.Series(clust_a)\n",
    "    series_b = pd.Series(clust_b)\n",
    "    values_count_a = series_a.value_counts()\n",
    "    values_count_b = series_b.value_counts()\n",
    "    values_prop_a = values_count_a.sort_index() / values_count_a.sum()\n",
    "    values_prop_b = values_count_b.sort_index() / values_count_b.sum()\n",
    "\n",
    "    # merge columns\n",
    "    df = pd.merge(values_prop_a.reset_index(), values_prop_b.reset_index(), \n",
    "                    on='index', how='outer').fillna(0)\n",
    "\n",
    "    # reshape dataframe\n",
    "    df.columns = ['index', label_clust_a, label_clust_b]\n",
    "    df = df.set_index('index').stack().reset_index()\n",
    "    df.columns = ['Cluster Index', 'Dataset', 'Proportion']\n",
    "    df = df.fillna(0)\n",
    "    \n",
    "    # plot comparison\n",
    "    plt.figure(figsize=(16, 6))\n",
    "    g = sns.barplot(data=df, x='Cluster Index', y='Proportion', hue='Dataset')\n",
    "    g.set_title('Cluster comparison proportion between population and customer')\n",
    "\n",
    "    plt.show()\n",
    "    \n",
    "    return df"
   ]
  },
  {
   "cell_type": "code",
   "execution_count": 79,
   "metadata": {},
   "outputs": [
    {
     "data": {
      "image/png": "[encoded data removed]",
      "text/plain": [
       "<matplotlib.figure.Figure at 0x7f15d1c20978>"
      ]
     },
     "metadata": {
      "needs_background": "light"
     },
     "output_type": "display_data"
    }
   ],
   "source": [
    "# Compare the proportion of data in each cluster for the customer data to the\n",
    "# proportion of data in each cluster for the general population.\n",
    "df_comparison = compare_clusters(azdias_predicted_labels, \n",
    "                                 customers_azdias_predicted_labels, \n",
    "                                 'Population', \n",
    "                                 'Customers'\n",
    "                )"
   ]
  },
  {
   "cell_type": "markdown",
   "metadata": {},
   "source": [
    "Cluster 4, 8 and 6 in the plot above) seem to have a matching beetween general population and customers so those can be a target audience for the company.\n",
    "\n",
    "There is a higher proportion of persons in cluster 0, 2, 9 and 10 for the customer data compared to the general population, that suggests the people in that cluster to be a target audience for the company.\n",
    "\n",
    "The proportion of the data in cluster 1, 3, 5 and 7 being larger in the general population than the customer data that group of persons to be outside of the target demographics."
   ]
  },
  {
   "cell_type": "code",
   "execution_count": 100,
   "metadata": {},
   "outputs": [],
   "source": [
    "# get center in original space\n",
    "centers = selected_pca.inverse_transform(kmeans_centers)\n",
    "centers = scale.inverse_transform(centers)"
   ]
  },
  {
   "cell_type": "code",
   "execution_count": 96,
   "metadata": {},
   "outputs": [],
   "source": [
    "# Display the true centers calculated from population dataset\n",
    "segments = ['Segment {}'.format(i) for i in range(0,len(centers))]\n",
    "pop_centers = pd.DataFrame(np.round(centers, 4), columns = df_azdias.columns)\n",
    "pop_centers.index = segments"
   ]
  },
  {
   "cell_type": "markdown",
   "metadata": {},
   "source": [
    "From section 2.3 we had the following relevant positive correlated features per principal components:\n",
    "- **Component 1**: 'FINANZ_MINIMALIST', 'MOBI_REGIO', 'LP_LEBENSPHASE_FEIN', 'KBA05_ANTG1', 'KBA05_GBZ' : **income**\n",
    "    \n",
    "- **Component 2**: 'FINANZ_UNAUFFAELLIGER', 'FINANZ_SPARER', 'SEMIO_REL', 'SEMIO_TRADV', 'DECADE_90s' : **finance**\n",
    "\n",
    "- **Component 3**: 'PLZ8_ANTG4','KBA05_ANTG4','KBA05_ANTG3','PLZ8_ANTG3','PLZ8_ANTG2' : **personality**"
   ]
  },
  {
   "cell_type": "code",
   "execution_count": 179,
   "metadata": {},
   "outputs": [],
   "source": [
    "# analizing strongly correlated weighted features\n",
    "\n",
    "comp1_high_relevant_features = ['FINANZ_MINIMALIST', 'MOBI_REGIO', 'LP_LEBENSPHASE_FEIN', 'KBA05_ANTG1', 'KBA05_GBZ']          \n",
    "comp2_high_relevant_features = ['FINANZ_UNAUFFAELLIGER', 'FINANZ_SPARER', 'SEMIO_REL', 'SEMIO_TRADV', 'DECADE_90s']          \n",
    "comp3_high_relevant_features = ['PLZ8_ANTG4','KBA05_ANTG4','KBA05_ANTG3','PLZ8_ANTG3','PLZ8_ANTG2']\n",
    "\n",
    "\n",
    "\n",
    "relevant_features = comp1_relevant_features + comp2_relevant_features + comp3_relevant_features"
   ]
  },
  {
   "cell_type": "code",
   "execution_count": 184,
   "metadata": {},
   "outputs": [],
   "source": [
    "# overrated clusters\n",
    "overrated_segments = ['Segment 2']\n",
    "\n",
    "# underrated clusters\n",
    "underrated_segments = ['Segment 4']\n",
    "\n",
    "relevant_segments = overrated_segments + underrated_segments"
   ]
  },
  {
   "cell_type": "code",
   "execution_count": 185,
   "metadata": {},
   "outputs": [],
   "source": [
    "def display_deviation_from_mean_and_variance_per_df(centers, segments, df, df_label, features):\n",
    "    \n",
    "    segment_centers = centers.loc[segments,]\n",
    "    # analizing median since its less propense to noise\n",
    "    print('True population centers offset from %s MEDIAN for relevant segments'%(df_label.upper(), ))\n",
    "    segment_centers_median_deviation= segment_centers - np.round(scale.inverse_transform((df).median()))\n",
    "    display(segment_centers_median_deviation[features])"
   ]
  },
  {
   "cell_type": "code",
   "execution_count": 186,
   "metadata": {},
   "outputs": [
    {
     "name": "stdout",
     "output_type": "stream",
     "text": [
      "True population centers offset from POPULATION MEDIAN for relevant segments\n"
     ]
    },
    {
     "data": {
      "text/html": [
       "<div>\n",
       "<style scoped>\n",
       "    .dataframe tbody tr th:only-of-type {\n",
       "        vertical-align: middle;\n",
       "    }\n",
       "\n",
       "    .dataframe tbody tr th {\n",
       "        vertical-align: top;\n",
       "    }\n",
       "\n",
       "    .dataframe thead th {\n",
       "        text-align: right;\n",
       "    }\n",
       "</style>\n",
       "<table border=\"1\" class=\"dataframe\">\n",
       "  <thead>\n",
       "    <tr style=\"text-align: right;\">\n",
       "      <th></th>\n",
       "      <th>FINANZ_MINIMALIST</th>\n",
       "      <th>MOBI_REGIO</th>\n",
       "      <th>LP_LEBENSPHASE_FEIN</th>\n",
       "      <th>KBA05_ANTG1</th>\n",
       "      <th>KBA05_GBZ</th>\n",
       "      <th>FINANZ_UNAUFFAELLIGER</th>\n",
       "      <th>FINANZ_SPARER</th>\n",
       "      <th>SEMIO_REL</th>\n",
       "      <th>SEMIO_TRADV</th>\n",
       "      <th>DECADE_90s</th>\n",
       "      <th>PLZ8_ANTG4</th>\n",
       "      <th>KBA05_ANTG4</th>\n",
       "      <th>KBA05_ANTG3</th>\n",
       "      <th>PLZ8_ANTG3</th>\n",
       "      <th>PLZ8_ANTG2</th>\n",
       "    </tr>\n",
       "  </thead>\n",
       "  <tbody>\n",
       "    <tr>\n",
       "      <th>Segment 2</th>\n",
       "      <td>-1.9346</td>\n",
       "      <td>-2.7252</td>\n",
       "      <td>-12.1915</td>\n",
       "      <td>-0.7515</td>\n",
       "      <td>-2.8152</td>\n",
       "      <td>-2.2354</td>\n",
       "      <td>-3.5600</td>\n",
       "      <td>-4.3658</td>\n",
       "      <td>-4.2350</td>\n",
       "      <td>-0.3606</td>\n",
       "      <td>-1.3107</td>\n",
       "      <td>-0.3031</td>\n",
       "      <td>-0.3898</td>\n",
       "      <td>-2.3604</td>\n",
       "      <td>-3.2807</td>\n",
       "    </tr>\n",
       "    <tr>\n",
       "      <th>Segment 4</th>\n",
       "      <td>-4.2467</td>\n",
       "      <td>-3.5759</td>\n",
       "      <td>-13.5778</td>\n",
       "      <td>-1.5177</td>\n",
       "      <td>-3.5121</td>\n",
       "      <td>-1.1386</td>\n",
       "      <td>-1.7925</td>\n",
       "      <td>-3.1583</td>\n",
       "      <td>-2.9965</td>\n",
       "      <td>1.1073</td>\n",
       "      <td>-0.8940</td>\n",
       "      <td>-0.1174</td>\n",
       "      <td>-0.0540</td>\n",
       "      <td>-1.7910</td>\n",
       "      <td>-2.9013</td>\n",
       "    </tr>\n",
       "  </tbody>\n",
       "</table>\n",
       "</div>"
      ],
      "text/plain": [
       "           FINANZ_MINIMALIST  MOBI_REGIO  LP_LEBENSPHASE_FEIN  KBA05_ANTG1  \\\n",
       "Segment 2            -1.9346     -2.7252             -12.1915      -0.7515   \n",
       "Segment 4            -4.2467     -3.5759             -13.5778      -1.5177   \n",
       "\n",
       "           KBA05_GBZ  FINANZ_UNAUFFAELLIGER  FINANZ_SPARER  SEMIO_REL  \\\n",
       "Segment 2    -2.8152                -2.2354        -3.5600    -4.3658   \n",
       "Segment 4    -3.5121                -1.1386        -1.7925    -3.1583   \n",
       "\n",
       "           SEMIO_TRADV  DECADE_90s  PLZ8_ANTG4  KBA05_ANTG4  KBA05_ANTG3  \\\n",
       "Segment 2      -4.2350     -0.3606     -1.3107      -0.3031      -0.3898   \n",
       "Segment 4      -2.9965      1.1073     -0.8940      -0.1174      -0.0540   \n",
       "\n",
       "           PLZ8_ANTG3  PLZ8_ANTG2  \n",
       "Segment 2     -2.3604     -3.2807  \n",
       "Segment 4     -1.7910     -2.9013  "
      ]
     },
     "metadata": {},
     "output_type": "display_data"
    }
   ],
   "source": [
    "# over and under represented cluster: population\n",
    "display_deviation_from_mean_and_variance_per_df(\n",
    "    pop_centers, relevant_segments, df_azdias, 'population', relevant_features\n",
    ")"
   ]
  },
  {
   "cell_type": "code",
   "execution_count": 187,
   "metadata": {},
   "outputs": [
    {
     "name": "stdout",
     "output_type": "stream",
     "text": [
      "True population centers offset from CUSTOMERS MEDIAN for relevant segments\n"
     ]
    },
    {
     "data": {
      "text/html": [
       "<div>\n",
       "<style scoped>\n",
       "    .dataframe tbody tr th:only-of-type {\n",
       "        vertical-align: middle;\n",
       "    }\n",
       "\n",
       "    .dataframe tbody tr th {\n",
       "        vertical-align: top;\n",
       "    }\n",
       "\n",
       "    .dataframe thead th {\n",
       "        text-align: right;\n",
       "    }\n",
       "</style>\n",
       "<table border=\"1\" class=\"dataframe\">\n",
       "  <thead>\n",
       "    <tr style=\"text-align: right;\">\n",
       "      <th></th>\n",
       "      <th>FINANZ_MINIMALIST</th>\n",
       "      <th>MOBI_REGIO</th>\n",
       "      <th>LP_LEBENSPHASE_FEIN</th>\n",
       "      <th>KBA05_ANTG1</th>\n",
       "      <th>KBA05_GBZ</th>\n",
       "      <th>FINANZ_UNAUFFAELLIGER</th>\n",
       "      <th>FINANZ_SPARER</th>\n",
       "      <th>SEMIO_REL</th>\n",
       "      <th>SEMIO_TRADV</th>\n",
       "      <th>DECADE_90s</th>\n",
       "      <th>PLZ8_ANTG4</th>\n",
       "      <th>KBA05_ANTG4</th>\n",
       "      <th>KBA05_ANTG3</th>\n",
       "      <th>PLZ8_ANTG3</th>\n",
       "      <th>PLZ8_ANTG2</th>\n",
       "    </tr>\n",
       "  </thead>\n",
       "  <tbody>\n",
       "    <tr>\n",
       "      <th>Segment 2</th>\n",
       "      <td>-3.9346</td>\n",
       "      <td>-3.7252</td>\n",
       "      <td>-19.1915</td>\n",
       "      <td>-1.7515</td>\n",
       "      <td>-3.8152</td>\n",
       "      <td>-2.2354</td>\n",
       "      <td>-1.5600</td>\n",
       "      <td>-3.3658</td>\n",
       "      <td>-3.2350</td>\n",
       "      <td>-0.3606</td>\n",
       "      <td>-0.3107</td>\n",
       "      <td>-0.3031</td>\n",
       "      <td>-0.3898</td>\n",
       "      <td>-1.3604</td>\n",
       "      <td>-3.2807</td>\n",
       "    </tr>\n",
       "    <tr>\n",
       "      <th>Segment 4</th>\n",
       "      <td>-6.2467</td>\n",
       "      <td>-4.5759</td>\n",
       "      <td>-20.5778</td>\n",
       "      <td>-2.5177</td>\n",
       "      <td>-4.5121</td>\n",
       "      <td>-1.1386</td>\n",
       "      <td>0.2075</td>\n",
       "      <td>-2.1583</td>\n",
       "      <td>-1.9965</td>\n",
       "      <td>1.1073</td>\n",
       "      <td>0.1060</td>\n",
       "      <td>-0.1174</td>\n",
       "      <td>-0.0540</td>\n",
       "      <td>-0.7910</td>\n",
       "      <td>-2.9013</td>\n",
       "    </tr>\n",
       "  </tbody>\n",
       "</table>\n",
       "</div>"
      ],
      "text/plain": [
       "           FINANZ_MINIMALIST  MOBI_REGIO  LP_LEBENSPHASE_FEIN  KBA05_ANTG1  \\\n",
       "Segment 2            -3.9346     -3.7252             -19.1915      -1.7515   \n",
       "Segment 4            -6.2467     -4.5759             -20.5778      -2.5177   \n",
       "\n",
       "           KBA05_GBZ  FINANZ_UNAUFFAELLIGER  FINANZ_SPARER  SEMIO_REL  \\\n",
       "Segment 2    -3.8152                -2.2354        -1.5600    -3.3658   \n",
       "Segment 4    -4.5121                -1.1386         0.2075    -2.1583   \n",
       "\n",
       "           SEMIO_TRADV  DECADE_90s  PLZ8_ANTG4  KBA05_ANTG4  KBA05_ANTG3  \\\n",
       "Segment 2      -3.2350     -0.3606     -0.3107      -0.3031      -0.3898   \n",
       "Segment 4      -1.9965      1.1073      0.1060      -0.1174      -0.0540   \n",
       "\n",
       "           PLZ8_ANTG3  PLZ8_ANTG2  \n",
       "Segment 2     -1.3604     -3.2807  \n",
       "Segment 4     -0.7910     -2.9013  "
      ]
     },
     "metadata": {},
     "output_type": "display_data"
    }
   ],
   "source": [
    "# over and underrepresented cluster: customers\n",
    "display_deviation_from_mean_and_variance_per_df(\n",
    "    pop_centers, relevant_segments, customers, 'customers', relevant_features\n",
    ")"
   ]
  },
  {
   "cell_type": "markdown",
   "metadata": {},
   "source": [
    "### Analizing clusters relation beetween population and customers:\n",
    "\n",
    "First thing to check is that the distance from records to cluster centers are similar. This is true for most of the features in both population and customer dataset which means that the clusters describe well enough customers patterns. It gets easy to visualize per segment and component:\n",
    "\n",
    "* **Overrated cluster: Segment 2**\n",
    "\n",
    "| component number | segments (clusters)  | FINANZ_MINIMALIST | MOBI_REGIO | LP_LEBENSPHASE_FEIN | KBA05_ANTG1 | KBA05_GBZ |\n",
    "|------------------|----------------------|-------------------|------------|---------------------|-------------|-----------|\n",
    "| 1                | Segment 2 population | -1.9346           | -2.7252    | -12.1915            | -0.7515     | -2.8152   |\n",
    "| 1                | Segment 2 customers  | -3.9346           | -3.7252    | -19.1915            | -1.7515     | -3.8152   |\n",
    "| 2                | Segment 2 population | -2.2354           | -3.5600    | -4.3658             | -4.2350     | -0.3606   |\n",
    "| 2                | Segment 2 customers  | -2.2354           | -1.5600    | -3.3658             | -3.2350     | -0.3606   |\n",
    "| 3                | Segment 2 population | -1.3107           | -0.3031    | -0.3898             | -2.3604     | -3.2807   |\n",
    "| 3                | Segment 2 customers  | -0.3107           | -0.3031    | -0.3898             | -1.3604     | -3.2807   |\n",
    "\n",
    "\n",
    "\n",
    "* **Under rated clusters: Segment 4** \n",
    "\n",
    "| component number | segments (clusters)  | FINANZ_MINIMALIST | MOBI_REGIO | LP_LEBENSPHASE_FEIN | KBA05_ANTG1 | KBA05_GBZ |\n",
    "|------------------|----------------------|-------------------|------------|---------------------|-------------|-----------|\n",
    "| 1                | Segment 4 population | -4.2467           | -3.5759    | -13.5778            | -1.5177     | -3.5121   |\n",
    "| 1                | Segment 4 customers  | -6.2467           | -4.5759    | -20.5778            | -2.5177     | -4.5121   |\n",
    "| 2                | Segment 4 population | -1.1386           | -1.7925    | -3.1583             | -2.9965     | 1.1073    |\n",
    "| 2                | Segment 4 customers  | -1.1386           | 0.2075     | -2.1583             | -1.9965     | 1.1073    |\n",
    "| 3                | Segment 4 population | -0.8940           | -0.1174    | -0.0540             | -1.7910     | -2.9013   |\n",
    "| 3                | Segment 4 customers  | 0.1060            | -0.1174    | -0.0540             | -0.7910     | -2.9013   |\n"
   ]
  },
  {
   "cell_type": "markdown",
   "metadata": {},
   "source": [
    "### Identifying customer segments in relevant clusters\n",
    "\n",
    "* **Overrated cluster: Segment 2**\n",
    "\n",
    "It can be seen that features from component 1 are the features that represent the second cluster with highest values over the other features. The type of customers in this cluster are the ones whom can be identify as **finantialy stable**, have **reduce family elements**.\n",
    "\n",
    "|  FINANZ_MINIMALIST |        MOBI_REGIO | LP_LEBENSPHASE_FEIN |                                  KBA05_ANTG1 |\n",
    "| -----------------: | ----------------: | ------------------: | -------------------------------------------: |\n",
    "| Financial typology | Movement patterns |          Life stage | Number of 1-2 family houses in the microcell |\n",
    "\n",
    "\n",
    "* **Under rated clusters: Segment 4**\n",
    "\n",
    "It can be seen that features from component 3 are the features that represent the second cluster with highest values over the other features. It also can be seen that DECADE_90s fits in this group as well. This cluster clearly identifies people whit **higher number of family members** and segregated by **region**. \n",
    "\n",
    "|                   PLZ8_ANTG4                   |                 KBA05_ANTG4                  |                  KBA05_ANTG3                  |                   PLZ8_ANTG3                    |\n",
    "| :--------------------------------------------: | :------------------------------------------: | :-------------------------------------------: | :---------------------------------------------: |\n",
    "| Number of 10+ family houses in the PLZ8 region | Number of 10+ family houses in the microcell | Number of 6-10 family houses in the microcell | Number of 6-10 family houses in the PLZ8 region |\n"
   ]
  },
  {
   "cell_type": "markdown",
   "metadata": {},
   "source": [
    "### Discussion 3.3: Compare Customer Data to Demographics Data\n",
    "\n",
    "After analyzing the plot results about the clusters per origin_data_frame (population, customers) and the corresponding features associated with the principal components it can be seen that there is a valuable insight this analysis that can be used to select the appropriate target population after identifying customer segments.\n",
    "So in conclution, the target population should be in the active middle class, related with economical status (not sure if that is the correct way to say it but what I'm trying to mean is that one of the target population is the one that has money, in the middle-class range)."
   ]
  },
  {
   "cell_type": "markdown",
   "metadata": {},
   "source": [
    "> Congratulations on making it this far in the project! Before you finish, make sure to check through the entire notebook from top to bottom to make sure that your analysis follows a logical flow and all of your findings are documented in **Discussion** cells. Once you've checked over all of your work, you should export the notebook as an HTML document to submit for evaluation. You can do this from the menu, navigating to **File -> Download as -> HTML (.html)**. You will submit both that document and this notebook for your project submission."
   ]
  },
  {
   "cell_type": "code",
   "execution_count": null,
   "metadata": {},
   "outputs": [],
   "source": []
  }
 ],
 "metadata": {
  "kernelspec": {
   "display_name": "Python 3",
   "language": "python",
   "name": "python3"
  },
  "language_info": {
   "codemirror_mode": {
    "name": "ipython",
    "version": 3
   },
   "file_extension": ".py",
   "mimetype": "text/x-python",
   "name": "python",
   "nbconvert_exporter": "python",
   "pygments_lexer": "ipython3",
   "version": "3.7.3"
  }
 },
 "nbformat": 4,
 "nbformat_minor": 4
}
